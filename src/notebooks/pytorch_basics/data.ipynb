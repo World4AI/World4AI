{
 "cells": [
  {
   "cell_type": "markdown",
   "id": "2ddbbb9f-039c-4af8-8b29-f7d5833d99db",
   "metadata": {},
   "source": [
    "# Dataset and DataLoader"
   ]
  },
  {
   "cell_type": "markdown",
   "id": "73579883-1a92-4ed8-868d-83f17a431dc6",
   "metadata": {},
   "source": [
    "Deep learning is dependent on lots and lots of data and we need to be able to store, manage and retrieve that data. When we retrieve the data we need to make sure, that we don't go beyond the capacity of our RAM or VRAM (Video RAM). PyTorch gives us a flexible way to deal with our data pipeline the way we see fit by providing the ```Dataset``` and the ```DataLoader``` classes."
   ]
  },
  {
   "cell_type": "code",
   "execution_count": 1,
   "id": "ad52b401-19bf-48f9-ac13-fffafc58ef9e",
   "metadata": {},
   "outputs": [],
   "source": [
    "from torch.utils.data import Dataset, DataLoader"
   ]
  },
  {
   "cell_type": "markdown",
   "id": "3c5bc7c6-a1ec-4b2d-92c6-f9a86deeda4b",
   "metadata": {},
   "source": [
    "## Dataset"
   ]
  },
  {
   "cell_type": "markdown",
   "id": "343b96d6-e32c-4ab7-9fc0-b849be5ddc96",
   "metadata": {},
   "source": [
    "The `Dataset` object is the PyTorch representation of data. When we are dealing with real world data we subclass the ```Dataset``` class and overwrite the ```__getitem__``` and the ```__len__``` methods. Below we create a dataset that contains a list of numbers, the size of which depends on a parameter in the ```__init___``` method. The ```__getitem__``` method implements the logic, which determines how the individual element of our data should be returned given only the index of data."
   ]
  },
  {
   "cell_type": "code",
   "execution_count": 2,
   "id": "0b9bf67b-a8ca-43ae-b41b-e1d1be684872",
   "metadata": {},
   "outputs": [],
   "source": [
    "class ListDataset(Dataset):\n",
    "    def __init__(self, size):\n",
    "        self.data = list(range(size))\n",
    "    \n",
    "    def __len__(self):\n",
    "        return len(self.data)\n",
    "    \n",
    "    def __getitem__(self, idx):\n",
    "        return self.data[idx]"
   ]
  },
  {
   "cell_type": "markdown",
   "id": "d7b509bf-1fcc-4583-89d3-fa7f9a0fcd3a",
   "metadata": {},
   "source": [
    "We can use the `ListDataset` the way we could use a list."
   ]
  },
  {
   "cell_type": "code",
   "execution_count": 3,
   "id": "a9570658-2718-4d3b-9305-c98cb094f919",
   "metadata": {},
   "outputs": [
    {
     "name": "stdout",
     "output_type": "stream",
     "text": [
      "100\n",
      "42\n"
     ]
    }
   ],
   "source": [
    "dataset = ListDataset(100)\n",
    "print(len(dataset))\n",
    "print(dataset[42])"
   ]
  },
  {
   "cell_type": "markdown",
   "id": "4bb414f2-da8f-4e09-8e32-d1d3419d6e39",
   "metadata": {},
   "source": [
    "In practice we could for example use the Dataset to load an image for the index received in the `__getitem__` method. Below is a dummy implementation of such a Dataset."
   ]
  },
  {
   "cell_type": "code",
   "execution_count": 4,
   "id": "5da3a344-0538-43ef-91f4-07973d11b8f9",
   "metadata": {},
   "outputs": [],
   "source": [
    "class ImagesDataset(Dataset):\n",
    "    def __init__(self, images_list):\n",
    "        # list containing information about the image\n",
    "        # \"[/images/image0.jpg\", \"/images/image1.jpg]\"\n",
    "        self.images_list = images_list\n",
    "    \n",
    "    def __len__(self):\n",
    "        return len(self.images_list)\n",
    "    \n",
    "    def __getitem__(self, idx):\n",
    "        file = self.images_list[idx]\n",
    "        image = open_image(file)\n",
    "        return image"
   ]
  },
  {
   "cell_type": "markdown",
   "id": "e83d28c4-9acb-4697-a0cc-479fa91f6dd4",
   "metadata": {},
   "source": [
    "## DataLoader"
   ]
  },
  {
   "cell_type": "markdown",
   "id": "15a58777-16da-42d4-9a5d-8ea5b9e7befc",
   "metadata": {},
   "source": [
    "During the training process we only directly interact with the ```DataLoader``` object and not with the ```Dataset``` object. The goal of the ```DataLoader``` is to return data in batch sized pieces. Those batches can then be used for training or testing purposes."
   ]
  },
  {
   "cell_type": "markdown",
   "id": "b190d8ad-dea3-4a17-8524-f32c809d2b10",
   "metadata": {},
   "source": [
    "The DataLoaser class has many parameters. Let's start with the most important parameters.\n",
    "\n",
    "- ```dataset```: The Dataset object that implements the ```__len__``` and ```__getitem__``` interface\n",
    "- ```batch_size```: size of the mini-batch used in training/testing, defaults to 1\n",
    "- ```shuffle```: determines if the data is shuffled in each epoch, defaults to False"
   ]
  },
  {
   "cell_type": "markdown",
   "id": "80e3ac5e-d504-41c5-8e99-bdab3b720eb1",
   "metadata": {},
   "source": [
    "Let us generate a ListDataset with 5 elements."
   ]
  },
  {
   "cell_type": "code",
   "execution_count": 5,
   "id": "d24ccb3f-1ad4-4e1d-9c8d-bedc66c61d97",
   "metadata": {},
   "outputs": [],
   "source": [
    "dataset = ListDataset(5)"
   ]
  },
  {
   "cell_type": "markdown",
   "id": "62b2d1e2-e1bf-4a25-b146-51f5a6ec0d3a",
   "metadata": {},
   "source": [
    "Next we generate a DataLoader that shuffles the dataset object and returns 2 elements at a time."
   ]
  },
  {
   "cell_type": "code",
   "execution_count": 6,
   "id": "8a12749c-517e-4949-8649-bc0d8a62b302",
   "metadata": {},
   "outputs": [],
   "source": [
    "dataloader = DataLoader(dataset=dataset, batch_size=2, shuffle=True)"
   ]
  },
  {
   "cell_type": "markdown",
   "id": "bba5da2f-4da7-4591-b08d-14ed3aa56f16",
   "metadata": {},
   "source": [
    "Finally we iterate through the DataLoader and receive a batch at a time. Once only one object remains, a single element is returned."
   ]
  },
  {
   "cell_type": "code",
   "execution_count": 7,
   "id": "9584059a-7707-45c8-a822-9ae69d069cb3",
   "metadata": {},
   "outputs": [
    {
     "name": "stdout",
     "output_type": "stream",
     "text": [
      "EPOCH Nr. 1\n",
      "---------------------------------------------\n",
      "Batch Nr: 1 Data: tensor([3, 0])\n",
      "Batch Nr: 2 Data: tensor([2, 1])\n",
      "Batch Nr: 3 Data: tensor([4])\n",
      "\n",
      "EPOCH Nr. 2\n",
      "---------------------------------------------\n",
      "Batch Nr: 1 Data: tensor([4, 3])\n",
      "Batch Nr: 2 Data: tensor([0, 1])\n",
      "Batch Nr: 3 Data: tensor([2])\n",
      "\n"
     ]
    }
   ],
   "source": [
    "for epoch in range(2):\n",
    "    print(f'EPOCH Nr. {epoch+1}')\n",
    "    print('-' * 45)\n",
    "    for batch_num, data in enumerate(dataloader):\n",
    "        print(f'Batch Nr: {batch_num+1} Data: {data}')\n",
    "    print()"
   ]
  },
  {
   "cell_type": "markdown",
   "id": "80000e1d-b70d-4291-9bbe-87035328a085",
   "metadata": {},
   "source": [
    "Often we want our batches to always be of equal size. If a batch is too small the calculation of the gradient might be too noisy. To avoid that we can use the `drop_last` the following argument.\n",
    "\n",
    "- ```drop_last```: removes the last batch, if it is less than ```batch_size```, defaults to False"
   ]
  },
  {
   "cell_type": "markdown",
   "id": "0f82930f-02eb-42a7-b01e-0a0d46c82319",
   "metadata": {},
   "source": [
    "Below we see that out of 5 samples only 4 are included in the loop if we set the ```drop_last``` variable to ```True```."
   ]
  },
  {
   "cell_type": "code",
   "execution_count": 8,
   "id": "a57c2298-9c7e-40bc-86be-91b98ceace13",
   "metadata": {},
   "outputs": [],
   "source": [
    "dataloader = DataLoader(dataset=dataset, batch_size=2, shuffle=True, drop_last=True)"
   ]
  },
  {
   "cell_type": "code",
   "execution_count": 9,
   "id": "1b467cf5-33f6-4c32-93d9-e16abeb4551d",
   "metadata": {},
   "outputs": [
    {
     "name": "stdout",
     "output_type": "stream",
     "text": [
      "EPOCH Nr. 1\n",
      "---------------------------------------------\n",
      "Batch Nr: 1 Data: tensor([1, 4])\n",
      "Batch Nr: 2 Data: tensor([2, 0])\n",
      "\n",
      "EPOCH Nr. 2\n",
      "---------------------------------------------\n",
      "Batch Nr: 1 Data: tensor([1, 0])\n",
      "Batch Nr: 2 Data: tensor([4, 3])\n",
      "\n"
     ]
    }
   ],
   "source": [
    "for epoch in range(2):\n",
    "    print(f'EPOCH Nr. {epoch+1}')\n",
    "    print('-' * 45)\n",
    "    for batch_num, data in enumerate(dataloader):\n",
    "        print(f'Batch Nr: {batch_num+1} Data: {data}')\n",
    "    print()"
   ]
  },
  {
   "cell_type": "markdown",
   "id": "b85a6150-8211-45d6-8d59-bfb3fa7cd0c5",
   "metadata": {},
   "source": [
    "PyTorch gives us the ability to get the data in parallel by using subprocesses. This could be useful for example to get the next batch of data, while we are still in the process of calculating the gradients.\n",
    "\n",
    "- ```num_workers```: integer value that determines the number of workers that get the data in parallel. The default is 0, which means that only the main process is used. "
   ]
  },
  {
   "cell_type": "code",
   "execution_count": 10,
   "id": "50247a57-4742-4ec8-808b-3138a8df7242",
   "metadata": {},
   "outputs": [],
   "source": [
    "dataloader = DataLoader(dataset=dataset, batch_size=2, shuffle=True, drop_last=True, num_workers=4)"
   ]
  },
  {
   "cell_type": "markdown",
   "id": "7e9dabd7-bd82-4672-afaa-b2476ec854f8",
   "metadata": {},
   "source": [
    "We won't notice the speed difference using such a simple example, but the speedup with large datasets might be noticable."
   ]
  },
  {
   "cell_type": "markdown",
   "id": "c42fc147-819f-437d-9bfd-8bf3c9a4ddfa",
   "metadata": {},
   "source": [
    "Behind the scenes PyTorch does a load of work. In most cases the default way things are processed are sufficient, but sometimes you might need more control. We are not going to cover those details just yet, because for the most part the default ```DataLoader``` is sufficient and we will cover the special cases when the need arises. If you are faced with a problem that requires more control, you can look at the [PyTorch documentation](https://pytorch.org/docs/stable/data.html#torch.utils.data.DataLoader).'"
   ]
  },
  {
   "cell_type": "markdown",
   "id": "cec9ac5d-1632-4b69-8a54-bcfdc71267e0",
   "metadata": {},
   "source": [
    "## MNIST"
   ]
  },
  {
   "cell_type": "markdown",
   "id": "4dddb98e-0641-4faa-bb38-a89c3e1fc739",
   "metadata": {},
   "source": [
    "It is tradition in the deep learning community to kick off the deep learning journey, by classifying handwritten digits using the [MNIST](http://yann.lecun.com/exdb/mnist/) dataset. In this section we will only focus on the EDA (explaratory data analysis) part of the exercise. The solution to the problem will be covered the next sections."
   ]
  },
  {
   "cell_type": "code",
   "execution_count": 11,
   "id": "ddc61c6b-6729-4458-ba8a-99dbae90fa61",
   "metadata": {},
   "outputs": [],
   "source": [
    "import numpy as np\n",
    "import matplotlib.pyplot as plt"
   ]
  },
  {
   "cell_type": "markdown",
   "id": "f27a4ba3-330e-4924-89ed-8fd447797e47",
   "metadata": {},
   "source": [
    "Additionally to the common libraries like matplotlib and numpy we will use the [torchvision](https://pytorch.org/vision/stable/index.html) library. Torchvision is a part of the PyTorch stack that has a lot of useful functions for computer vision. Especially useful are the datasets that we can utilize without spending time collecting data on our own, primarily we will utilize the library to get access to the MNIST dataset."
   ]
  },
  {
   "cell_type": "code",
   "execution_count": 12,
   "id": "6f2421be-3b02-4f99-ab2b-b8241f108afe",
   "metadata": {},
   "outputs": [],
   "source": [
    "from torchvision.datasets import MNIST"
   ]
  },
  {
   "cell_type": "markdown",
   "id": "55d859fe-41b9-4301-beea-906d64fe128a",
   "metadata": {},
   "source": [
    "The torchvision MNIST class downloads the data and returns a ```Dataset``` object. \n",
    "\n",
    "- ```root```: folder that is used to either download the data to, or to read the data from if the data has been downloaded before\n",
    "- ```train```: if True returns the train dataset, if False returns the test dataset\n",
    "- ```download```: if set to True and data is not available in the root folder, will download the data into the root folder "
   ]
  },
  {
   "cell_type": "code",
   "execution_count": 13,
   "id": "ba7b106c-4fe4-4028-96b9-b98dbc18d560",
   "metadata": {},
   "outputs": [],
   "source": [
    "train_dataset = MNIST(root=\"../datasets\", train=True, download=True)\n",
    "test_dataset = MNIST(root=\"../datasets\", train=False, download=False)"
   ]
  },
  {
   "cell_type": "markdown",
   "id": "281c7502-afd0-4a56-abce-563b3c2020c9",
   "metadata": {},
   "source": [
    "The Dataset can be used as an input into a ```DataLoader``` object, but for the time being we only need a couple of samples to analyze the data."
   ]
  },
  {
   "cell_type": "code",
   "execution_count": 14,
   "id": "b5fbc54c-3a0e-4a90-859b-1d1ebc39697e",
   "metadata": {},
   "outputs": [
    {
     "name": "stdout",
     "output_type": "stream",
     "text": [
      "Dataset MNIST\n",
      "    Number of datapoints: 60000\n",
      "    Root location: ../datasets\n",
      "    Split: Train\n"
     ]
    }
   ],
   "source": [
    "print(train_dataset)"
   ]
  },
  {
   "cell_type": "markdown",
   "id": "5cb4eb85-1149-48f1-b575-1facc8c0644f",
   "metadata": {},
   "source": [
    "Each datapoint is a tuple, consisting a PIL image and the class label."
   ]
  },
  {
   "cell_type": "code",
   "execution_count": 15,
   "id": "f3cfbc0e-85ff-428b-9964-7c316e5ca4dd",
   "metadata": {},
   "outputs": [
    {
     "name": "stdout",
     "output_type": "stream",
     "text": [
      "(<PIL.Image.Image image mode=L size=28x28 at 0x7F8FD6E93F10>, 5)\n"
     ]
    }
   ],
   "source": [
    "print(train_dataset[0])"
   ]
  },
  {
   "cell_type": "markdown",
   "id": "a73f8d35-1f67-466b-aabc-3b5b1caae3f5",
   "metadata": {},
   "source": [
    "Alltogether there are 70,000 images, 60,000 training and 10,000 testing images. While this might look like a lot, modern deep learning architectures deal with millions of images. For the purpose of designing our first neural network on the other hand, MNIST is the perfect dataset. "
   ]
  },
  {
   "cell_type": "code",
   "execution_count": 16,
   "id": "3782265f-ee22-4388-afb8-424c89904661",
   "metadata": {},
   "outputs": [
    {
     "name": "stdout",
     "output_type": "stream",
     "text": [
      "60000\n",
      "10000\n"
     ]
    }
   ],
   "source": [
    "print(len(train_dataset))\n",
    "print(len(test_dataset))"
   ]
  },
  {
   "cell_type": "markdown",
   "id": "49f80512-63eb-4004-b590-9d467740e268",
   "metadata": {},
   "source": [
    "We can transform the PIL image into a NumPy array by simply using ```np.array(PIL)```."
   ]
  },
  {
   "cell_type": "code",
   "execution_count": 17,
   "id": "9808e461-8953-4e57-847e-805afa290cd9",
   "metadata": {},
   "outputs": [],
   "source": [
    "img = np.array(train_dataset[0][0])"
   ]
  },
  {
   "cell_type": "markdown",
   "id": "d6d55307-61a8-408e-bf56-fd415b3f6626",
   "metadata": {},
   "source": [
    "The image is 28x28 pixels."
   ]
  },
  {
   "cell_type": "code",
   "execution_count": 18,
   "id": "806a4d7c-e15b-4d39-86b1-7f4b203b0c37",
   "metadata": {},
   "outputs": [
    {
     "data": {
      "text/plain": [
       "(28, 28)"
      ]
     },
     "execution_count": 18,
     "metadata": {},
     "output_type": "execute_result"
    }
   ],
   "source": [
    "img.shape"
   ]
  },
  {
   "cell_type": "markdown",
   "id": "154eed2a-8480-44b4-82eb-e8abda1b5414",
   "metadata": {},
   "source": [
    "When we look at the minimum and maximum pixel values, we will notice that pixel values range from 0 to 255. This is the usual range that we expect from RGB (red green blue) format. Each of the 3 channels (red channel, green channel and blue channel) can have values from 0 to 255. In our case we are only dealing with a single channel, because we are dealing with black and white images."
   ]
  },
  {
   "cell_type": "code",
   "execution_count": 19,
   "id": "5b2a5090-3fca-401d-97c3-8e7cdff8e1be",
   "metadata": {},
   "outputs": [
    {
     "name": "stdout",
     "output_type": "stream",
     "text": [
      "Minimum pixel value: 0\n",
      "Maximum pixel value: 255\n"
     ]
    }
   ],
   "source": [
    "print(f'Minimum pixel value: {img.min()}')\n",
    "print(f'Maximum pixel value: {img.max()}')"
   ]
  },
  {
   "cell_type": "markdown",
   "id": "a2bdfdfe-0821-427b-b348-06ef7647b1c3",
   "metadata": {},
   "source": [
    "Let's display some of the images to get a feel for what we are dealing with."
   ]
  },
  {
   "cell_type": "code",
   "execution_count": 20,
   "id": "19f33d7a-b773-47ce-b346-5a235acf6c4b",
   "metadata": {},
   "outputs": [
    {
     "data": {
      "image/png": "[encoded data removed]",
      "text/plain": [
       "<Figure size 720x720 with 6 Axes>"
      ]
     },
     "metadata": {
      "needs_background": "light"
     },
     "output_type": "display_data"
    }
   ],
   "source": [
    "fig = plt.figure(figsize=(10, 10))\n",
    "for i in range(6):\n",
    "    fig.add_subplot(1, 6, i+1)\n",
    "    img = np.array(train_dataset[i][0])\n",
    "    plt.imshow(img, cmap=\"gray\")\n",
    "    plt.axis('off')\n",
    "    plt.title(f'Class Nr. {train_dataset[i][1]}')\n",
    "plt.show()"
   ]
  },
  {
   "cell_type": "markdown",
   "id": "fb56bb4b-aeda-4f53-b8c7-7d3cdf24689a",
   "metadata": {},
   "source": [
    "This task is relatively straightforward. The images are all centered and there are very few suprises in the dataset (but there are some errors). In the next section we will utilize PyTorch and train a neural network to classify those images."
   ]
  }
 ],
 "metadata": {
  "kernelspec": {
   "display_name": "Python 3 (ipykernel)",
   "language": "python",
   "name": "python3"
  },
  "language_info": {
   "codemirror_mode": {
    "name": "ipython",
    "version": 3
   },
   "file_extension": ".py",
   "mimetype": "text/x-python",
   "name": "python",
   "nbconvert_exporter": "python",
   "pygments_lexer": "ipython3",
   "version": "3.10.4"
  }
 },
 "nbformat": 4,
 "nbformat_minor": 5
}
