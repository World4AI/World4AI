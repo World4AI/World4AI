{
  "cells": [
    {
      "cell_type": "markdown",
      "id": "2a879bdd-54a7-4d23-9668-a461b20a61a7",
      "metadata": {
        "id": "2a879bdd-54a7-4d23-9668-a461b20a61a7"
      },
      "source": [
        "# Gated PixelCNN"
      ]
    },
    {
      "cell_type": "markdown",
      "id": "15cf2ea6-fcac-48da-ab05-27fba9fd21dc",
      "metadata": {
        "id": "15cf2ea6-fcac-48da-ab05-27fba9fd21dc"
      },
      "source": [
        "In this notebook we implement the `gated PixelCNN` autoregressive generative model, including the version conditioned on the labels.\n",
        "\n",
        "This notebook is highly inspired by the following [notebook](https://uvadlc-notebooks.readthedocs.io/en/latest/tutorial_notebooks/tutorial12/Autoregressive_Image_Modeling.html) and we borrow many parts in our implementation. "
      ]
    },
    {
      "cell_type": "code",
      "execution_count": 1,
      "id": "77ab572b-4608-4903-bb1c-820343fe3e1c",
      "metadata": {
        "id": "77ab572b-4608-4903-bb1c-820343fe3e1c"
      },
      "outputs": [],
      "source": [
        "import time\n",
        "import pathlib\n",
        "\n",
        "import numpy as np\n",
        "import matplotlib.pyplot as plt\n",
        "\n",
        "import torch\n",
        "import torch.nn as nn\n",
        "import torch.nn.functional as F\n",
        "import torch.optim as optim\n",
        "from torch.utils.data import DataLoader\n",
        "\n",
        "import torchvision\n",
        "import torchvision.transforms as T\n",
        "from torchvision.datasets import MNIST"
      ]
    },
    {
      "cell_type": "markdown",
      "id": "6d7d710e-0705-4d55-ae0d-6597e4910274",
      "metadata": {
        "id": "6d7d710e-0705-4d55-ae0d-6597e4910274"
      },
      "source": [
        "We use different parameters than in the two previous notebooks. We increase the number of epochs from 50 to 100 and increase the size of the channels from 16 to 64. These adjustments should produce higher quality digits."
      ]
    },
    {
      "cell_type": "code",
      "execution_count": 2,
      "id": "71412e61-1a4b-483c-81d7-b5ff1eed5201",
      "metadata": {
        "id": "71412e61-1a4b-483c-81d7-b5ff1eed5201"
      },
      "outputs": [],
      "source": [
        "## hyperparameters\n",
        "NUM_EPOCHS = 100\n",
        "BATCH_SIZE = 128\n",
        "HIDDEN_DIM = 64\n",
        "LEARNING_RATE = 1e-3\n",
        "MIN_LEARNING_RATE = 1e-4\n",
        "DEVICE = torch.device('cuda' if torch.cuda.is_available() else 'cpu')"
      ]
    },
    {
      "cell_type": "markdown",
      "id": "912b2ead-95c2-456d-98cb-0122d873968a",
      "metadata": {
        "id": "912b2ead-95c2-456d-98cb-0122d873968a"
      },
      "source": [
        "The `MaskedConvolution` module expects a mask as an input parameter. Horizonal and vertical stack will have different types of masks. We generate a convolutional layer based on the shape of the mask and multiply the weights of the convolution each forward pass to zero some of the weights."
      ]
    },
    {
      "cell_type": "code",
      "execution_count": 3,
      "id": "205c6439-c6da-4e0c-86ff-bca07d8ae195",
      "metadata": {
        "id": "205c6439-c6da-4e0c-86ff-bca07d8ae195"
      },
      "outputs": [],
      "source": [
        "class MaskedConvolution(nn.Module):\n",
        "    \n",
        "    def __init__(self, in_channels, out_channels, mask, dilation=1):\n",
        "        super().__init__()\n",
        "        kernel_size = mask.shape\n",
        "        padding = tuple([dilation * (size-1)//2 for size in kernel_size])\n",
        "        \n",
        "        self.conv = nn.Conv2d(in_channels=in_channels, \n",
        "                              out_channels=out_channels, \n",
        "                              kernel_size=kernel_size,\n",
        "                              padding=padding,\n",
        "                              dilation=dilation)\n",
        "        self.register_buffer('mask', mask)\n",
        "    \n",
        "    def forward(self, x):\n",
        "        with torch.no_grad():\n",
        "            self.conv.weight *= self.mask \n",
        "        return self.conv(x)"
      ]
    },
    {
      "cell_type": "markdown",
      "id": "dcfc2be9-4cbf-47b8-b3b7-ca9680c93730",
      "metadata": {
        "id": "dcfc2be9-4cbf-47b8-b3b7-ca9680c93730"
      },
      "source": [
        "The `VertickalStackConvolution` module processes the pixels above the pixel we would like to produce. We are still dealing with type 'A' and type 'B' masks. 'A' masks are only required for the very first layer, afterwards we are allowed to use type 'B' masks."
      ]
    },
    {
      "cell_type": "code",
      "execution_count": 4,
      "id": "7e9259bb-18ac-406c-a2aa-c0bd72c2a765",
      "metadata": {
        "id": "7e9259bb-18ac-406c-a2aa-c0bd72c2a765"
      },
      "outputs": [],
      "source": [
        "class VerticalStackConvolution(MaskedConvolution):\n",
        "    def __init__(self, in_channels, out_channels, kernel_size=3, mask_type='B', dilation=1):\n",
        "        assert mask_type in ['A', 'B']\n",
        "        mask = torch.ones(kernel_size, kernel_size)\n",
        "        mask[kernel_size//2+1:,:] = 0\n",
        "        if mask_type=='A':\n",
        "            mask[kernel_size//2,:] = 0\n",
        "        \n",
        "        super().__init__(in_channels, out_channels, mask, dilation=dilation)"
      ]
    },
    {
      "cell_type": "code",
      "execution_count": 5,
      "id": "a6d8bc99-7d6d-46ee-a3b6-b3d4eca1579b",
      "metadata": {
        "id": "a6d8bc99-7d6d-46ee-a3b6-b3d4eca1579b",
        "outputId": "79113b67-b651-4b69-c25b-1708fcec433e",
        "colab": {
          "base_uri": "https://localhost:8080/"
        }
      },
      "outputs": [
        {
          "output_type": "stream",
          "name": "stdout",
          "text": [
            "tensor([[1., 1., 1.],\n",
            "        [0., 0., 0.],\n",
            "        [0., 0., 0.]])\n",
            "tensor([[1., 1., 1.],\n",
            "        [1., 1., 1.],\n",
            "        [0., 0., 0.]])\n"
          ]
        }
      ],
      "source": [
        "# type A mask\n",
        "vertical = VerticalStackConvolution(in_channels=1, out_channels=1, mask_type='A')\n",
        "print(vertical.mask)\n",
        "# type B mask\n",
        "vertical = VerticalStackConvolution(in_channels=1, out_channels=1, mask_type='B')\n",
        "print(vertical.mask)"
      ]
    },
    {
      "cell_type": "markdown",
      "id": "8764ca37-23ba-41fa-842b-159cd1296ec6",
      "metadata": {
        "id": "8764ca37-23ba-41fa-842b-159cd1296ec6"
      },
      "source": [
        "The `HorizontalStackConvolution` on the other hand attends to pixels to the left of the pixel we would like to generate."
      ]
    },
    {
      "cell_type": "code",
      "execution_count": 6,
      "id": "b9207114-f6df-401b-8d87-d93764b4a5d6",
      "metadata": {
        "id": "b9207114-f6df-401b-8d87-d93764b4a5d6"
      },
      "outputs": [],
      "source": [
        "class HorizontalStackConvolution(MaskedConvolution):\n",
        "    def __init__(self, in_channels, out_channels, kernel_size=3, mask_type='B', dilation=1):\n",
        "        assert mask_type in ['A', 'B']\n",
        "        mask = torch.ones(1, kernel_size)\n",
        "        mask[0, kernel_size//2+1:] = 0\n",
        "        if mask_type=='A':\n",
        "            mask[0, kernel_size//2] = 0\n",
        "        super().__init__(in_channels, out_channels, mask, dilation=dilation)"
      ]
    },
    {
      "cell_type": "code",
      "execution_count": 7,
      "id": "98c5e423-8baa-4188-9d4e-7a989d71d747",
      "metadata": {
        "id": "98c5e423-8baa-4188-9d4e-7a989d71d747",
        "outputId": "c7d6aa51-4351-4333-f737-86ceb5976829",
        "colab": {
          "base_uri": "https://localhost:8080/"
        }
      },
      "outputs": [
        {
          "output_type": "stream",
          "name": "stdout",
          "text": [
            "tensor([[1., 0., 0.]])\n",
            "tensor([[1., 1., 0.]])\n"
          ]
        }
      ],
      "source": [
        "# type A mask\n",
        "horizontal = HorizontalStackConvolution(in_channels=1, out_channels=1, mask_type='A')\n",
        "print(horizontal.mask)\n",
        "\n",
        "# type B mask\n",
        "horizontal = HorizontalStackConvolution(in_channels=1, out_channels=1, mask_type='B')\n",
        "print(horizontal.mask)"
      ]
    },
    {
      "cell_type": "markdown",
      "id": "6215079e-efd2-4eee-867f-098047bfa192",
      "metadata": {
        "id": "6215079e-efd2-4eee-867f-098047bfa192"
      },
      "source": [
        "The `GatedResidualBlock` follows the [diagram](https://www.world4ai.org/blocks/deep_learning/generative_models/autoregressive/gated_pixel_cnn) we discussed in the theoretical section. We suggest you compare the diagram to the implementation."
      ]
    },
    {
      "cell_type": "code",
      "execution_count": 8,
      "id": "Tx52b6uW44dY",
      "metadata": {
        "id": "Tx52b6uW44dY"
      },
      "outputs": [],
      "source": [
        "class GatedResidualBlock(nn.Module):\n",
        "\n",
        "    def __init__(self, in_channels, kernel_size=3, dilation=1):\n",
        "        super().__init__()\n",
        "        self.v = VerticalStackConvolution(in_channels, out_channels=2*in_channels, kernel_size=kernel_size, dilation=dilation)\n",
        "        self.h = HorizontalStackConvolution(in_channels, out_channels=2*in_channels, kernel_size=kernel_size, dilation=dilation)\n",
        "        self.v_to_h = nn.Conv2d(2*in_channels, 2*in_channels, kernel_size=1)\n",
        "        self.v_to_res = nn.Conv2d(in_channels, in_channels, kernel_size=1)\n",
        "\n",
        "    def forward(self, v_prev, h_prev):\n",
        "        \n",
        "        # vertical stack\n",
        "        v = self.v(v_prev)\n",
        "        v_f, v_g = v.chunk(2, dim=1)\n",
        "        v_out = torch.tanh(v_f) * torch.sigmoid(v_g)\n",
        "\n",
        "        # vertical to horizontal\n",
        "        v_to_h = self.v_to_h(v)\n",
        "        \n",
        "        # horizontal stack\n",
        "        h = self.h(h_prev) + v_to_h\n",
        "        h_f, h_g = h.chunk(2, dim=1)\n",
        "        h_out = torch.tanh(h_f) * torch.sigmoid(h_g)\n",
        "        \n",
        "        # skip connection\n",
        "        h_out = self.v_to_res(h_out)\n",
        "        h_out += h_prev\n",
        "\n",
        "        return v_out, h_out"
      ]
    },
    {
      "cell_type": "markdown",
      "id": "583193f4-e39a-41ff-bb35-d0ef7246eb99",
      "metadata": {
        "id": "583193f4-e39a-41ff-bb35-d0ef7246eb99"
      },
      "source": [
        "Finally we implement the full model. We start we a vertical and horizontal stack with a 7x7 kernel and a mask of type 'A'. The results are then processed by 7 3x3 type 'B' residual blocks. \n",
        "\n",
        "You should notice that the model uses convolutions with dilations. Normally a kernel attends to adjacent pixels, a kernel with dilations has gaps between the neurons, thus increasing the visual field. If this makes no sense here is a [link](https://github.com/vdumoulin/conv_arithmetic/blob/master/README.md) that provides a great visualizations."
      ]
    },
    {
      "cell_type": "code",
      "execution_count": 9,
      "id": "f6115b45-b690-463f-be12-a8125b36c863",
      "metadata": {
        "id": "f6115b45-b690-463f-be12-a8125b36c863"
      },
      "outputs": [],
      "source": [
        "class GatedPixelCNN(nn.Module):\n",
        "    def __init__(self, hidden_dim, dilations=[1, 2, 1, 4, 1, 2, 1]):\n",
        "        super().__init__()\n",
        "        self.v = VerticalStackConvolution(in_channels=1,\n",
        "                                          out_channels=hidden_dim,\n",
        "                                          kernel_size=7,\n",
        "                                          mask_type='A')\n",
        "        self.h = HorizontalStackConvolution(in_channels=1,\n",
        "                                          kernel_size=7,\n",
        "                                          out_channels=hidden_dim,\n",
        "                                          mask_type='A')\n",
        "        \n",
        "        self.gated_residual_blocks = nn.ModuleList([GatedResidualBlock(hidden_dim, kernel_size=3, dilation=dilation) \n",
        "                                                 for dilation in dilations])\n",
        "        \n",
        "        self.conv = nn.Conv2d(in_channels=hidden_dim, \n",
        "                              out_channels=hidden_dim,\n",
        "                              kernel_size=1)\n",
        "        \n",
        "        # we apply a 256 way softmax\n",
        "        self.output = nn.Conv2d(in_channels=hidden_dim, \n",
        "                                out_channels=256,\n",
        "                                kernel_size=1)\n",
        "    def forward(self, x):\n",
        "        v = self.v(x)\n",
        "        h = self.h(x)\n",
        "        \n",
        "        for gated_layer in self.gated_residual_blocks:\n",
        "            v, h = gated_layer(v, h)\n",
        "        \n",
        "        out = self.conv(F.relu(h))\n",
        "        out = self.output(F.relu(out))\n",
        "        # from Batch, Classes, Height, Width to Batch, Classes, Channel, Height, Width\n",
        "        out = out.unsqueeze(dim=2)\n",
        "        return out"
      ]
    },
    {
      "cell_type": "code",
      "execution_count": 10,
      "id": "8b808566-9cea-4fc4-a57e-00e128fbb5e4",
      "metadata": {
        "id": "8b808566-9cea-4fc4-a57e-00e128fbb5e4",
        "colab": {
          "base_uri": "https://localhost:8080/",
          "height": 423,
          "referenced_widgets": [
            "d5697372b8c542b8bc84b1ed3d288cab",
            "5be2869efd4f410d998e3c4f11a87b2c",
            "8dc6c1db09064ca191b9d3c823fdd9a5",
            "62c681571d9b424bbb4893f3eaa4aaed",
            "17890615db1245209d85ba3bde6f3aad",
            "bff20fa1e6724a229f5a2f0479ae5435",
            "2765bbd6f3bf4af78bb2f58b88214442",
            "3f3ecda320604724a6c26ce360eb965c",
            "27df49c5b89b4df8b4ae0c0e4b9288d3",
            "9721996674f24468997ff95411f847b9",
            "eba8f02b8b644420a2c480c3a9118ed9",
            "3742cb70f9f941f4b5b8a46281e03516",
            "f770c8475c364c38a2710d56eec7d1e3",
            "c9c6c87751aa4c25bdb0bbc2194c0555",
            "b00bea635dee41f8b34e15900fbad6c9",
            "5d6f468dddec4fa5848de904f36c70ad",
            "a4b1e1df631d4ff9a472f9c8fc7390f6",
            "13ac9936af91409289cbe75ff9bbabe5",
            "dee24005894a467a92b72713cbdb413c",
            "39069ae51e3d451c8096ff3099abcf04",
            "f956222fa5874168836775abe0c120b6",
            "1b70651dccbf42b780983a5a8d61ecb5",
            "e428d86fe32847e194e52372e3da1d2e",
            "8bc03b40b4a24b2483b0c8e13c0c75c7",
            "7814b13825054ef28711f217828922cc",
            "4bb8e6728a0c4b189f4126e8fa14b7a9",
            "2853bbe7c3ad4aaabfed859a0763b32e",
            "2e3735cd041846b0b8c22cf5718f6399",
            "d59da2a8ca924962ba47fb67bf901d4c",
            "26bb2fda34de4426b8ccc1e0f296384a",
            "66d7322a7ed7431c96b5e3871663e9c3",
            "b184a3302b574039b28c152aed9b88a5",
            "7dac53bc15dd48e8952f9cbf4fc9e120",
            "6830d006b17c4b368160d6804d9a493e",
            "be52669a4f0442c796f22b144fec7bfa",
            "33c5fded19744b04b5fefe8d2fdd0551",
            "64966ccdef764c82be0ee88e59210c90",
            "58eb6ee2890141468dda5016e2214ce3",
            "ae0079905cb9413a80d12aa266493c4b",
            "4ef0e28528ca4ba88a81c147af123472",
            "a52bc8fd89864d02b9fc97925a9e8d51",
            "8021c71aa80e4fc581acbbb4eaf09e16",
            "060271f43cfd4eccb50168d9efe48cc0",
            "683eedd23e264b6c956a84fb83cd0ae9"
          ]
        },
        "outputId": "c6fc74a4-0603-44a4-9698-fe91589ce264"
      },
      "outputs": [
        {
          "output_type": "stream",
          "name": "stdout",
          "text": [
            "Downloading http://yann.lecun.com/exdb/mnist/train-images-idx3-ubyte.gz\n",
            "Downloading http://yann.lecun.com/exdb/mnist/train-images-idx3-ubyte.gz to ../datasets/MNIST/raw/train-images-idx3-ubyte.gz\n"
          ]
        },
        {
          "output_type": "display_data",
          "data": {
            "text/plain": [
              "  0%|          | 0/9912422 [00:00<?, ?it/s]"
            ],
            "application/vnd.jupyter.widget-view+json": {
              "version_major": 2,
              "version_minor": 0,
              "model_id": "d5697372b8c542b8bc84b1ed3d288cab"
            }
          },
          "metadata": {}
        },
        {
          "output_type": "stream",
          "name": "stdout",
          "text": [
            "Extracting ../datasets/MNIST/raw/train-images-idx3-ubyte.gz to ../datasets/MNIST/raw\n",
            "\n",
            "Downloading http://yann.lecun.com/exdb/mnist/train-labels-idx1-ubyte.gz\n",
            "Downloading http://yann.lecun.com/exdb/mnist/train-labels-idx1-ubyte.gz to ../datasets/MNIST/raw/train-labels-idx1-ubyte.gz\n"
          ]
        },
        {
          "output_type": "display_data",
          "data": {
            "text/plain": [
              "  0%|          | 0/28881 [00:00<?, ?it/s]"
            ],
            "application/vnd.jupyter.widget-view+json": {
              "version_major": 2,
              "version_minor": 0,
              "model_id": "3742cb70f9f941f4b5b8a46281e03516"
            }
          },
          "metadata": {}
        },
        {
          "output_type": "stream",
          "name": "stdout",
          "text": [
            "Extracting ../datasets/MNIST/raw/train-labels-idx1-ubyte.gz to ../datasets/MNIST/raw\n",
            "\n",
            "Downloading http://yann.lecun.com/exdb/mnist/t10k-images-idx3-ubyte.gz\n",
            "Downloading http://yann.lecun.com/exdb/mnist/t10k-images-idx3-ubyte.gz to ../datasets/MNIST/raw/t10k-images-idx3-ubyte.gz\n"
          ]
        },
        {
          "output_type": "display_data",
          "data": {
            "text/plain": [
              "  0%|          | 0/1648877 [00:00<?, ?it/s]"
            ],
            "application/vnd.jupyter.widget-view+json": {
              "version_major": 2,
              "version_minor": 0,
              "model_id": "e428d86fe32847e194e52372e3da1d2e"
            }
          },
          "metadata": {}
        },
        {
          "output_type": "stream",
          "name": "stdout",
          "text": [
            "Extracting ../datasets/MNIST/raw/t10k-images-idx3-ubyte.gz to ../datasets/MNIST/raw\n",
            "\n",
            "Downloading http://yann.lecun.com/exdb/mnist/t10k-labels-idx1-ubyte.gz\n",
            "Downloading http://yann.lecun.com/exdb/mnist/t10k-labels-idx1-ubyte.gz to ../datasets/MNIST/raw/t10k-labels-idx1-ubyte.gz\n"
          ]
        },
        {
          "output_type": "display_data",
          "data": {
            "text/plain": [
              "  0%|          | 0/4542 [00:00<?, ?it/s]"
            ],
            "application/vnd.jupyter.widget-view+json": {
              "version_major": 2,
              "version_minor": 0,
              "model_id": "6830d006b17c4b368160d6804d9a493e"
            }
          },
          "metadata": {}
        },
        {
          "output_type": "stream",
          "name": "stdout",
          "text": [
            "Extracting ../datasets/MNIST/raw/t10k-labels-idx1-ubyte.gz to ../datasets/MNIST/raw\n",
            "\n"
          ]
        }
      ],
      "source": [
        "train_dataset = torchvision.datasets.MNIST(root='../datasets/', \n",
        "                                           train=True, \n",
        "                                           transform=T.PILToTensor(), \n",
        "                                           download=True)\n",
        "\n",
        "test_dataset = torchvision.datasets.MNIST(root='../datasets/', \n",
        "                                           train=False, \n",
        "                                           transform=T.PILToTensor(), \n",
        "                                           download=False)"
      ]
    },
    {
      "cell_type": "code",
      "execution_count": 11,
      "id": "94052701-2e81-4519-bf91-49f6ab4bfd87",
      "metadata": {
        "id": "94052701-2e81-4519-bf91-49f6ab4bfd87"
      },
      "outputs": [],
      "source": [
        "train_dataloader = DataLoader(dataset=train_dataset, batch_size=BATCH_SIZE, shuffle=True, drop_last=True, num_workers=2)\n",
        "test_dataloader = DataLoader(dataset=test_dataset, batch_size=BATCH_SIZE, shuffle=False, drop_last=False, num_workers=2)"
      ]
    },
    {
      "cell_type": "code",
      "execution_count": 12,
      "id": "cc3dc8f5-0676-49fe-9a75-75170a5d6a6c",
      "metadata": {
        "id": "cc3dc8f5-0676-49fe-9a75-75170a5d6a6c"
      },
      "outputs": [],
      "source": [
        "model = GatedPixelCNN(hidden_dim=HIDDEN_DIM).to(DEVICE)\n",
        "criterion = nn.CrossEntropyLoss()\n",
        "optimizer = optim.Adam(model.parameters(), lr=LEARNING_RATE)\n",
        "scheduler = optim.lr_scheduler.ReduceLROnPlateau(optimizer, factor=0.5, patience=5, min_lr=MIN_LEARNING_RATE, verbose=True)"
      ]
    },
    {
      "cell_type": "code",
      "execution_count": 13,
      "id": "X9U3ryrChI0r",
      "metadata": {
        "id": "X9U3ryrChI0r",
        "colab": {
          "base_uri": "https://localhost:8080/"
        },
        "outputId": "b7d0449d-c98b-484b-b89b-7f4d00c07508"
      },
      "outputs": [
        {
          "output_type": "stream",
          "name": "stdout",
          "text": [
            "Mounted at /content/gdrive\n"
          ]
        }
      ],
      "source": [
        "try: \n",
        "    from google.colab import drive\n",
        "    drive.mount('/content/gdrive')\n",
        "    drive_path = pathlib.Path('/content/gdrive')\n",
        "    weights_path = drive_path / 'MyDrive/weights'\n",
        "except:\n",
        "    weights_path = pathlib.Path('../weights')"
      ]
    },
    {
      "cell_type": "code",
      "execution_count": 14,
      "id": "2d035343-c44f-451d-bc6c-e2b12f783c7b",
      "metadata": {
        "id": "2d035343-c44f-451d-bc6c-e2b12f783c7b"
      },
      "outputs": [],
      "source": [
        "# training loop\n",
        "def train():\n",
        "    best_loss = float(\"inf\")\n",
        "    scaler = torch.cuda.amp.GradScaler()\n",
        "    for epoch in range(NUM_EPOCHS):\n",
        "        start_time = time.time()\n",
        "        train_losses = []\n",
        "        test_losses = []\n",
        "        for features, _ in train_dataloader:\n",
        "            optimizer.zero_grad()\n",
        "\n",
        "            features = features.to(DEVICE)\n",
        "            # we use automatic mixed precision for speedup\n",
        "            with torch.amp.autocast(device_type=\"cuda\", dtype=torch.float16):\n",
        "                logits = model(features.float() / 255)\n",
        "                loss = criterion(logits, features.long())\n",
        "\n",
        "            scaler.scale(loss).backward()\n",
        "            scaler.step(optimizer)\n",
        "            scaler.update()\n",
        "\n",
        "            train_losses.append(loss.cpu().item())\n",
        "\n",
        "\n",
        "        # evaluate on the test dataset\n",
        "        with torch.inference_mode():\n",
        "            for features, _ in test_dataloader:\n",
        "                features = features.to(DEVICE)\n",
        "                with torch.amp.autocast(device_type=\"cuda\", dtype=torch.float16):\n",
        "                    logits = model(features.float() / 255)\n",
        "                    loss = criterion(logits, features.long())\n",
        "                test_losses.append(loss.cpu().item())\n",
        "\n",
        "        end_time = time.time()\n",
        "        ce_train = sum(train_losses)/len(train_losses)\n",
        "        ce_test = sum(test_losses)/len(test_losses)\n",
        "        print(f'Epoch: {epoch+1}/{NUM_EPOCHS}, Cross Entropy Train: {ce_train:.4f}, Cross Entropy Test: {ce_test:.4f}, Elapsed Time: {end_time-start_time:.2f}sec')\n",
        "\n",
        "        if ce_test < best_loss:\n",
        "            print(\"Saving Weights\")\n",
        "            best_loss = ce_test\n",
        "            torch.save(model.state_dict(), f=weights_path / 'gated_pixel_cnn.pt')\n",
        "        scheduler.step(ce_test)"
      ]
    },
    {
      "cell_type": "code",
      "execution_count": 15,
      "id": "ec359806-7ee2-48c1-9d98-be7e8d2c2510",
      "metadata": {
        "id": "ec359806-7ee2-48c1-9d98-be7e8d2c2510",
        "colab": {
          "base_uri": "https://localhost:8080/"
        },
        "outputId": "e118fe15-0c5e-49d6-bc7b-d5ddf857e9e5"
      },
      "outputs": [
        {
          "output_type": "stream",
          "name": "stdout",
          "text": [
            "Epoch: 1/100, Cross Entropy Train: 1.0015, Cross Entropy Test: 0.8129, Elapsed Time: 22.99sec\n",
            "Saving Weights\n",
            "Epoch: 2/100, Cross Entropy Train: 0.8033, Cross Entropy Test: 0.7901, Elapsed Time: 15.19sec\n",
            "Saving Weights\n",
            "Epoch: 3/100, Cross Entropy Train: 0.7852, Cross Entropy Test: 0.7748, Elapsed Time: 15.20sec\n",
            "Saving Weights\n",
            "Epoch: 4/100, Cross Entropy Train: 0.7732, Cross Entropy Test: 0.7637, Elapsed Time: 15.18sec\n",
            "Saving Weights\n",
            "Epoch: 5/100, Cross Entropy Train: 0.7647, Cross Entropy Test: 0.7599, Elapsed Time: 15.18sec\n",
            "Saving Weights\n",
            "Epoch: 6/100, Cross Entropy Train: 0.7587, Cross Entropy Test: 0.7500, Elapsed Time: 15.40sec\n",
            "Saving Weights\n",
            "Epoch: 7/100, Cross Entropy Train: 0.7535, Cross Entropy Test: 0.7471, Elapsed Time: 15.21sec\n",
            "Saving Weights\n",
            "Epoch: 8/100, Cross Entropy Train: 0.7474, Cross Entropy Test: 0.7501, Elapsed Time: 15.21sec\n",
            "Epoch: 9/100, Cross Entropy Train: 0.7439, Cross Entropy Test: 0.7446, Elapsed Time: 15.17sec\n",
            "Saving Weights\n",
            "Epoch: 10/100, Cross Entropy Train: 0.7390, Cross Entropy Test: 0.7336, Elapsed Time: 15.18sec\n",
            "Saving Weights\n",
            "Epoch: 11/100, Cross Entropy Train: 0.7322, Cross Entropy Test: 0.7300, Elapsed Time: 15.20sec\n",
            "Saving Weights\n",
            "Epoch: 12/100, Cross Entropy Train: 0.7301, Cross Entropy Test: 0.7177, Elapsed Time: 15.99sec\n",
            "Saving Weights\n",
            "Epoch: 13/100, Cross Entropy Train: 0.7241, Cross Entropy Test: 0.7127, Elapsed Time: 15.51sec\n",
            "Saving Weights\n",
            "Epoch: 14/100, Cross Entropy Train: 0.7196, Cross Entropy Test: 0.7106, Elapsed Time: 15.23sec\n",
            "Saving Weights\n",
            "Epoch: 15/100, Cross Entropy Train: 0.7172, Cross Entropy Test: 0.7433, Elapsed Time: 15.16sec\n",
            "Epoch: 16/100, Cross Entropy Train: 0.7148, Cross Entropy Test: 0.7073, Elapsed Time: 15.19sec\n",
            "Saving Weights\n",
            "Epoch: 17/100, Cross Entropy Train: 0.7113, Cross Entropy Test: 0.7080, Elapsed Time: 15.25sec\n",
            "Epoch: 18/100, Cross Entropy Train: 0.7101, Cross Entropy Test: 0.7020, Elapsed Time: 15.16sec\n",
            "Saving Weights\n",
            "Epoch: 19/100, Cross Entropy Train: 0.7057, Cross Entropy Test: 0.7063, Elapsed Time: 15.22sec\n",
            "Epoch: 20/100, Cross Entropy Train: 0.7042, Cross Entropy Test: 0.6965, Elapsed Time: 15.47sec\n",
            "Saving Weights\n",
            "Epoch: 21/100, Cross Entropy Train: 0.6998, Cross Entropy Test: 0.6904, Elapsed Time: 15.27sec\n",
            "Saving Weights\n",
            "Epoch: 22/100, Cross Entropy Train: 0.7004, Cross Entropy Test: 0.7189, Elapsed Time: 15.27sec\n",
            "Epoch: 23/100, Cross Entropy Train: 0.6955, Cross Entropy Test: 0.6874, Elapsed Time: 15.50sec\n",
            "Saving Weights\n",
            "Epoch: 24/100, Cross Entropy Train: 0.6921, Cross Entropy Test: 0.6932, Elapsed Time: 15.22sec\n",
            "Epoch: 25/100, Cross Entropy Train: 0.6943, Cross Entropy Test: 0.6927, Elapsed Time: 15.20sec\n",
            "Epoch: 26/100, Cross Entropy Train: 0.6890, Cross Entropy Test: 0.6862, Elapsed Time: 15.26sec\n",
            "Saving Weights\n",
            "Epoch: 27/100, Cross Entropy Train: 0.6855, Cross Entropy Test: 0.6763, Elapsed Time: 15.22sec\n",
            "Saving Weights\n",
            "Epoch: 28/100, Cross Entropy Train: 0.6823, Cross Entropy Test: 0.6782, Elapsed Time: 15.19sec\n",
            "Epoch: 29/100, Cross Entropy Train: 0.6778, Cross Entropy Test: 0.6823, Elapsed Time: 15.36sec\n",
            "Epoch: 30/100, Cross Entropy Train: 0.6775, Cross Entropy Test: 0.6798, Elapsed Time: 15.23sec\n",
            "Epoch: 31/100, Cross Entropy Train: 0.6746, Cross Entropy Test: 0.6697, Elapsed Time: 15.24sec\n",
            "Saving Weights\n",
            "Epoch: 32/100, Cross Entropy Train: 0.6736, Cross Entropy Test: 0.6787, Elapsed Time: 15.39sec\n",
            "Epoch: 33/100, Cross Entropy Train: 0.6690, Cross Entropy Test: 0.6574, Elapsed Time: 15.40sec\n",
            "Saving Weights\n",
            "Epoch: 34/100, Cross Entropy Train: 0.6683, Cross Entropy Test: 0.6682, Elapsed Time: 15.42sec\n",
            "Epoch: 35/100, Cross Entropy Train: 0.6657, Cross Entropy Test: 0.6773, Elapsed Time: 15.41sec\n",
            "Epoch: 36/100, Cross Entropy Train: 0.6634, Cross Entropy Test: 0.6678, Elapsed Time: 15.74sec\n",
            "Epoch: 37/100, Cross Entropy Train: 0.6606, Cross Entropy Test: 0.6437, Elapsed Time: 16.07sec\n",
            "Saving Weights\n",
            "Epoch: 38/100, Cross Entropy Train: 0.6618, Cross Entropy Test: 0.6698, Elapsed Time: 15.22sec\n",
            "Epoch: 39/100, Cross Entropy Train: 0.6561, Cross Entropy Test: 0.6593, Elapsed Time: 15.31sec\n",
            "Epoch: 40/100, Cross Entropy Train: 0.6555, Cross Entropy Test: 0.6647, Elapsed Time: 15.88sec\n",
            "Epoch: 41/100, Cross Entropy Train: 0.6529, Cross Entropy Test: 0.6517, Elapsed Time: 15.50sec\n",
            "Epoch: 42/100, Cross Entropy Train: 0.6527, Cross Entropy Test: 0.6347, Elapsed Time: 15.22sec\n",
            "Saving Weights\n",
            "Epoch: 43/100, Cross Entropy Train: 0.6534, Cross Entropy Test: 0.6506, Elapsed Time: 15.39sec\n",
            "Epoch: 44/100, Cross Entropy Train: 0.6441, Cross Entropy Test: 0.6533, Elapsed Time: 15.19sec\n",
            "Epoch: 45/100, Cross Entropy Train: 0.6477, Cross Entropy Test: 0.6536, Elapsed Time: 15.24sec\n",
            "Epoch: 46/100, Cross Entropy Train: 0.6433, Cross Entropy Test: 0.6312, Elapsed Time: 15.24sec\n",
            "Saving Weights\n",
            "Epoch: 47/100, Cross Entropy Train: 0.6452, Cross Entropy Test: 0.6318, Elapsed Time: 15.23sec\n",
            "Epoch: 48/100, Cross Entropy Train: 0.6383, Cross Entropy Test: 0.6249, Elapsed Time: 15.21sec\n",
            "Saving Weights\n",
            "Epoch: 49/100, Cross Entropy Train: 0.6372, Cross Entropy Test: 0.6549, Elapsed Time: 15.27sec\n",
            "Epoch: 50/100, Cross Entropy Train: 0.6349, Cross Entropy Test: 0.6272, Elapsed Time: 15.17sec\n",
            "Epoch: 51/100, Cross Entropy Train: 0.6382, Cross Entropy Test: 0.6503, Elapsed Time: 15.32sec\n",
            "Epoch: 52/100, Cross Entropy Train: 0.6323, Cross Entropy Test: 0.6192, Elapsed Time: 15.36sec\n",
            "Saving Weights\n",
            "Epoch: 53/100, Cross Entropy Train: 0.6356, Cross Entropy Test: 0.6141, Elapsed Time: 15.29sec\n",
            "Saving Weights\n",
            "Epoch: 54/100, Cross Entropy Train: 0.6366, Cross Entropy Test: 0.6257, Elapsed Time: 15.57sec\n",
            "Epoch: 55/100, Cross Entropy Train: 0.6311, Cross Entropy Test: 0.6394, Elapsed Time: 15.38sec\n",
            "Epoch: 56/100, Cross Entropy Train: 0.6296, Cross Entropy Test: 0.6129, Elapsed Time: 15.34sec\n",
            "Saving Weights\n",
            "Epoch: 57/100, Cross Entropy Train: 0.6321, Cross Entropy Test: 0.6679, Elapsed Time: 15.21sec\n",
            "Epoch: 58/100, Cross Entropy Train: 0.6296, Cross Entropy Test: 0.6198, Elapsed Time: 15.16sec\n",
            "Epoch: 59/100, Cross Entropy Train: 0.6605, Cross Entropy Test: 0.6554, Elapsed Time: 15.23sec\n",
            "Epoch: 60/100, Cross Entropy Train: 0.6380, Cross Entropy Test: 0.7185, Elapsed Time: 15.24sec\n",
            "Epoch: 61/100, Cross Entropy Train: 0.6266, Cross Entropy Test: 0.6255, Elapsed Time: 15.21sec\n",
            "Epoch: 62/100, Cross Entropy Train: 0.6222, Cross Entropy Test: 0.6783, Elapsed Time: 15.18sec\n",
            "Epoch 00062: reducing learning rate of group 0 to 5.0000e-04.\n",
            "Epoch: 63/100, Cross Entropy Train: 0.6024, Cross Entropy Test: 0.5982, Elapsed Time: 15.21sec\n",
            "Saving Weights\n",
            "Epoch: 64/100, Cross Entropy Train: 0.6159, Cross Entropy Test: 0.6105, Elapsed Time: 15.15sec\n",
            "Epoch: 65/100, Cross Entropy Train: 0.6090, Cross Entropy Test: 0.6543, Elapsed Time: 15.23sec\n",
            "Epoch: 66/100, Cross Entropy Train: 0.6135, Cross Entropy Test: 0.6117, Elapsed Time: 15.25sec\n",
            "Epoch: 67/100, Cross Entropy Train: 0.6138, Cross Entropy Test: 0.6063, Elapsed Time: 15.81sec\n",
            "Epoch: 68/100, Cross Entropy Train: 0.6007, Cross Entropy Test: 0.5927, Elapsed Time: 15.28sec\n",
            "Saving Weights\n",
            "Epoch: 69/100, Cross Entropy Train: 0.6164, Cross Entropy Test: 0.6105, Elapsed Time: 15.21sec\n",
            "Epoch: 70/100, Cross Entropy Train: 0.6082, Cross Entropy Test: 0.5953, Elapsed Time: 15.31sec\n",
            "Epoch: 71/100, Cross Entropy Train: 0.6090, Cross Entropy Test: 0.6293, Elapsed Time: 15.68sec\n",
            "Epoch: 72/100, Cross Entropy Train: 0.6202, Cross Entropy Test: 0.5959, Elapsed Time: 15.19sec\n",
            "Epoch: 73/100, Cross Entropy Train: 0.6166, Cross Entropy Test: 0.6334, Elapsed Time: 15.24sec\n",
            "Epoch: 74/100, Cross Entropy Train: 0.6178, Cross Entropy Test: 0.5928, Elapsed Time: 15.21sec\n",
            "Epoch 00074: reducing learning rate of group 0 to 2.5000e-04.\n",
            "Epoch: 75/100, Cross Entropy Train: 0.5880, Cross Entropy Test: 0.5886, Elapsed Time: 15.23sec\n",
            "Saving Weights\n",
            "Epoch: 76/100, Cross Entropy Train: 0.5865, Cross Entropy Test: 0.5875, Elapsed Time: 15.39sec\n",
            "Saving Weights\n",
            "Epoch: 77/100, Cross Entropy Train: 0.5996, Cross Entropy Test: 0.5959, Elapsed Time: 15.21sec\n",
            "Epoch: 78/100, Cross Entropy Train: 0.5940, Cross Entropy Test: 0.5914, Elapsed Time: 15.19sec\n",
            "Epoch: 79/100, Cross Entropy Train: 0.5881, Cross Entropy Test: 0.5877, Elapsed Time: 15.64sec\n",
            "Epoch: 80/100, Cross Entropy Train: 0.5892, Cross Entropy Test: 0.5856, Elapsed Time: 15.28sec\n",
            "Saving Weights\n",
            "Epoch: 81/100, Cross Entropy Train: 0.6060, Cross Entropy Test: 0.5917, Elapsed Time: 15.20sec\n",
            "Epoch: 82/100, Cross Entropy Train: 0.6026, Cross Entropy Test: 0.5872, Elapsed Time: 15.18sec\n",
            "Epoch: 83/100, Cross Entropy Train: 0.5834, Cross Entropy Test: 0.5847, Elapsed Time: 15.19sec\n",
            "Saving Weights\n",
            "Epoch: 84/100, Cross Entropy Train: 0.5926, Cross Entropy Test: 0.5860, Elapsed Time: 15.21sec\n",
            "Epoch: 85/100, Cross Entropy Train: 0.5996, Cross Entropy Test: 0.5850, Elapsed Time: 15.21sec\n",
            "Epoch: 86/100, Cross Entropy Train: 0.6079, Cross Entropy Test: 0.5956, Elapsed Time: 15.19sec\n",
            "Epoch: 87/100, Cross Entropy Train: 0.5832, Cross Entropy Test: 0.5840, Elapsed Time: 15.46sec\n",
            "Saving Weights\n",
            "Epoch: 88/100, Cross Entropy Train: 0.5931, Cross Entropy Test: 0.5843, Elapsed Time: 15.21sec\n",
            "Epoch: 89/100, Cross Entropy Train: 0.5920, Cross Entropy Test: 0.6200, Elapsed Time: 15.19sec\n",
            "Epoch: 90/100, Cross Entropy Train: 0.6138, Cross Entropy Test: 0.6095, Elapsed Time: 15.77sec\n",
            "Epoch: 91/100, Cross Entropy Train: 0.5829, Cross Entropy Test: 0.5829, Elapsed Time: 15.22sec\n",
            "Saving Weights\n",
            "Epoch: 92/100, Cross Entropy Train: 0.6027, Cross Entropy Test: 0.5846, Elapsed Time: 15.24sec\n",
            "Epoch: 93/100, Cross Entropy Train: 0.5857, Cross Entropy Test: 0.6609, Elapsed Time: 15.16sec\n",
            "Epoch: 94/100, Cross Entropy Train: 0.5846, Cross Entropy Test: 0.5819, Elapsed Time: 15.20sec\n",
            "Saving Weights\n",
            "Epoch: 95/100, Cross Entropy Train: 0.5992, Cross Entropy Test: 0.5896, Elapsed Time: 15.22sec\n",
            "Epoch: 96/100, Cross Entropy Train: 0.6109, Cross Entropy Test: 0.6250, Elapsed Time: 15.44sec\n",
            "Epoch: 97/100, Cross Entropy Train: 0.5914, Cross Entropy Test: 0.6091, Elapsed Time: 15.29sec\n",
            "Epoch: 98/100, Cross Entropy Train: 0.5842, Cross Entropy Test: 0.5877, Elapsed Time: 15.42sec\n",
            "Epoch: 99/100, Cross Entropy Train: 0.5814, Cross Entropy Test: 0.5825, Elapsed Time: 15.21sec\n",
            "Epoch: 100/100, Cross Entropy Train: 0.6072, Cross Entropy Test: 0.6131, Elapsed Time: 15.20sec\n",
            "Epoch 00100: reducing learning rate of group 0 to 1.2500e-04.\n"
          ]
        }
      ],
      "source": [
        "train()"
      ]
    },
    {
      "cell_type": "code",
      "execution_count": 16,
      "id": "1c75ea38-c403-4a97-a561-18301a8d2027",
      "metadata": {
        "id": "1c75ea38-c403-4a97-a561-18301a8d2027",
        "colab": {
          "base_uri": "https://localhost:8080/"
        },
        "outputId": "43213052-ee0c-4be6-a0e7-7df7ee91d6f8"
      },
      "outputs": [
        {
          "output_type": "execute_result",
          "data": {
            "text/plain": [
              "<All keys matched successfully>"
            ]
          },
          "metadata": {},
          "execution_count": 16
        }
      ],
      "source": [
        "model.load_state_dict(torch.load(f=weights_path / 'gated_pixel_cnn.pt'))"
      ]
    },
    {
      "cell_type": "code",
      "execution_count": 17,
      "id": "249f0096-8f3d-4530-8470-0397e9d537f1",
      "metadata": {
        "id": "249f0096-8f3d-4530-8470-0397e9d537f1"
      },
      "outputs": [],
      "source": [
        "@torch.inference_mode()\n",
        "def sample(model, num_images):\n",
        "    width = 28\n",
        "    height = 28\n",
        "    img = torch.zeros((num_images, 1, height, width)).to(DEVICE)\n",
        "    for h in range(height):\n",
        "        for w in range(width):\n",
        "                pred = model(img / 255.0)[:, :, :, h, w].squeeze()\n",
        "                probs = F.softmax(pred, dim=1)\n",
        "                sampled = torch.multinomial(probs, num_samples=1).squeeze(dim=-1)\n",
        "                img[:, 0, h, w] = sampled\n",
        "    return img"
      ]
    },
    {
      "cell_type": "code",
      "execution_count": 18,
      "id": "7eea0327-8a37-47de-a068-4d86454d1c1d",
      "metadata": {
        "id": "7eea0327-8a37-47de-a068-4d86454d1c1d"
      },
      "outputs": [],
      "source": [
        "sampled_images = sample(model, 10)"
      ]
    },
    {
      "cell_type": "markdown",
      "source": [
        "The results look much better, but we could probably still getter results by increasing the model size and training for longer."
      ],
      "metadata": {
        "id": "xJhygU_Skz24"
      },
      "id": "xJhygU_Skz24"
    },
    {
      "cell_type": "code",
      "execution_count": 19,
      "id": "26cd34c4-ebdd-46a2-a863-f20bf1091e3a",
      "metadata": {
        "id": "26cd34c4-ebdd-46a2-a863-f20bf1091e3a",
        "colab": {
          "base_uri": "https://localhost:8080/",
          "height": 246
        },
        "outputId": "a2e9b12c-7c5a-40f4-e62f-2418c0ce2b6a"
      },
      "outputs": [
        {
          "output_type": "display_data",
          "data": {
            "text/plain": [
              "<Figure size 576x288 with 10 Axes>"
            ],
            "image/png": "[encoded data removed]"
          },
          "metadata": {
            "needs_background": "light"
          }
        }
      ],
      "source": [
        "fig = plt.figure(figsize=(8, 4))\n",
        "columns = 5\n",
        "rows = 2\n",
        "for i, img in enumerate(sampled_images):\n",
        "    fig.add_subplot(rows, columns, i+1)\n",
        "    plt.imshow(img.squeeze().cpu().numpy(), cmap=\"gray\")\n",
        "plt.show()"
      ]
    },
    {
      "cell_type": "markdown",
      "id": "E3EUZlICXESo",
      "metadata": {
        "id": "E3EUZlICXESo"
      },
      "source": [
        "## Conditional PixelCNN"
      ]
    },
    {
      "cell_type": "markdown",
      "id": "0185547c-62b7-4a64-9c92-e0d792483c0f",
      "metadata": {
        "id": "0185547c-62b7-4a64-9c92-e0d792483c0f"
      },
      "source": [
        "A conditional `PixelCNN` conditions the model on the label. So that when we provide the trained model with a label of 1, the image should correspond to the label. That way we gain control over what images we produce."
      ]
    },
    {
      "cell_type": "markdown",
      "id": "13a20a86-e777-49de-8af0-5033d7a1e336",
      "metadata": {
        "id": "13a20a86-e777-49de-8af0-5033d7a1e336"
      },
      "source": [
        "We do the conditioning in the residial block, by generating two embeddings, that we add to the previous vertical and horizontal stack respectively."
      ]
    },
    {
      "cell_type": "code",
      "execution_count": 20,
      "id": "1e0fd184-3a85-467b-aa11-76fc148c6d0f",
      "metadata": {
        "id": "1e0fd184-3a85-467b-aa11-76fc148c6d0f"
      },
      "outputs": [],
      "source": [
        "class ConditionalGatedResidualBlock(nn.Module):\n",
        "\n",
        "    def __init__(self, in_channels, kernel_size=3, dilation=1):\n",
        "        super().__init__()\n",
        "        self.v = VerticalStackConvolution(in_channels, out_channels=2*in_channels, kernel_size=kernel_size, dilation=dilation)\n",
        "        self.h = HorizontalStackConvolution(in_channels, out_channels=2*in_channels, kernel_size=kernel_size, dilation=dilation)\n",
        "        self.v_to_h = nn.Conv2d(2*in_channels, 2*in_channels, kernel_size=1)\n",
        "        self.v_to_res = nn.Conv2d(in_channels, in_channels, kernel_size=1)\n",
        "        \n",
        "        self.v_embedding = nn.Embedding(num_embeddings=10, embedding_dim=in_channels)\n",
        "        self.h_embedding = nn.Embedding(num_embeddings=10, embedding_dim=in_channels)\n",
        "\n",
        "    def forward(self, v_prev, h_prev, num_cls):\n",
        "        # calculate embeddings to condition the model\n",
        "        v_embedding = self.v_embedding(num_cls).unsqueeze(-1).unsqueeze(-1)\n",
        "        h_embedding = self.h_embedding(num_cls).unsqueeze(-1).unsqueeze(-1)\n",
        "\n",
        "        # vertical stack\n",
        "        v = self.v(v_prev + v_embedding)\n",
        "        v_f, v_g = v.chunk(2, dim=1)\n",
        "        v_out = torch.tanh(v_f) * torch.sigmoid(v_g)\n",
        "\n",
        "        # vertical to horizontal\n",
        "        v_to_h = self.v_to_h(v)\n",
        "        \n",
        "        # horizontal stack\n",
        "        h = self.h(h_prev + h_embedding) + v_to_h\n",
        "        h_f, h_g = h.chunk(2, dim=1)\n",
        "        h_out = torch.tanh(h_f) * torch.sigmoid(h_g)\n",
        "        \n",
        "        # skip connection\n",
        "        h_out = self.v_to_res(h_out)\n",
        "        h_out += h_prev\n",
        "\n",
        "        return v_out, h_out"
      ]
    },
    {
      "cell_type": "markdown",
      "id": "99f23fc2-868a-4059-815a-e581d2f3f91d",
      "metadata": {
        "id": "99f23fc2-868a-4059-815a-e581d2f3f91d"
      },
      "source": [
        "The model is almost identical. The only difference is the label that we provide to each gated layer in the forward pass."
      ]
    },
    {
      "cell_type": "code",
      "execution_count": 21,
      "id": "4d5bad86-bc5c-4891-ba95-1b746b9c9413",
      "metadata": {
        "tags": [],
        "id": "4d5bad86-bc5c-4891-ba95-1b746b9c9413"
      },
      "outputs": [],
      "source": [
        "class ConditionalGatedPixelCNN(nn.Module):\n",
        "    def __init__(self, hidden_dim, dilations=[1, 2, 1, 4, 1, 2, 1]):\n",
        "        super().__init__()\n",
        "        self.v = VerticalStackConvolution(in_channels=1,\n",
        "                                          out_channels=hidden_dim,\n",
        "                                          kernel_size=7,\n",
        "                                          mask_type='A')\n",
        "        self.h = HorizontalStackConvolution(in_channels=1,\n",
        "                                          kernel_size=7,\n",
        "                                          out_channels=hidden_dim,\n",
        "                                          mask_type='A')\n",
        "        \n",
        "        self.gated_residual_blocks = nn.ModuleList([ConditionalGatedResidualBlock(hidden_dim, kernel_size=3, dilation=dilation) \n",
        "                                                 for dilation in dilations])\n",
        "        \n",
        "        self.conv = nn.Conv2d(in_channels=hidden_dim, \n",
        "                              out_channels=hidden_dim,\n",
        "                              kernel_size=1)\n",
        "        \n",
        "        # we apply a 256 way softmax\n",
        "        self.output = nn.Conv2d(in_channels=hidden_dim, \n",
        "                                out_channels=256,\n",
        "                                kernel_size=1)\n",
        "    def forward(self, x, label):\n",
        "        v = self.v(x)\n",
        "        h = self.h(x)\n",
        "        \n",
        "        for gated_layer in self.gated_residual_blocks:\n",
        "            v, h = gated_layer(v, h, label)\n",
        "        \n",
        "        out = self.conv(F.relu(h))\n",
        "        out = self.output(F.relu(out))\n",
        "        # from Batch, Classes, Height, Width to Batch, Classes, Channel, Height, Width\n",
        "        out = out.unsqueeze(dim=2)\n",
        "        return out"
      ]
    },
    {
      "cell_type": "code",
      "execution_count": 22,
      "id": "76df04dc-3385-4ce7-bac3-bdd769d6e645",
      "metadata": {
        "id": "76df04dc-3385-4ce7-bac3-bdd769d6e645"
      },
      "outputs": [],
      "source": [
        "model = ConditionalGatedPixelCNN(hidden_dim=HIDDEN_DIM).to(DEVICE)\n",
        "criterion = nn.CrossEntropyLoss()\n",
        "optimizer = optim.Adam(model.parameters(), lr=LEARNING_RATE)\n",
        "scheduler = optim.lr_scheduler.ReduceLROnPlateau(optimizer, factor=0.5, patience=5, min_lr=MIN_LEARNING_RATE, verbose=True)"
      ]
    },
    {
      "cell_type": "code",
      "execution_count": 23,
      "id": "33f68e31-7f95-4543-b181-30327f95ceb2",
      "metadata": {
        "tags": [],
        "id": "33f68e31-7f95-4543-b181-30327f95ceb2"
      },
      "outputs": [],
      "source": [
        "# training loop\n",
        "def train():\n",
        "    best_loss = float(\"inf\")\n",
        "    scaler = torch.cuda.amp.GradScaler()\n",
        "    for epoch in range(NUM_EPOCHS):\n",
        "        start_time = time.time()\n",
        "        train_losses = []\n",
        "        test_losses = []\n",
        "        for features, labels in train_dataloader:\n",
        "            optimizer.zero_grad()\n",
        "\n",
        "            features = features.to(DEVICE)\n",
        "            labels = labels.to(DEVICE)\n",
        "            with torch.amp.autocast(device_type=\"cuda\", dtype=torch.float16):\n",
        "                logits = model(features.float() / 255, labels)\n",
        "                loss = criterion(logits, features.long())\n",
        "\n",
        "            scaler.scale(loss).backward()\n",
        "            scaler.step(optimizer)\n",
        "            scaler.update()\n",
        "\n",
        "            train_losses.append(loss.cpu().item())\n",
        "\n",
        "\n",
        "        # evaluate on the test dataset\n",
        "        with torch.inference_mode():\n",
        "            for features, labels in test_dataloader:\n",
        "                features = features.to(DEVICE)\n",
        "                labels = labels.to(DEVICE)\n",
        "                with torch.amp.autocast(device_type=\"cuda\", dtype=torch.float16):\n",
        "                    logits = model(features.float() / 255, labels)\n",
        "                    loss = criterion(logits, features.long())\n",
        "                test_losses.append(loss.cpu().item())\n",
        "\n",
        "        end_time = time.time()\n",
        "        ce_train = sum(train_losses)/len(train_losses)\n",
        "        ce_test = sum(test_losses)/len(test_losses)\n",
        "        print(f'Epoch: {epoch+1}/{NUM_EPOCHS}, Cross Entropy Train: {ce_train:.4f}, Cross Entropy Test: {ce_test:.4f}, Elapsed Time: {end_time-start_time:.2f}sec')\n",
        "\n",
        "        if ce_test < best_loss:\n",
        "            print(\"Saving Weights\")\n",
        "            best_loss = ce_test\n",
        "            torch.save(model.state_dict(), f=weights_path / 'conditional_gated_pixel_cnn.pt')\n",
        "        scheduler.step(ce_test)"
      ]
    },
    {
      "cell_type": "code",
      "execution_count": 24,
      "id": "2c2b6803-9f09-4745-b811-72966d9da831",
      "metadata": {
        "id": "2c2b6803-9f09-4745-b811-72966d9da831",
        "colab": {
          "base_uri": "https://localhost:8080/"
        },
        "outputId": "e27df7a5-079f-41f7-e5a2-bcf7e6c065c9"
      },
      "outputs": [
        {
          "output_type": "stream",
          "name": "stdout",
          "text": [
            "Epoch: 1/100, Cross Entropy Train: 1.0311, Cross Entropy Test: 0.8233, Elapsed Time: 17.74sec\n",
            "Saving Weights\n",
            "Epoch: 2/100, Cross Entropy Train: 0.8133, Cross Entropy Test: 0.7969, Elapsed Time: 17.77sec\n",
            "Saving Weights\n",
            "Epoch: 3/100, Cross Entropy Train: 0.7924, Cross Entropy Test: 0.7832, Elapsed Time: 17.49sec\n",
            "Saving Weights\n",
            "Epoch: 4/100, Cross Entropy Train: 0.7805, Cross Entropy Test: 0.7724, Elapsed Time: 17.49sec\n",
            "Saving Weights\n",
            "Epoch: 5/100, Cross Entropy Train: 0.7725, Cross Entropy Test: 0.7671, Elapsed Time: 18.02sec\n",
            "Saving Weights\n",
            "Epoch: 6/100, Cross Entropy Train: 0.7664, Cross Entropy Test: 0.7605, Elapsed Time: 17.62sec\n",
            "Saving Weights\n",
            "Epoch: 7/100, Cross Entropy Train: 0.7613, Cross Entropy Test: 0.7554, Elapsed Time: 17.60sec\n",
            "Saving Weights\n",
            "Epoch: 8/100, Cross Entropy Train: 0.7571, Cross Entropy Test: 0.7519, Elapsed Time: 17.74sec\n",
            "Saving Weights\n",
            "Epoch: 9/100, Cross Entropy Train: 0.7531, Cross Entropy Test: 0.7470, Elapsed Time: 17.47sec\n",
            "Saving Weights\n",
            "Epoch: 10/100, Cross Entropy Train: 0.7487, Cross Entropy Test: 0.7454, Elapsed Time: 17.46sec\n",
            "Saving Weights\n",
            "Epoch: 11/100, Cross Entropy Train: 0.7453, Cross Entropy Test: 0.7385, Elapsed Time: 17.52sec\n",
            "Saving Weights\n",
            "Epoch: 12/100, Cross Entropy Train: 0.7422, Cross Entropy Test: 0.7402, Elapsed Time: 17.43sec\n",
            "Epoch: 13/100, Cross Entropy Train: 0.7393, Cross Entropy Test: 0.7331, Elapsed Time: 17.38sec\n",
            "Saving Weights\n",
            "Epoch: 14/100, Cross Entropy Train: 0.7365, Cross Entropy Test: 0.7344, Elapsed Time: 17.50sec\n",
            "Epoch: 15/100, Cross Entropy Train: 0.7334, Cross Entropy Test: 0.7293, Elapsed Time: 17.49sec\n",
            "Saving Weights\n",
            "Epoch: 16/100, Cross Entropy Train: 0.7312, Cross Entropy Test: 0.7241, Elapsed Time: 17.47sec\n",
            "Saving Weights\n",
            "Epoch: 17/100, Cross Entropy Train: 0.7283, Cross Entropy Test: 0.7232, Elapsed Time: 17.45sec\n",
            "Saving Weights\n",
            "Epoch: 18/100, Cross Entropy Train: 0.7259, Cross Entropy Test: 0.7234, Elapsed Time: 17.43sec\n",
            "Epoch: 19/100, Cross Entropy Train: 0.7241, Cross Entropy Test: 0.7230, Elapsed Time: 17.43sec\n",
            "Saving Weights\n",
            "Epoch: 20/100, Cross Entropy Train: 0.7209, Cross Entropy Test: 0.7164, Elapsed Time: 17.95sec\n",
            "Saving Weights\n",
            "Epoch: 21/100, Cross Entropy Train: 0.7187, Cross Entropy Test: 0.7139, Elapsed Time: 17.64sec\n",
            "Saving Weights\n",
            "Epoch: 22/100, Cross Entropy Train: 0.7164, Cross Entropy Test: 0.7085, Elapsed Time: 17.46sec\n",
            "Saving Weights\n",
            "Epoch: 23/100, Cross Entropy Train: 0.7141, Cross Entropy Test: 0.7047, Elapsed Time: 17.53sec\n",
            "Saving Weights\n",
            "Epoch: 24/100, Cross Entropy Train: 0.7121, Cross Entropy Test: 0.7086, Elapsed Time: 17.57sec\n",
            "Epoch: 25/100, Cross Entropy Train: 0.7095, Cross Entropy Test: 0.7033, Elapsed Time: 17.53sec\n",
            "Saving Weights\n",
            "Epoch: 26/100, Cross Entropy Train: 0.7056, Cross Entropy Test: 0.6998, Elapsed Time: 17.49sec\n",
            "Saving Weights\n",
            "Epoch: 27/100, Cross Entropy Train: 0.7047, Cross Entropy Test: 0.6962, Elapsed Time: 17.43sec\n",
            "Saving Weights\n",
            "Epoch: 28/100, Cross Entropy Train: 0.7014, Cross Entropy Test: 0.6921, Elapsed Time: 17.98sec\n",
            "Saving Weights\n",
            "Epoch: 29/100, Cross Entropy Train: 0.6989, Cross Entropy Test: 0.7009, Elapsed Time: 17.44sec\n",
            "Epoch: 30/100, Cross Entropy Train: 0.6961, Cross Entropy Test: 0.7020, Elapsed Time: 17.54sec\n",
            "Epoch: 31/100, Cross Entropy Train: 0.6928, Cross Entropy Test: 0.7073, Elapsed Time: 17.46sec\n",
            "Epoch: 32/100, Cross Entropy Train: 0.6922, Cross Entropy Test: 0.6882, Elapsed Time: 17.48sec\n",
            "Saving Weights\n",
            "Epoch: 33/100, Cross Entropy Train: 0.6885, Cross Entropy Test: 0.6866, Elapsed Time: 17.42sec\n",
            "Saving Weights\n",
            "Epoch: 34/100, Cross Entropy Train: 0.6861, Cross Entropy Test: 0.6813, Elapsed Time: 17.45sec\n",
            "Saving Weights\n",
            "Epoch: 35/100, Cross Entropy Train: 0.6827, Cross Entropy Test: 0.6760, Elapsed Time: 17.62sec\n",
            "Saving Weights\n",
            "Epoch: 36/100, Cross Entropy Train: 0.6804, Cross Entropy Test: 0.6865, Elapsed Time: 17.79sec\n",
            "Epoch: 37/100, Cross Entropy Train: 0.6803, Cross Entropy Test: 0.6757, Elapsed Time: 17.48sec\n",
            "Saving Weights\n",
            "Epoch: 38/100, Cross Entropy Train: 0.6774, Cross Entropy Test: 0.6741, Elapsed Time: 17.43sec\n",
            "Saving Weights\n",
            "Epoch: 39/100, Cross Entropy Train: 0.6748, Cross Entropy Test: 0.6657, Elapsed Time: 17.65sec\n",
            "Saving Weights\n",
            "Epoch: 40/100, Cross Entropy Train: 0.6753, Cross Entropy Test: 0.6731, Elapsed Time: 17.45sec\n",
            "Epoch: 41/100, Cross Entropy Train: 0.6717, Cross Entropy Test: 0.6639, Elapsed Time: 17.44sec\n",
            "Saving Weights\n",
            "Epoch: 42/100, Cross Entropy Train: 0.6694, Cross Entropy Test: 0.6847, Elapsed Time: 17.45sec\n",
            "Epoch: 43/100, Cross Entropy Train: 0.6679, Cross Entropy Test: 0.6630, Elapsed Time: 17.44sec\n",
            "Saving Weights\n",
            "Epoch: 44/100, Cross Entropy Train: 0.6659, Cross Entropy Test: 0.6686, Elapsed Time: 17.52sec\n",
            "Epoch: 45/100, Cross Entropy Train: 0.6640, Cross Entropy Test: 0.6626, Elapsed Time: 17.96sec\n",
            "Saving Weights\n",
            "Epoch: 46/100, Cross Entropy Train: 0.6627, Cross Entropy Test: 0.6670, Elapsed Time: 17.64sec\n",
            "Epoch: 47/100, Cross Entropy Train: 0.6602, Cross Entropy Test: 0.6516, Elapsed Time: 17.45sec\n",
            "Saving Weights\n",
            "Epoch: 48/100, Cross Entropy Train: 0.6580, Cross Entropy Test: 0.6562, Elapsed Time: 17.50sec\n",
            "Epoch: 49/100, Cross Entropy Train: 0.6543, Cross Entropy Test: 0.6559, Elapsed Time: 17.46sec\n",
            "Epoch: 50/100, Cross Entropy Train: 0.6534, Cross Entropy Test: 0.6585, Elapsed Time: 17.61sec\n",
            "Epoch: 51/100, Cross Entropy Train: 0.6508, Cross Entropy Test: 0.6503, Elapsed Time: 17.42sec\n",
            "Saving Weights\n",
            "Epoch: 52/100, Cross Entropy Train: 0.6476, Cross Entropy Test: 0.6517, Elapsed Time: 17.50sec\n",
            "Epoch: 53/100, Cross Entropy Train: 0.6493, Cross Entropy Test: 0.6446, Elapsed Time: 17.56sec\n",
            "Saving Weights\n",
            "Epoch: 54/100, Cross Entropy Train: 0.6446, Cross Entropy Test: 0.6355, Elapsed Time: 17.54sec\n",
            "Saving Weights\n",
            "Epoch: 55/100, Cross Entropy Train: 0.6473, Cross Entropy Test: 0.6434, Elapsed Time: 17.55sec\n",
            "Epoch: 56/100, Cross Entropy Train: 0.6442, Cross Entropy Test: 0.6669, Elapsed Time: 17.59sec\n",
            "Epoch: 57/100, Cross Entropy Train: 0.6427, Cross Entropy Test: 0.6441, Elapsed Time: 17.47sec\n",
            "Epoch: 58/100, Cross Entropy Train: 0.6412, Cross Entropy Test: 0.6452, Elapsed Time: 17.43sec\n",
            "Epoch: 59/100, Cross Entropy Train: 0.6375, Cross Entropy Test: 0.6272, Elapsed Time: 17.48sec\n",
            "Saving Weights\n",
            "Epoch: 60/100, Cross Entropy Train: 0.6368, Cross Entropy Test: 0.6419, Elapsed Time: 17.49sec\n",
            "Epoch: 61/100, Cross Entropy Train: 0.6361, Cross Entropy Test: 0.6322, Elapsed Time: 17.45sec\n",
            "Epoch: 62/100, Cross Entropy Train: 0.6412, Cross Entropy Test: 0.6356, Elapsed Time: 17.48sec\n",
            "Epoch: 63/100, Cross Entropy Train: 0.6333, Cross Entropy Test: 0.6237, Elapsed Time: 17.70sec\n",
            "Saving Weights\n",
            "Epoch: 64/100, Cross Entropy Train: 0.6358, Cross Entropy Test: 0.6684, Elapsed Time: 17.81sec\n",
            "Epoch: 65/100, Cross Entropy Train: 0.6324, Cross Entropy Test: 0.6183, Elapsed Time: 17.44sec\n",
            "Saving Weights\n",
            "Epoch: 66/100, Cross Entropy Train: 0.6282, Cross Entropy Test: 0.6139, Elapsed Time: 17.49sec\n",
            "Saving Weights\n",
            "Epoch: 67/100, Cross Entropy Train: 0.6280, Cross Entropy Test: 0.6269, Elapsed Time: 18.03sec\n",
            "Epoch: 68/100, Cross Entropy Train: 0.6265, Cross Entropy Test: 0.6223, Elapsed Time: 17.46sec\n",
            "Epoch: 69/100, Cross Entropy Train: 0.6248, Cross Entropy Test: 0.6191, Elapsed Time: 17.45sec\n",
            "Epoch: 70/100, Cross Entropy Train: 0.6245, Cross Entropy Test: 0.6247, Elapsed Time: 17.50sec\n",
            "Epoch: 71/100, Cross Entropy Train: 0.6237, Cross Entropy Test: 0.6099, Elapsed Time: 17.46sec\n",
            "Saving Weights\n",
            "Epoch: 72/100, Cross Entropy Train: 0.6231, Cross Entropy Test: 0.6150, Elapsed Time: 17.50sec\n",
            "Epoch: 73/100, Cross Entropy Train: 0.6215, Cross Entropy Test: 0.6310, Elapsed Time: 17.44sec\n",
            "Epoch: 74/100, Cross Entropy Train: 0.6245, Cross Entropy Test: 0.6092, Elapsed Time: 17.51sec\n",
            "Saving Weights\n",
            "Epoch: 75/100, Cross Entropy Train: 0.6187, Cross Entropy Test: 0.6068, Elapsed Time: 17.78sec\n",
            "Saving Weights\n",
            "Epoch: 76/100, Cross Entropy Train: 0.6167, Cross Entropy Test: 0.6026, Elapsed Time: 17.44sec\n",
            "Saving Weights\n",
            "Epoch: 77/100, Cross Entropy Train: 0.6154, Cross Entropy Test: 0.6097, Elapsed Time: 17.48sec\n",
            "Epoch: 78/100, Cross Entropy Train: 0.6121, Cross Entropy Test: 0.6245, Elapsed Time: 17.45sec\n",
            "Epoch: 79/100, Cross Entropy Train: 0.6148, Cross Entropy Test: 0.6328, Elapsed Time: 17.87sec\n",
            "Epoch: 80/100, Cross Entropy Train: 0.6139, Cross Entropy Test: 0.6113, Elapsed Time: 17.44sec\n",
            "Epoch: 81/100, Cross Entropy Train: 0.6104, Cross Entropy Test: 0.6194, Elapsed Time: 17.44sec\n",
            "Epoch: 82/100, Cross Entropy Train: 0.6125, Cross Entropy Test: 0.6427, Elapsed Time: 17.46sec\n",
            "Epoch 00082: reducing learning rate of group 0 to 5.0000e-04.\n",
            "Epoch: 83/100, Cross Entropy Train: 0.5924, Cross Entropy Test: 0.5890, Elapsed Time: 17.92sec\n",
            "Saving Weights\n",
            "Epoch: 84/100, Cross Entropy Train: 0.5946, Cross Entropy Test: 0.5893, Elapsed Time: 17.59sec\n",
            "Epoch: 85/100, Cross Entropy Train: 0.5914, Cross Entropy Test: 0.5883, Elapsed Time: 17.46sec\n",
            "Saving Weights\n",
            "Epoch: 86/100, Cross Entropy Train: 0.5969, Cross Entropy Test: 0.5968, Elapsed Time: 17.50sec\n",
            "Epoch: 87/100, Cross Entropy Train: 0.5879, Cross Entropy Test: 0.5876, Elapsed Time: 17.88sec\n",
            "Saving Weights\n",
            "Epoch: 88/100, Cross Entropy Train: 0.5904, Cross Entropy Test: 0.5852, Elapsed Time: 17.42sec\n",
            "Saving Weights\n",
            "Epoch: 89/100, Cross Entropy Train: 0.5949, Cross Entropy Test: 0.5883, Elapsed Time: 17.62sec\n",
            "Epoch: 90/100, Cross Entropy Train: 0.5849, Cross Entropy Test: 0.5848, Elapsed Time: 17.46sec\n",
            "Saving Weights\n",
            "Epoch: 91/100, Cross Entropy Train: 0.5886, Cross Entropy Test: 0.5855, Elapsed Time: 17.47sec\n",
            "Epoch: 92/100, Cross Entropy Train: 0.5991, Cross Entropy Test: 0.5983, Elapsed Time: 17.45sec\n",
            "Epoch: 93/100, Cross Entropy Train: 0.5913, Cross Entropy Test: 0.6186, Elapsed Time: 17.61sec\n",
            "Epoch: 94/100, Cross Entropy Train: 0.5881, Cross Entropy Test: 0.5825, Elapsed Time: 17.43sec\n",
            "Saving Weights\n",
            "Epoch: 95/100, Cross Entropy Train: 0.5923, Cross Entropy Test: 0.5834, Elapsed Time: 17.47sec\n",
            "Epoch: 96/100, Cross Entropy Train: 0.5877, Cross Entropy Test: 0.5813, Elapsed Time: 17.43sec\n",
            "Saving Weights\n",
            "Epoch: 97/100, Cross Entropy Train: 0.5855, Cross Entropy Test: 0.6405, Elapsed Time: 17.41sec\n",
            "Epoch: 98/100, Cross Entropy Train: 0.5875, Cross Entropy Test: 0.5825, Elapsed Time: 17.43sec\n",
            "Epoch: 99/100, Cross Entropy Train: 0.5926, Cross Entropy Test: 0.5809, Elapsed Time: 17.42sec\n",
            "Saving Weights\n",
            "Epoch: 100/100, Cross Entropy Train: 0.5850, Cross Entropy Test: 0.5808, Elapsed Time: 17.45sec\n",
            "Saving Weights\n"
          ]
        }
      ],
      "source": [
        "train()"
      ]
    },
    {
      "cell_type": "code",
      "execution_count": 25,
      "id": "76f6afe7-6dc1-4ffb-8aa1-04c97724da3d",
      "metadata": {
        "id": "76f6afe7-6dc1-4ffb-8aa1-04c97724da3d",
        "colab": {
          "base_uri": "https://localhost:8080/"
        },
        "outputId": "f0e4c16d-ce6a-4e96-f49b-71295ccbb9b8"
      },
      "outputs": [
        {
          "output_type": "execute_result",
          "data": {
            "text/plain": [
              "<All keys matched successfully>"
            ]
          },
          "metadata": {},
          "execution_count": 25
        }
      ],
      "source": [
        "model.load_state_dict(torch.load(f=weights_path / 'conditional_gated_pixel_cnn.pt'))"
      ]
    },
    {
      "cell_type": "code",
      "execution_count": 26,
      "id": "ae2f39cc-00eb-4708-8e39-57de26a14859",
      "metadata": {
        "id": "ae2f39cc-00eb-4708-8e39-57de26a14859"
      },
      "outputs": [],
      "source": [
        "@torch.inference_mode()\n",
        "def sample(model, num_images):\n",
        "    width = 28\n",
        "    height = 28\n",
        "    img = torch.zeros((num_images, 1, height, width), device=DEVICE)\n",
        "    for h in range(height):\n",
        "        for w in range(width):\n",
        "                labels = torch.arange(10, device=DEVICE)\n",
        "                pred = model(img / 255.0, labels)[:, :, :, h, w].squeeze()\n",
        "                probs = F.softmax(pred, dim=1)\n",
        "                sampled = torch.multinomial(probs, num_samples=1).squeeze(dim=-1)\n",
        "                img[:, 0, h, w] = sampled\n",
        "    return img"
      ]
    },
    {
      "cell_type": "code",
      "execution_count": 27,
      "id": "3f6a8aec-1e94-41da-87fc-389cbd4b7aac",
      "metadata": {
        "id": "3f6a8aec-1e94-41da-87fc-389cbd4b7aac"
      },
      "outputs": [],
      "source": [
        "sampled_images = sample(model, 10)"
      ]
    },
    {
      "cell_type": "markdown",
      "source": [
        "The quality of the results are better and we are able to generate numbers that we desire."
      ],
      "metadata": {
        "id": "HiAhqGWTrhuA"
      },
      "id": "HiAhqGWTrhuA"
    },
    {
      "cell_type": "code",
      "execution_count": 28,
      "id": "cdc5a7c0-2856-486b-8ce3-75893f4f75e2",
      "metadata": {
        "id": "cdc5a7c0-2856-486b-8ce3-75893f4f75e2",
        "colab": {
          "base_uri": "https://localhost:8080/",
          "height": 246
        },
        "outputId": "f7ebfd28-fbb3-441b-9d05-9339b727404b"
      },
      "outputs": [
        {
          "output_type": "display_data",
          "data": {
            "text/plain": [
              "<Figure size 576x288 with 10 Axes>"
            ],
            "image/png": "[encoded data removed]"
          },
          "metadata": {
            "needs_background": "light"
          }
        }
      ],
      "source": [
        "fig = plt.figure(figsize=(8, 4))\n",
        "columns = 5\n",
        "rows = 2\n",
        "for i, img in enumerate(sampled_images):\n",
        "    fig.add_subplot(rows, columns, i+1)\n",
        "    plt.imshow(img.squeeze().cpu().numpy(), cmap=\"gray\")\n",
        "plt.show()"
      ]
    }
  ],
  "metadata": {
    "accelerator": "GPU",
    "colab": {
      "collapsed_sections": [],
      "provenance": []
    },
    "gpuClass": "premium",
    "kernelspec": {
      "display_name": "Python 3 (ipykernel)",
      "language": "python",
      "name": "python3"
    },
    "language_info": {
      "codemirror_mode": {
        "name": "ipython",
        "version": 3
      },
      "file_extension": ".py",
      "mimetype": "text/x-python",
      "name": "python",
      "nbconvert_exporter": "python",
      "pygments_lexer": "ipython3",
      "version": "3.10.5"
    },
    "widgets": {
      "application/vnd.jupyter.widget-state+json": {
        "d5697372b8c542b8bc84b1ed3d288cab": {
          "model_module": "@jupyter-widgets/controls",
          "model_name": "HBoxModel",
          "model_module_version": "1.5.0",
          "state": {
            "_dom_classes": [],
            "_model_module": "@jupyter-widgets/controls",
            "_model_module_version": "1.5.0",
            "_model_name": "HBoxModel",
            "_view_count": null,
            "_view_module": "@jupyter-widgets/controls",
            "_view_module_version": "1.5.0",
            "_view_name": "HBoxView",
            "box_style": "",
            "children": [
              "IPY_MODEL_5be2869efd4f410d998e3c4f11a87b2c",
              "IPY_MODEL_8dc6c1db09064ca191b9d3c823fdd9a5",
              "IPY_MODEL_62c681571d9b424bbb4893f3eaa4aaed"
            ],
            "layout": "IPY_MODEL_17890615db1245209d85ba3bde6f3aad"
          }
        },
        "5be2869efd4f410d998e3c4f11a87b2c": {
          "model_module": "@jupyter-widgets/controls",
          "model_name": "HTMLModel",
          "model_module_version": "1.5.0",
          "state": {
            "_dom_classes": [],
            "_model_module": "@jupyter-widgets/controls",
            "_model_module_version": "1.5.0",
            "_model_name": "HTMLModel",
            "_view_count": null,
            "_view_module": "@jupyter-widgets/controls",
            "_view_module_version": "1.5.0",
            "_view_name": "HTMLView",
            "description": "",
            "description_tooltip": null,
            "layout": "IPY_MODEL_bff20fa1e6724a229f5a2f0479ae5435",
            "placeholder": "​",
            "style": "IPY_MODEL_2765bbd6f3bf4af78bb2f58b88214442",
            "value": "100%"
          }
        },
        "8dc6c1db09064ca191b9d3c823fdd9a5": {
          "model_module": "@jupyter-widgets/controls",
          "model_name": "FloatProgressModel",
          "model_module_version": "1.5.0",
          "state": {
            "_dom_classes": [],
            "_model_module": "@jupyter-widgets/controls",
            "_model_module_version": "1.5.0",
            "_model_name": "FloatProgressModel",
            "_view_count": null,
            "_view_module": "@jupyter-widgets/controls",
            "_view_module_version": "1.5.0",
            "_view_name": "ProgressView",
            "bar_style": "success",
            "description": "",
            "description_tooltip": null,
            "layout": "IPY_MODEL_3f3ecda320604724a6c26ce360eb965c",
            "max": 9912422,
            "min": 0,
            "orientation": "horizontal",
            "style": "IPY_MODEL_27df49c5b89b4df8b4ae0c0e4b9288d3",
            "value": 9912422
          }
        },
        "62c681571d9b424bbb4893f3eaa4aaed": {
          "model_module": "@jupyter-widgets/controls",
          "model_name": "HTMLModel",
          "model_module_version": "1.5.0",
          "state": {
            "_dom_classes": [],
            "_model_module": "@jupyter-widgets/controls",
            "_model_module_version": "1.5.0",
            "_model_name": "HTMLModel",
            "_view_count": null,
            "_view_module": "@jupyter-widgets/controls",
            "_view_module_version": "1.5.0",
            "_view_name": "HTMLView",
            "description": "",
            "description_tooltip": null,
            "layout": "IPY_MODEL_9721996674f24468997ff95411f847b9",
            "placeholder": "​",
            "style": "IPY_MODEL_eba8f02b8b644420a2c480c3a9118ed9",
            "value": " 9912422/9912422 [00:00&lt;00:00, 31390551.85it/s]"
          }
        },
        "17890615db1245209d85ba3bde6f3aad": {
          "model_module": "@jupyter-widgets/base",
          "model_name": "LayoutModel",
          "model_module_version": "1.2.0",
          "state": {
            "_model_module": "@jupyter-widgets/base",
            "_model_module_version": "1.2.0",
            "_model_name": "LayoutModel",
            "_view_count": null,
            "_view_module": "@jupyter-widgets/base",
            "_view_module_version": "1.2.0",
            "_view_name": "LayoutView",
            "align_content": null,
            "align_items": null,
            "align_self": null,
            "border": null,
            "bottom": null,
            "display": null,
            "flex": null,
            "flex_flow": null,
            "grid_area": null,
            "grid_auto_columns": null,
            "grid_auto_flow": null,
            "grid_auto_rows": null,
            "grid_column": null,
            "grid_gap": null,
            "grid_row": null,
            "grid_template_areas": null,
            "grid_template_columns": null,
            "grid_template_rows": null,
            "height": null,
            "justify_content": null,
            "justify_items": null,
            "left": null,
            "margin": null,
            "max_height": null,
            "max_width": null,
            "min_height": null,
            "min_width": null,
            "object_fit": null,
            "object_position": null,
            "order": null,
            "overflow": null,
            "overflow_x": null,
            "overflow_y": null,
            "padding": null,
            "right": null,
            "top": null,
            "visibility": null,
            "width": null
          }
        },
        "bff20fa1e6724a229f5a2f0479ae5435": {
          "model_module": "@jupyter-widgets/base",
          "model_name": "LayoutModel",
          "model_module_version": "1.2.0",
          "state": {
            "_model_module": "@jupyter-widgets/base",
            "_model_module_version": "1.2.0",
            "_model_name": "LayoutModel",
            "_view_count": null,
            "_view_module": "@jupyter-widgets/base",
            "_view_module_version": "1.2.0",
            "_view_name": "LayoutView",
            "align_content": null,
            "align_items": null,
            "align_self": null,
            "border": null,
            "bottom": null,
            "display": null,
            "flex": null,
            "flex_flow": null,
            "grid_area": null,
            "grid_auto_columns": null,
            "grid_auto_flow": null,
            "grid_auto_rows": null,
            "grid_column": null,
            "grid_gap": null,
            "grid_row": null,
            "grid_template_areas": null,
            "grid_template_columns": null,
            "grid_template_rows": null,
            "height": null,
            "justify_content": null,
            "justify_items": null,
            "left": null,
            "margin": null,
            "max_height": null,
            "max_width": null,
            "min_height": null,
            "min_width": null,
            "object_fit": null,
            "object_position": null,
            "order": null,
            "overflow": null,
            "overflow_x": null,
            "overflow_y": null,
            "padding": null,
            "right": null,
            "top": null,
            "visibility": null,
            "width": null
          }
        },
        "2765bbd6f3bf4af78bb2f58b88214442": {
          "model_module": "@jupyter-widgets/controls",
          "model_name": "DescriptionStyleModel",
          "model_module_version": "1.5.0",
          "state": {
            "_model_module": "@jupyter-widgets/controls",
            "_model_module_version": "1.5.0",
            "_model_name": "DescriptionStyleModel",
            "_view_count": null,
            "_view_module": "@jupyter-widgets/base",
            "_view_module_version": "1.2.0",
            "_view_name": "StyleView",
            "description_width": ""
          }
        },
        "3f3ecda320604724a6c26ce360eb965c": {
          "model_module": "@jupyter-widgets/base",
          "model_name": "LayoutModel",
          "model_module_version": "1.2.0",
          "state": {
            "_model_module": "@jupyter-widgets/base",
            "_model_module_version": "1.2.0",
            "_model_name": "LayoutModel",
            "_view_count": null,
            "_view_module": "@jupyter-widgets/base",
            "_view_module_version": "1.2.0",
            "_view_name": "LayoutView",
            "align_content": null,
            "align_items": null,
            "align_self": null,
            "border": null,
            "bottom": null,
            "display": null,
            "flex": null,
            "flex_flow": null,
            "grid_area": null,
            "grid_auto_columns": null,
            "grid_auto_flow": null,
            "grid_auto_rows": null,
            "grid_column": null,
            "grid_gap": null,
            "grid_row": null,
            "grid_template_areas": null,
            "grid_template_columns": null,
            "grid_template_rows": null,
            "height": null,
            "justify_content": null,
            "justify_items": null,
            "left": null,
            "margin": null,
            "max_height": null,
            "max_width": null,
            "min_height": null,
            "min_width": null,
            "object_fit": null,
            "object_position": null,
            "order": null,
            "overflow": null,
            "overflow_x": null,
            "overflow_y": null,
            "padding": null,
            "right": null,
            "top": null,
            "visibility": null,
            "width": null
          }
        },
        "27df49c5b89b4df8b4ae0c0e4b9288d3": {
          "model_module": "@jupyter-widgets/controls",
          "model_name": "ProgressStyleModel",
          "model_module_version": "1.5.0",
          "state": {
            "_model_module": "@jupyter-widgets/controls",
            "_model_module_version": "1.5.0",
            "_model_name": "ProgressStyleModel",
            "_view_count": null,
            "_view_module": "@jupyter-widgets/base",
            "_view_module_version": "1.2.0",
            "_view_name": "StyleView",
            "bar_color": null,
            "description_width": ""
          }
        },
        "9721996674f24468997ff95411f847b9": {
          "model_module": "@jupyter-widgets/base",
          "model_name": "LayoutModel",
          "model_module_version": "1.2.0",
          "state": {
            "_model_module": "@jupyter-widgets/base",
            "_model_module_version": "1.2.0",
            "_model_name": "LayoutModel",
            "_view_count": null,
            "_view_module": "@jupyter-widgets/base",
            "_view_module_version": "1.2.0",
            "_view_name": "LayoutView",
            "align_content": null,
            "align_items": null,
            "align_self": null,
            "border": null,
            "bottom": null,
            "display": null,
            "flex": null,
            "flex_flow": null,
            "grid_area": null,
            "grid_auto_columns": null,
            "grid_auto_flow": null,
            "grid_auto_rows": null,
            "grid_column": null,
            "grid_gap": null,
            "grid_row": null,
            "grid_template_areas": null,
            "grid_template_columns": null,
            "grid_template_rows": null,
            "height": null,
            "justify_content": null,
            "justify_items": null,
            "left": null,
            "margin": null,
            "max_height": null,
            "max_width": null,
            "min_height": null,
            "min_width": null,
            "object_fit": null,
            "object_position": null,
            "order": null,
            "overflow": null,
            "overflow_x": null,
            "overflow_y": null,
            "padding": null,
            "right": null,
            "top": null,
            "visibility": null,
            "width": null
          }
        },
        "eba8f02b8b644420a2c480c3a9118ed9": {
          "model_module": "@jupyter-widgets/controls",
          "model_name": "DescriptionStyleModel",
          "model_module_version": "1.5.0",
          "state": {
            "_model_module": "@jupyter-widgets/controls",
            "_model_module_version": "1.5.0",
            "_model_name": "DescriptionStyleModel",
            "_view_count": null,
            "_view_module": "@jupyter-widgets/base",
            "_view_module_version": "1.2.0",
            "_view_name": "StyleView",
            "description_width": ""
          }
        },
        "3742cb70f9f941f4b5b8a46281e03516": {
          "model_module": "@jupyter-widgets/controls",
          "model_name": "HBoxModel",
          "model_module_version": "1.5.0",
          "state": {
            "_dom_classes": [],
            "_model_module": "@jupyter-widgets/controls",
            "_model_module_version": "1.5.0",
            "_model_name": "HBoxModel",
            "_view_count": null,
            "_view_module": "@jupyter-widgets/controls",
            "_view_module_version": "1.5.0",
            "_view_name": "HBoxView",
            "box_style": "",
            "children": [
              "IPY_MODEL_f770c8475c364c38a2710d56eec7d1e3",
              "IPY_MODEL_c9c6c87751aa4c25bdb0bbc2194c0555",
              "IPY_MODEL_b00bea635dee41f8b34e15900fbad6c9"
            ],
            "layout": "IPY_MODEL_5d6f468dddec4fa5848de904f36c70ad"
          }
        },
        "f770c8475c364c38a2710d56eec7d1e3": {
          "model_module": "@jupyter-widgets/controls",
          "model_name": "HTMLModel",
          "model_module_version": "1.5.0",
          "state": {
            "_dom_classes": [],
            "_model_module": "@jupyter-widgets/controls",
            "_model_module_version": "1.5.0",
            "_model_name": "HTMLModel",
            "_view_count": null,
            "_view_module": "@jupyter-widgets/controls",
            "_view_module_version": "1.5.0",
            "_view_name": "HTMLView",
            "description": "",
            "description_tooltip": null,
            "layout": "IPY_MODEL_a4b1e1df631d4ff9a472f9c8fc7390f6",
            "placeholder": "​",
            "style": "IPY_MODEL_13ac9936af91409289cbe75ff9bbabe5",
            "value": "100%"
          }
        },
        "c9c6c87751aa4c25bdb0bbc2194c0555": {
          "model_module": "@jupyter-widgets/controls",
          "model_name": "FloatProgressModel",
          "model_module_version": "1.5.0",
          "state": {
            "_dom_classes": [],
            "_model_module": "@jupyter-widgets/controls",
            "_model_module_version": "1.5.0",
            "_model_name": "FloatProgressModel",
            "_view_count": null,
            "_view_module": "@jupyter-widgets/controls",
            "_view_module_version": "1.5.0",
            "_view_name": "ProgressView",
            "bar_style": "success",
            "description": "",
            "description_tooltip": null,
            "layout": "IPY_MODEL_dee24005894a467a92b72713cbdb413c",
            "max": 28881,
            "min": 0,
            "orientation": "horizontal",
            "style": "IPY_MODEL_39069ae51e3d451c8096ff3099abcf04",
            "value": 28881
          }
        },
        "b00bea635dee41f8b34e15900fbad6c9": {
          "model_module": "@jupyter-widgets/controls",
          "model_name": "HTMLModel",
          "model_module_version": "1.5.0",
          "state": {
            "_dom_classes": [],
            "_model_module": "@jupyter-widgets/controls",
            "_model_module_version": "1.5.0",
            "_model_name": "HTMLModel",
            "_view_count": null,
            "_view_module": "@jupyter-widgets/controls",
            "_view_module_version": "1.5.0",
            "_view_name": "HTMLView",
            "description": "",
            "description_tooltip": null,
            "layout": "IPY_MODEL_f956222fa5874168836775abe0c120b6",
            "placeholder": "​",
            "style": "IPY_MODEL_1b70651dccbf42b780983a5a8d61ecb5",
            "value": " 28881/28881 [00:00&lt;00:00, 1242532.07it/s]"
          }
        },
        "5d6f468dddec4fa5848de904f36c70ad": {
          "model_module": "@jupyter-widgets/base",
          "model_name": "LayoutModel",
          "model_module_version": "1.2.0",
          "state": {
            "_model_module": "@jupyter-widgets/base",
            "_model_module_version": "1.2.0",
            "_model_name": "LayoutModel",
            "_view_count": null,
            "_view_module": "@jupyter-widgets/base",
            "_view_module_version": "1.2.0",
            "_view_name": "LayoutView",
            "align_content": null,
            "align_items": null,
            "align_self": null,
            "border": null,
            "bottom": null,
            "display": null,
            "flex": null,
            "flex_flow": null,
            "grid_area": null,
            "grid_auto_columns": null,
            "grid_auto_flow": null,
            "grid_auto_rows": null,
            "grid_column": null,
            "grid_gap": null,
            "grid_row": null,
            "grid_template_areas": null,
            "grid_template_columns": null,
            "grid_template_rows": null,
            "height": null,
            "justify_content": null,
            "justify_items": null,
            "left": null,
            "margin": null,
            "max_height": null,
            "max_width": null,
            "min_height": null,
            "min_width": null,
            "object_fit": null,
            "object_position": null,
            "order": null,
            "overflow": null,
            "overflow_x": null,
            "overflow_y": null,
            "padding": null,
            "right": null,
            "top": null,
            "visibility": null,
            "width": null
          }
        },
        "a4b1e1df631d4ff9a472f9c8fc7390f6": {
          "model_module": "@jupyter-widgets/base",
          "model_name": "LayoutModel",
          "model_module_version": "1.2.0",
          "state": {
            "_model_module": "@jupyter-widgets/base",
            "_model_module_version": "1.2.0",
            "_model_name": "LayoutModel",
            "_view_count": null,
            "_view_module": "@jupyter-widgets/base",
            "_view_module_version": "1.2.0",
            "_view_name": "LayoutView",
            "align_content": null,
            "align_items": null,
            "align_self": null,
            "border": null,
            "bottom": null,
            "display": null,
            "flex": null,
            "flex_flow": null,
            "grid_area": null,
            "grid_auto_columns": null,
            "grid_auto_flow": null,
            "grid_auto_rows": null,
            "grid_column": null,
            "grid_gap": null,
            "grid_row": null,
            "grid_template_areas": null,
            "grid_template_columns": null,
            "grid_template_rows": null,
            "height": null,
            "justify_content": null,
            "justify_items": null,
            "left": null,
            "margin": null,
            "max_height": null,
            "max_width": null,
            "min_height": null,
            "min_width": null,
            "object_fit": null,
            "object_position": null,
            "order": null,
            "overflow": null,
            "overflow_x": null,
            "overflow_y": null,
            "padding": null,
            "right": null,
            "top": null,
            "visibility": null,
            "width": null
          }
        },
        "13ac9936af91409289cbe75ff9bbabe5": {
          "model_module": "@jupyter-widgets/controls",
          "model_name": "DescriptionStyleModel",
          "model_module_version": "1.5.0",
          "state": {
            "_model_module": "@jupyter-widgets/controls",
            "_model_module_version": "1.5.0",
            "_model_name": "DescriptionStyleModel",
            "_view_count": null,
            "_view_module": "@jupyter-widgets/base",
            "_view_module_version": "1.2.0",
            "_view_name": "StyleView",
            "description_width": ""
          }
        },
        "dee24005894a467a92b72713cbdb413c": {
          "model_module": "@jupyter-widgets/base",
          "model_name": "LayoutModel",
          "model_module_version": "1.2.0",
          "state": {
            "_model_module": "@jupyter-widgets/base",
            "_model_module_version": "1.2.0",
            "_model_name": "LayoutModel",
            "_view_count": null,
            "_view_module": "@jupyter-widgets/base",
            "_view_module_version": "1.2.0",
            "_view_name": "LayoutView",
            "align_content": null,
            "align_items": null,
            "align_self": null,
            "border": null,
            "bottom": null,
            "display": null,
            "flex": null,
            "flex_flow": null,
            "grid_area": null,
            "grid_auto_columns": null,
            "grid_auto_flow": null,
            "grid_auto_rows": null,
            "grid_column": null,
            "grid_gap": null,
            "grid_row": null,
            "grid_template_areas": null,
            "grid_template_columns": null,
            "grid_template_rows": null,
            "height": null,
            "justify_content": null,
            "justify_items": null,
            "left": null,
            "margin": null,
            "max_height": null,
            "max_width": null,
            "min_height": null,
            "min_width": null,
            "object_fit": null,
            "object_position": null,
            "order": null,
            "overflow": null,
            "overflow_x": null,
            "overflow_y": null,
            "padding": null,
            "right": null,
            "top": null,
            "visibility": null,
            "width": null
          }
        },
        "39069ae51e3d451c8096ff3099abcf04": {
          "model_module": "@jupyter-widgets/controls",
          "model_name": "ProgressStyleModel",
          "model_module_version": "1.5.0",
          "state": {
            "_model_module": "@jupyter-widgets/controls",
            "_model_module_version": "1.5.0",
            "_model_name": "ProgressStyleModel",
            "_view_count": null,
            "_view_module": "@jupyter-widgets/base",
            "_view_module_version": "1.2.0",
            "_view_name": "StyleView",
            "bar_color": null,
            "description_width": ""
          }
        },
        "f956222fa5874168836775abe0c120b6": {
          "model_module": "@jupyter-widgets/base",
          "model_name": "LayoutModel",
          "model_module_version": "1.2.0",
          "state": {
            "_model_module": "@jupyter-widgets/base",
            "_model_module_version": "1.2.0",
            "_model_name": "LayoutModel",
            "_view_count": null,
            "_view_module": "@jupyter-widgets/base",
            "_view_module_version": "1.2.0",
            "_view_name": "LayoutView",
            "align_content": null,
            "align_items": null,
            "align_self": null,
            "border": null,
            "bottom": null,
            "display": null,
            "flex": null,
            "flex_flow": null,
            "grid_area": null,
            "grid_auto_columns": null,
            "grid_auto_flow": null,
            "grid_auto_rows": null,
            "grid_column": null,
            "grid_gap": null,
            "grid_row": null,
            "grid_template_areas": null,
            "grid_template_columns": null,
            "grid_template_rows": null,
            "height": null,
            "justify_content": null,
            "justify_items": null,
            "left": null,
            "margin": null,
            "max_height": null,
            "max_width": null,
            "min_height": null,
            "min_width": null,
            "object_fit": null,
            "object_position": null,
            "order": null,
            "overflow": null,
            "overflow_x": null,
            "overflow_y": null,
            "padding": null,
            "right": null,
            "top": null,
            "visibility": null,
            "width": null
          }
        },
        "1b70651dccbf42b780983a5a8d61ecb5": {
          "model_module": "@jupyter-widgets/controls",
          "model_name": "DescriptionStyleModel",
          "model_module_version": "1.5.0",
          "state": {
            "_model_module": "@jupyter-widgets/controls",
            "_model_module_version": "1.5.0",
            "_model_name": "DescriptionStyleModel",
            "_view_count": null,
            "_view_module": "@jupyter-widgets/base",
            "_view_module_version": "1.2.0",
            "_view_name": "StyleView",
            "description_width": ""
          }
        },
        "e428d86fe32847e194e52372e3da1d2e": {
          "model_module": "@jupyter-widgets/controls",
          "model_name": "HBoxModel",
          "model_module_version": "1.5.0",
          "state": {
            "_dom_classes": [],
            "_model_module": "@jupyter-widgets/controls",
            "_model_module_version": "1.5.0",
            "_model_name": "HBoxModel",
            "_view_count": null,
            "_view_module": "@jupyter-widgets/controls",
            "_view_module_version": "1.5.0",
            "_view_name": "HBoxView",
            "box_style": "",
            "children": [
              "IPY_MODEL_8bc03b40b4a24b2483b0c8e13c0c75c7",
              "IPY_MODEL_7814b13825054ef28711f217828922cc",
              "IPY_MODEL_4bb8e6728a0c4b189f4126e8fa14b7a9"
            ],
            "layout": "IPY_MODEL_2853bbe7c3ad4aaabfed859a0763b32e"
          }
        },
        "8bc03b40b4a24b2483b0c8e13c0c75c7": {
          "model_module": "@jupyter-widgets/controls",
          "model_name": "HTMLModel",
          "model_module_version": "1.5.0",
          "state": {
            "_dom_classes": [],
            "_model_module": "@jupyter-widgets/controls",
            "_model_module_version": "1.5.0",
            "_model_name": "HTMLModel",
            "_view_count": null,
            "_view_module": "@jupyter-widgets/controls",
            "_view_module_version": "1.5.0",
            "_view_name": "HTMLView",
            "description": "",
            "description_tooltip": null,
            "layout": "IPY_MODEL_2e3735cd041846b0b8c22cf5718f6399",
            "placeholder": "​",
            "style": "IPY_MODEL_d59da2a8ca924962ba47fb67bf901d4c",
            "value": "100%"
          }
        },
        "7814b13825054ef28711f217828922cc": {
          "model_module": "@jupyter-widgets/controls",
          "model_name": "FloatProgressModel",
          "model_module_version": "1.5.0",
          "state": {
            "_dom_classes": [],
            "_model_module": "@jupyter-widgets/controls",
            "_model_module_version": "1.5.0",
            "_model_name": "FloatProgressModel",
            "_view_count": null,
            "_view_module": "@jupyter-widgets/controls",
            "_view_module_version": "1.5.0",
            "_view_name": "ProgressView",
            "bar_style": "success",
            "description": "",
            "description_tooltip": null,
            "layout": "IPY_MODEL_26bb2fda34de4426b8ccc1e0f296384a",
            "max": 1648877,
            "min": 0,
            "orientation": "horizontal",
            "style": "IPY_MODEL_66d7322a7ed7431c96b5e3871663e9c3",
            "value": 1648877
          }
        },
        "4bb8e6728a0c4b189f4126e8fa14b7a9": {
          "model_module": "@jupyter-widgets/controls",
          "model_name": "HTMLModel",
          "model_module_version": "1.5.0",
          "state": {
            "_dom_classes": [],
            "_model_module": "@jupyter-widgets/controls",
            "_model_module_version": "1.5.0",
            "_model_name": "HTMLModel",
            "_view_count": null,
            "_view_module": "@jupyter-widgets/controls",
            "_view_module_version": "1.5.0",
            "_view_name": "HTMLView",
            "description": "",
            "description_tooltip": null,
            "layout": "IPY_MODEL_b184a3302b574039b28c152aed9b88a5",
            "placeholder": "​",
            "style": "IPY_MODEL_7dac53bc15dd48e8952f9cbf4fc9e120",
            "value": " 1648877/1648877 [00:00&lt;00:00, 20300912.02it/s]"
          }
        },
        "2853bbe7c3ad4aaabfed859a0763b32e": {
          "model_module": "@jupyter-widgets/base",
          "model_name": "LayoutModel",
          "model_module_version": "1.2.0",
          "state": {
            "_model_module": "@jupyter-widgets/base",
            "_model_module_version": "1.2.0",
            "_model_name": "LayoutModel",
            "_view_count": null,
            "_view_module": "@jupyter-widgets/base",
            "_view_module_version": "1.2.0",
            "_view_name": "LayoutView",
            "align_content": null,
            "align_items": null,
            "align_self": null,
            "border": null,
            "bottom": null,
            "display": null,
            "flex": null,
            "flex_flow": null,
            "grid_area": null,
            "grid_auto_columns": null,
            "grid_auto_flow": null,
            "grid_auto_rows": null,
            "grid_column": null,
            "grid_gap": null,
            "grid_row": null,
            "grid_template_areas": null,
            "grid_template_columns": null,
            "grid_template_rows": null,
            "height": null,
            "justify_content": null,
            "justify_items": null,
            "left": null,
            "margin": null,
            "max_height": null,
            "max_width": null,
            "min_height": null,
            "min_width": null,
            "object_fit": null,
            "object_position": null,
            "order": null,
            "overflow": null,
            "overflow_x": null,
            "overflow_y": null,
            "padding": null,
            "right": null,
            "top": null,
            "visibility": null,
            "width": null
          }
        },
        "2e3735cd041846b0b8c22cf5718f6399": {
          "model_module": "@jupyter-widgets/base",
          "model_name": "LayoutModel",
          "model_module_version": "1.2.0",
          "state": {
            "_model_module": "@jupyter-widgets/base",
            "_model_module_version": "1.2.0",
            "_model_name": "LayoutModel",
            "_view_count": null,
            "_view_module": "@jupyter-widgets/base",
            "_view_module_version": "1.2.0",
            "_view_name": "LayoutView",
            "align_content": null,
            "align_items": null,
            "align_self": null,
            "border": null,
            "bottom": null,
            "display": null,
            "flex": null,
            "flex_flow": null,
            "grid_area": null,
            "grid_auto_columns": null,
            "grid_auto_flow": null,
            "grid_auto_rows": null,
            "grid_column": null,
            "grid_gap": null,
            "grid_row": null,
            "grid_template_areas": null,
            "grid_template_columns": null,
            "grid_template_rows": null,
            "height": null,
            "justify_content": null,
            "justify_items": null,
            "left": null,
            "margin": null,
            "max_height": null,
            "max_width": null,
            "min_height": null,
            "min_width": null,
            "object_fit": null,
            "object_position": null,
            "order": null,
            "overflow": null,
            "overflow_x": null,
            "overflow_y": null,
            "padding": null,
            "right": null,
            "top": null,
            "visibility": null,
            "width": null
          }
        },
        "d59da2a8ca924962ba47fb67bf901d4c": {
          "model_module": "@jupyter-widgets/controls",
          "model_name": "DescriptionStyleModel",
          "model_module_version": "1.5.0",
          "state": {
            "_model_module": "@jupyter-widgets/controls",
            "_model_module_version": "1.5.0",
            "_model_name": "DescriptionStyleModel",
            "_view_count": null,
            "_view_module": "@jupyter-widgets/base",
            "_view_module_version": "1.2.0",
            "_view_name": "StyleView",
            "description_width": ""
          }
        },
        "26bb2fda34de4426b8ccc1e0f296384a": {
          "model_module": "@jupyter-widgets/base",
          "model_name": "LayoutModel",
          "model_module_version": "1.2.0",
          "state": {
            "_model_module": "@jupyter-widgets/base",
            "_model_module_version": "1.2.0",
            "_model_name": "LayoutModel",
            "_view_count": null,
            "_view_module": "@jupyter-widgets/base",
            "_view_module_version": "1.2.0",
            "_view_name": "LayoutView",
            "align_content": null,
            "align_items": null,
            "align_self": null,
            "border": null,
            "bottom": null,
            "display": null,
            "flex": null,
            "flex_flow": null,
            "grid_area": null,
            "grid_auto_columns": null,
            "grid_auto_flow": null,
            "grid_auto_rows": null,
            "grid_column": null,
            "grid_gap": null,
            "grid_row": null,
            "grid_template_areas": null,
            "grid_template_columns": null,
            "grid_template_rows": null,
            "height": null,
            "justify_content": null,
            "justify_items": null,
            "left": null,
            "margin": null,
            "max_height": null,
            "max_width": null,
            "min_height": null,
            "min_width": null,
            "object_fit": null,
            "object_position": null,
            "order": null,
            "overflow": null,
            "overflow_x": null,
            "overflow_y": null,
            "padding": null,
            "right": null,
            "top": null,
            "visibility": null,
            "width": null
          }
        },
        "66d7322a7ed7431c96b5e3871663e9c3": {
          "model_module": "@jupyter-widgets/controls",
          "model_name": "ProgressStyleModel",
          "model_module_version": "1.5.0",
          "state": {
            "_model_module": "@jupyter-widgets/controls",
            "_model_module_version": "1.5.0",
            "_model_name": "ProgressStyleModel",
            "_view_count": null,
            "_view_module": "@jupyter-widgets/base",
            "_view_module_version": "1.2.0",
            "_view_name": "StyleView",
            "bar_color": null,
            "description_width": ""
          }
        },
        "b184a3302b574039b28c152aed9b88a5": {
          "model_module": "@jupyter-widgets/base",
          "model_name": "LayoutModel",
          "model_module_version": "1.2.0",
          "state": {
            "_model_module": "@jupyter-widgets/base",
            "_model_module_version": "1.2.0",
            "_model_name": "LayoutModel",
            "_view_count": null,
            "_view_module": "@jupyter-widgets/base",
            "_view_module_version": "1.2.0",
            "_view_name": "LayoutView",
            "align_content": null,
            "align_items": null,
            "align_self": null,
            "border": null,
            "bottom": null,
            "display": null,
            "flex": null,
            "flex_flow": null,
            "grid_area": null,
            "grid_auto_columns": null,
            "grid_auto_flow": null,
            "grid_auto_rows": null,
            "grid_column": null,
            "grid_gap": null,
            "grid_row": null,
            "grid_template_areas": null,
            "grid_template_columns": null,
            "grid_template_rows": null,
            "height": null,
            "justify_content": null,
            "justify_items": null,
            "left": null,
            "margin": null,
            "max_height": null,
            "max_width": null,
            "min_height": null,
            "min_width": null,
            "object_fit": null,
            "object_position": null,
            "order": null,
            "overflow": null,
            "overflow_x": null,
            "overflow_y": null,
            "padding": null,
            "right": null,
            "top": null,
            "visibility": null,
            "width": null
          }
        },
        "7dac53bc15dd48e8952f9cbf4fc9e120": {
          "model_module": "@jupyter-widgets/controls",
          "model_name": "DescriptionStyleModel",
          "model_module_version": "1.5.0",
          "state": {
            "_model_module": "@jupyter-widgets/controls",
            "_model_module_version": "1.5.0",
            "_model_name": "DescriptionStyleModel",
            "_view_count": null,
            "_view_module": "@jupyter-widgets/base",
            "_view_module_version": "1.2.0",
            "_view_name": "StyleView",
            "description_width": ""
          }
        },
        "6830d006b17c4b368160d6804d9a493e": {
          "model_module": "@jupyter-widgets/controls",
          "model_name": "HBoxModel",
          "model_module_version": "1.5.0",
          "state": {
            "_dom_classes": [],
            "_model_module": "@jupyter-widgets/controls",
            "_model_module_version": "1.5.0",
            "_model_name": "HBoxModel",
            "_view_count": null,
            "_view_module": "@jupyter-widgets/controls",
            "_view_module_version": "1.5.0",
            "_view_name": "HBoxView",
            "box_style": "",
            "children": [
              "IPY_MODEL_be52669a4f0442c796f22b144fec7bfa",
              "IPY_MODEL_33c5fded19744b04b5fefe8d2fdd0551",
              "IPY_MODEL_64966ccdef764c82be0ee88e59210c90"
            ],
            "layout": "IPY_MODEL_58eb6ee2890141468dda5016e2214ce3"
          }
        },
        "be52669a4f0442c796f22b144fec7bfa": {
          "model_module": "@jupyter-widgets/controls",
          "model_name": "HTMLModel",
          "model_module_version": "1.5.0",
          "state": {
            "_dom_classes": [],
            "_model_module": "@jupyter-widgets/controls",
            "_model_module_version": "1.5.0",
            "_model_name": "HTMLModel",
            "_view_count": null,
            "_view_module": "@jupyter-widgets/controls",
            "_view_module_version": "1.5.0",
            "_view_name": "HTMLView",
            "description": "",
            "description_tooltip": null,
            "layout": "IPY_MODEL_ae0079905cb9413a80d12aa266493c4b",
            "placeholder": "​",
            "style": "IPY_MODEL_4ef0e28528ca4ba88a81c147af123472",
            "value": "100%"
          }
        },
        "33c5fded19744b04b5fefe8d2fdd0551": {
          "model_module": "@jupyter-widgets/controls",
          "model_name": "FloatProgressModel",
          "model_module_version": "1.5.0",
          "state": {
            "_dom_classes": [],
            "_model_module": "@jupyter-widgets/controls",
            "_model_module_version": "1.5.0",
            "_model_name": "FloatProgressModel",
            "_view_count": null,
            "_view_module": "@jupyter-widgets/controls",
            "_view_module_version": "1.5.0",
            "_view_name": "ProgressView",
            "bar_style": "success",
            "description": "",
            "description_tooltip": null,
            "layout": "IPY_MODEL_a52bc8fd89864d02b9fc97925a9e8d51",
            "max": 4542,
            "min": 0,
            "orientation": "horizontal",
            "style": "IPY_MODEL_8021c71aa80e4fc581acbbb4eaf09e16",
            "value": 4542
          }
        },
        "64966ccdef764c82be0ee88e59210c90": {
          "model_module": "@jupyter-widgets/controls",
          "model_name": "HTMLModel",
          "model_module_version": "1.5.0",
          "state": {
            "_dom_classes": [],
            "_model_module": "@jupyter-widgets/controls",
            "_model_module_version": "1.5.0",
            "_model_name": "HTMLModel",
            "_view_count": null,
            "_view_module": "@jupyter-widgets/controls",
            "_view_module_version": "1.5.0",
            "_view_name": "HTMLView",
            "description": "",
            "description_tooltip": null,
            "layout": "IPY_MODEL_060271f43cfd4eccb50168d9efe48cc0",
            "placeholder": "​",
            "style": "IPY_MODEL_683eedd23e264b6c956a84fb83cd0ae9",
            "value": " 4542/4542 [00:00&lt;00:00, 186636.32it/s]"
          }
        },
        "58eb6ee2890141468dda5016e2214ce3": {
          "model_module": "@jupyter-widgets/base",
          "model_name": "LayoutModel",
          "model_module_version": "1.2.0",
          "state": {
            "_model_module": "@jupyter-widgets/base",
            "_model_module_version": "1.2.0",
            "_model_name": "LayoutModel",
            "_view_count": null,
            "_view_module": "@jupyter-widgets/base",
            "_view_module_version": "1.2.0",
            "_view_name": "LayoutView",
            "align_content": null,
            "align_items": null,
            "align_self": null,
            "border": null,
            "bottom": null,
            "display": null,
            "flex": null,
            "flex_flow": null,
            "grid_area": null,
            "grid_auto_columns": null,
            "grid_auto_flow": null,
            "grid_auto_rows": null,
            "grid_column": null,
            "grid_gap": null,
            "grid_row": null,
            "grid_template_areas": null,
            "grid_template_columns": null,
            "grid_template_rows": null,
            "height": null,
            "justify_content": null,
            "justify_items": null,
            "left": null,
            "margin": null,
            "max_height": null,
            "max_width": null,
            "min_height": null,
            "min_width": null,
            "object_fit": null,
            "object_position": null,
            "order": null,
            "overflow": null,
            "overflow_x": null,
            "overflow_y": null,
            "padding": null,
            "right": null,
            "top": null,
            "visibility": null,
            "width": null
          }
        },
        "ae0079905cb9413a80d12aa266493c4b": {
          "model_module": "@jupyter-widgets/base",
          "model_name": "LayoutModel",
          "model_module_version": "1.2.0",
          "state": {
            "_model_module": "@jupyter-widgets/base",
            "_model_module_version": "1.2.0",
            "_model_name": "LayoutModel",
            "_view_count": null,
            "_view_module": "@jupyter-widgets/base",
            "_view_module_version": "1.2.0",
            "_view_name": "LayoutView",
            "align_content": null,
            "align_items": null,
            "align_self": null,
            "border": null,
            "bottom": null,
            "display": null,
            "flex": null,
            "flex_flow": null,
            "grid_area": null,
            "grid_auto_columns": null,
            "grid_auto_flow": null,
            "grid_auto_rows": null,
            "grid_column": null,
            "grid_gap": null,
            "grid_row": null,
            "grid_template_areas": null,
            "grid_template_columns": null,
            "grid_template_rows": null,
            "height": null,
            "justify_content": null,
            "justify_items": null,
            "left": null,
            "margin": null,
            "max_height": null,
            "max_width": null,
            "min_height": null,
            "min_width": null,
            "object_fit": null,
            "object_position": null,
            "order": null,
            "overflow": null,
            "overflow_x": null,
            "overflow_y": null,
            "padding": null,
            "right": null,
            "top": null,
            "visibility": null,
            "width": null
          }
        },
        "4ef0e28528ca4ba88a81c147af123472": {
          "model_module": "@jupyter-widgets/controls",
          "model_name": "DescriptionStyleModel",
          "model_module_version": "1.5.0",
          "state": {
            "_model_module": "@jupyter-widgets/controls",
            "_model_module_version": "1.5.0",
            "_model_name": "DescriptionStyleModel",
            "_view_count": null,
            "_view_module": "@jupyter-widgets/base",
            "_view_module_version": "1.2.0",
            "_view_name": "StyleView",
            "description_width": ""
          }
        },
        "a52bc8fd89864d02b9fc97925a9e8d51": {
          "model_module": "@jupyter-widgets/base",
          "model_name": "LayoutModel",
          "model_module_version": "1.2.0",
          "state": {
            "_model_module": "@jupyter-widgets/base",
            "_model_module_version": "1.2.0",
            "_model_name": "LayoutModel",
            "_view_count": null,
            "_view_module": "@jupyter-widgets/base",
            "_view_module_version": "1.2.0",
            "_view_name": "LayoutView",
            "align_content": null,
            "align_items": null,
            "align_self": null,
            "border": null,
            "bottom": null,
            "display": null,
            "flex": null,
            "flex_flow": null,
            "grid_area": null,
            "grid_auto_columns": null,
            "grid_auto_flow": null,
            "grid_auto_rows": null,
            "grid_column": null,
            "grid_gap": null,
            "grid_row": null,
            "grid_template_areas": null,
            "grid_template_columns": null,
            "grid_template_rows": null,
            "height": null,
            "justify_content": null,
            "justify_items": null,
            "left": null,
            "margin": null,
            "max_height": null,
            "max_width": null,
            "min_height": null,
            "min_width": null,
            "object_fit": null,
            "object_position": null,
            "order": null,
            "overflow": null,
            "overflow_x": null,
            "overflow_y": null,
            "padding": null,
            "right": null,
            "top": null,
            "visibility": null,
            "width": null
          }
        },
        "8021c71aa80e4fc581acbbb4eaf09e16": {
          "model_module": "@jupyter-widgets/controls",
          "model_name": "ProgressStyleModel",
          "model_module_version": "1.5.0",
          "state": {
            "_model_module": "@jupyter-widgets/controls",
            "_model_module_version": "1.5.0",
            "_model_name": "ProgressStyleModel",
            "_view_count": null,
            "_view_module": "@jupyter-widgets/base",
            "_view_module_version": "1.2.0",
            "_view_name": "StyleView",
            "bar_color": null,
            "description_width": ""
          }
        },
        "060271f43cfd4eccb50168d9efe48cc0": {
          "model_module": "@jupyter-widgets/base",
          "model_name": "LayoutModel",
          "model_module_version": "1.2.0",
          "state": {
            "_model_module": "@jupyter-widgets/base",
            "_model_module_version": "1.2.0",
            "_model_name": "LayoutModel",
            "_view_count": null,
            "_view_module": "@jupyter-widgets/base",
            "_view_module_version": "1.2.0",
            "_view_name": "LayoutView",
            "align_content": null,
            "align_items": null,
            "align_self": null,
            "border": null,
            "bottom": null,
            "display": null,
            "flex": null,
            "flex_flow": null,
            "grid_area": null,
            "grid_auto_columns": null,
            "grid_auto_flow": null,
            "grid_auto_rows": null,
            "grid_column": null,
            "grid_gap": null,
            "grid_row": null,
            "grid_template_areas": null,
            "grid_template_columns": null,
            "grid_template_rows": null,
            "height": null,
            "justify_content": null,
            "justify_items": null,
            "left": null,
            "margin": null,
            "max_height": null,
            "max_width": null,
            "min_height": null,
            "min_width": null,
            "object_fit": null,
            "object_position": null,
            "order": null,
            "overflow": null,
            "overflow_x": null,
            "overflow_y": null,
            "padding": null,
            "right": null,
            "top": null,
            "visibility": null,
            "width": null
          }
        },
        "683eedd23e264b6c956a84fb83cd0ae9": {
          "model_module": "@jupyter-widgets/controls",
          "model_name": "DescriptionStyleModel",
          "model_module_version": "1.5.0",
          "state": {
            "_model_module": "@jupyter-widgets/controls",
            "_model_module_version": "1.5.0",
            "_model_name": "DescriptionStyleModel",
            "_view_count": null,
            "_view_module": "@jupyter-widgets/base",
            "_view_module_version": "1.2.0",
            "_view_name": "StyleView",
            "description_width": ""
          }
        }
      }
    }
  },
  "nbformat": 4,
  "nbformat_minor": 5
}