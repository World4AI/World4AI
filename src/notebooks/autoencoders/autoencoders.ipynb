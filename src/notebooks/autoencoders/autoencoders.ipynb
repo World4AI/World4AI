{
 "cells": [
  {
   "cell_type": "markdown",
   "id": "ac7a6847-d8d3-4809-99dc-54fe872ba9ea",
   "metadata": {},
   "source": [
    "# Autoencoders"
   ]
  },
  {
   "cell_type": "markdown",
   "id": "d82cd076-9ee9-4c8b-884f-a75c200e5939",
   "metadata": {},
   "source": [
    "In this notebook we implement a vanilla autoencoder using the MNIST dataset and PyTorch. "
   ]
  },
  {
   "cell_type": "code",
   "execution_count": 1,
   "id": "963f386d-1a66-4683-91c1-9ef08dd78683",
   "metadata": {},
   "outputs": [],
   "source": [
    "import matplotlib.pyplot as plt\n",
    "\n",
    "import torch\n",
    "import torch.nn as nn\n",
    "import torch.optim as optim\n",
    "from torch.utils.data import DataLoader\n",
    "\n",
    "from torchvision.datasets import MNIST\n",
    "from torchvision import transforms"
   ]
  },
  {
   "cell_type": "code",
   "execution_count": 2,
   "id": "780f01a7-15aa-44e6-99c3-a90977b00820",
   "metadata": {},
   "outputs": [],
   "source": [
    "# hyperparameters\n",
    "BATCH_SIZE = 64\n",
    "LR = 0.0001\n",
    "NUM_EPOCHS = 20\n",
    "DEVICE = torch.device('cuda')"
   ]
  },
  {
   "cell_type": "markdown",
   "id": "088605ba-2c5e-4ca6-af40-e9ede9ebc4f4",
   "metadata": {},
   "source": [
    "We use a single `Module` to for the implementation of the encoder and the decoder. Theoretically we could implment both in a single `Sequential` model, but we would like to keep the encoder and the decoder separately, as this will allow us in a later step to use the decoder to generate new digits. We use the `sigmoid` activation function in the decoder, because our images are scaled between the values 0 and 1 after we use the `ToTensor` transform from torchvision.\n",
    "\n",
    "\n",
    "We start out with images of size 28x28 and compress the information that is contained in the image into a single 10 dimensional vector."
   ]
  },
  {
   "cell_type": "code",
   "execution_count": 3,
   "id": "893f7d26-807b-43f4-9630-4c884db9bac5",
   "metadata": {},
   "outputs": [],
   "source": [
    "class Autoencoder(nn.Module):\n",
    "    def __init__(self):\n",
    "        super().__init__()\n",
    "        \n",
    "        self.encoder = nn.Sequential(\n",
    "            nn.Conv2d(in_channels=1, out_channels=16, kernel_size=3),\n",
    "            nn.ReLU(inplace=True),\n",
    "            nn.Conv2d(in_channels=16, out_channels=32, kernel_size=3),\n",
    "            nn.ReLU(inplace=True),\n",
    "            nn.Conv2d(in_channels=32, out_channels=64, kernel_size=3, stride=2),\n",
    "            nn.ReLU(inplace=True),\n",
    "            nn.Conv2d(in_channels=64, out_channels=64, kernel_size=3, stride=2),\n",
    "            nn.ReLU(inplace=True),\n",
    "            nn.Flatten(),\n",
    "            nn.Linear(in_features=1600, out_features=10)\n",
    "        )\n",
    "        \n",
    "        self.decoder = nn.Sequential(\n",
    "            nn.Linear(in_features=10, out_features=1600),\n",
    "            nn.ReLU(inplace=True),\n",
    "            nn.Unflatten(1, (64, 5, 5)),\n",
    "            nn.ConvTranspose2d(in_channels=64, out_channels=64, kernel_size=3, stride=2),\n",
    "            nn.ReLU(inplace=True),\n",
    "            nn.ConvTranspose2d(in_channels=64, out_channels=32, kernel_size=3, stride=2, output_padding=1),\n",
    "            nn.ReLU(inplace=True),\n",
    "            nn.ConvTranspose2d(in_channels=32, out_channels=16, kernel_size=3),\n",
    "            nn.ReLU(inplace=True),\n",
    "            nn.ConvTranspose2d(in_channels=16, out_channels=1, kernel_size=3),\n",
    "            nn.Sigmoid(),\n",
    "        )\n",
    "    \n",
    "    def forward(self, x):\n",
    "        x = self.encoder(x)\n",
    "        x = self.decoder(x)\n",
    "        return x"
   ]
  },
  {
   "cell_type": "markdown",
   "id": "6bb04ce6-4ea2-4410-aafa-53621c12530e",
   "metadata": {},
   "source": [
    "Our `train` and `track_performance` functions are very similar to those we have implemented in the previous sections. We implement the training loop and evaluate the performance."
   ]
  },
  {
   "cell_type": "code",
   "execution_count": 4,
   "id": "798e27e7-8682-4ce4-8ef6-07dd34a5d940",
   "metadata": {},
   "outputs": [],
   "source": [
    "def train(num_epochs, train_dataloader, val_dataloader, model, criterion, optimizer, scheduler=None):\n",
    "    history = {\"train_loss\": [], \"val_loss\": []}\n",
    "    model.to(DEVICE)\n",
    "    for epoch in range(num_epochs):\n",
    "        model.train()\n",
    "        for batch_idx, (features, _) in enumerate(train_dataloader):\n",
    "            model.train()\n",
    "            features = features.to(DEVICE)\n",
    "            \n",
    "            # Empty the gradients\n",
    "            optimizer.zero_grad()\n",
    "            \n",
    "            # Forward Pass\n",
    "            output = model(features)\n",
    "            \n",
    "            # Calculate Loss\n",
    "            loss = criterion(output, features)\n",
    "            \n",
    "            # Backward Pass\n",
    "            loss.backward()\n",
    "            \n",
    "            # Gradient Descent\n",
    "            optimizer.step()\n",
    "            \n",
    "        train_loss = track_performance(train_dataloader, model, criterion)\n",
    "        val_loss = track_performance(val_dataloader, model, criterion)\n",
    "        \n",
    "        history[\"train_loss\"].append(train_loss)\n",
    "        history[\"val_loss\"].append(val_loss)\n",
    "\n",
    "        print(f'Epoch: {epoch+1:>2}/{num_epochs} | Train Loss: {train_loss:.7f} | Val Loss: {val_loss:.7f}')\n",
    "        \n",
    "        if scheduler:\n",
    "            scheduler.step(val_loss)"
   ]
  },
  {
   "cell_type": "code",
   "execution_count": 5,
   "id": "4e1fad60-8568-440a-b393-ddefaa321744",
   "metadata": {},
   "outputs": [],
   "source": [
    "def track_performance(dataloader, model, criterion):\n",
    "    # switch to evaluation mode\n",
    "    model.eval()\n",
    "    num_samples = 0\n",
    "    loss_sum = 0\n",
    "    \n",
    "    # no need to calculate gradients\n",
    "    with torch.inference_mode():\n",
    "        for batch_idx, (features, _) in enumerate(dataloader):\n",
    "            features = features.to(DEVICE)\n",
    "            output = model(features)\n",
    "            loss = criterion(output, features)\n",
    "            loss_sum += loss.cpu().item()\n",
    "            num_samples += len(features)\n",
    "    \n",
    "    # we return the average loss\n",
    "    return loss_sum/num_samples"
   ]
  },
  {
   "cell_type": "code",
   "execution_count": 6,
   "id": "8f77fac2-4521-4b28-9a5b-304777adcc45",
   "metadata": {},
   "outputs": [],
   "source": [
    "train_dataset = MNIST(root='../datasets/', transform=transforms.ToTensor(), train=True, download=True)\n",
    "val_dataset = MNIST(root='../datasets/', transform=transforms.ToTensor(), train=False, download=False)"
   ]
  },
  {
   "cell_type": "code",
   "execution_count": 7,
   "id": "4a77b839-5e8b-4165-b3eb-92bea19ac723",
   "metadata": {},
   "outputs": [],
   "source": [
    "train_dataloader = DataLoader(dataset=train_dataset, batch_size=BATCH_SIZE, shuffle=True, num_workers=2, drop_last=True)\n",
    "val_dataloader = DataLoader(dataset=val_dataset, batch_size=BATCH_SIZE, shuffle=False, num_workers=2, drop_last=False)"
   ]
  },
  {
   "cell_type": "code",
   "execution_count": 8,
   "id": "72360ba1-7089-444d-8bdf-cbce49079d62",
   "metadata": {},
   "outputs": [],
   "source": [
    "autoencoder = Autoencoder()\n",
    "optimizer = optim.Adam(autoencoder.parameters(), lr=LR)\n",
    "criterion = nn.MSELoss(reduction='mean')"
   ]
  },
  {
   "cell_type": "code",
   "execution_count": 9,
   "id": "ddb46eaf-5cb7-4d93-b53c-b4031ac4d269",
   "metadata": {},
   "outputs": [
    {
     "name": "stdout",
     "output_type": "stream",
     "text": [
      "Epoch:  1/20 | Train Loss: 0.0007112 | Val Loss: 0.0007060\n",
      "Epoch:  2/20 | Train Loss: 0.0004671 | Val Loss: 0.0004614\n",
      "Epoch:  3/20 | Train Loss: 0.0004086 | Val Loss: 0.0004029\n",
      "Epoch:  4/20 | Train Loss: 0.0003847 | Val Loss: 0.0003796\n",
      "Epoch:  5/20 | Train Loss: 0.0003706 | Val Loss: 0.0003664\n",
      "Epoch:  6/20 | Train Loss: 0.0003528 | Val Loss: 0.0003493\n",
      "Epoch:  7/20 | Train Loss: 0.0003435 | Val Loss: 0.0003400\n",
      "Epoch:  8/20 | Train Loss: 0.0003338 | Val Loss: 0.0003310\n",
      "Epoch:  9/20 | Train Loss: 0.0003248 | Val Loss: 0.0003219\n",
      "Epoch: 10/20 | Train Loss: 0.0003177 | Val Loss: 0.0003157\n",
      "Epoch: 11/20 | Train Loss: 0.0003149 | Val Loss: 0.0003125\n",
      "Epoch: 12/20 | Train Loss: 0.0003078 | Val Loss: 0.0003061\n",
      "Epoch: 13/20 | Train Loss: 0.0003045 | Val Loss: 0.0003023\n",
      "Epoch: 14/20 | Train Loss: 0.0002985 | Val Loss: 0.0002973\n",
      "Epoch: 15/20 | Train Loss: 0.0002941 | Val Loss: 0.0002931\n",
      "Epoch: 16/20 | Train Loss: 0.0002906 | Val Loss: 0.0002893\n",
      "Epoch: 17/20 | Train Loss: 0.0002861 | Val Loss: 0.0002851\n",
      "Epoch: 18/20 | Train Loss: 0.0002879 | Val Loss: 0.0002871\n",
      "Epoch: 19/20 | Train Loss: 0.0002813 | Val Loss: 0.0002810\n",
      "Epoch: 20/20 | Train Loss: 0.0002796 | Val Loss: 0.0002796\n"
     ]
    }
   ],
   "source": [
    "train(NUM_EPOCHS, train_dataloader, val_dataloader, autoencoder, criterion, optimizer)"
   ]
  },
  {
   "cell_type": "markdown",
   "id": "d54cb318-dc18-43a7-ae0e-255f3ec09bc1",
   "metadata": {},
   "source": [
    "The results look good, but are somewhat blurry. This is actually quite common for autoencoders, especially considering that we compressed a 28*28 image to a vector of size 10."
   ]
  },
  {
   "cell_type": "code",
   "execution_count": 10,
   "id": "3b19d4ba-8cfd-4da4-b0fe-1fd360be3c15",
   "metadata": {},
   "outputs": [
    {
     "data": {
      "image/png": "[encoded data removed]",
      "text/plain": [
       "<Figure size 1500x400 with 20 Axes>"
      ]
     },
     "metadata": {},
     "output_type": "display_data"
    }
   ],
   "source": [
    "# draw original and reconstructed images\n",
    "batch, _ = next(iter(val_dataloader))\n",
    "batch = batch[:10, ...]\n",
    "fig = plt.figure(figsize=(15, 4))\n",
    "\n",
    "with torch.inference_mode():\n",
    "    for i, img in enumerate(batch):\n",
    "        fig.add_subplot(2, 10, i+1)\n",
    "        orig_img = img.numpy()[0]\n",
    "        plt.imshow(orig_img, cmap=\"gray\")\n",
    "        plt.axis('off')\n",
    "        \n",
    "        fig.add_subplot(2, 10, i+1+10)\n",
    "        img = img.unsqueeze(0).to(DEVICE)\n",
    "        rec_img = autoencoder(img).squeeze().cpu().numpy()\n",
    "        plt.imshow(rec_img, cmap=\"gray\")\n",
    "        plt.axis('off')\n",
    "\n",
    "    plt.show()"
   ]
  }
 ],
 "metadata": {
  "kernelspec": {
   "display_name": "Python 3 (ipykernel)",
   "language": "python",
   "name": "python3"
  },
  "language_info": {
   "codemirror_mode": {
    "name": "ipython",
    "version": 3
   },
   "file_extension": ".py",
   "mimetype": "text/x-python",
   "name": "python",
   "nbconvert_exporter": "python",
   "pygments_lexer": "ipython3",
   "version": "3.10.5"
  }
 },
 "nbformat": 4,
 "nbformat_minor": 5
}
