{
 "cells": [
  {
   "cell_type": "markdown",
   "id": "ac7a6847-d8d3-4809-99dc-54fe872ba9ea",
   "metadata": {},
   "source": [
    "# Variational Autoencoder (VAE)"
   ]
  },
  {
   "cell_type": "code",
   "execution_count": 1,
   "id": "963f386d-1a66-4683-91c1-9ef08dd78683",
   "metadata": {},
   "outputs": [],
   "source": [
    "import matplotlib.pyplot as plt\n",
    "\n",
    "import torch\n",
    "import torch.nn as nn\n",
    "import torch.optim as optim\n",
    "from torch.utils.data import DataLoader\n",
    "from torchvision.datasets import MNIST\n",
    "from torchvision import transforms"
   ]
  },
  {
   "cell_type": "code",
   "execution_count": 2,
   "id": "8f77fac2-4521-4b28-9a5b-304777adcc45",
   "metadata": {},
   "outputs": [],
   "source": [
    "train_dataset = MNIST(root='../datasets/', transform=transforms.ToTensor(), train=True, download=True)\n",
    "val_dataset = MNIST(root='../datasets/', transform=transforms.ToTensor(), train=False, download=False)"
   ]
  },
  {
   "cell_type": "code",
   "execution_count": 3,
   "id": "fb87f78d-6fac-446b-b91f-e31a0b6dc6c8",
   "metadata": {},
   "outputs": [],
   "source": [
    "assert torch.cuda.is_available()"
   ]
  },
  {
   "cell_type": "code",
   "execution_count": 4,
   "id": "4a77b839-5e8b-4165-b3eb-92bea19ac723",
   "metadata": {},
   "outputs": [],
   "source": [
    "# Training Parameters\n",
    "BATCH_SIZE = 64\n",
    "LR = 0.0001\n",
    "NUM_EPOCHS = 30\n",
    "DEVICE = torch.device('cuda')"
   ]
  },
  {
   "cell_type": "code",
   "execution_count": 5,
   "id": "446593d3-d5c4-4a34-a23d-b3b2548c8afb",
   "metadata": {},
   "outputs": [],
   "source": [
    "train_dataloader = DataLoader(dataset=train_dataset, batch_size=BATCH_SIZE, shuffle=True, num_workers=2, drop_last=True)\n",
    "val_dataloader = DataLoader(dataset=val_dataset, batch_size=BATCH_SIZE, shuffle=False, num_workers=2, drop_last=False)"
   ]
  },
  {
   "cell_type": "code",
   "execution_count": 6,
   "id": "893f7d26-807b-43f4-9630-4c884db9bac5",
   "metadata": {},
   "outputs": [],
   "source": [
    "class VAE(nn.Module):\n",
    "    def __init__(self, num_latent):\n",
    "        super().__init__()\n",
    "        \n",
    "        self.encoder = nn.Sequential(\n",
    "            nn.Conv2d(in_channels=1, out_channels=16, kernel_size=3),\n",
    "            nn.ReLU(inplace=True),\n",
    "            nn.Conv2d(in_channels=16, out_channels=32, kernel_size=3),\n",
    "            nn.ReLU(inplace=True),\n",
    "            nn.Conv2d(in_channels=32, out_channels=64, kernel_size=3, stride=2),\n",
    "            nn.ReLU(inplace=True),\n",
    "            nn.Conv2d(in_channels=64, out_channels=64, kernel_size=3, stride=2),\n",
    "            nn.ReLU(inplace=True),\n",
    "            nn.Flatten(),\n",
    "        )\n",
    "        \n",
    "        self.mu = nn.Linear(in_features=1600, out_features=num_latent)\n",
    "        self.log_var = nn.Linear(in_features=1600, out_features=num_latent)\n",
    "        \n",
    "        self.decoder = nn.Sequential(\n",
    "            nn.Linear(in_features=num_latent, out_features=1600),\n",
    "            nn.Unflatten(1, (64, 5, 5)),\n",
    "            nn.ConvTranspose2d(in_channels=64, out_channels=64, kernel_size=3, stride=2),\n",
    "            nn.ReLU(inplace=True),\n",
    "            nn.ConvTranspose2d(in_channels=64, out_channels=32, kernel_size=3, stride=2, output_padding=1),\n",
    "            nn.ReLU(inplace=True),\n",
    "            nn.ConvTranspose2d(in_channels=32, out_channels=16, kernel_size=3),\n",
    "            nn.ReLU(inplace=True),\n",
    "            nn.ConvTranspose2d(in_channels=16, out_channels=1, kernel_size=3),\n",
    "            nn.Sigmoid(),\n",
    "        )\n",
    "    \n",
    "    def forward(self, x):\n",
    "        x = self.encoder(x)\n",
    "        mu, sigma = self.mu(x), torch.exp(self.log_var(x) / 2)\n",
    "        epsilon = torch.randn_like(mu, device=DEVICE)\n",
    "        x = mu + sigma * epsilon\n",
    "        x = self.decoder(x)\n",
    "        return x, mu, sigma"
   ]
  },
  {
   "cell_type": "code",
   "execution_count": 7,
   "id": "8ad8f792-c9e0-4f86-b083-793e0805ec89",
   "metadata": {},
   "outputs": [
    {
     "name": "stdout",
     "output_type": "stream",
     "text": [
      "torch.Size([64, 1, 28, 28])\n",
      "torch.Size([64, 1, 28, 28]) torch.Size([64, 20]) torch.Size([64, 20])\n"
     ]
    }
   ],
   "source": [
    "# test input and output shapes\n",
    "vae = VAE(20).to(DEVICE)\n",
    "batch, _ = next(iter(train_dataloader))\n",
    "batch = batch.to(DEVICE)\n",
    "print(batch.shape)\n",
    "x, mu, sigma = vae(batch)\n",
    "print(x.shape, mu.shape, sigma.shape)"
   ]
  },
  {
   "cell_type": "code",
   "execution_count": 8,
   "id": "798e27e7-8682-4ce4-8ef6-07dd34a5d940",
   "metadata": {},
   "outputs": [],
   "source": [
    "def train(num_epochs, train_dataloader, model, criterion, optimizer):\n",
    "    history = {\"reconstruction_loss\": [], \"kl_loss\": [], \"full_loss\": []}\n",
    "    model.to(DEVICE)\n",
    "    for epoch in range(num_epochs):\n",
    "        num_batches = 0\n",
    "        history[\"reconstruction_loss\"] = []\n",
    "        history[\"kl_loss\"] = []\n",
    "        history[\"full_loss\"] = []\n",
    "\n",
    "        for batch_idx, (features, _) in enumerate(train_dataloader):\n",
    "            model.train()\n",
    "            num_batches+=1\n",
    "            \n",
    "            features = features.to(DEVICE)\n",
    "            \n",
    "            # Forward Pass\n",
    "            output, mu, sigma = model(features)\n",
    "            \n",
    "            # Calculate Loss\n",
    "            \n",
    "            #RECONSTRUCTION LOSS\n",
    "            reconstruction_loss = criterion(output, features)\n",
    "            reconstruction_loss = reconstruction_loss.sum((1,2,3))\n",
    "            reconstruction_loss = reconstruction_loss.mean()\n",
    "            \n",
    "            history[\"reconstruction_loss\"].append(reconstruction_loss.cpu().item())\n",
    "            \n",
    "            #KL LOSS\n",
    "            kl_loss = -0.5 * (1+ (sigma**2).log() - mu**2 - sigma**2).sum(dim=1)\n",
    "            kl_loss = kl_loss.mean()\n",
    "            \n",
    "            history[\"kl_loss\"].append(kl_loss.cpu().item())\n",
    "\n",
    "            # FULL LOSS\n",
    "            loss = reconstruction_loss + kl_loss\n",
    "            \n",
    "            history[\"full_loss\"].append(loss.cpu().item())\n",
    "\n",
    "\n",
    "            optimizer.zero_grad()\n",
    "            loss.backward()\n",
    "            optimizer.step()\n",
    "            \n",
    "        reconstruction_loss, kl_loss, full_loss = sum(history[\"reconstruction_loss\"])/num_batches, \\\n",
    "                                                 sum(history[\"kl_loss\"])/num_batches, \\\n",
    "                                                 sum(history[\"full_loss\"])/num_batches\n",
    "\n",
    "        print(f'Epoch: {epoch+1:>2}/{num_epochs} | Reconstruction Loss: {reconstruction_loss:.5f} | KL Loss: {kl_loss:.5f} | Full Loss: {full_loss:.5f}')\n",
    "        \n",
    "    return history          \n"
   ]
  },
  {
   "cell_type": "code",
   "execution_count": 9,
   "id": "203b7654-e8dc-401f-b7a6-3af1a7277087",
   "metadata": {},
   "outputs": [],
   "source": [
    "vae = VAE(20)\n",
    "optimizer = optim.Adam(vae.parameters(), lr=LR)\n",
    "criterion = nn.MSELoss(reduction='none')"
   ]
  },
  {
   "cell_type": "code",
   "execution_count": 10,
   "id": "ddb46eaf-5cb7-4d93-b53c-b4031ac4d269",
   "metadata": {},
   "outputs": [
    {
     "name": "stdout",
     "output_type": "stream",
     "text": [
      "Epoch:  1/30 | Reconstruction Loss: 71.65979 | KL Loss: 6.99413 | Full Loss: 78.65392\n",
      "Epoch:  2/30 | Reconstruction Loss: 29.89784 | KL Loss: 11.75538 | Full Loss: 41.65322\n",
      "Epoch:  3/30 | Reconstruction Loss: 23.30119 | KL Loss: 12.44067 | Full Loss: 35.74187\n",
      "Epoch:  4/30 | Reconstruction Loss: 21.45647 | KL Loss: 12.49721 | Full Loss: 33.95368\n",
      "Epoch:  5/30 | Reconstruction Loss: 20.46174 | KL Loss: 12.57142 | Full Loss: 33.03316\n",
      "Epoch:  6/30 | Reconstruction Loss: 19.83186 | KL Loss: 12.62228 | Full Loss: 32.45414\n",
      "Epoch:  7/30 | Reconstruction Loss: 19.34268 | KL Loss: 12.67719 | Full Loss: 32.01987\n",
      "Epoch:  8/30 | Reconstruction Loss: 18.97952 | KL Loss: 12.71279 | Full Loss: 31.69231\n",
      "Epoch:  9/30 | Reconstruction Loss: 18.68716 | KL Loss: 12.75092 | Full Loss: 31.43808\n",
      "Epoch: 10/30 | Reconstruction Loss: 18.43620 | KL Loss: 12.78319 | Full Loss: 31.21938\n",
      "Epoch: 11/30 | Reconstruction Loss: 18.23710 | KL Loss: 12.81677 | Full Loss: 31.05387\n",
      "Epoch: 12/30 | Reconstruction Loss: 18.05697 | KL Loss: 12.81895 | Full Loss: 30.87592\n",
      "Epoch: 13/30 | Reconstruction Loss: 17.89385 | KL Loss: 12.83244 | Full Loss: 30.72630\n",
      "Epoch: 14/30 | Reconstruction Loss: 17.77590 | KL Loss: 12.82682 | Full Loss: 30.60272\n",
      "Epoch: 15/30 | Reconstruction Loss: 17.66580 | KL Loss: 12.84301 | Full Loss: 30.50881\n",
      "Epoch: 16/30 | Reconstruction Loss: 17.51321 | KL Loss: 12.85186 | Full Loss: 30.36507\n",
      "Epoch: 17/30 | Reconstruction Loss: 17.40210 | KL Loss: 12.85846 | Full Loss: 30.26056\n",
      "Epoch: 18/30 | Reconstruction Loss: 17.31759 | KL Loss: 12.85578 | Full Loss: 30.17337\n",
      "Epoch: 19/30 | Reconstruction Loss: 17.23140 | KL Loss: 12.84911 | Full Loss: 30.08051\n",
      "Epoch: 20/30 | Reconstruction Loss: 17.14009 | KL Loss: 12.86661 | Full Loss: 30.00669\n",
      "Epoch: 21/30 | Reconstruction Loss: 17.06575 | KL Loss: 12.82938 | Full Loss: 29.89512\n",
      "Epoch: 22/30 | Reconstruction Loss: 16.97371 | KL Loss: 12.87299 | Full Loss: 29.84670\n",
      "Epoch: 23/30 | Reconstruction Loss: 16.92334 | KL Loss: 12.86035 | Full Loss: 29.78369\n",
      "Epoch: 24/30 | Reconstruction Loss: 16.84315 | KL Loss: 12.88409 | Full Loss: 29.72725\n",
      "Epoch: 25/30 | Reconstruction Loss: 16.75783 | KL Loss: 12.86981 | Full Loss: 29.62764\n",
      "Epoch: 26/30 | Reconstruction Loss: 16.69887 | KL Loss: 12.85657 | Full Loss: 29.55544\n",
      "Epoch: 27/30 | Reconstruction Loss: 16.63485 | KL Loss: 12.85546 | Full Loss: 29.49031\n",
      "Epoch: 28/30 | Reconstruction Loss: 16.58568 | KL Loss: 12.87127 | Full Loss: 29.45696\n",
      "Epoch: 29/30 | Reconstruction Loss: 16.51802 | KL Loss: 12.86733 | Full Loss: 29.38535\n",
      "Epoch: 30/30 | Reconstruction Loss: 16.44973 | KL Loss: 12.87984 | Full Loss: 29.32957\n"
     ]
    }
   ],
   "source": [
    "history = train(NUM_EPOCHS, train_dataloader, vae, criterion, optimizer)"
   ]
  },
  {
   "cell_type": "code",
   "execution_count": 11,
   "id": "3b19d4ba-8cfd-4da4-b0fe-1fd360be3c15",
   "metadata": {},
   "outputs": [
    {
     "data": {
      "image/png": "[encoded data removed]",
      "text/plain": [
       "<Figure size 1500x400 with 20 Axes>"
      ]
     },
     "metadata": {},
     "output_type": "display_data"
    }
   ],
   "source": [
    "# draw original and reconstructed images\n",
    "batch, _ = next(iter(val_dataloader))\n",
    "batch = batch[:10, ...]\n",
    "fig = plt.figure(figsize=(15, 4))\n",
    "\n",
    "with torch.inference_mode():\n",
    "    for i, img in enumerate(batch):\n",
    "        fig.add_subplot(2, 10, i+1)\n",
    "        orig_img = img.numpy()[0]\n",
    "        plt.imshow(orig_img, cmap=\"gray\")\n",
    "        plt.axis('off')\n",
    "        \n",
    "        fig.add_subplot(2, 10, i+1+10)\n",
    "        img = img.unsqueeze(0).to(DEVICE)\n",
    "        rec_img, _, _ = vae(img)\n",
    "        rec_img = rec_img.squeeze().cpu().numpy()\n",
    "        plt.imshow(rec_img, cmap=\"gray\")\n",
    "        plt.axis('off')\n",
    "\n",
    "    plt.show()"
   ]
  }
 ],
 "metadata": {
  "kernelspec": {
   "display_name": "Python 3 (ipykernel)",
   "language": "python",
   "name": "python3"
  },
  "language_info": {
   "codemirror_mode": {
    "name": "ipython",
    "version": 3
   },
   "file_extension": ".py",
   "mimetype": "text/x-python",
   "name": "python",
   "nbconvert_exporter": "python",
   "pygments_lexer": "ipython3",
   "version": "3.10.5"
  }
 },
 "nbformat": 4,
 "nbformat_minor": 5
}
