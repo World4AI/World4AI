{
 "cells": [
  {
   "cell_type": "markdown",
   "id": "ac7a6847-d8d3-4809-99dc-54fe872ba9ea",
   "metadata": {},
   "source": [
    "# Autoencoder"
   ]
  },
  {
   "cell_type": "code",
   "execution_count": 131,
   "id": "963f386d-1a66-4683-91c1-9ef08dd78683",
   "metadata": {},
   "outputs": [],
   "source": [
    "import matplotlib.pyplot as plt\n",
    "\n",
    "import torch\n",
    "import torch.nn as nn\n",
    "import torch.optim as optim\n",
    "from torch.utils.data import DataLoader\n",
    "from torchvision.datasets import MNIST\n",
    "from torchvision import transforms"
   ]
  },
  {
   "cell_type": "code",
   "execution_count": 41,
   "id": "8f77fac2-4521-4b28-9a5b-304777adcc45",
   "metadata": {},
   "outputs": [],
   "source": [
    "train_dataset = MNIST(root='../datasets/', transform=transforms.ToTensor(), train=True, download=True)\n",
    "val_dataset = MNIST(root='../datasets/', transform=transforms.ToTensor(), train=False, download=False)"
   ]
  },
  {
   "cell_type": "code",
   "execution_count": 42,
   "id": "4a77b839-5e8b-4165-b3eb-92bea19ac723",
   "metadata": {},
   "outputs": [],
   "source": [
    "BATCH_SIZE = 64\n",
    "train_dataloader = DataLoader(dataset=train_dataset, batch_size=BATCH_SIZE, shuffle=True, num_workers=2, drop_last=True)\n",
    "val_dataloader = DataLoader(dataset=val_dataset, batch_size=BATCH_SIZE, shuffle=False, num_workers=2, drop_last=False)"
   ]
  },
  {
   "cell_type": "code",
   "execution_count": 169,
   "id": "893f7d26-807b-43f4-9630-4c884db9bac5",
   "metadata": {},
   "outputs": [],
   "source": [
    "class Autoencoder(nn.Module):\n",
    "    def __init__(self):\n",
    "        super().__init__()\n",
    "        \n",
    "        self.encoder = nn.Sequential(\n",
    "            nn.Conv2d(in_channels=1, out_channels=16, kernel_size=3),\n",
    "            nn.ReLU(inplace=True),\n",
    "            nn.Conv2d(in_channels=16, out_channels=32, kernel_size=3),\n",
    "            nn.ReLU(inplace=True),\n",
    "            nn.Conv2d(in_channels=32, out_channels=64, kernel_size=3, stride=2),\n",
    "            nn.ReLU(inplace=True),\n",
    "            nn.Conv2d(in_channels=64, out_channels=64, kernel_size=3, stride=2),\n",
    "            nn.ReLU(inplace=True),\n",
    "            nn.Flatten(),\n",
    "            nn.Linear(in_features=1600, out_features=10)\n",
    "        )\n",
    "        \n",
    "        self.decoder = nn.Sequential(\n",
    "            nn.Linear(in_features=10, out_features=1600),\n",
    "            nn.ReLU(inplace=True),\n",
    "            nn.Unflatten(1, (64, 5, 5)),\n",
    "            nn.ConvTranspose2d(in_channels=64, out_channels=64, kernel_size=3, stride=2),\n",
    "            nn.ReLU(inplace=True),\n",
    "            nn.ConvTranspose2d(in_channels=64, out_channels=32, kernel_size=3, stride=2, output_padding=1),\n",
    "            nn.ReLU(inplace=True),\n",
    "            nn.ConvTranspose2d(in_channels=32, out_channels=16, kernel_size=3),\n",
    "            nn.ReLU(inplace=True),\n",
    "            nn.ConvTranspose2d(in_channels=16, out_channels=1, kernel_size=3),\n",
    "            nn.Sigmoid(),\n",
    "        )\n",
    "    \n",
    "    def forward(self, x):\n",
    "        x = self.encoder(x)\n",
    "        x = self.decoder(x)\n",
    "        return x"
   ]
  },
  {
   "cell_type": "code",
   "execution_count": 170,
   "id": "8ad8f792-c9e0-4f86-b083-793e0805ec89",
   "metadata": {},
   "outputs": [
    {
     "name": "stdout",
     "output_type": "stream",
     "text": [
      "torch.Size([64, 1, 28, 28])\n",
      "torch.Size([64, 1, 28, 28])\n"
     ]
    }
   ],
   "source": [
    "# test input and output shapes\n",
    "autoencoder = Autoencoder()\n",
    "batch, _ = next(iter(train_dataloader))\n",
    "print(batch.shape)\n",
    "test = autoencoder(batch)\n",
    "print(test.shape)"
   ]
  },
  {
   "cell_type": "code",
   "execution_count": 171,
   "id": "4e1fad60-8568-440a-b393-ddefaa321744",
   "metadata": {},
   "outputs": [],
   "source": [
    "def track_performance(dataloader, model, criterion):\n",
    "    # switch to evaluation mode\n",
    "    model.eval()\n",
    "    num_samples = 0\n",
    "    loss_sum = 0\n",
    "    \n",
    "    # no need to calculate gradients\n",
    "    with torch.inference_mode():\n",
    "        for batch_idx, (features, _) in enumerate(dataloader):\n",
    "            features = features.to(DEVICE)\n",
    "            output = model(features)\n",
    "            loss = criterion(output, features)\n",
    "            loss_sum += loss.cpu().item()\n",
    "            num_samples += len(features)\n",
    "    \n",
    "    # we return the average loss\n",
    "    return loss_sum/num_samples"
   ]
  },
  {
   "cell_type": "code",
   "execution_count": 172,
   "id": "798e27e7-8682-4ce4-8ef6-07dd34a5d940",
   "metadata": {},
   "outputs": [],
   "source": [
    "def train(num_epochs, train_dataloader, val_dataloader, model, criterion, optimizer, scheduler=None):\n",
    "    history = {\"train_loss\": [], \"val_loss\": []}\n",
    "    model.to(DEVICE)\n",
    "    for epoch in range(num_epochs):\n",
    "        for batch_idx, (features, _) in enumerate(train_dataloader):\n",
    "            model.train()\n",
    "            features = features.to(DEVICE)\n",
    "            \n",
    "            # Empty the gradients\n",
    "            optimizer.zero_grad()\n",
    "            \n",
    "            # Forward Pass\n",
    "            output = model(features)\n",
    "            \n",
    "            # Calculate Loss\n",
    "            loss = criterion(output, features)\n",
    "            \n",
    "            # Backward Pass\n",
    "            loss.backward()\n",
    "            \n",
    "            # Gradient Descent\n",
    "            optimizer.step()\n",
    "            \n",
    "        train_loss = track_performance(train_dataloader, model, criterion)\n",
    "        val_loss = track_performance(val_dataloader, model, criterion)\n",
    "        \n",
    "        history[\"train_loss\"].append(train_loss)\n",
    "        history[\"val_loss\"].append(val_loss)\n",
    "\n",
    "        print(f'Epoch: {epoch+1:>2}/{num_epochs} | Train Loss: {train_loss:.5f} | Val Loss: {val_loss:.5f}')\n",
    "        \n",
    "        if scheduler:\n",
    "          scheduler.step(val_loss)\n",
    "    return history          \n"
   ]
  },
  {
   "cell_type": "code",
   "execution_count": 174,
   "id": "ae862d56-bfa8-4f77-aee7-e5c59d658685",
   "metadata": {},
   "outputs": [],
   "source": [
    "LR = 0.0001\n",
    "NUM_EPOCHS = 20\n",
    "DEVICE = torch.device('cuda')"
   ]
  },
  {
   "cell_type": "code",
   "execution_count": 175,
   "id": "414fc569-ba69-42e5-a33d-13c3c6e8d732",
   "metadata": {},
   "outputs": [],
   "source": [
    "autoencoder = Autoencoder()\n",
    "optimizer = optim.Adam(autoencoder.parameters(), lr=LR)\n",
    "criterion = nn.MSELoss(reduction='mean')\n",
    "scheduler = torch.optim.lr_scheduler.ReduceLROnPlateau(optimizer,\n",
    "                                                       factor=0.1,\n",
    "                                                       mode='min',\n",
    "                                                       patience=2,\n",
    "                                                       verbose=True)"
   ]
  },
  {
   "cell_type": "code",
   "execution_count": 176,
   "id": "ddb46eaf-5cb7-4d93-b53c-b4031ac4d269",
   "metadata": {},
   "outputs": [
    {
     "name": "stdout",
     "output_type": "stream",
     "text": [
      "Epoch:  1/20 | Train Loss: 0.00061 | Val Loss: 0.00061\n",
      "Epoch:  2/20 | Train Loss: 0.00041 | Val Loss: 0.00040\n",
      "Epoch:  3/20 | Train Loss: 0.00036 | Val Loss: 0.00035\n",
      "Epoch:  4/20 | Train Loss: 0.00034 | Val Loss: 0.00034\n",
      "Epoch:  5/20 | Train Loss: 0.00032 | Val Loss: 0.00032\n",
      "Epoch:  6/20 | Train Loss: 0.00031 | Val Loss: 0.00031\n",
      "Epoch:  7/20 | Train Loss: 0.00030 | Val Loss: 0.00030\n",
      "Epoch:  8/20 | Train Loss: 0.00029 | Val Loss: 0.00029\n",
      "Epoch:  9/20 | Train Loss: 0.00029 | Val Loss: 0.00028\n",
      "Epoch: 10/20 | Train Loss: 0.00028 | Val Loss: 0.00028\n",
      "Epoch: 11/20 | Train Loss: 0.00028 | Val Loss: 0.00027\n",
      "Epoch: 12/20 | Train Loss: 0.00027 | Val Loss: 0.00027\n",
      "Epoch: 13/20 | Train Loss: 0.00027 | Val Loss: 0.00027\n",
      "Epoch: 14/20 | Train Loss: 0.00026 | Val Loss: 0.00026\n",
      "Epoch: 15/20 | Train Loss: 0.00026 | Val Loss: 0.00026\n",
      "Epoch: 16/20 | Train Loss: 0.00026 | Val Loss: 0.00026\n",
      "Epoch: 17/20 | Train Loss: 0.00025 | Val Loss: 0.00025\n",
      "Epoch: 18/20 | Train Loss: 0.00025 | Val Loss: 0.00025\n",
      "Epoch: 19/20 | Train Loss: 0.00025 | Val Loss: 0.00025\n",
      "Epoch: 20/20 | Train Loss: 0.00025 | Val Loss: 0.00025\n"
     ]
    }
   ],
   "source": [
    "history = train(NUM_EPOCHS, train_dataloader, val_dataloader, autoencoder, criterion, optimizer, scheduler)"
   ]
  },
  {
   "cell_type": "code",
   "execution_count": 177,
   "id": "3b19d4ba-8cfd-4da4-b0fe-1fd360be3c15",
   "metadata": {},
   "outputs": [
    {
     "data": {
      "image/png": "[encoded data removed]",
      "text/plain": [
       "<Figure size 1500x400 with 20 Axes>"
      ]
     },
     "metadata": {},
     "output_type": "display_data"
    }
   ],
   "source": [
    "# draw original and reconstructed images\n",
    "batch, _ = next(iter(val_dataloader))\n",
    "batch = batch[:10, ...]\n",
    "fig = plt.figure(figsize=(15, 4))\n",
    "\n",
    "with torch.inference_mode():\n",
    "    for i, img in enumerate(batch):\n",
    "        fig.add_subplot(2, 10, i+1)\n",
    "        orig_img = img.numpy()[0]\n",
    "        plt.imshow(orig_img, cmap=\"gray\")\n",
    "        plt.axis('off')\n",
    "        \n",
    "        fig.add_subplot(2, 10, i+1+10)\n",
    "        img = img.unsqueeze(0).to(DEVICE)\n",
    "        rec_img = autoencoder(img).squeeze().cpu().numpy()\n",
    "        plt.imshow(rec_img, cmap=\"gray\")\n",
    "        plt.axis('off')\n",
    "\n",
    "    plt.show()"
   ]
  },
  {
   "cell_type": "code",
   "execution_count": 208,
   "id": "8f7cb1ef-4138-44f6-9c1c-8616320393d8",
   "metadata": {},
   "outputs": [],
   "source": [
    "# create average for the number 0\n",
    "latent_vars = []\n",
    "with torch.inference_mode():\n",
    "    for i, (features, labels) in enumerate(train_dataloader):\n",
    "        mask = labels==0\n",
    "        if mask.sum() > 0:\n",
    "            features = features[mask]\n",
    "            latent = autoencoder.encoder(features.to(DEVICE))\n",
    "            latent_vars.append(latent)\n",
    "        \n",
    "    latent_vars = torch.cat(latent_vars, dim=0)\n",
    "    avg_latent_var = latent_vars.mean(dim=0, keepdim=True)  \n",
    "    img = autoencoder.decoder(avg_latent_var)"
   ]
  },
  {
   "cell_type": "code",
   "execution_count": 209,
   "id": "28a3cb88-ae17-4049-8f92-7dfa1c10e283",
   "metadata": {},
   "outputs": [
    {
     "data": {
      "text/plain": [
       "<matplotlib.image.AxesImage at 0x7f30d30e6f80>"
      ]
     },
     "execution_count": 209,
     "metadata": {},
     "output_type": "execute_result"
    },
    {
     "data": {
      "image/png": "[encoded data removed]",
      "text/plain": [
       "<Figure size 640x480 with 1 Axes>"
      ]
     },
     "metadata": {},
     "output_type": "display_data"
    }
   ],
   "source": [
    "# draw a 0 that corresponds to an average latent space\n",
    "img = img.squeeze().cpu().numpy()\n",
    "plt.imshow(img, cmap=\"gray\")"
   ]
  },
  {
   "cell_type": "code",
   "execution_count": null,
   "id": "25dfe150-a62e-418b-9217-8b4abb7283f4",
   "metadata": {},
   "outputs": [],
   "source": []
  }
 ],
 "metadata": {
  "kernelspec": {
   "display_name": "Python 3 (ipykernel)",
   "language": "python",
   "name": "python3"
  },
  "language_info": {
   "codemirror_mode": {
    "name": "ipython",
    "version": 3
   },
   "file_extension": ".py",
   "mimetype": "text/x-python",
   "name": "python",
   "nbconvert_exporter": "python",
   "pygments_lexer": "ipython3",
   "version": "3.10.5"
  }
 },
 "nbformat": 4,
 "nbformat_minor": 5
}
