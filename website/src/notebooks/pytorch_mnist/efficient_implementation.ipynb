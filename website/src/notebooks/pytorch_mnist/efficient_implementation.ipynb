{
 "cells": [
  {
   "cell_type": "markdown",
   "id": "3dc3d661-3568-4e4a-bc5b-875bd27a64ef",
   "metadata": {},
   "source": [
    "# MNIST Efficient Implementation"
   ]
  },
  {
   "cell_type": "code",
   "execution_count": 36,
   "id": "26308ea4-c2ce-4021-ad91-a59ab42c3368",
   "metadata": {},
   "outputs": [],
   "source": [
    "import torch\n",
    "import torch.nn as nn\n",
    "import torch.optim as optim\n",
    "from torch.utils.data import DataLoader\n",
    "from torchvision.datasets import MNIST\n",
    "from torchvision import transforms"
   ]
  },
  {
   "cell_type": "code",
   "execution_count": 9,
   "id": "2e64b34c-a31f-457e-a955-81f61fb5da32",
   "metadata": {},
   "outputs": [],
   "source": [
    "train_dataset = MNIST(root=\"../datasets\", train=True, download=True, transform=transforms.ToTensor())\n",
    "test_dataset = MNIST(root=\"../datasets\", train=False, download=False, transform=transforms.ToTensor())"
   ]
  },
  {
   "cell_type": "code",
   "execution_count": 22,
   "id": "aa481f5c-5efe-4fcd-9898-e89f32eb552f",
   "metadata": {},
   "outputs": [],
   "source": [
    "# parameters\n",
    "DEVICE = (\"cuda:0\" if torch.cuda.is_available() else \"cpu\")\n",
    "NUM_EPOCHS=10\n",
    "BATCH_SIZE=32\n",
    "\n",
    "\n",
    "NUM_LABELS = 10\n",
    "NUM_FEATURES = 28*28\n",
    "HIDDEN_SIZE_1 = 100\n",
    "HIDDEN_SIZE_2 = 50\n",
    "ALPHA = 0.01"
   ]
  },
  {
   "cell_type": "code",
   "execution_count": 11,
   "id": "951c2d8d-8175-4129-ba8c-664f88d6f172",
   "metadata": {},
   "outputs": [
    {
     "name": "stdout",
     "output_type": "stream",
     "text": [
      "cuda:0\n"
     ]
    }
   ],
   "source": [
    "print(DEVICE)"
   ]
  },
  {
   "cell_type": "code",
   "execution_count": 12,
   "id": "24f6ed49-b481-4f9b-be60-e57f6c58554c",
   "metadata": {},
   "outputs": [],
   "source": [
    "train_dataloader = DataLoader(dataset=train_dataset, \n",
    "                              batch_size=BATCH_SIZE,\n",
    "                              shuffle=True,\n",
    "                              drop_last=True,\n",
    "                              num_workers=4)\n",
    "\n",
    "test_dataloader = DataLoader(dataset=test_dataset, \n",
    "                              batch_size=BATCH_SIZE,\n",
    "                              shuffle=True,\n",
    "                              drop_last=True,\n",
    "                              num_workers=4)"
   ]
  },
  {
   "cell_type": "code",
   "execution_count": 30,
   "id": "1b7da8cd-c853-4cd2-ba15-804a4873a42a",
   "metadata": {},
   "outputs": [],
   "source": [
    "class Model(nn.Module):\n",
    "    def __init__(self):\n",
    "        super().__init__()\n",
    "        self.layers = nn.Sequential(\n",
    "                nn.Linear(NUM_FEATURES, HIDDEN_SIZE_1),\n",
    "                nn.Sigmoid(),\n",
    "                nn.Linear(HIDDEN_SIZE_1, HIDDEN_SIZE_2),\n",
    "                nn.Sigmoid(),\n",
    "                nn.Linear(HIDDEN_SIZE_2, NUM_LABELS),\n",
    "                nn.LogSoftmax()\n",
    "            )\n",
    "    \n",
    "    def forward(self, X):\n",
    "        return self.layers(X)"
   ]
  },
  {
   "cell_type": "code",
   "execution_count": 41,
   "id": "175657b3-b0af-4dcb-b96d-51a2ddb8fca3",
   "metadata": {},
   "outputs": [],
   "source": [
    "model = Model().to(DEVICE)\n",
    "criterion = nn.NLLLoss()\n",
    "optimizer = optim.SGD(model.parameters(), lr=ALPHA)"
   ]
  },
  {
   "cell_type": "code",
   "execution_count": 47,
   "id": "4e7ba111-6d82-4ccc-9f9e-8d7cde602314",
   "metadata": {},
   "outputs": [
    {
     "name": "stdout",
     "output_type": "stream",
     "text": [
      "Epoch: 1 Loss: 2.297351121902466\n",
      "Epoch: 2 Loss: 2.2781248092651367\n",
      "Epoch: 3 Loss: 2.213277578353882\n",
      "Epoch: 4 Loss: 1.9112988710403442\n",
      "Epoch: 5 Loss: 1.434522032737732\n",
      "Epoch: 6 Loss: 1.104828119277954\n",
      "Epoch: 7 Loss: 0.8919216990470886\n",
      "Epoch: 8 Loss: 0.7575297951698303\n",
      "Epoch: 9 Loss: 0.6585543155670166\n",
      "Epoch: 10 Loss: 0.584967851638794\n"
     ]
    }
   ],
   "source": [
    "for epoch in range(NUM_EPOCHS):\n",
    "    loss_sum = 0\n",
    "    batch_nums = 0\n",
    "    for batch_idx, (features, labels) in enumerate(train_dataloader):\n",
    "        # reshape features and move to gpu\n",
    "        features = features.view(-1, NUM_FEATURES).to(DEVICE)\n",
    "        # move label to GPU\n",
    "        labels = labels.to(DEVICE)\n",
    "                \n",
    "        # ------ FORWARD PASS --------\n",
    "        # first linear transformation\n",
    "        probs = model(features)\n",
    "\n",
    "        # ------CALCULATE LOSS --------\n",
    "        #cross-entropy loss\n",
    "        loss = criterion(probs, labels)\n",
    "\n",
    "        # ------BACKPROPAGATION --------\n",
    "        loss.backward()\n",
    "\n",
    "        # ------GRADIENT DESCENT --------\n",
    "        optimizer.step()\n",
    "\n",
    "        # ------CLEAR GRADIENTS --------\n",
    "        optimizer.zero_grad()\n",
    "        \n",
    "        # ------TRACK LOSS --------\n",
    "        batch_nums += 1\n",
    "        loss_sum += loss.detach().cpu()\n",
    "    \n",
    "    print(f'Epoch: {epoch+1} Loss: {loss_sum / batch_nums}')"
   ]
  },
  {
   "cell_type": "code",
   "execution_count": 48,
   "id": "3b7e456c-db25-41a4-9a9b-d6637386fb01",
   "metadata": {},
   "outputs": [
    {
     "name": "stdout",
     "output_type": "stream",
     "text": [
      "0.8500600961538461\n"
     ]
    }
   ],
   "source": [
    "# test acccuracy\n",
    "num_samples = 0\n",
    "num_correct = 0\n",
    "for batch_idx, (features, labels) in enumerate(test_dataloader):\n",
    "    with torch.inference_mode():\n",
    "        features = features.view(-1, NUM_FEATURES).to(DEVICE)\n",
    "        labels = labels.to(DEVICE) \n",
    "        # ------ FORWARD PASS --------\n",
    "        # first linear transformation\n",
    "        probs = model(features)\n",
    "        \n",
    "        predictions = probs.argmax(dim=1)\n",
    "        num_samples+=len(features)\n",
    "        num_correct+=(labels == predictions).sum().detach().cpu().item()\n",
    "        \n",
    "accuracy = num_correct / num_samples\n",
    "print(accuracy)"
   ]
  }
 ],
 "metadata": {
  "kernelspec": {
   "display_name": "Python 3 (ipykernel)",
   "language": "python",
   "name": "python3"
  },
  "language_info": {
   "codemirror_mode": {
    "name": "ipython",
    "version": 3
   },
   "file_extension": ".py",
   "mimetype": "text/x-python",
   "name": "python",
   "nbconvert_exporter": "python",
   "pygments_lexer": "ipython3",
   "version": "3.10.4"
  }
 },
 "nbformat": 4,
 "nbformat_minor": 5
}
