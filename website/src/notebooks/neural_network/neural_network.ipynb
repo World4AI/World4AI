{
 "cells": [
  {
   "cell_type": "markdown",
   "id": "d71e59e2-02a6-46c4-861f-6383d250150e",
   "metadata": {},
   "source": [
    "# Neural Network"
   ]
  },
  {
   "cell_type": "code",
   "execution_count": 1,
   "id": "c9f1f807-b9be-4ee3-9560-7c43e7b195b6",
   "metadata": {
    "tags": []
   },
   "outputs": [],
   "source": [
    "import numpy as np\n",
    "import matplotlib.pyplot as plt"
   ]
  },
  {
   "cell_type": "markdown",
   "id": "feeb2e37-2c24-4ae4-93fa-24ff40da2a26",
   "metadata": {},
   "source": [
    "In this chapter we are going to implement a neural network from scratch using only numpy."
   ]
  },
  {
   "cell_type": "code",
   "execution_count": 2,
   "id": "3686f580-9d9f-47b3-b5fd-088b86f81736",
   "metadata": {
    "tags": []
   },
   "outputs": [],
   "source": [
    "# create circular data\n",
    "def circular_data():\n",
    "    radii = [0.45, 0.25]\n",
    "    center_x = 0.5\n",
    "    center_y = 0.5\n",
    "    num_points = 200\n",
    "    X = []\n",
    "    y = []\n",
    "    \n",
    "    for label, radius in enumerate(radii):\n",
    "        for point in range(num_points):\n",
    "            angle = 2 * np.pi * np.random.rand()\n",
    "            feature_1 = radius * np.cos(angle) + center_x\n",
    "            feature_2 = radius * np.sin(angle) + center_y\n",
    "            \n",
    "            X.append([feature_1, feature_2])     \n",
    "            y.append([label])\n",
    "            \n",
    "    return np.array(X), np.array(y)"
   ]
  },
  {
   "cell_type": "code",
   "execution_count": 3,
   "id": "c025d883-0bd0-41aa-959a-e703b0b43675",
   "metadata": {},
   "outputs": [],
   "source": [
    "X, y = circular_data()"
   ]
  },
  {
   "cell_type": "code",
   "execution_count": 4,
   "id": "55c6d889-82e6-4f22-a237-51803d64c265",
   "metadata": {},
   "outputs": [],
   "source": [
    "feature_1 = X.T[0]\n",
    "feature_2 = X.T[1]"
   ]
  },
  {
   "cell_type": "code",
   "execution_count": 5,
   "id": "387bd688-694b-4950-8535-51e23864d811",
   "metadata": {},
   "outputs": [
    {
     "data": {
      "image/png": "[encoded data removed]",
      "text/plain": [
       "<Figure size 360x360 with 1 Axes>"
      ]
     },
     "metadata": {
      "needs_background": "light"
     },
     "output_type": "display_data"
    }
   ],
   "source": [
    "plt.figure(figsize=(5,5))\n",
    "plt.scatter(x=feature_1, y=feature_2, c=y)\n",
    "plt.title(\"Circular Data\")\n",
    "plt.xlabel(\"Feature 1\")\n",
    "plt.ylabel(\"Feature 2\")\n",
    "plt.show()"
   ]
  },
  {
   "cell_type": "code",
   "execution_count": 6,
   "id": "95756963-3b98-4802-a424-a1d38d1fce35",
   "metadata": {},
   "outputs": [],
   "source": [
    "class NeuralNetwork:\n",
    "    \n",
    "    def __init__(self, X, y, shape=[2, 4, 2, 1], alpha = 0.1):\n",
    "        self.X = X\n",
    "        self.y = y\n",
    "        self.alpha = alpha\n",
    "        \n",
    "        self.weights = []\n",
    "        self.biases = []\n",
    "        self.activations = []\n",
    "        self.num_layers = len(shape)\n",
    "        self.W_grads = []\n",
    "        self.b_grads = []\n",
    "        \n",
    "        # initialize weights and matrices with random numbers\n",
    "        for num_features, num_neurons in zip(shape[:-1], shape[1:]):\n",
    "            weight_matrix = np.random.randn(num_neurons, num_features)\n",
    "            self.weights.append(weight_matrix)\n",
    "            bias_vector = np.random.randn(1, num_neurons)\n",
    "            self.biases.append(bias_vector)\n",
    "        \n",
    "    def forward(self):\n",
    "        # save activations for later, as those are needed for backprop and the calculation of the loss\n",
    "        self.activations = []\n",
    "        A = X\n",
    "        self.activations.append(X)\n",
    "        for W, b in zip(self.weights, self.biases):\n",
    "            Z = A @ W.T + b\n",
    "            A = self.sigmoid(Z)\n",
    "            self.activations.append(A)\n",
    "            \n",
    "    def sigmoid(self, Z):\n",
    "        return 1 / (1 + np.exp(-Z))\n",
    "        \n",
    "    def loss(self):\n",
    "        y_hat = self.activations[-1]\n",
    "        loss =  -(self.y * np.log(y_hat) + (1 - self.y) * np.log(1 - y_hat)).mean()\n",
    "        return loss\n",
    "    \n",
    "    def backward(self):\n",
    "        # empty gradients\n",
    "        self.W_grads = []\n",
    "        self.b_grads = []\n",
    "        \n",
    "        y_hat = self.activations[-1]\n",
    "        dL_da = (1 - self.y) * 1 / (1 - y_hat) - (self.y * 1 / y_hat)\n",
    "        dL_da = dL_da / self.X.shape[0]\n",
    "        \n",
    "        delta = None\n",
    "        # we apply backprop one layer at a time\n",
    "        # from last layer to first layer\n",
    "        activations = reversed(self.activations[1:])\n",
    "        prev_activations = reversed(self.activations[:-1])\n",
    "        for layer, (A, A_prev) in enumerate(zip(activations, prev_activations)):\n",
    "            if delta is None:\n",
    "                da_dz = A * (1 - A)\n",
    "                delta = dL_da * da_dz\n",
    "                \n",
    "            else:\n",
    "                weight_idx = self.num_layers - layer - 1\n",
    "                W = self.weights[weight_idx]\n",
    "                delta = (delta @ W) * A * (1 - A)\n",
    "            \n",
    "            dz_dw = A_prev\n",
    "            dL_dw = delta.T @ dz_dw\n",
    "            dL_db = delta.sum(axis=0)\n",
    "            \n",
    "            self.W_grads.append(dL_dw)\n",
    "            self.b_grads.append(dL_db)\n",
    "        \n",
    "        self.W_grads = reversed(self.W_grads)\n",
    "        self.b_grads = reversed(self.b_grads)\n",
    "                        \n",
    "    # update weights\n",
    "    def step(self):\n",
    "        for idx, (W, dW) in enumerate(zip(self.weights, self.W_grads)):\n",
    "            self.weights[idx] = W - self.alpha * dW\n",
    "         \n",
    "        for idx, (b, db) in enumerate(zip(self.biases, self.b_grads)):\n",
    "            self.biases[idx] = b - self.alpha * db"
   ]
  },
  {
   "cell_type": "code",
   "execution_count": 7,
   "id": "e81dac0d-9878-4e82-98f3-7f9e941db72a",
   "metadata": {},
   "outputs": [],
   "source": [
    "nn = NeuralNetwork(X, y)"
   ]
  },
  {
   "cell_type": "code",
   "execution_count": 8,
   "id": "4c751b56-0857-466f-b9ae-bd46f5366c7d",
   "metadata": {},
   "outputs": [],
   "source": [
    "epochs = 50_000"
   ]
  },
  {
   "cell_type": "code",
   "execution_count": 9,
   "id": "97c96616-a40c-458a-8d53-5b96b0120667",
   "metadata": {},
   "outputs": [
    {
     "name": "stdout",
     "output_type": "stream",
     "text": [
      "1.0795920824962626\n",
      "0.691457844787008\n",
      "0.6292421903341594\n",
      "0.026757555570866346\n",
      "0.005560926286833071\n",
      "0.0029137868481795897\n"
     ]
    }
   ],
   "source": [
    "# training loop\n",
    "for epoch in range(epochs):\n",
    "    nn.forward()\n",
    "    if epoch % 10000 == 0:\n",
    "        print(nn.loss())\n",
    "    nn.backward()\n",
    "    nn.step()\n",
    "print(nn.loss())"
   ]
  }
 ],
 "metadata": {
  "kernelspec": {
   "display_name": "Python 3 (ipykernel)",
   "language": "python",
   "name": "python3"
  },
  "language_info": {
   "codemirror_mode": {
    "name": "ipython",
    "version": 3
   },
   "file_extension": ".py",
   "mimetype": "text/x-python",
   "name": "python",
   "nbconvert_exporter": "python",
   "pygments_lexer": "ipython3",
   "version": "3.10.4"
  }
 },
 "nbformat": 4,
 "nbformat_minor": 5
}
