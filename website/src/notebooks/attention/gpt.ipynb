{
 "cells": [
  {
   "cell_type": "markdown",
   "id": "264898ec-8a4c-47d6-acb1-6576154a3dc2",
   "metadata": {},
   "source": [
    "# GPT-2 Inference"
   ]
  },
  {
   "cell_type": "markdown",
   "id": "237f366c-77bb-4d11-b961-cb10543efd6a",
   "metadata": {},
   "source": [
    "This nobebook is exceptionally small, because the transformers library from HuggingFace makes it exceptionally easy to use GPT-2 for inference. All we have to do is to utilize the `pipeline` function. "
   ]
  },
  {
   "cell_type": "code",
   "execution_count": 1,
   "id": "cce0b850-32cb-4b56-8fa4-f05d446e204a",
   "metadata": {},
   "outputs": [],
   "source": [
    "from transformers import pipeline"
   ]
  },
  {
   "cell_type": "code",
   "execution_count": 2,
   "id": "6e26e643-b4c9-43ff-89a4-7a763c9e170e",
   "metadata": {},
   "outputs": [],
   "source": [
    "generator = pipeline('text-generation', model='gpt2')"
   ]
  },
  {
   "cell_type": "markdown",
   "id": "f1b78a87-67cb-40c1-9fff-9addda136f91",
   "metadata": {},
   "source": [
    "We generate 5 sequences of size 100, using the initial text: `We want to build a world for artificial intelligence,`."
   ]
  },
  {
   "cell_type": "code",
   "execution_count": 3,
   "id": "c684b953-74ad-4816-84b5-2d1de0336c92",
   "metadata": {},
   "outputs": [
    {
     "name": "stderr",
     "output_type": "stream",
     "text": [
      "Setting `pad_token_id` to `eos_token_id`:50256 for open-end generation.\n"
     ]
    }
   ],
   "source": [
    "results = generator(\"We want to build a world for artificial intelligence,\", max_length=100, num_return_sequences=5)"
   ]
  },
  {
   "cell_type": "code",
   "execution_count": 4,
   "id": "b769453e-d443-4780-888e-08912b279343",
   "metadata": {},
   "outputs": [
    {
     "name": "stdout",
     "output_type": "stream",
     "text": [
      "------------------------------\n",
      "Result Nr: 1\n",
      "------------------------------\n",
      "We want to build a world for artificial intelligence, or, even better, the AI system to be integrated into our society, for which all the tools are necessary, we have to create new software which does this. And even if there is a machine, its intelligence, its data, its capabilities, it will not go and take away from us any of this. The point of this is not only to make software, but to be able to combine all of the capabilities of our society which is more\n",
      "------------------------------\n",
      "Result Nr: 2\n",
      "------------------------------\n",
      "We want to build a world for artificial intelligence, and the answer is that AI will need to be a thing—not just a thing.\"\n",
      "\n",
      "The most interesting aspect of his article is his comments on the \"hypothesis\" of AI, in which he was very clear that the \"scientific method for constructing the AI that we have now\" is to not rely on science, but on the subjective judgment of people. He's not talking about scientists making predictions but on people judging the predictions based\n",
      "------------------------------\n",
      "Result Nr: 3\n",
      "------------------------------\n",
      "We want to build a world for artificial intelligence, and it's going to be incredibly exciting,\" said John Jang, CEO of NeuralNet.\n",
      "\n",
      "Hang says artificial intelligence is an area of research that has been \"taken seriously in academia\", and that in the next few years, artificial intelligence will be the mainstream. There is currently no major academic space dedicated to artificial intelligence, he says.\n",
      "\n",
      "He also points to Google as an example of the potential of this technology. In 2013\n",
      "------------------------------\n",
      "Result Nr: 4\n",
      "------------------------------\n",
      "We want to build a world for artificial intelligence, not robots.\" The problem is that the only one that can be trusted is Google.\n",
      "\n",
      "\"All the data we have about us is a blank slate,\" she says. \"That's why we're working on things that aren't robots or robots that don't exist.\"\n",
      "\n",
      "Some of all of China's population is born that way; many do not. The number of people who do take human jobs as part of a labor force grew about\n",
      "------------------------------\n",
      "Result Nr: 5\n",
      "------------------------------\n",
      "We want to build a world for artificial intelligence, with a more humanized form of AI focused on knowledge delivery.\"\n",
      "\n",
      "If you agree, consider the proposed solution to the problem. Imagine a world where individuals and industries were treated, with specific rules, rules, rules, rules.\n",
      "\n",
      "There would be two worlds and one was a world where everyone, whoever was responsible with their own knowledge, had the freedom to create what they wanted to do.\n",
      "\n",
      "There would be a world where only\n"
     ]
    }
   ],
   "source": [
    "for idx, result in enumerate(results):\n",
    "    print('-'*30)\n",
    "    print(f'Result Nr: {idx+1}')\n",
    "    print('-'*30)\n",
    "    print(result[\"generated_text\"])"
   ]
  }
 ],
 "metadata": {
  "kernelspec": {
   "display_name": "Python 3 (ipykernel)",
   "language": "python",
   "name": "python3"
  },
  "language_info": {
   "codemirror_mode": {
    "name": "ipython",
    "version": 3
   },
   "file_extension": ".py",
   "mimetype": "text/x-python",
   "name": "python",
   "nbconvert_exporter": "python",
   "pygments_lexer": "ipython3",
   "version": "3.10.5"
  }
 },
 "nbformat": 4,
 "nbformat_minor": 5
}
