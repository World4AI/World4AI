{
  "cells": [
    {
      "cell_type": "markdown",
      "id": "60c5a841-856c-4480-9f53-81380540d434",
      "metadata": {
        "id": "60c5a841-856c-4480-9f53-81380540d434"
      },
      "source": [
        "# HuggingFace"
      ]
    },
    {
      "cell_type": "code",
      "source": [
        "# uncomment if installation is needed\n",
        "# !pip install transformers datasets evaluate"
      ],
      "metadata": {
        "id": "EZRkyfaO6_ag"
      },
      "id": "EZRkyfaO6_ag",
      "execution_count": 3,
      "outputs": []
    },
    {
      "cell_type": "code",
      "source": [
        "!nvidia-smi"
      ],
      "metadata": {
        "colab": {
          "base_uri": "https://localhost:8080/"
        },
        "id": "YR9HEhG361dv",
        "outputId": "b47082c6-de1e-4996-eed1-a8426c74334f"
      },
      "id": "YR9HEhG361dv",
      "execution_count": 4,
      "outputs": [
        {
          "output_type": "stream",
          "name": "stdout",
          "text": [
            "Thu Sep 22 11:31:39 2022       \n",
            "+-----------------------------------------------------------------------------+\n",
            "| NVIDIA-SMI 460.32.03    Driver Version: 460.32.03    CUDA Version: 11.2     |\n",
            "|-------------------------------+----------------------+----------------------+\n",
            "| GPU  Name        Persistence-M| Bus-Id        Disp.A | Volatile Uncorr. ECC |\n",
            "| Fan  Temp  Perf  Pwr:Usage/Cap|         Memory-Usage | GPU-Util  Compute M. |\n",
            "|                               |                      |               MIG M. |\n",
            "|===============================+======================+======================|\n",
            "|   0  Tesla T4            Off  | 00000000:00:04.0 Off |                    0 |\n",
            "| N/A   57C    P8    10W /  70W |      0MiB / 15109MiB |      0%      Default |\n",
            "|                               |                      |                  N/A |\n",
            "+-------------------------------+----------------------+----------------------+\n",
            "                                                                               \n",
            "+-----------------------------------------------------------------------------+\n",
            "| Processes:                                                                  |\n",
            "|  GPU   GI   CI        PID   Type   Process name                  GPU Memory |\n",
            "|        ID   ID                                                   Usage      |\n",
            "|=============================================================================|\n",
            "|  No running processes found                                                 |\n",
            "+-----------------------------------------------------------------------------+\n"
          ]
        }
      ]
    },
    {
      "cell_type": "code",
      "execution_count": 5,
      "id": "c109128d-5b23-4f40-92d2-fc10330355a4",
      "metadata": {
        "id": "c109128d-5b23-4f40-92d2-fc10330355a4"
      },
      "outputs": [],
      "source": [
        "import pandas as pd\n",
        "\n",
        "import torch\n",
        "from datasets import load_dataset\n",
        "import evaluate\n",
        "from transformers import pipeline\n",
        "from transformers import AutoTokenizer, AutoModel, AutoModelForSequenceClassification\n",
        "from transformers import Trainer, TrainingArguments"
      ]
    },
    {
      "cell_type": "code",
      "execution_count": 6,
      "id": "55502a7c-19da-4869-a68b-7d09cb5e9421",
      "metadata": {
        "id": "55502a7c-19da-4869-a68b-7d09cb5e9421"
      },
      "outputs": [],
      "source": [
        "# constants\n",
        "DEVICE = torch.device(\"cuda\")\n",
        "BATCH_SIZE=32"
      ]
    },
    {
      "cell_type": "markdown",
      "id": "37c3625d-08a8-4f8a-b07e-eea0d55e9e12",
      "metadata": {
        "id": "37c3625d-08a8-4f8a-b07e-eea0d55e9e12"
      },
      "source": [
        "## Datasets"
      ]
    },
    {
      "cell_type": "code",
      "execution_count": 7,
      "id": "3f5682c8-0838-44ba-9679-894a4338157e",
      "metadata": {
        "id": "3f5682c8-0838-44ba-9679-894a4338157e",
        "outputId": "c374e826-e29a-4cc8-8bda-11412639a18e",
        "colab": {
          "referenced_widgets": [
            "8ece3a7cefb047d8b0ffd12db91f258d",
            "794e48640f5c421ba35faef35b4060e1",
            "292ee7f34e6a494994d0381108b6cd23",
            "7ce3127ffcd84b7a8a60dd384f3713fd",
            "4b9047662e914835906638a4799404b5",
            "118ea703c2a6403e8059c178db44a867",
            "f0701c3f440b4710aa95de4919a27b66",
            "fe7d58e26111489f8e296323ff9f155c",
            "d22dca2465bd4d319ff156cfe1f597ea",
            "01ea7d9da58f4c17ab266343f7def42e",
            "47d1b96382e048359bb06ed3801ceddf"
          ],
          "base_uri": "https://localhost:8080/",
          "height": 66
        }
      },
      "outputs": [
        {
          "output_type": "stream",
          "name": "stderr",
          "text": [
            "WARNING:datasets.builder:Found cached dataset imdb (/root/.cache/huggingface/datasets/imdb/plain_text/1.0.0/2fdd8b9bcadd6e7055e742a706876ba43f19faee861df134affd7a3f60fc38a1)\n"
          ]
        },
        {
          "output_type": "display_data",
          "data": {
            "text/plain": [
              "  0%|          | 0/3 [00:00<?, ?it/s]"
            ],
            "application/vnd.jupyter.widget-view+json": {
              "version_major": 2,
              "version_minor": 0,
              "model_id": "8ece3a7cefb047d8b0ffd12db91f258d"
            }
          },
          "metadata": {}
        }
      ],
      "source": [
        "imdb = load_dataset(\"imdb\")"
      ]
    },
    {
      "cell_type": "code",
      "execution_count": 8,
      "id": "f820e113-184a-4e23-928d-dfd897dba08c",
      "metadata": {
        "id": "f820e113-184a-4e23-928d-dfd897dba08c",
        "outputId": "ffe08d13-686f-4883-80b5-0bf5c12a5a8a",
        "colab": {
          "base_uri": "https://localhost:8080/"
        }
      },
      "outputs": [
        {
          "output_type": "execute_result",
          "data": {
            "text/plain": [
              "DatasetDict({\n",
              "    train: Dataset({\n",
              "        features: ['text', 'label'],\n",
              "        num_rows: 25000\n",
              "    })\n",
              "    test: Dataset({\n",
              "        features: ['text', 'label'],\n",
              "        num_rows: 25000\n",
              "    })\n",
              "    unsupervised: Dataset({\n",
              "        features: ['text', 'label'],\n",
              "        num_rows: 50000\n",
              "    })\n",
              "})"
            ]
          },
          "metadata": {},
          "execution_count": 8
        }
      ],
      "source": [
        "imdb"
      ]
    },
    {
      "cell_type": "code",
      "execution_count": 9,
      "id": "7e4e0e94-434b-4c2c-8db4-d99f9cdc9441",
      "metadata": {
        "id": "7e4e0e94-434b-4c2c-8db4-d99f9cdc9441"
      },
      "outputs": [],
      "source": [
        "train_ds = imdb[\"train\"]"
      ]
    },
    {
      "cell_type": "code",
      "execution_count": 10,
      "id": "611296ac-8be5-42bc-8255-6dd88d83c796",
      "metadata": {
        "id": "611296ac-8be5-42bc-8255-6dd88d83c796",
        "outputId": "92436c43-6f16-47df-b8c2-6e1c1dbe6525",
        "colab": {
          "base_uri": "https://localhost:8080/"
        }
      },
      "outputs": [
        {
          "output_type": "execute_result",
          "data": {
            "text/plain": [
              "Dataset({\n",
              "    features: ['text', 'label'],\n",
              "    num_rows: 25000\n",
              "})"
            ]
          },
          "metadata": {},
          "execution_count": 10
        }
      ],
      "source": [
        "train_ds"
      ]
    },
    {
      "cell_type": "code",
      "execution_count": 11,
      "id": "b5a6fb18-b848-46c1-9c1d-3ae374169ed4",
      "metadata": {
        "id": "b5a6fb18-b848-46c1-9c1d-3ae374169ed4",
        "outputId": "753a54df-803e-4131-f64a-d49dfe19e450",
        "colab": {
          "base_uri": "https://localhost:8080/"
        }
      },
      "outputs": [
        {
          "output_type": "execute_result",
          "data": {
            "text/plain": [
              "('I rented I AM CURIOUS-YELLOW from my video store because of all the controversy that surrounded it when it was first released in 1967. I also heard that at first it was seized by U.S. customs if it ever tried to enter this country, therefore being a fan of films considered \"controversial\" I really had to see this for myself.<br /><br />The plot is centered around a young Swedish drama student named Lena who wants to learn everything she can about life. In particular she wants to focus her attentions to making some sort of documentary on what the average Swede thought about certain political issues such as the Vietnam War and race issues in the United States. In between asking politicians and ordinary denizens of Stockholm about their opinions on politics, she has sex with her drama teacher, classmates, and married men.<br /><br />What kills me about I AM CURIOUS-YELLOW is that 40 years ago, this was considered pornographic. Really, the sex and nudity scenes are few and far between, even then it\\'s not shot like some cheaply made porno. While my countrymen mind find it shocking, in reality sex and nudity are a major staple in Swedish cinema. Even Ingmar Bergman, arguably their answer to good old boy John Ford, had sex scenes in his films.<br /><br />I do commend the filmmakers for the fact that any sex shown in the film is shown for artistic purposes rather than just to shock people and make money to be shown in pornographic theaters in America. I AM CURIOUS-YELLOW is a good film for anyone wanting to study the meat and potatoes (no pun intended) of Swedish cinema. But really, this film doesn\\'t have much of a plot.',\n",
              " 0)"
            ]
          },
          "metadata": {},
          "execution_count": 11
        }
      ],
      "source": [
        "train_ds[\"text\"][0], train_ds[\"label\"][0]"
      ]
    },
    {
      "cell_type": "code",
      "execution_count": 12,
      "id": "0b213e2c-b79b-4a3f-b4b0-41c3d49039f9",
      "metadata": {
        "id": "0b213e2c-b79b-4a3f-b4b0-41c3d49039f9",
        "outputId": "eb3f0311-3663-4f76-e503-3e7814c3874a",
        "colab": {
          "base_uri": "https://localhost:8080/"
        }
      },
      "outputs": [
        {
          "output_type": "execute_result",
          "data": {
            "text/plain": [
              "{'text': Value(dtype='string', id=None),\n",
              " 'label': ClassLabel(num_classes=2, names=['neg', 'pos'], id=None)}"
            ]
          },
          "metadata": {},
          "execution_count": 12
        }
      ],
      "source": [
        "train_ds.features"
      ]
    },
    {
      "cell_type": "code",
      "execution_count": 13,
      "id": "6166fe17-d570-4481-9d6b-e62997dc4549",
      "metadata": {
        "id": "6166fe17-d570-4481-9d6b-e62997dc4549",
        "outputId": "ef069de5-044b-4148-d3f9-3d93ffe2ba95",
        "colab": {
          "base_uri": "https://localhost:8080/"
        }
      },
      "outputs": [
        {
          "output_type": "execute_result",
          "data": {
            "text/plain": [
              "['text', 'label']"
            ]
          },
          "metadata": {},
          "execution_count": 13
        }
      ],
      "source": [
        "train_ds.column_names"
      ]
    },
    {
      "cell_type": "markdown",
      "id": "016b2e0a-3692-442b-b79d-f6142a6754d3",
      "metadata": {
        "id": "016b2e0a-3692-442b-b79d-f6142a6754d3"
      },
      "source": [
        "## Pretrained Models"
      ]
    },
    {
      "cell_type": "code",
      "execution_count": 14,
      "id": "5c501b21-ee3d-4991-85bb-9518e16b3670",
      "metadata": {
        "id": "5c501b21-ee3d-4991-85bb-9518e16b3670",
        "outputId": "a1dd7629-ac2b-4879-c6fa-2bafabbe5f10",
        "colab": {
          "base_uri": "https://localhost:8080/"
        }
      },
      "outputs": [
        {
          "output_type": "stream",
          "name": "stderr",
          "text": [
            "No model was supplied, defaulted to distilbert-base-uncased-finetuned-sst-2-english and revision af0f99b (https://huggingface.co/distilbert-base-uncased-finetuned-sst-2-english).\n",
            "Using a pipeline without specifying a model name and revision in production is not recommended.\n"
          ]
        }
      ],
      "source": [
        "classifier = pipeline(\"sentiment-analysis\")"
      ]
    },
    {
      "cell_type": "code",
      "execution_count": 15,
      "id": "b4a70d68-7506-4d8e-9771-2c64d882cb00",
      "metadata": {
        "id": "b4a70d68-7506-4d8e-9771-2c64d882cb00",
        "outputId": "b300f4c0-8582-4c0c-9f41-0323a4f4c864",
        "colab": {
          "base_uri": "https://localhost:8080/"
        }
      },
      "outputs": [
        {
          "output_type": "execute_result",
          "data": {
            "text/plain": [
              "[{'label': 'POSITIVE', 'score': 0.9997795224189758}]"
            ]
          },
          "metadata": {},
          "execution_count": 15
        }
      ],
      "source": [
        "classifier(\"We are very happy to show you the 🤗 Transformers library.\")"
      ]
    },
    {
      "cell_type": "code",
      "execution_count": 16,
      "id": "eb29491e-d966-483b-b25e-f6bfd638c796",
      "metadata": {
        "id": "eb29491e-d966-483b-b25e-f6bfd638c796"
      },
      "outputs": [],
      "source": [
        "results = classifier([\"We are very happy to show you the 🤗 Transformers library.\", \"We hope you don't hate it.\"])"
      ]
    },
    {
      "cell_type": "code",
      "execution_count": 17,
      "id": "f2242d96-8e99-461c-918f-b2b30f1d4fb3",
      "metadata": {
        "id": "f2242d96-8e99-461c-918f-b2b30f1d4fb3",
        "outputId": "6eea33ea-b41e-4c07-cdef-189be26622b4",
        "colab": {
          "base_uri": "https://localhost:8080/"
        }
      },
      "outputs": [
        {
          "output_type": "execute_result",
          "data": {
            "text/plain": [
              "[{'label': 'POSITIVE', 'score': 0.9997795224189758},\n",
              " {'label': 'NEGATIVE', 'score': 0.5308602452278137}]"
            ]
          },
          "metadata": {},
          "execution_count": 17
        }
      ],
      "source": [
        "results"
      ]
    },
    {
      "cell_type": "code",
      "execution_count": 18,
      "id": "a46d8e59-1ed7-4348-ad7d-b20a89bab344",
      "metadata": {
        "id": "a46d8e59-1ed7-4348-ad7d-b20a89bab344",
        "outputId": "55d541c2-9ced-4dc0-d3d5-9ded4aabc7d6",
        "colab": {
          "base_uri": "https://localhost:8080/"
        }
      },
      "outputs": [
        {
          "output_type": "execute_result",
          "data": {
            "text/plain": [
              "[{'label': 'POSITIVE', 'score': 0.7872840166091919},\n",
              " {'label': 'NEGATIVE', 'score': 0.9991909861564636},\n",
              " {'label': 'NEGATIVE', 'score': 0.998217761516571},\n",
              " {'label': 'POSITIVE', 'score': 0.8144614100456238},\n",
              " {'label': 'NEGATIVE', 'score': 0.9993877410888672}]"
            ]
          },
          "metadata": {},
          "execution_count": 18
        }
      ],
      "source": [
        "classifier(train_ds[\"text\"][0:5])"
      ]
    },
    {
      "cell_type": "code",
      "execution_count": 19,
      "id": "2cbf15e2-acbd-4da0-b1d6-c26f69ceaa6b",
      "metadata": {
        "id": "2cbf15e2-acbd-4da0-b1d6-c26f69ceaa6b",
        "outputId": "91319a05-062e-4f52-9f66-1d38c6d98a10",
        "colab": {
          "base_uri": "https://localhost:8080/"
        }
      },
      "outputs": [
        {
          "output_type": "execute_result",
          "data": {
            "text/plain": [
              "[0, 0, 0, 0, 0]"
            ]
          },
          "metadata": {},
          "execution_count": 19
        }
      ],
      "source": [
        "train_ds[\"label\"][0:5]"
      ]
    },
    {
      "cell_type": "code",
      "execution_count": 20,
      "id": "34251556-82d1-4cbe-bc11-4be5792bf12a",
      "metadata": {
        "id": "34251556-82d1-4cbe-bc11-4be5792bf12a",
        "outputId": "9d07594e-78c6-4d2b-8d4b-d5516b1ac06f",
        "colab": {
          "base_uri": "https://localhost:8080/"
        }
      },
      "outputs": [
        {
          "output_type": "execute_result",
          "data": {
            "text/plain": [
              "(\"This film was probably inspired by Godard's Masculin, féminin and I urge you to see that film instead.<br /><br />The film has two strong elements and those are, (1) the realistic acting (2) the impressive, undeservedly good, photo. Apart from that, what strikes me most is the endless stream of silliness. Lena Nyman has to be most annoying actress in the world. She acts so stupid and with all the nudity in this film,...it's unattractive. Comparing to Godard's film, intellectuality has been replaced with stupidity. Without going too far on this subject, I would say that follows from the difference in ideals between the French and the Swedish society.<br /><br />A movie of its time, and place. 2/10.\",\n",
              " 0)"
            ]
          },
          "metadata": {},
          "execution_count": 20
        }
      ],
      "source": [
        "train_ds[\"text\"][3], train_ds[\"label\"][3]"
      ]
    },
    {
      "cell_type": "markdown",
      "id": "36b7b809-e4f8-4080-9545-c3160e9bedd3",
      "metadata": {
        "id": "36b7b809-e4f8-4080-9545-c3160e9bedd3"
      },
      "source": [
        "## Fine-Tuning"
      ]
    },
    {
      "cell_type": "code",
      "execution_count": 21,
      "id": "866a4ecf-f167-49cd-bbc6-6dca4cc9fb80",
      "metadata": {
        "id": "866a4ecf-f167-49cd-bbc6-6dca4cc9fb80"
      },
      "outputs": [],
      "source": [
        "model_name = \"distilbert-base-uncased\""
      ]
    },
    {
      "cell_type": "code",
      "execution_count": 22,
      "id": "204c6637-28ea-47e4-a22d-8f102dfea3f4",
      "metadata": {
        "id": "204c6637-28ea-47e4-a22d-8f102dfea3f4"
      },
      "outputs": [],
      "source": [
        "tokenizer = AutoTokenizer.from_pretrained(model_name)"
      ]
    },
    {
      "cell_type": "code",
      "execution_count": 23,
      "id": "a38b1024-6527-46b0-bbd8-80834ee72f0e",
      "metadata": {
        "id": "a38b1024-6527-46b0-bbd8-80834ee72f0e",
        "outputId": "4691eb8e-1729-4160-a0ae-854d53ddc831",
        "colab": {
          "base_uri": "https://localhost:8080/"
        }
      },
      "outputs": [
        {
          "output_type": "execute_result",
          "data": {
            "text/plain": [
              "{'input_ids': [101, 24443, 21885, 2075, 1037, 3075, 2003, 1037, 2919, 2801, 102], 'attention_mask': [1, 1, 1, 1, 1, 1, 1, 1, 1, 1, 1]}"
            ]
          },
          "metadata": {},
          "execution_count": 23
        }
      ],
      "source": [
        "encodings =  tokenizer(\"Memorizing a library is a bad idea\")\n",
        "encodings"
      ]
    },
    {
      "cell_type": "code",
      "execution_count": 24,
      "id": "ffd98df7-a6fb-4dba-86a2-835adbe72b62",
      "metadata": {
        "id": "ffd98df7-a6fb-4dba-86a2-835adbe72b62",
        "outputId": "7711a6f0-39d2-4fda-e445-52a58b8b2029",
        "colab": {
          "base_uri": "https://localhost:8080/"
        }
      },
      "outputs": [
        {
          "output_type": "execute_result",
          "data": {
            "text/plain": [
              "['[CLS]',\n",
              " 'memo',\n",
              " '##riz',\n",
              " '##ing',\n",
              " 'a',\n",
              " 'library',\n",
              " 'is',\n",
              " 'a',\n",
              " 'bad',\n",
              " 'idea',\n",
              " '[SEP]']"
            ]
          },
          "metadata": {},
          "execution_count": 24
        }
      ],
      "source": [
        "tokens = tokenizer.convert_ids_to_tokens(encodings.input_ids)\n",
        "tokens"
      ]
    },
    {
      "cell_type": "code",
      "execution_count": 25,
      "id": "90949e15-cfe6-468e-b67d-cc685d8fd552",
      "metadata": {
        "id": "90949e15-cfe6-468e-b67d-cc685d8fd552",
        "outputId": "7e49a208-c2f4-4d73-af1f-adc5156738a3",
        "colab": {
          "base_uri": "https://localhost:8080/"
        }
      },
      "outputs": [
        {
          "output_type": "execute_result",
          "data": {
            "text/plain": [
              "30522"
            ]
          },
          "metadata": {},
          "execution_count": 25
        }
      ],
      "source": [
        "tokenizer.vocab_size"
      ]
    },
    {
      "cell_type": "code",
      "execution_count": 26,
      "id": "d56fb19b-a454-49cc-aab4-3e4c5550d371",
      "metadata": {
        "id": "d56fb19b-a454-49cc-aab4-3e4c5550d371",
        "outputId": "176dacfb-c176-497d-c4ba-cf7dafbb4fc3",
        "colab": {
          "base_uri": "https://localhost:8080/"
        }
      },
      "outputs": [
        {
          "output_type": "execute_result",
          "data": {
            "text/plain": [
              "512"
            ]
          },
          "metadata": {},
          "execution_count": 26
        }
      ],
      "source": [
        "tokenizer.model_max_length"
      ]
    },
    {
      "cell_type": "code",
      "execution_count": 27,
      "id": "0ea6fc4f-6562-4b10-9adf-d38d71bc662d",
      "metadata": {
        "id": "0ea6fc4f-6562-4b10-9adf-d38d71bc662d",
        "outputId": "068474c2-0bbd-4902-97f7-f633643a308e",
        "colab": {
          "base_uri": "https://localhost:8080/"
        }
      },
      "outputs": [
        {
          "output_type": "execute_result",
          "data": {
            "text/plain": [
              "['input_ids', 'attention_mask']"
            ]
          },
          "metadata": {},
          "execution_count": 27
        }
      ],
      "source": [
        "tokenizer.model_input_names"
      ]
    },
    {
      "cell_type": "code",
      "execution_count": 28,
      "id": "553dd07f-cb09-4423-a921-f0d9054928b7",
      "metadata": {
        "id": "553dd07f-cb09-4423-a921-f0d9054928b7"
      },
      "outputs": [],
      "source": [
        "def tokenize(batch):\n",
        "    return tokenizer(batch[\"text\"], padding=True, truncation=True)"
      ]
    },
    {
      "cell_type": "code",
      "execution_count": 29,
      "id": "2186c6e0-72e7-44d2-98b0-5b49b2d7f56e",
      "metadata": {
        "id": "2186c6e0-72e7-44d2-98b0-5b49b2d7f56e",
        "outputId": "535d28f3-ad58-4bf6-d5eb-b4af1736439c",
        "colab": {
          "base_uri": "https://localhost:8080/",
          "height": 104,
          "referenced_widgets": [
            "3f211f0538364ee2b21127d461d2cb3a",
            "ecb010280ad84d80bea6f77e81e3da3d",
            "980b276e1f994ee1afe77b319971f4f8",
            "9ea10ec97ed845a69ffa4e7a52bc406c",
            "e5d380276a2147c5ac8a0bfd78044e04",
            "07104bdb03f54f6c88895d0fc245bf7d",
            "b63d44d933414ce08bbb930aef270d60",
            "768082ca97bb4248a749334996fa7779",
            "f2bb088a458d4cdd90505924e43bbcfc",
            "10342674556e4512b724ed373ec8789b",
            "90d82049f1594ea49c93f4380d2dea04"
          ]
        }
      },
      "outputs": [
        {
          "output_type": "stream",
          "name": "stderr",
          "text": [
            "WARNING:datasets.arrow_dataset:Loading cached processed dataset at /root/.cache/huggingface/datasets/imdb/plain_text/1.0.0/2fdd8b9bcadd6e7055e742a706876ba43f19faee861df134affd7a3f60fc38a1/cache-99d5567b58b39520.arrow\n",
            "WARNING:datasets.arrow_dataset:Loading cached processed dataset at /root/.cache/huggingface/datasets/imdb/plain_text/1.0.0/2fdd8b9bcadd6e7055e742a706876ba43f19faee861df134affd7a3f60fc38a1/cache-0ab255874050d8d1.arrow\n"
          ]
        },
        {
          "output_type": "display_data",
          "data": {
            "text/plain": [
              "  0%|          | 0/1 [00:00<?, ?ba/s]"
            ],
            "application/vnd.jupyter.widget-view+json": {
              "version_major": 2,
              "version_minor": 0,
              "model_id": "3f211f0538364ee2b21127d461d2cb3a"
            }
          },
          "metadata": {}
        }
      ],
      "source": [
        "dataset = imdb.map(tokenize, batched=True, batch_size=None)"
      ]
    },
    {
      "cell_type": "code",
      "execution_count": 30,
      "id": "5764aaa4-ba0b-4bee-bda9-37a23d46f36c",
      "metadata": {
        "id": "5764aaa4-ba0b-4bee-bda9-37a23d46f36c",
        "outputId": "b42001b4-efa4-4d2b-f2d7-1462420f433f",
        "colab": {
          "base_uri": "https://localhost:8080/"
        }
      },
      "outputs": [
        {
          "output_type": "execute_result",
          "data": {
            "text/plain": [
              "DatasetDict({\n",
              "    train: Dataset({\n",
              "        features: ['text', 'label', 'input_ids', 'attention_mask'],\n",
              "        num_rows: 25000\n",
              "    })\n",
              "    test: Dataset({\n",
              "        features: ['text', 'label', 'input_ids', 'attention_mask'],\n",
              "        num_rows: 25000\n",
              "    })\n",
              "    unsupervised: Dataset({\n",
              "        features: ['text', 'label', 'input_ids', 'attention_mask'],\n",
              "        num_rows: 50000\n",
              "    })\n",
              "})"
            ]
          },
          "metadata": {},
          "execution_count": 30
        }
      ],
      "source": [
        "dataset"
      ]
    },
    {
      "cell_type": "code",
      "execution_count": 31,
      "id": "f895322c-cf07-42d7-97c1-59354eee1d97",
      "metadata": {
        "id": "f895322c-cf07-42d7-97c1-59354eee1d97",
        "outputId": "8d7e3578-4ce9-411d-b7b1-effa1376b774",
        "colab": {
          "base_uri": "https://localhost:8080/"
        }
      },
      "outputs": [
        {
          "output_type": "stream",
          "name": "stderr",
          "text": [
            "Some weights of the model checkpoint at distilbert-base-uncased were not used when initializing DistilBertForSequenceClassification: ['vocab_projector.bias', 'vocab_layer_norm.weight', 'vocab_projector.weight', 'vocab_transform.weight', 'vocab_layer_norm.bias', 'vocab_transform.bias']\n",
            "- This IS expected if you are initializing DistilBertForSequenceClassification from the checkpoint of a model trained on another task or with another architecture (e.g. initializing a BertForSequenceClassification model from a BertForPreTraining model).\n",
            "- This IS NOT expected if you are initializing DistilBertForSequenceClassification from the checkpoint of a model that you expect to be exactly identical (initializing a BertForSequenceClassification model from a BertForSequenceClassification model).\n",
            "Some weights of DistilBertForSequenceClassification were not initialized from the model checkpoint at distilbert-base-uncased and are newly initialized: ['classifier.weight', 'pre_classifier.weight', 'pre_classifier.bias', 'classifier.bias']\n",
            "You should probably TRAIN this model on a down-stream task to be able to use it for predictions and inference.\n"
          ]
        }
      ],
      "source": [
        "model = (AutoModelForSequenceClassification\n",
        "         .from_pretrained(model_name, num_labels=2)\n",
        "         .to(DEVICE))"
      ]
    },
    {
      "cell_type": "code",
      "execution_count": 32,
      "id": "6b6dee77-e218-4626-83be-755801259034",
      "metadata": {
        "id": "6b6dee77-e218-4626-83be-755801259034",
        "colab": {
          "base_uri": "https://localhost:8080/",
          "height": 49,
          "referenced_widgets": [
            "d2d00dd0e7514445bc53ac24993e7dbc",
            "d2ce412011d54431908ce6ae645455c3",
            "8b8ede3e5a7144c2a5f46cfbde843611",
            "931e2a1ffdf04534a5e62a1b994e6840",
            "734cbee0a83d4ba49376a0a36c74e695",
            "87137a2b342346d79d53cfd84a42942a",
            "dbcd6b1a3d034341818ee6c1e163b44d",
            "99c532d5ef714d6780331573c0d00867",
            "c441219184304d7eb0a0b6bf6cb61cdd",
            "df82e47a5f0246e4847d845c9d338d95",
            "340c13ac5e324b129a0c728b145cbbb2"
          ]
        },
        "outputId": "2c461bda-7677-4c32-cea6-deb3a1b1661d"
      },
      "outputs": [
        {
          "output_type": "display_data",
          "data": {
            "text/plain": [
              "Downloading builder script:   0%|          | 0.00/4.20k [00:00<?, ?B/s]"
            ],
            "application/vnd.jupyter.widget-view+json": {
              "version_major": 2,
              "version_minor": 0,
              "model_id": "d2d00dd0e7514445bc53ac24993e7dbc"
            }
          },
          "metadata": {}
        }
      ],
      "source": [
        "accuracy = evaluate.load(\"accuracy\")"
      ]
    },
    {
      "cell_type": "code",
      "source": [
        "def compute_metrics(pred):\n",
        "  labels = pred.label_ids\n",
        "  predictions = pred.predictions.argmax(-1)\n",
        "  return accuracy.compute(predictions=predictions, references=labels)"
      ],
      "metadata": {
        "id": "_hJysZPA-xrc"
      },
      "id": "_hJysZPA-xrc",
      "execution_count": 33,
      "outputs": []
    },
    {
      "cell_type": "code",
      "execution_count": 34,
      "id": "be95ce67-fd39-40ed-ba2d-5cf62e429442",
      "metadata": {
        "id": "be95ce67-fd39-40ed-ba2d-5cf62e429442"
      },
      "outputs": [],
      "source": [
        "args = TrainingArguments(output_dir=\"../temp/\",\n",
        "                       num_train_epochs=2,\n",
        "                       learning_rate=1e-5,\n",
        "                       per_device_eval_batch_size=BATCH_SIZE,\n",
        "                       per_device_train_batch_size=BATCH_SIZE,\n",
        "                       evaluation_strategy=\"epoch\",\n",
        "                       logging_steps=len(dataset[\"train\"]) // BATCH_SIZE)"
      ]
    },
    {
      "cell_type": "code",
      "execution_count": 35,
      "id": "0c5bbc5e-710c-4e65-8e3d-1c3d8647d238",
      "metadata": {
        "id": "0c5bbc5e-710c-4e65-8e3d-1c3d8647d238"
      },
      "outputs": [],
      "source": [
        "trainer = Trainer(model=model,\n",
        "                  args=args,\n",
        "                  compute_metrics=compute_metrics,\n",
        "                  train_dataset=dataset[\"train\"],\n",
        "                  eval_dataset=dataset[\"test\"],\n",
        "                  tokenizer=tokenizer)"
      ]
    },
    {
      "cell_type": "code",
      "execution_count": 36,
      "id": "8ddcf2d7-96fd-4b5d-ad95-c71f06d20910",
      "metadata": {
        "id": "8ddcf2d7-96fd-4b5d-ad95-c71f06d20910",
        "outputId": "25d3f2fc-f21d-4b42-955f-d2162c80ef45",
        "colab": {
          "base_uri": "https://localhost:8080/",
          "height": 870
        }
      },
      "outputs": [
        {
          "output_type": "stream",
          "name": "stderr",
          "text": [
            "The following columns in the training set don't have a corresponding argument in `DistilBertForSequenceClassification.forward` and have been ignored: text. If text are not expected by `DistilBertForSequenceClassification.forward`,  you can safely ignore this message.\n",
            "/usr/local/lib/python3.7/dist-packages/transformers/optimization.py:310: FutureWarning: This implementation of AdamW is deprecated and will be removed in a future version. Use the PyTorch implementation torch.optim.AdamW instead, or set `no_deprecation_warning=True` to disable this warning\n",
            "  FutureWarning,\n",
            "***** Running training *****\n",
            "  Num examples = 25000\n",
            "  Num Epochs = 2\n",
            "  Instantaneous batch size per device = 32\n",
            "  Total train batch size (w. parallel, distributed & accumulation) = 32\n",
            "  Gradient Accumulation steps = 1\n",
            "  Total optimization steps = 1564\n",
            "You're using a DistilBertTokenizerFast tokenizer. Please note that with a fast tokenizer, using the `__call__` method is faster than using a method to encode the text followed by a call to the `pad` method to get a padded encoding.\n"
          ]
        },
        {
          "output_type": "display_data",
          "data": {
            "text/plain": [
              "<IPython.core.display.HTML object>"
            ],
            "text/html": [
              "\n",
              "    <div>\n",
              "      \n",
              "      <progress value='1564' max='1564' style='width:300px; height:20px; vertical-align: middle;'></progress>\n",
              "      [1564/1564 53:37, Epoch 2/2]\n",
              "    </div>\n",
              "    <table border=\"1\" class=\"dataframe\">\n",
              "  <thead>\n",
              " <tr style=\"text-align: left;\">\n",
              "      <th>Epoch</th>\n",
              "      <th>Training Loss</th>\n",
              "      <th>Validation Loss</th>\n",
              "      <th>Accuracy</th>\n",
              "    </tr>\n",
              "  </thead>\n",
              "  <tbody>\n",
              "    <tr>\n",
              "      <td>1</td>\n",
              "      <td>0.285700</td>\n",
              "      <td>0.200543</td>\n",
              "      <td>0.921400</td>\n",
              "    </tr>\n",
              "    <tr>\n",
              "      <td>2</td>\n",
              "      <td>0.182900</td>\n",
              "      <td>0.201275</td>\n",
              "      <td>0.925880</td>\n",
              "    </tr>\n",
              "  </tbody>\n",
              "</table><p>"
            ]
          },
          "metadata": {}
        },
        {
          "output_type": "stream",
          "name": "stderr",
          "text": [
            "Saving model checkpoint to ../temp/checkpoint-500\n",
            "Configuration saved in ../temp/checkpoint-500/config.json\n",
            "Model weights saved in ../temp/checkpoint-500/pytorch_model.bin\n",
            "tokenizer config file saved in ../temp/checkpoint-500/tokenizer_config.json\n",
            "Special tokens file saved in ../temp/checkpoint-500/special_tokens_map.json\n",
            "The following columns in the evaluation set don't have a corresponding argument in `DistilBertForSequenceClassification.forward` and have been ignored: text. If text are not expected by `DistilBertForSequenceClassification.forward`,  you can safely ignore this message.\n",
            "***** Running Evaluation *****\n",
            "  Num examples = 25000\n",
            "  Batch size = 32\n",
            "Saving model checkpoint to ../temp/checkpoint-1000\n",
            "Configuration saved in ../temp/checkpoint-1000/config.json\n",
            "Model weights saved in ../temp/checkpoint-1000/pytorch_model.bin\n",
            "tokenizer config file saved in ../temp/checkpoint-1000/tokenizer_config.json\n",
            "Special tokens file saved in ../temp/checkpoint-1000/special_tokens_map.json\n",
            "Saving model checkpoint to ../temp/checkpoint-1500\n",
            "Configuration saved in ../temp/checkpoint-1500/config.json\n",
            "Model weights saved in ../temp/checkpoint-1500/pytorch_model.bin\n",
            "tokenizer config file saved in ../temp/checkpoint-1500/tokenizer_config.json\n",
            "Special tokens file saved in ../temp/checkpoint-1500/special_tokens_map.json\n",
            "The following columns in the evaluation set don't have a corresponding argument in `DistilBertForSequenceClassification.forward` and have been ignored: text. If text are not expected by `DistilBertForSequenceClassification.forward`,  you can safely ignore this message.\n",
            "***** Running Evaluation *****\n",
            "  Num examples = 25000\n",
            "  Batch size = 32\n",
            "\n",
            "\n",
            "Training completed. Do not forget to share your model on huggingface.co/models =)\n",
            "\n",
            "\n"
          ]
        },
        {
          "output_type": "execute_result",
          "data": {
            "text/plain": [
              "TrainOutput(global_step=1564, training_loss=0.23427001918520768, metrics={'train_runtime': 3219.5238, 'train_samples_per_second': 15.53, 'train_steps_per_second': 0.486, 'total_flos': 6623369932800000.0, 'train_loss': 0.23427001918520768, 'epoch': 2.0})"
            ]
          },
          "metadata": {},
          "execution_count": 36
        }
      ],
      "source": [
        "trainer.train()"
      ]
    },
    {
      "cell_type": "code",
      "source": [],
      "metadata": {
        "id": "VBMnCttP_LAl"
      },
      "id": "VBMnCttP_LAl",
      "execution_count": null,
      "outputs": []
    }
  ],
  "metadata": {
    "kernelspec": {
      "display_name": "Python 3 (ipykernel)",
      "language": "python",
      "name": "python3"
    },
    "language_info": {
      "codemirror_mode": {
        "name": "ipython",
        "version": 3
      },
      "file_extension": ".py",
      "mimetype": "text/x-python",
      "name": "python",
      "nbconvert_exporter": "python",
      "pygments_lexer": "ipython3",
      "version": "3.10.5"
    },
    "colab": {
      "provenance": [],
      "collapsed_sections": []
    },
    "accelerator": "GPU",
    "widgets": {
      "application/vnd.jupyter.widget-state+json": {
        "8ece3a7cefb047d8b0ffd12db91f258d": {
          "model_module": "@jupyter-widgets/controls",
          "model_name": "HBoxModel",
          "model_module_version": "1.5.0",
          "state": {
            "_dom_classes": [],
            "_model_module": "@jupyter-widgets/controls",
            "_model_module_version": "1.5.0",
            "_model_name": "HBoxModel",
            "_view_count": null,
            "_view_module": "@jupyter-widgets/controls",
            "_view_module_version": "1.5.0",
            "_view_name": "HBoxView",
            "box_style": "",
            "children": [
              "IPY_MODEL_794e48640f5c421ba35faef35b4060e1",
              "IPY_MODEL_292ee7f34e6a494994d0381108b6cd23",
              "IPY_MODEL_7ce3127ffcd84b7a8a60dd384f3713fd"
            ],
            "layout": "IPY_MODEL_4b9047662e914835906638a4799404b5"
          }
        },
        "794e48640f5c421ba35faef35b4060e1": {
          "model_module": "@jupyter-widgets/controls",
          "model_name": "HTMLModel",
          "model_module_version": "1.5.0",
          "state": {
            "_dom_classes": [],
            "_model_module": "@jupyter-widgets/controls",
            "_model_module_version": "1.5.0",
            "_model_name": "HTMLModel",
            "_view_count": null,
            "_view_module": "@jupyter-widgets/controls",
            "_view_module_version": "1.5.0",
            "_view_name": "HTMLView",
            "description": "",
            "description_tooltip": null,
            "layout": "IPY_MODEL_118ea703c2a6403e8059c178db44a867",
            "placeholder": "​",
            "style": "IPY_MODEL_f0701c3f440b4710aa95de4919a27b66",
            "value": "100%"
          }
        },
        "292ee7f34e6a494994d0381108b6cd23": {
          "model_module": "@jupyter-widgets/controls",
          "model_name": "FloatProgressModel",
          "model_module_version": "1.5.0",
          "state": {
            "_dom_classes": [],
            "_model_module": "@jupyter-widgets/controls",
            "_model_module_version": "1.5.0",
            "_model_name": "FloatProgressModel",
            "_view_count": null,
            "_view_module": "@jupyter-widgets/controls",
            "_view_module_version": "1.5.0",
            "_view_name": "ProgressView",
            "bar_style": "success",
            "description": "",
            "description_tooltip": null,
            "layout": "IPY_MODEL_fe7d58e26111489f8e296323ff9f155c",
            "max": 3,
            "min": 0,
            "orientation": "horizontal",
            "style": "IPY_MODEL_d22dca2465bd4d319ff156cfe1f597ea",
            "value": 3
          }
        },
        "7ce3127ffcd84b7a8a60dd384f3713fd": {
          "model_module": "@jupyter-widgets/controls",
          "model_name": "HTMLModel",
          "model_module_version": "1.5.0",
          "state": {
            "_dom_classes": [],
            "_model_module": "@jupyter-widgets/controls",
            "_model_module_version": "1.5.0",
            "_model_name": "HTMLModel",
            "_view_count": null,
            "_view_module": "@jupyter-widgets/controls",
            "_view_module_version": "1.5.0",
            "_view_name": "HTMLView",
            "description": "",
            "description_tooltip": null,
            "layout": "IPY_MODEL_01ea7d9da58f4c17ab266343f7def42e",
            "placeholder": "​",
            "style": "IPY_MODEL_47d1b96382e048359bb06ed3801ceddf",
            "value": " 3/3 [00:00&lt;00:00, 63.63it/s]"
          }
        },
        "4b9047662e914835906638a4799404b5": {
          "model_module": "@jupyter-widgets/base",
          "model_name": "LayoutModel",
          "model_module_version": "1.2.0",
          "state": {
            "_model_module": "@jupyter-widgets/base",
            "_model_module_version": "1.2.0",
            "_model_name": "LayoutModel",
            "_view_count": null,
            "_view_module": "@jupyter-widgets/base",
            "_view_module_version": "1.2.0",
            "_view_name": "LayoutView",
            "align_content": null,
            "align_items": null,
            "align_self": null,
            "border": null,
            "bottom": null,
            "display": null,
            "flex": null,
            "flex_flow": null,
            "grid_area": null,
            "grid_auto_columns": null,
            "grid_auto_flow": null,
            "grid_auto_rows": null,
            "grid_column": null,
            "grid_gap": null,
            "grid_row": null,
            "grid_template_areas": null,
            "grid_template_columns": null,
            "grid_template_rows": null,
            "height": null,
            "justify_content": null,
            "justify_items": null,
            "left": null,
            "margin": null,
            "max_height": null,
            "max_width": null,
            "min_height": null,
            "min_width": null,
            "object_fit": null,
            "object_position": null,
            "order": null,
            "overflow": null,
            "overflow_x": null,
            "overflow_y": null,
            "padding": null,
            "right": null,
            "top": null,
            "visibility": null,
            "width": null
          }
        },
        "118ea703c2a6403e8059c178db44a867": {
          "model_module": "@jupyter-widgets/base",
          "model_name": "LayoutModel",
          "model_module_version": "1.2.0",
          "state": {
            "_model_module": "@jupyter-widgets/base",
            "_model_module_version": "1.2.0",
            "_model_name": "LayoutModel",
            "_view_count": null,
            "_view_module": "@jupyter-widgets/base",
            "_view_module_version": "1.2.0",
            "_view_name": "LayoutView",
            "align_content": null,
            "align_items": null,
            "align_self": null,
            "border": null,
            "bottom": null,
            "display": null,
            "flex": null,
            "flex_flow": null,
            "grid_area": null,
            "grid_auto_columns": null,
            "grid_auto_flow": null,
            "grid_auto_rows": null,
            "grid_column": null,
            "grid_gap": null,
            "grid_row": null,
            "grid_template_areas": null,
            "grid_template_columns": null,
            "grid_template_rows": null,
            "height": null,
            "justify_content": null,
            "justify_items": null,
            "left": null,
            "margin": null,
            "max_height": null,
            "max_width": null,
            "min_height": null,
            "min_width": null,
            "object_fit": null,
            "object_position": null,
            "order": null,
            "overflow": null,
            "overflow_x": null,
            "overflow_y": null,
            "padding": null,
            "right": null,
            "top": null,
            "visibility": null,
            "width": null
          }
        },
        "f0701c3f440b4710aa95de4919a27b66": {
          "model_module": "@jupyter-widgets/controls",
          "model_name": "DescriptionStyleModel",
          "model_module_version": "1.5.0",
          "state": {
            "_model_module": "@jupyter-widgets/controls",
            "_model_module_version": "1.5.0",
            "_model_name": "DescriptionStyleModel",
            "_view_count": null,
            "_view_module": "@jupyter-widgets/base",
            "_view_module_version": "1.2.0",
            "_view_name": "StyleView",
            "description_width": ""
          }
        },
        "fe7d58e26111489f8e296323ff9f155c": {
          "model_module": "@jupyter-widgets/base",
          "model_name": "LayoutModel",
          "model_module_version": "1.2.0",
          "state": {
            "_model_module": "@jupyter-widgets/base",
            "_model_module_version": "1.2.0",
            "_model_name": "LayoutModel",
            "_view_count": null,
            "_view_module": "@jupyter-widgets/base",
            "_view_module_version": "1.2.0",
            "_view_name": "LayoutView",
            "align_content": null,
            "align_items": null,
            "align_self": null,
            "border": null,
            "bottom": null,
            "display": null,
            "flex": null,
            "flex_flow": null,
            "grid_area": null,
            "grid_auto_columns": null,
            "grid_auto_flow": null,
            "grid_auto_rows": null,
            "grid_column": null,
            "grid_gap": null,
            "grid_row": null,
            "grid_template_areas": null,
            "grid_template_columns": null,
            "grid_template_rows": null,
            "height": null,
            "justify_content": null,
            "justify_items": null,
            "left": null,
            "margin": null,
            "max_height": null,
            "max_width": null,
            "min_height": null,
            "min_width": null,
            "object_fit": null,
            "object_position": null,
            "order": null,
            "overflow": null,
            "overflow_x": null,
            "overflow_y": null,
            "padding": null,
            "right": null,
            "top": null,
            "visibility": null,
            "width": null
          }
        },
        "d22dca2465bd4d319ff156cfe1f597ea": {
          "model_module": "@jupyter-widgets/controls",
          "model_name": "ProgressStyleModel",
          "model_module_version": "1.5.0",
          "state": {
            "_model_module": "@jupyter-widgets/controls",
            "_model_module_version": "1.5.0",
            "_model_name": "ProgressStyleModel",
            "_view_count": null,
            "_view_module": "@jupyter-widgets/base",
            "_view_module_version": "1.2.0",
            "_view_name": "StyleView",
            "bar_color": null,
            "description_width": ""
          }
        },
        "01ea7d9da58f4c17ab266343f7def42e": {
          "model_module": "@jupyter-widgets/base",
          "model_name": "LayoutModel",
          "model_module_version": "1.2.0",
          "state": {
            "_model_module": "@jupyter-widgets/base",
            "_model_module_version": "1.2.0",
            "_model_name": "LayoutModel",
            "_view_count": null,
            "_view_module": "@jupyter-widgets/base",
            "_view_module_version": "1.2.0",
            "_view_name": "LayoutView",
            "align_content": null,
            "align_items": null,
            "align_self": null,
            "border": null,
            "bottom": null,
            "display": null,
            "flex": null,
            "flex_flow": null,
            "grid_area": null,
            "grid_auto_columns": null,
            "grid_auto_flow": null,
            "grid_auto_rows": null,
            "grid_column": null,
            "grid_gap": null,
            "grid_row": null,
            "grid_template_areas": null,
            "grid_template_columns": null,
            "grid_template_rows": null,
            "height": null,
            "justify_content": null,
            "justify_items": null,
            "left": null,
            "margin": null,
            "max_height": null,
            "max_width": null,
            "min_height": null,
            "min_width": null,
            "object_fit": null,
            "object_position": null,
            "order": null,
            "overflow": null,
            "overflow_x": null,
            "overflow_y": null,
            "padding": null,
            "right": null,
            "top": null,
            "visibility": null,
            "width": null
          }
        },
        "47d1b96382e048359bb06ed3801ceddf": {
          "model_module": "@jupyter-widgets/controls",
          "model_name": "DescriptionStyleModel",
          "model_module_version": "1.5.0",
          "state": {
            "_model_module": "@jupyter-widgets/controls",
            "_model_module_version": "1.5.0",
            "_model_name": "DescriptionStyleModel",
            "_view_count": null,
            "_view_module": "@jupyter-widgets/base",
            "_view_module_version": "1.2.0",
            "_view_name": "StyleView",
            "description_width": ""
          }
        },
        "3f211f0538364ee2b21127d461d2cb3a": {
          "model_module": "@jupyter-widgets/controls",
          "model_name": "HBoxModel",
          "model_module_version": "1.5.0",
          "state": {
            "_dom_classes": [],
            "_model_module": "@jupyter-widgets/controls",
            "_model_module_version": "1.5.0",
            "_model_name": "HBoxModel",
            "_view_count": null,
            "_view_module": "@jupyter-widgets/controls",
            "_view_module_version": "1.5.0",
            "_view_name": "HBoxView",
            "box_style": "",
            "children": [
              "IPY_MODEL_ecb010280ad84d80bea6f77e81e3da3d",
              "IPY_MODEL_980b276e1f994ee1afe77b319971f4f8",
              "IPY_MODEL_9ea10ec97ed845a69ffa4e7a52bc406c"
            ],
            "layout": "IPY_MODEL_e5d380276a2147c5ac8a0bfd78044e04"
          }
        },
        "ecb010280ad84d80bea6f77e81e3da3d": {
          "model_module": "@jupyter-widgets/controls",
          "model_name": "HTMLModel",
          "model_module_version": "1.5.0",
          "state": {
            "_dom_classes": [],
            "_model_module": "@jupyter-widgets/controls",
            "_model_module_version": "1.5.0",
            "_model_name": "HTMLModel",
            "_view_count": null,
            "_view_module": "@jupyter-widgets/controls",
            "_view_module_version": "1.5.0",
            "_view_name": "HTMLView",
            "description": "",
            "description_tooltip": null,
            "layout": "IPY_MODEL_07104bdb03f54f6c88895d0fc245bf7d",
            "placeholder": "​",
            "style": "IPY_MODEL_b63d44d933414ce08bbb930aef270d60",
            "value": "100%"
          }
        },
        "980b276e1f994ee1afe77b319971f4f8": {
          "model_module": "@jupyter-widgets/controls",
          "model_name": "FloatProgressModel",
          "model_module_version": "1.5.0",
          "state": {
            "_dom_classes": [],
            "_model_module": "@jupyter-widgets/controls",
            "_model_module_version": "1.5.0",
            "_model_name": "FloatProgressModel",
            "_view_count": null,
            "_view_module": "@jupyter-widgets/controls",
            "_view_module_version": "1.5.0",
            "_view_name": "ProgressView",
            "bar_style": "success",
            "description": "",
            "description_tooltip": null,
            "layout": "IPY_MODEL_768082ca97bb4248a749334996fa7779",
            "max": 1,
            "min": 0,
            "orientation": "horizontal",
            "style": "IPY_MODEL_f2bb088a458d4cdd90505924e43bbcfc",
            "value": 1
          }
        },
        "9ea10ec97ed845a69ffa4e7a52bc406c": {
          "model_module": "@jupyter-widgets/controls",
          "model_name": "HTMLModel",
          "model_module_version": "1.5.0",
          "state": {
            "_dom_classes": [],
            "_model_module": "@jupyter-widgets/controls",
            "_model_module_version": "1.5.0",
            "_model_name": "HTMLModel",
            "_view_count": null,
            "_view_module": "@jupyter-widgets/controls",
            "_view_module_version": "1.5.0",
            "_view_name": "HTMLView",
            "description": "",
            "description_tooltip": null,
            "layout": "IPY_MODEL_10342674556e4512b724ed373ec8789b",
            "placeholder": "​",
            "style": "IPY_MODEL_90d82049f1594ea49c93f4380d2dea04",
            "value": " 1/1 [00:40&lt;00:00, 40.99s/ba]"
          }
        },
        "e5d380276a2147c5ac8a0bfd78044e04": {
          "model_module": "@jupyter-widgets/base",
          "model_name": "LayoutModel",
          "model_module_version": "1.2.0",
          "state": {
            "_model_module": "@jupyter-widgets/base",
            "_model_module_version": "1.2.0",
            "_model_name": "LayoutModel",
            "_view_count": null,
            "_view_module": "@jupyter-widgets/base",
            "_view_module_version": "1.2.0",
            "_view_name": "LayoutView",
            "align_content": null,
            "align_items": null,
            "align_self": null,
            "border": null,
            "bottom": null,
            "display": null,
            "flex": null,
            "flex_flow": null,
            "grid_area": null,
            "grid_auto_columns": null,
            "grid_auto_flow": null,
            "grid_auto_rows": null,
            "grid_column": null,
            "grid_gap": null,
            "grid_row": null,
            "grid_template_areas": null,
            "grid_template_columns": null,
            "grid_template_rows": null,
            "height": null,
            "justify_content": null,
            "justify_items": null,
            "left": null,
            "margin": null,
            "max_height": null,
            "max_width": null,
            "min_height": null,
            "min_width": null,
            "object_fit": null,
            "object_position": null,
            "order": null,
            "overflow": null,
            "overflow_x": null,
            "overflow_y": null,
            "padding": null,
            "right": null,
            "top": null,
            "visibility": null,
            "width": null
          }
        },
        "07104bdb03f54f6c88895d0fc245bf7d": {
          "model_module": "@jupyter-widgets/base",
          "model_name": "LayoutModel",
          "model_module_version": "1.2.0",
          "state": {
            "_model_module": "@jupyter-widgets/base",
            "_model_module_version": "1.2.0",
            "_model_name": "LayoutModel",
            "_view_count": null,
            "_view_module": "@jupyter-widgets/base",
            "_view_module_version": "1.2.0",
            "_view_name": "LayoutView",
            "align_content": null,
            "align_items": null,
            "align_self": null,
            "border": null,
            "bottom": null,
            "display": null,
            "flex": null,
            "flex_flow": null,
            "grid_area": null,
            "grid_auto_columns": null,
            "grid_auto_flow": null,
            "grid_auto_rows": null,
            "grid_column": null,
            "grid_gap": null,
            "grid_row": null,
            "grid_template_areas": null,
            "grid_template_columns": null,
            "grid_template_rows": null,
            "height": null,
            "justify_content": null,
            "justify_items": null,
            "left": null,
            "margin": null,
            "max_height": null,
            "max_width": null,
            "min_height": null,
            "min_width": null,
            "object_fit": null,
            "object_position": null,
            "order": null,
            "overflow": null,
            "overflow_x": null,
            "overflow_y": null,
            "padding": null,
            "right": null,
            "top": null,
            "visibility": null,
            "width": null
          }
        },
        "b63d44d933414ce08bbb930aef270d60": {
          "model_module": "@jupyter-widgets/controls",
          "model_name": "DescriptionStyleModel",
          "model_module_version": "1.5.0",
          "state": {
            "_model_module": "@jupyter-widgets/controls",
            "_model_module_version": "1.5.0",
            "_model_name": "DescriptionStyleModel",
            "_view_count": null,
            "_view_module": "@jupyter-widgets/base",
            "_view_module_version": "1.2.0",
            "_view_name": "StyleView",
            "description_width": ""
          }
        },
        "768082ca97bb4248a749334996fa7779": {
          "model_module": "@jupyter-widgets/base",
          "model_name": "LayoutModel",
          "model_module_version": "1.2.0",
          "state": {
            "_model_module": "@jupyter-widgets/base",
            "_model_module_version": "1.2.0",
            "_model_name": "LayoutModel",
            "_view_count": null,
            "_view_module": "@jupyter-widgets/base",
            "_view_module_version": "1.2.0",
            "_view_name": "LayoutView",
            "align_content": null,
            "align_items": null,
            "align_self": null,
            "border": null,
            "bottom": null,
            "display": null,
            "flex": null,
            "flex_flow": null,
            "grid_area": null,
            "grid_auto_columns": null,
            "grid_auto_flow": null,
            "grid_auto_rows": null,
            "grid_column": null,
            "grid_gap": null,
            "grid_row": null,
            "grid_template_areas": null,
            "grid_template_columns": null,
            "grid_template_rows": null,
            "height": null,
            "justify_content": null,
            "justify_items": null,
            "left": null,
            "margin": null,
            "max_height": null,
            "max_width": null,
            "min_height": null,
            "min_width": null,
            "object_fit": null,
            "object_position": null,
            "order": null,
            "overflow": null,
            "overflow_x": null,
            "overflow_y": null,
            "padding": null,
            "right": null,
            "top": null,
            "visibility": null,
            "width": null
          }
        },
        "f2bb088a458d4cdd90505924e43bbcfc": {
          "model_module": "@jupyter-widgets/controls",
          "model_name": "ProgressStyleModel",
          "model_module_version": "1.5.0",
          "state": {
            "_model_module": "@jupyter-widgets/controls",
            "_model_module_version": "1.5.0",
            "_model_name": "ProgressStyleModel",
            "_view_count": null,
            "_view_module": "@jupyter-widgets/base",
            "_view_module_version": "1.2.0",
            "_view_name": "StyleView",
            "bar_color": null,
            "description_width": ""
          }
        },
        "10342674556e4512b724ed373ec8789b": {
          "model_module": "@jupyter-widgets/base",
          "model_name": "LayoutModel",
          "model_module_version": "1.2.0",
          "state": {
            "_model_module": "@jupyter-widgets/base",
            "_model_module_version": "1.2.0",
            "_model_name": "LayoutModel",
            "_view_count": null,
            "_view_module": "@jupyter-widgets/base",
            "_view_module_version": "1.2.0",
            "_view_name": "LayoutView",
            "align_content": null,
            "align_items": null,
            "align_self": null,
            "border": null,
            "bottom": null,
            "display": null,
            "flex": null,
            "flex_flow": null,
            "grid_area": null,
            "grid_auto_columns": null,
            "grid_auto_flow": null,
            "grid_auto_rows": null,
            "grid_column": null,
            "grid_gap": null,
            "grid_row": null,
            "grid_template_areas": null,
            "grid_template_columns": null,
            "grid_template_rows": null,
            "height": null,
            "justify_content": null,
            "justify_items": null,
            "left": null,
            "margin": null,
            "max_height": null,
            "max_width": null,
            "min_height": null,
            "min_width": null,
            "object_fit": null,
            "object_position": null,
            "order": null,
            "overflow": null,
            "overflow_x": null,
            "overflow_y": null,
            "padding": null,
            "right": null,
            "top": null,
            "visibility": null,
            "width": null
          }
        },
        "90d82049f1594ea49c93f4380d2dea04": {
          "model_module": "@jupyter-widgets/controls",
          "model_name": "DescriptionStyleModel",
          "model_module_version": "1.5.0",
          "state": {
            "_model_module": "@jupyter-widgets/controls",
            "_model_module_version": "1.5.0",
            "_model_name": "DescriptionStyleModel",
            "_view_count": null,
            "_view_module": "@jupyter-widgets/base",
            "_view_module_version": "1.2.0",
            "_view_name": "StyleView",
            "description_width": ""
          }
        },
        "d2d00dd0e7514445bc53ac24993e7dbc": {
          "model_module": "@jupyter-widgets/controls",
          "model_name": "HBoxModel",
          "model_module_version": "1.5.0",
          "state": {
            "_dom_classes": [],
            "_model_module": "@jupyter-widgets/controls",
            "_model_module_version": "1.5.0",
            "_model_name": "HBoxModel",
            "_view_count": null,
            "_view_module": "@jupyter-widgets/controls",
            "_view_module_version": "1.5.0",
            "_view_name": "HBoxView",
            "box_style": "",
            "children": [
              "IPY_MODEL_d2ce412011d54431908ce6ae645455c3",
              "IPY_MODEL_8b8ede3e5a7144c2a5f46cfbde843611",
              "IPY_MODEL_931e2a1ffdf04534a5e62a1b994e6840"
            ],
            "layout": "IPY_MODEL_734cbee0a83d4ba49376a0a36c74e695"
          }
        },
        "d2ce412011d54431908ce6ae645455c3": {
          "model_module": "@jupyter-widgets/controls",
          "model_name": "HTMLModel",
          "model_module_version": "1.5.0",
          "state": {
            "_dom_classes": [],
            "_model_module": "@jupyter-widgets/controls",
            "_model_module_version": "1.5.0",
            "_model_name": "HTMLModel",
            "_view_count": null,
            "_view_module": "@jupyter-widgets/controls",
            "_view_module_version": "1.5.0",
            "_view_name": "HTMLView",
            "description": "",
            "description_tooltip": null,
            "layout": "IPY_MODEL_87137a2b342346d79d53cfd84a42942a",
            "placeholder": "​",
            "style": "IPY_MODEL_dbcd6b1a3d034341818ee6c1e163b44d",
            "value": "Downloading builder script: 100%"
          }
        },
        "8b8ede3e5a7144c2a5f46cfbde843611": {
          "model_module": "@jupyter-widgets/controls",
          "model_name": "FloatProgressModel",
          "model_module_version": "1.5.0",
          "state": {
            "_dom_classes": [],
            "_model_module": "@jupyter-widgets/controls",
            "_model_module_version": "1.5.0",
            "_model_name": "FloatProgressModel",
            "_view_count": null,
            "_view_module": "@jupyter-widgets/controls",
            "_view_module_version": "1.5.0",
            "_view_name": "ProgressView",
            "bar_style": "success",
            "description": "",
            "description_tooltip": null,
            "layout": "IPY_MODEL_99c532d5ef714d6780331573c0d00867",
            "max": 4203,
            "min": 0,
            "orientation": "horizontal",
            "style": "IPY_MODEL_c441219184304d7eb0a0b6bf6cb61cdd",
            "value": 4203
          }
        },
        "931e2a1ffdf04534a5e62a1b994e6840": {
          "model_module": "@jupyter-widgets/controls",
          "model_name": "HTMLModel",
          "model_module_version": "1.5.0",
          "state": {
            "_dom_classes": [],
            "_model_module": "@jupyter-widgets/controls",
            "_model_module_version": "1.5.0",
            "_model_name": "HTMLModel",
            "_view_count": null,
            "_view_module": "@jupyter-widgets/controls",
            "_view_module_version": "1.5.0",
            "_view_name": "HTMLView",
            "description": "",
            "description_tooltip": null,
            "layout": "IPY_MODEL_df82e47a5f0246e4847d845c9d338d95",
            "placeholder": "​",
            "style": "IPY_MODEL_340c13ac5e324b129a0c728b145cbbb2",
            "value": " 4.20k/4.20k [00:00&lt;00:00, 132kB/s]"
          }
        },
        "734cbee0a83d4ba49376a0a36c74e695": {
          "model_module": "@jupyter-widgets/base",
          "model_name": "LayoutModel",
          "model_module_version": "1.2.0",
          "state": {
            "_model_module": "@jupyter-widgets/base",
            "_model_module_version": "1.2.0",
            "_model_name": "LayoutModel",
            "_view_count": null,
            "_view_module": "@jupyter-widgets/base",
            "_view_module_version": "1.2.0",
            "_view_name": "LayoutView",
            "align_content": null,
            "align_items": null,
            "align_self": null,
            "border": null,
            "bottom": null,
            "display": null,
            "flex": null,
            "flex_flow": null,
            "grid_area": null,
            "grid_auto_columns": null,
            "grid_auto_flow": null,
            "grid_auto_rows": null,
            "grid_column": null,
            "grid_gap": null,
            "grid_row": null,
            "grid_template_areas": null,
            "grid_template_columns": null,
            "grid_template_rows": null,
            "height": null,
            "justify_content": null,
            "justify_items": null,
            "left": null,
            "margin": null,
            "max_height": null,
            "max_width": null,
            "min_height": null,
            "min_width": null,
            "object_fit": null,
            "object_position": null,
            "order": null,
            "overflow": null,
            "overflow_x": null,
            "overflow_y": null,
            "padding": null,
            "right": null,
            "top": null,
            "visibility": null,
            "width": null
          }
        },
        "87137a2b342346d79d53cfd84a42942a": {
          "model_module": "@jupyter-widgets/base",
          "model_name": "LayoutModel",
          "model_module_version": "1.2.0",
          "state": {
            "_model_module": "@jupyter-widgets/base",
            "_model_module_version": "1.2.0",
            "_model_name": "LayoutModel",
            "_view_count": null,
            "_view_module": "@jupyter-widgets/base",
            "_view_module_version": "1.2.0",
            "_view_name": "LayoutView",
            "align_content": null,
            "align_items": null,
            "align_self": null,
            "border": null,
            "bottom": null,
            "display": null,
            "flex": null,
            "flex_flow": null,
            "grid_area": null,
            "grid_auto_columns": null,
            "grid_auto_flow": null,
            "grid_auto_rows": null,
            "grid_column": null,
            "grid_gap": null,
            "grid_row": null,
            "grid_template_areas": null,
            "grid_template_columns": null,
            "grid_template_rows": null,
            "height": null,
            "justify_content": null,
            "justify_items": null,
            "left": null,
            "margin": null,
            "max_height": null,
            "max_width": null,
            "min_height": null,
            "min_width": null,
            "object_fit": null,
            "object_position": null,
            "order": null,
            "overflow": null,
            "overflow_x": null,
            "overflow_y": null,
            "padding": null,
            "right": null,
            "top": null,
            "visibility": null,
            "width": null
          }
        },
        "dbcd6b1a3d034341818ee6c1e163b44d": {
          "model_module": "@jupyter-widgets/controls",
          "model_name": "DescriptionStyleModel",
          "model_module_version": "1.5.0",
          "state": {
            "_model_module": "@jupyter-widgets/controls",
            "_model_module_version": "1.5.0",
            "_model_name": "DescriptionStyleModel",
            "_view_count": null,
            "_view_module": "@jupyter-widgets/base",
            "_view_module_version": "1.2.0",
            "_view_name": "StyleView",
            "description_width": ""
          }
        },
        "99c532d5ef714d6780331573c0d00867": {
          "model_module": "@jupyter-widgets/base",
          "model_name": "LayoutModel",
          "model_module_version": "1.2.0",
          "state": {
            "_model_module": "@jupyter-widgets/base",
            "_model_module_version": "1.2.0",
            "_model_name": "LayoutModel",
            "_view_count": null,
            "_view_module": "@jupyter-widgets/base",
            "_view_module_version": "1.2.0",
            "_view_name": "LayoutView",
            "align_content": null,
            "align_items": null,
            "align_self": null,
            "border": null,
            "bottom": null,
            "display": null,
            "flex": null,
            "flex_flow": null,
            "grid_area": null,
            "grid_auto_columns": null,
            "grid_auto_flow": null,
            "grid_auto_rows": null,
            "grid_column": null,
            "grid_gap": null,
            "grid_row": null,
            "grid_template_areas": null,
            "grid_template_columns": null,
            "grid_template_rows": null,
            "height": null,
            "justify_content": null,
            "justify_items": null,
            "left": null,
            "margin": null,
            "max_height": null,
            "max_width": null,
            "min_height": null,
            "min_width": null,
            "object_fit": null,
            "object_position": null,
            "order": null,
            "overflow": null,
            "overflow_x": null,
            "overflow_y": null,
            "padding": null,
            "right": null,
            "top": null,
            "visibility": null,
            "width": null
          }
        },
        "c441219184304d7eb0a0b6bf6cb61cdd": {
          "model_module": "@jupyter-widgets/controls",
          "model_name": "ProgressStyleModel",
          "model_module_version": "1.5.0",
          "state": {
            "_model_module": "@jupyter-widgets/controls",
            "_model_module_version": "1.5.0",
            "_model_name": "ProgressStyleModel",
            "_view_count": null,
            "_view_module": "@jupyter-widgets/base",
            "_view_module_version": "1.2.0",
            "_view_name": "StyleView",
            "bar_color": null,
            "description_width": ""
          }
        },
        "df82e47a5f0246e4847d845c9d338d95": {
          "model_module": "@jupyter-widgets/base",
          "model_name": "LayoutModel",
          "model_module_version": "1.2.0",
          "state": {
            "_model_module": "@jupyter-widgets/base",
            "_model_module_version": "1.2.0",
            "_model_name": "LayoutModel",
            "_view_count": null,
            "_view_module": "@jupyter-widgets/base",
            "_view_module_version": "1.2.0",
            "_view_name": "LayoutView",
            "align_content": null,
            "align_items": null,
            "align_self": null,
            "border": null,
            "bottom": null,
            "display": null,
            "flex": null,
            "flex_flow": null,
            "grid_area": null,
            "grid_auto_columns": null,
            "grid_auto_flow": null,
            "grid_auto_rows": null,
            "grid_column": null,
            "grid_gap": null,
            "grid_row": null,
            "grid_template_areas": null,
            "grid_template_columns": null,
            "grid_template_rows": null,
            "height": null,
            "justify_content": null,
            "justify_items": null,
            "left": null,
            "margin": null,
            "max_height": null,
            "max_width": null,
            "min_height": null,
            "min_width": null,
            "object_fit": null,
            "object_position": null,
            "order": null,
            "overflow": null,
            "overflow_x": null,
            "overflow_y": null,
            "padding": null,
            "right": null,
            "top": null,
            "visibility": null,
            "width": null
          }
        },
        "340c13ac5e324b129a0c728b145cbbb2": {
          "model_module": "@jupyter-widgets/controls",
          "model_name": "DescriptionStyleModel",
          "model_module_version": "1.5.0",
          "state": {
            "_model_module": "@jupyter-widgets/controls",
            "_model_module_version": "1.5.0",
            "_model_name": "DescriptionStyleModel",
            "_view_count": null,
            "_view_module": "@jupyter-widgets/base",
            "_view_module_version": "1.2.0",
            "_view_name": "StyleView",
            "description_width": ""
          }
        }
      }
    }
  },
  "nbformat": 4,
  "nbformat_minor": 5
}