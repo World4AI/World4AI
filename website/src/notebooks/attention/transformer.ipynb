{
  "cells": [
    {
      "cell_type": "markdown",
      "id": "3005a817-bf98-4789-92b4-f8c77ec23871",
      "metadata": {
        "id": "3005a817-bf98-4789-92b4-f8c77ec23871"
      },
      "source": [
        "# Transformer"
      ]
    },
    {
      "cell_type": "markdown",
      "id": "d4909f57-0796-44a1-bc7b-77550e7137a9",
      "metadata": {
        "id": "d4909f57-0796-44a1-bc7b-77550e7137a9"
      },
      "source": [
        "In this section we implement the transformer architecture. This notebook is highly inspired by the book [Natural Language Processing with Transformers](https://transformersbook.com/) and the following [notebook](https://github.com/bentrevett/pytorch-seq2seq/blob/master/6%20-%20Attention%20is%20All%20You%20Need.ipynb) by the github user `bentrevett`."
      ]
    },
    {
      "cell_type": "code",
      "source": [
        "!nvidia-smi"
      ],
      "metadata": {
        "colab": {
          "base_uri": "https://localhost:8080/"
        },
        "id": "NTj3FEjfL4Xk",
        "outputId": "293dd03e-dd22-4b10-a467-695f700068dc"
      },
      "id": "NTj3FEjfL4Xk",
      "execution_count": 37,
      "outputs": [
        {
          "output_type": "stream",
          "name": "stdout",
          "text": [
            "Thu Sep 29 12:29:06 2022       \n",
            "+-----------------------------------------------------------------------------+\n",
            "| NVIDIA-SMI 460.32.03    Driver Version: 460.32.03    CUDA Version: 11.2     |\n",
            "|-------------------------------+----------------------+----------------------+\n",
            "| GPU  Name        Persistence-M| Bus-Id        Disp.A | Volatile Uncorr. ECC |\n",
            "| Fan  Temp  Perf  Pwr:Usage/Cap|         Memory-Usage | GPU-Util  Compute M. |\n",
            "|                               |                      |               MIG M. |\n",
            "|===============================+======================+======================|\n",
            "|   0  Tesla P100-PCIE...  Off  | 00000000:00:04.0 Off |                    0 |\n",
            "| N/A   55C    P0    43W / 250W |   3439MiB / 16280MiB |      0%      Default |\n",
            "|                               |                      |                  N/A |\n",
            "+-------------------------------+----------------------+----------------------+\n",
            "                                                                               \n",
            "+-----------------------------------------------------------------------------+\n",
            "| Processes:                                                                  |\n",
            "|  GPU   GI   CI        PID   Type   Process name                  GPU Memory |\n",
            "|        ID   ID                                                   Usage      |\n",
            "|=============================================================================|\n",
            "+-----------------------------------------------------------------------------+\n"
          ]
        }
      ]
    },
    {
      "cell_type": "code",
      "execution_count": 1,
      "id": "0146edb6-a0c5-4845-8a05-3df56459f6d3",
      "metadata": {
        "id": "0146edb6-a0c5-4845-8a05-3df56459f6d3"
      },
      "outputs": [],
      "source": [
        "import re\n",
        "import random\n",
        "\n",
        "import torch\n",
        "import torch.nn as nn\n",
        "import torch.optim as optim\n",
        "from torch.utils.data import Dataset, DataLoader"
      ]
    },
    {
      "cell_type": "code",
      "execution_count": 2,
      "id": "46dec903-935f-42bc-83f3-e0ee578c24e4",
      "metadata": {
        "id": "46dec903-935f-42bc-83f3-e0ee578c24e4",
        "outputId": "c9c2f95c-aea7-4eaf-8c53-bc87c89b375d",
        "colab": {
          "base_uri": "https://localhost:8080/"
        }
      },
      "outputs": [
        {
          "output_type": "stream",
          "name": "stdout",
          "text": [
            "mkdir: cannot create directory ‘../datasets’: File exists\n"
          ]
        }
      ],
      "source": [
        "!mkdir ../datasets && cd ../datasets/ && { curl -O https://www.manythings.org/anki/deu-eng.zip ; cd -; }"
      ]
    },
    {
      "cell_type": "code",
      "execution_count": 3,
      "id": "dcaf3f43-326a-4ba6-9fc7-b3c0b55fc0d3",
      "metadata": {
        "id": "dcaf3f43-326a-4ba6-9fc7-b3c0b55fc0d3",
        "outputId": "a4b4ac23-9dab-4a4b-9163-3deb42825e93",
        "colab": {
          "base_uri": "https://localhost:8080/"
        }
      },
      "outputs": [
        {
          "output_type": "stream",
          "name": "stdout",
          "text": [
            "Archive:  ../datasets/deu-eng.zip\n",
            "  inflating: ../datasets/deu_eng/deu.txt  \n",
            "  inflating: ../datasets/deu_eng/_about.txt  \n"
          ]
        }
      ],
      "source": [
        "!rm -rf ../datasets/deu_eng/\n",
        "!unzip ../datasets/deu-eng.zip -d ../datasets/deu_eng"
      ]
    },
    {
      "cell_type": "code",
      "execution_count": 4,
      "id": "95f4d41c-8e59-4bd9-b08d-8dabdd808f5f",
      "metadata": {
        "id": "95f4d41c-8e59-4bd9-b08d-8dabdd808f5f"
      },
      "outputs": [],
      "source": [
        "def normalize(s):\n",
        "    s = s.lower().strip()\n",
        "    s = re.sub(r\"([.!?])\", r\" \\1\", s)\n",
        "    return s\n",
        "\n",
        "def tokenizer(s):\n",
        "    s = normalize(s)\n",
        "    s = s.split(' ')\n",
        "    s.insert(0, '<sos>')\n",
        "    s.append('<eos>')\n",
        "    return s"
      ]
    },
    {
      "cell_type": "code",
      "execution_count": 5,
      "id": "4d354306-a5e3-4f17-8005-788746bc0165",
      "metadata": {
        "id": "4d354306-a5e3-4f17-8005-788746bc0165"
      },
      "outputs": [],
      "source": [
        "def read_pairs(max_len=20):\n",
        "    print(\"Reading lines...\")\n",
        "    en_seq = []\n",
        "    de_seq = []\n",
        "    with open('../datasets/deu_eng/deu.txt', 'r', encoding='utf-8') as file:\n",
        "        print(f\"Tokenizing and removing sentences larger than {max_len}\")\n",
        "        for line in file:\n",
        "            pairs = line.split('\\t')\n",
        "            \n",
        "            en_sentence, de_sentence = tokenizer(pairs[0]), tokenizer(pairs[1])\n",
        "            \n",
        "            if len(en_sentence) <= max_len and len(de_sentence) <= max_len:\n",
        "                en_seq.append(en_sentence)\n",
        "                de_seq.append(de_sentence)\n",
        "        print(f\"The dataset has {len(en_seq)} pairs\")\n",
        "        return en_seq, de_seq\n"
      ]
    },
    {
      "cell_type": "code",
      "execution_count": 6,
      "id": "221e9fcb-8b74-4547-80b6-ab2efed30a0f",
      "metadata": {
        "id": "221e9fcb-8b74-4547-80b6-ab2efed30a0f",
        "outputId": "8d53e59b-f8e0-4990-ac92-b70207f4fd10",
        "colab": {
          "base_uri": "https://localhost:8080/"
        }
      },
      "outputs": [
        {
          "output_type": "stream",
          "name": "stdout",
          "text": [
            "Reading lines...\n",
            "Tokenizing and removing sentences larger than 20\n",
            "The dataset has 254600 pairs\n"
          ]
        }
      ],
      "source": [
        "en_seq, de_seq = read_pairs()"
      ]
    },
    {
      "cell_type": "code",
      "execution_count": 7,
      "id": "ede717c1-2d2d-44db-9937-428048be9b0a",
      "metadata": {
        "id": "ede717c1-2d2d-44db-9937-428048be9b0a"
      },
      "outputs": [],
      "source": [
        "from sklearn.model_selection import train_test_split"
      ]
    },
    {
      "cell_type": "code",
      "execution_count": 8,
      "id": "ebe10234-3187-4ae6-b40a-eed41901b935",
      "metadata": {
        "id": "ebe10234-3187-4ae6-b40a-eed41901b935"
      },
      "outputs": [],
      "source": [
        "#separate into train test split\n",
        "# train_frac = 0.8\n",
        "# val_frac = 0.1\n",
        "# test_frac = 0.1\n",
        "train_en, test_val_en, train_de, test_val_de = train_test_split(en_seq, de_seq, test_size=0.2)\n",
        "val_en, test_en, val_de, test_de = train_test_split(test_val_en, test_val_de, test_size=0.5)"
      ]
    },
    {
      "cell_type": "code",
      "execution_count": 9,
      "id": "ee5051ca-3391-4931-a9c5-3597202d9621",
      "metadata": {
        "id": "ee5051ca-3391-4931-a9c5-3597202d9621"
      },
      "outputs": [],
      "source": [
        "class PairDataset(Dataset):\n",
        "    def __init__(self, en, de):\n",
        "        assert len(en) == len(de)\n",
        "        self.en = en\n",
        "        self.de = de\n",
        "    \n",
        "    def __len__(self):\n",
        "        return len(self.en)\n",
        "    \n",
        "    def __getitem__(self, idx):\n",
        "        return self.en[idx], self.de[idx]\n"
      ]
    },
    {
      "cell_type": "code",
      "execution_count": 10,
      "id": "8472233c-6121-4474-b308-efa6f4f4fcc1",
      "metadata": {
        "id": "8472233c-6121-4474-b308-efa6f4f4fcc1"
      },
      "outputs": [],
      "source": [
        "train_dataset = PairDataset(train_en, train_de)\n",
        "val_dataset = PairDataset(val_en, val_de)\n",
        "test_dataset = PairDataset(test_en, test_de)"
      ]
    },
    {
      "cell_type": "code",
      "execution_count": 11,
      "id": "05813932-98a7-4335-8c85-4e531b00e77f",
      "metadata": {
        "id": "05813932-98a7-4335-8c85-4e531b00e77f"
      },
      "outputs": [],
      "source": [
        "from collections import Counter, OrderedDict"
      ]
    },
    {
      "cell_type": "code",
      "execution_count": 12,
      "id": "ec13d288-545d-4c78-845a-cc04837e9e14",
      "metadata": {
        "id": "ec13d288-545d-4c78-845a-cc04837e9e14"
      },
      "outputs": [],
      "source": [
        "en_counter = Counter()\n",
        "de_counter = Counter()\n",
        "\n",
        "for line in train_en:\n",
        "    en_counter.update(line)\n",
        "\n",
        "for line in train_de:\n",
        "    de_counter.update(line)"
      ]
    },
    {
      "cell_type": "code",
      "execution_count": 13,
      "id": "81599f94-7532-46c5-982a-3aad48c9c3af",
      "metadata": {
        "id": "81599f94-7532-46c5-982a-3aad48c9c3af"
      },
      "outputs": [],
      "source": [
        "en_sorted_by_freq_tuples = sorted(en_counter.items(), key=lambda x: x[1], reverse=True)\n",
        "en_ordered_dict = OrderedDict(en_sorted_by_freq_tuples)\n",
        "\n",
        "de_sorted_by_freq_tuples = sorted(de_counter.items(), key=lambda x: x[1], reverse=True)\n",
        "de_ordered_dict = OrderedDict(de_sorted_by_freq_tuples)"
      ]
    },
    {
      "cell_type": "code",
      "execution_count": 14,
      "id": "cc319130-46ed-4e0a-a707-73efe9b2b5f8",
      "metadata": {
        "id": "cc319130-46ed-4e0a-a707-73efe9b2b5f8"
      },
      "outputs": [],
      "source": [
        "import torchtext\n",
        "en_vocab = torchtext.vocab.vocab(en_ordered_dict, min_freq = 2, specials=['<pad>', '<unk>', '<sos>', '<eos>'], special_first = True)\n",
        "de_vocab = torchtext.vocab.vocab(de_ordered_dict, min_freq = 2, specials=['<pad>', '<unk>', '<sos>', '<eos>'], special_first = True)\n",
        "\n",
        "en_vocab.set_default_index(1)\n",
        "de_vocab.set_default_index(1)"
      ]
    },
    {
      "cell_type": "code",
      "execution_count": 15,
      "id": "22f5ee51-8383-4684-8a89-ef39c3969004",
      "metadata": {
        "id": "22f5ee51-8383-4684-8a89-ef39c3969004",
        "outputId": "94419473-3129-4b46-801c-bc37a1f0ea19",
        "colab": {
          "base_uri": "https://localhost:8080/"
        }
      },
      "outputs": [
        {
          "output_type": "execute_result",
          "data": {
            "text/plain": [
              "([2, 5, 12, 1580, 28, 4, 3], [2, 6, 3212, 37, 61, 4, 3])"
            ]
          },
          "metadata": {},
          "execution_count": 15
        }
      ],
      "source": [
        "en_vocab(train_en[0]), de_vocab(train_de[0])"
      ]
    },
    {
      "cell_type": "code",
      "execution_count": 16,
      "id": "8b956a78-81d0-44ed-9340-a1688a915342",
      "metadata": {
        "id": "8b956a78-81d0-44ed-9340-a1688a915342",
        "outputId": "65c3cbe3-b514-41d1-8f6e-31002fbf477a",
        "colab": {
          "base_uri": "https://localhost:8080/"
        }
      },
      "outputs": [
        {
          "output_type": "execute_result",
          "data": {
            "text/plain": [
              "(12467, 21045)"
            ]
          },
          "metadata": {},
          "execution_count": 16
        }
      ],
      "source": [
        "len(en_vocab), len(de_vocab)"
      ]
    },
    {
      "cell_type": "code",
      "execution_count": 17,
      "id": "cc585e37-54c4-4192-8ce8-5b548bba02e0",
      "metadata": {
        "id": "cc585e37-54c4-4192-8ce8-5b548bba02e0"
      },
      "outputs": [],
      "source": [
        "def collate(batch):\n",
        "    en, de = [], []\n",
        "    for en_token, de_token in batch:\n",
        "        en.append(torch.tensor(en_vocab(en_token), dtype=torch.int64))\n",
        "        de.append(torch.tensor(de_vocab(de_token), dtype=torch.int64))\n",
        "    en_padded = nn.utils.rnn.pad_sequence(en, batch_first=True)\n",
        "    de_padded = nn.utils.rnn.pad_sequence(de, batch_first=True)\n",
        "    return en_padded, de_padded"
      ]
    },
    {
      "cell_type": "code",
      "execution_count": 18,
      "id": "e67703d1-7ed2-4010-9771-517dd6c8563a",
      "metadata": {
        "id": "e67703d1-7ed2-4010-9771-517dd6c8563a"
      },
      "outputs": [],
      "source": [
        "en_vocab_len = len(en_vocab)\n",
        "de_vocab_len = len(de_vocab)\n",
        "batch_size = 128\n",
        "\n",
        "# original Transformer parameter\n",
        "dim = 512\n",
        "num_heads = 8\n",
        "head_dim = dim // num_heads\n",
        "fc_dim=2048\n",
        "num_encoders = 8\n",
        "num_decoders = 8\n",
        "\n",
        "# parameters we are going to use parameter\n",
        "dim = 128\n",
        "num_heads = 8\n",
        "head_dim = dim // num_heads\n",
        "fc_dim=256\n",
        "num_encoders = 3\n",
        "num_decoders = 3"
      ]
    },
    {
      "cell_type": "code",
      "source": [
        "128/8"
      ],
      "metadata": {
        "colab": {
          "base_uri": "https://localhost:8080/"
        },
        "id": "ZqqnPLdbK4KZ",
        "outputId": "e9499675-3616-483e-8934-1aa24264bb11"
      },
      "id": "ZqqnPLdbK4KZ",
      "execution_count": 19,
      "outputs": [
        {
          "output_type": "execute_result",
          "data": {
            "text/plain": [
              "16.0"
            ]
          },
          "metadata": {},
          "execution_count": 19
        }
      ]
    },
    {
      "cell_type": "code",
      "source": [
        "DEVICE = torch.device(\"cuda\" if torch.cuda.is_available() else \"cpu\")\n",
        "print(DEVICE)"
      ],
      "metadata": {
        "colab": {
          "base_uri": "https://localhost:8080/"
        },
        "id": "qV9vRWbOxuM5",
        "outputId": "36e79892-332f-431d-c769-fb1a10748ac7"
      },
      "id": "qV9vRWbOxuM5",
      "execution_count": 20,
      "outputs": [
        {
          "output_type": "stream",
          "name": "stdout",
          "text": [
            "cuda\n"
          ]
        }
      ]
    },
    {
      "cell_type": "code",
      "execution_count": 21,
      "id": "ec04d924-6805-45a1-ae26-4dde07197c67",
      "metadata": {
        "id": "ec04d924-6805-45a1-ae26-4dde07197c67"
      },
      "outputs": [],
      "source": [
        "train_dataloader = DataLoader(dataset=train_dataset, batch_size=batch_size, shuffle=True, collate_fn=collate, drop_last=True)\n",
        "val_dataloader = DataLoader(dataset=val_dataset, batch_size=batch_size, shuffle=False, collate_fn=collate)\n",
        "train_dataloader = DataLoader(dataset=test_dataset, batch_size=batch_size, shuffle=False, collate_fn=collate)"
      ]
    },
    {
      "cell_type": "code",
      "execution_count": 22,
      "id": "b3f43f68-27f8-4eb7-92c1-e1bcd19f2347",
      "metadata": {
        "id": "b3f43f68-27f8-4eb7-92c1-e1bcd19f2347"
      },
      "outputs": [],
      "source": [
        "def self_attention(query, key, value, mask=None):\n",
        "    dim_sqrt = torch.tensor(key.size(-1)).sqrt()\n",
        "    scores = query @ key.transpose(1, 2) / dim_sqrt\n",
        "    if mask is not None:\n",
        "        scores = scores.masked_fill(mask == 0, float(\"-inf\"))\n",
        "    \n",
        "    attention_weights = torch.softmax(scores, dim=-1)\n",
        "    attention = attention_weights @ value\n",
        "    return attention"
      ]
    },
    {
      "cell_type": "code",
      "execution_count": 23,
      "id": "1dd1f5e2-788b-4f11-bc59-db8b03151032",
      "metadata": {
        "id": "1dd1f5e2-788b-4f11-bc59-db8b03151032"
      },
      "outputs": [],
      "source": [
        "class AttentionHead(nn.Module):\n",
        "    def __init__(self, embed_dim, head_dim):\n",
        "        super().__init__()\n",
        "        self.query = nn.Linear(embed_dim, head_dim)\n",
        "        self.key = nn.Linear(embed_dim, head_dim)\n",
        "        self.value = nn.Linear(embed_dim, head_dim)\n",
        "    \n",
        "    def forward(self, query, key, value, mask=None):\n",
        "        query = self.query(query)\n",
        "        key = self.key(key)\n",
        "        value = self.value(value)\n",
        "        \n",
        "        return self_attention(query, key, value, mask)"
      ]
    },
    {
      "cell_type": "code",
      "execution_count": 24,
      "id": "0bd63647-b582-424f-86f0-0ef4a44c95c3",
      "metadata": {
        "id": "0bd63647-b582-424f-86f0-0ef4a44c95c3"
      },
      "outputs": [],
      "source": [
        "class MultiHeadAttention(nn.Module):\n",
        "    def __init__(self, embed_dim, head_dim, num_heads):\n",
        "        super().__init__()\n",
        "        self.heads = nn.ModuleList([AttentionHead(embed_dim, head_dim) for _ in range(num_heads)])\n",
        "        self.output = nn.Linear(embed_dim, embed_dim)\n",
        "        self.dropout = nn.Dropout(0.1)\n",
        "    \n",
        "    def forward(self, query, key, value, mask=None):\n",
        "        x = [head(query, key, value, mask) for head in self.heads]\n",
        "        x = torch.cat(x, dim=-1)\n",
        "        x = self.output(x)\n",
        "        x = self.dropout(x)\n",
        "        return x"
      ]
    },
    {
      "cell_type": "code",
      "execution_count": 25,
      "id": "fa65d58a-d603-4adc-975e-c82b5ec4833e",
      "metadata": {
        "id": "fa65d58a-d603-4adc-975e-c82b5ec4833e"
      },
      "outputs": [],
      "source": [
        "# pointwise feedforward\n",
        "class PWFeedForward(nn.Module):\n",
        "    def __init__(self, embed_dim, fc_dim):\n",
        "        super().__init__()\n",
        "        self.layers = nn.Sequential(nn.Linear(embed_dim, fc_dim),\n",
        "                                    nn.ReLU(),\n",
        "                                    nn.Linear(fc_dim, embed_dim),\n",
        "                                    nn.Dropout(p=0.1))\n",
        "    \n",
        "    def forward(self, x):\n",
        "        return self.layers(x)"
      ]
    },
    {
      "cell_type": "code",
      "execution_count": 26,
      "id": "4444db2d-225b-4dec-9802-0db12e39464f",
      "metadata": {
        "id": "4444db2d-225b-4dec-9802-0db12e39464f"
      },
      "outputs": [],
      "source": [
        "class EncoderLayer(nn.Module):\n",
        "    def __init__(self, embed_dim, head_dim, fc_dim, num_heads):\n",
        "        super().__init__()\n",
        "        self.layer_norm_1 = nn.LayerNorm(embed_dim)\n",
        "        self.layer_norm_2 = nn.LayerNorm(embed_dim)\n",
        "        self.multi_head_attention = MultiHeadAttention(embed_dim, head_dim, num_heads)\n",
        "        self.pw_feedforward = PWFeedForward(embed_dim, fc_dim)\n",
        "    \n",
        "    def forward(self, x, mask):\n",
        "        # skip connection 1\n",
        "        x = x + self.multi_head_attention(x, x, x, mask)\n",
        "        x = self.layer_norm_1(x)\n",
        "\n",
        "        # skip connection 2\n",
        "        x = x + self.pw_feedforward(x)\n",
        "        x = self.layer_norm_2(x)\n",
        "        \n",
        "        return x"
      ]
    },
    {
      "cell_type": "code",
      "execution_count": 27,
      "id": "8828e8a8-26af-4d3f-9302-ebec5acf4116",
      "metadata": {
        "id": "8828e8a8-26af-4d3f-9302-ebec5acf4116"
      },
      "outputs": [],
      "source": [
        "class Encoder(nn.Module): \n",
        "    def __init__(self, num_layers, embed_dim, head_dim, fc_dim, num_heads):\n",
        "        super().__init__()\n",
        "        self.encoders = nn.ModuleList([EncoderLayer(embed_dim, head_dim, fc_dim, num_heads) for _ in range(num_layers)])\n",
        "    \n",
        "    def forward(self, x, mask):\n",
        "        for encoder in self.encoders:\n",
        "            x = encoder(x, mask)\n",
        "        return x"
      ]
    },
    {
      "cell_type": "code",
      "execution_count": 28,
      "id": "2a8bedd1-ed4e-4cb1-a04b-8dc2b897d6a5",
      "metadata": {
        "id": "2a8bedd1-ed4e-4cb1-a04b-8dc2b897d6a5"
      },
      "outputs": [],
      "source": [
        "class DecoderLayer(nn.Module):\n",
        "    def __init__(self, embed_dim, head_dim, fc_dim, num_heads):\n",
        "        super().__init__()\n",
        "        self.layer_norm_1 = nn.LayerNorm(embed_dim)\n",
        "        self.layer_norm_2 = nn.LayerNorm(embed_dim)\n",
        "        self.layer_norm_3 = nn.LayerNorm(embed_dim)\n",
        "\n",
        "        self.self_attention = MultiHeadAttention(embed_dim, head_dim, num_heads)\n",
        "        self.encoder_attention = MultiHeadAttention(embed_dim, head_dim, num_heads)\n",
        "        self.pw_feedforward = PWFeedForward(embed_dim, fc_dim)\n",
        "\n",
        "    \n",
        "    def forward(self, src, trg, src_mask, trg_mask):        \n",
        "        #skip connection 1\n",
        "        x = trg + self.self_attention(trg, trg, trg, trg_mask)\n",
        "        x = self.layer_norm_1(x)\n",
        "        \n",
        "        #skip connection 2\n",
        "        x = x + self.encoder_attention(x, src, src, src_mask)\n",
        "        x = self.layer_norm_2(x)\n",
        "        \n",
        "        #skip connection 3\n",
        "        x = x + self.pw_feedforward(x)\n",
        "        x = self.layer_norm_3(x)\n",
        "\n",
        "        return x"
      ]
    },
    {
      "cell_type": "code",
      "execution_count": 29,
      "id": "30c9b36c-d759-4cb9-b49d-192ddd07bd68",
      "metadata": {
        "id": "30c9b36c-d759-4cb9-b49d-192ddd07bd68"
      },
      "outputs": [],
      "source": [
        "class Decoder(nn.Module):\n",
        "    def __init__(self, num_layers, embed_dim, head_dim, fc_dim, num_heads):\n",
        "        super().__init__()\n",
        "        self.decoders = nn.ModuleList([DecoderLayer(embed_dim, head_dim, fc_dim, num_heads) for _ in range(num_layers)])\n",
        " \n",
        "    def forward(self, src, trg, src_mask, trg_mask):\n",
        "        for decoder in self.decoders:\n",
        "            trg = decoder(src, trg, src_mask, trg_mask)\n",
        "        return trg"
      ]
    },
    {
      "cell_type": "code",
      "execution_count": 30,
      "id": "f8021052-a279-4e73-8160-924607f7b64a",
      "metadata": {
        "id": "f8021052-a279-4e73-8160-924607f7b64a"
      },
      "outputs": [],
      "source": [
        "class TokenPosEmbedding(nn.Module):\n",
        "    def __init__(self, vocab_size, embed_dim, max_sentence_len):\n",
        "        super().__init__()\n",
        "        self.token_embeddings = nn.Embedding(vocab_size, embed_dim)\n",
        "        self.position_embeddings = nn.Embedding(max_sentence_len, embed_dim)\n",
        "    \n",
        "    def forward(self, x):\n",
        "        # token embedding\n",
        "        token_embeddings = self.token_embeddings(x)\n",
        "        \n",
        "        # positional embedding\n",
        "        seq_len = x.shape[1]\n",
        "        pos_embeddings = self.position_embeddings(torch.arange(0, seq_len, device=DEVICE)).unsqueeze(0)\n",
        "        \n",
        "        return token_embeddings + pos_embeddings"
      ]
    },
    {
      "cell_type": "code",
      "execution_count": 31,
      "id": "8a62b62a-a3d6-4a8b-914b-71fb61212351",
      "metadata": {
        "id": "8a62b62a-a3d6-4a8b-914b-71fb61212351"
      },
      "outputs": [],
      "source": [
        "class Transformer(nn.Module):\n",
        "    def __init__(self, \n",
        "                 en_vocab_size, \n",
        "                 de_vocab_size, \n",
        "                 max_sentence_len, \n",
        "                 embed_dim,\n",
        "                 head_dim,\n",
        "                 num_heads,\n",
        "                 num_encoders,\n",
        "                 num_decoders):\n",
        "        \n",
        "        super().__init__()\n",
        "        self.en_embedding = TokenPosEmbedding(en_vocab_size, embed_dim, max_sentence_len)\n",
        "        self.de_embedding = TokenPosEmbedding(de_vocab_size, embed_dim, max_sentence_len)\n",
        "        self.encoder = Encoder(num_encoders, embed_dim, head_dim, fc_dim, num_heads)\n",
        "        self.decoder = Decoder(num_decoders, embed_dim, head_dim, fc_dim, num_heads)\n",
        "        self.logits = nn.Linear(embed_dim, de_vocab_size)\n",
        "    \n",
        "    def forward(self, src, trg):\n",
        "        # 1: create masks\n",
        "        # padding Mask\n",
        "        src_mask = (src != 0).to(torch.int64).unsqueeze(1)\n",
        "        # mask to prevent the decoder from looking ahead\n",
        "        trg_mask = torch.tril(torch.ones(trg.shape[-1], trg.shape[-1], device=DEVICE)).unsqueeze(0)\n",
        "        \n",
        "        # 2: transformer\n",
        "        src = self.en_embedding(src)\n",
        "        trg = self.de_embedding(trg)\n",
        "        \n",
        "        encoder_output = self.encoder(src, src_mask)\n",
        "        decoder_output = self.decoder(encoder_output, trg, src_mask, trg_mask)\n",
        "        \n",
        "        # 3: output\n",
        "        return self.logits(decoder_output)"
      ]
    },
    {
      "cell_type": "code",
      "execution_count": 32,
      "id": "ee8e71c5-109c-4487-bc83-20e642ee704f",
      "metadata": {
        "id": "ee8e71c5-109c-4487-bc83-20e642ee704f"
      },
      "outputs": [],
      "source": [
        "def track_performance(dataloader, model, criterion):\n",
        "    # switch to evaluation mode\n",
        "    model.eval()\n",
        "    loss_sum = 0\n",
        "    num_iterations = 0\n",
        "\n",
        "    # no need to calculate gradients\n",
        "    with torch.inference_mode():\n",
        "        for en_sequence, de_sequence in dataloader:\n",
        "            en_sequence = en_sequence.to(DEVICE)\n",
        "            de_sequence = de_sequence.to(DEVICE)\n",
        "\n",
        "            logits = model(en_sequence, de_sequence[:, :-1])\n",
        "            \n",
        "            # we don't actually predict the <sos> token\n",
        "            labels = de_sequence[:, 1:]\n",
        "            # we need to reshape in order to be able to use these tensors with CrossEntropyLoss\n",
        "            logits = logits.reshape(-1, logits.size()[2])\n",
        "            labels = labels.reshape(-1)\n",
        "            loss = criterion(logits, labels)\n",
        "            loss_sum += loss.cpu().item()\n",
        "            num_iterations+=1\n",
        "\n",
        "    # we return the average loss and the accuracy\n",
        "    return loss_sum/num_iterations\n"
      ]
    },
    {
      "cell_type": "code",
      "source": [
        "!mkdir temp\n",
        "!ls -la"
      ],
      "metadata": {
        "colab": {
          "base_uri": "https://localhost:8080/"
        },
        "id": "5YuLjNxR66hY",
        "outputId": "fc5c2b70-fdd2-4576-d33c-626494993289"
      },
      "id": "5YuLjNxR66hY",
      "execution_count": 33,
      "outputs": [
        {
          "output_type": "stream",
          "name": "stdout",
          "text": [
            "mkdir: cannot create directory ‘temp’: File exists\n",
            "total 20\n",
            "drwxr-xr-x 1 root root 4096 Sep 29 11:05 .\n",
            "drwxr-xr-x 1 root root 4096 Sep 29 10:53 ..\n",
            "drwxr-xr-x 4 root root 4096 Sep 26 13:44 .config\n",
            "drwxr-xr-x 1 root root 4096 Sep 26 13:45 sample_data\n",
            "drwxr-xr-x 2 root root 4096 Sep 29 11:09 temp\n"
          ]
        }
      ]
    },
    {
      "cell_type": "code",
      "execution_count": 34,
      "id": "ec9a4ac7-da72-4d8f-af5e-3ef7e7072200",
      "metadata": {
        "id": "ec9a4ac7-da72-4d8f-af5e-3ef7e7072200"
      },
      "outputs": [],
      "source": [
        "def train(num_epochs, train_dataloader, val_dataloader, model, optimizer, criterion, scheduler=None):\n",
        "    min_loss = float(\"inf\")\n",
        "    for epoch in range(num_epochs):\n",
        "        loss_sum = 0\n",
        "        num_iterations = 0\n",
        "        for en_sequence, de_sequence in train_dataloader:\n",
        "            model.train()\n",
        "\n",
        "            optimizer.zero_grad()\n",
        "            en_sequence = en_sequence.to(DEVICE)\n",
        "            de_sequence = de_sequence.to(DEVICE)\n",
        "            \n",
        "            logits = model(en_sequence, de_sequence[:, :-1])\n",
        "            labels = de_sequence[:, 1:]\n",
        "            \n",
        "            # we need to reshape in order to be able to use these tensors with CrossEntropyLoss\n",
        "            logits = logits.reshape(-1, logits.size()[2])\n",
        "            labels = labels.reshape(-1)\n",
        "            loss = criterion(logits, labels)\n",
        "            loss.backward()\n",
        "            optimizer.step()\n",
        "            \n",
        "            loss_sum += loss.cpu().item()\n",
        "            num_iterations += 1\n",
        "        train_loss=loss_sum/num_iterations\n",
        "        val_loss = track_performance(val_dataloader, model, criterion)\n",
        "        if scheduler:\n",
        "            scheduler.step(val_loss)\n",
        "        print(f'Epoch: {epoch+1:>2}/{num_epochs} | Train Loss: {train_loss:.5f} | Val Loss: {val_loss:.5f}')\n",
        "        \n",
        "        if val_loss < min_loss:\n",
        "            print(\"Saving Weights!\")\n",
        "            min_loss = val_loss\n",
        "            torch.save(model.state_dict(), f='temp/transformer.pt')"
      ]
    },
    {
      "cell_type": "code",
      "execution_count": 35,
      "id": "d39343a7-ac78-498e-9820-787c2383cdc3",
      "metadata": {
        "id": "d39343a7-ac78-498e-9820-787c2383cdc3"
      },
      "outputs": [],
      "source": [
        "transformer = Transformer(len(en_vocab), len(de_vocab), 20, dim, head_dim, num_heads, num_encoders, num_decoders).to(DEVICE)\n",
        "optimizer = optim.Adam(transformer.parameters(), lr=0.0005)\n",
        "criterion = nn.CrossEntropyLoss(ignore_index=0)\n",
        "scheduler = torch.optim.lr_scheduler.ReduceLROnPlateau(optimizer,\n",
        "                                                       factor=0.1,\n",
        "                                                       mode='min',\n",
        "                                                       patience=2,\n",
        "                                                       verbose=True)\n",
        "\n",
        "num_epochs=20"
      ]
    },
    {
      "cell_type": "code",
      "execution_count": 36,
      "id": "b3e9ae82-136a-4bd2-be9b-59634d7c7182",
      "metadata": {
        "id": "b3e9ae82-136a-4bd2-be9b-59634d7c7182",
        "outputId": "2f83a75c-f59d-4b4e-b927-2d41d59b3a70",
        "colab": {
          "base_uri": "https://localhost:8080/"
        }
      },
      "outputs": [
        {
          "output_type": "stream",
          "name": "stdout",
          "text": [
            "Epoch:  1/30 | Train Loss: 5.52856 | Val Loss: 4.46688\n",
            "Saving Weights!\n",
            "Epoch:  2/30 | Train Loss: 4.08381 | Val Loss: 3.88440\n",
            "Saving Weights!\n",
            "Epoch:  3/30 | Train Loss: 3.52403 | Val Loss: 3.50693\n",
            "Saving Weights!\n",
            "Epoch:  4/30 | Train Loss: 3.11496 | Val Loss: 3.26906\n",
            "Saving Weights!\n",
            "Epoch:  5/30 | Train Loss: 2.78131 | Val Loss: 3.10350\n",
            "Saving Weights!\n",
            "Epoch:  6/30 | Train Loss: 2.49601 | Val Loss: 2.95929\n",
            "Saving Weights!\n",
            "Epoch:  7/30 | Train Loss: 2.24253 | Val Loss: 2.87404\n",
            "Saving Weights!\n",
            "Epoch:  8/30 | Train Loss: 2.01867 | Val Loss: 2.83995\n",
            "Saving Weights!\n",
            "Epoch:  9/30 | Train Loss: 1.82342 | Val Loss: 2.77114\n",
            "Saving Weights!\n",
            "Epoch: 10/30 | Train Loss: 1.64160 | Val Loss: 2.72915\n",
            "Saving Weights!\n",
            "Epoch: 11/30 | Train Loss: 1.47849 | Val Loss: 2.75312\n",
            "Epoch: 12/30 | Train Loss: 1.31820 | Val Loss: 2.75595\n",
            "Epoch 00013: reducing learning rate of group 0 to 5.0000e-05.\n",
            "Epoch: 13/30 | Train Loss: 1.18138 | Val Loss: 2.77096\n",
            "Epoch: 14/30 | Train Loss: 0.98870 | Val Loss: 2.69630\n",
            "Saving Weights!\n",
            "Epoch: 15/30 | Train Loss: 0.93969 | Val Loss: 2.69611\n",
            "Saving Weights!\n",
            "Epoch: 16/30 | Train Loss: 0.91644 | Val Loss: 2.69982\n",
            "Epoch 00017: reducing learning rate of group 0 to 5.0000e-06.\n",
            "Epoch: 17/30 | Train Loss: 0.89564 | Val Loss: 2.70674\n",
            "Epoch: 18/30 | Train Loss: 0.86897 | Val Loss: 2.70510\n",
            "Epoch: 19/30 | Train Loss: 0.86331 | Val Loss: 2.70499\n",
            "Epoch 00020: reducing learning rate of group 0 to 5.0000e-07.\n",
            "Epoch: 20/30 | Train Loss: 0.86287 | Val Loss: 2.70536\n",
            "Epoch: 21/30 | Train Loss: 0.85816 | Val Loss: 2.70548\n",
            "Epoch: 22/30 | Train Loss: 0.85903 | Val Loss: 2.70555\n",
            "Epoch 00023: reducing learning rate of group 0 to 5.0000e-08.\n",
            "Epoch: 23/30 | Train Loss: 0.85708 | Val Loss: 2.70550\n",
            "Epoch: 24/30 | Train Loss: 0.85774 | Val Loss: 2.70549\n",
            "Epoch: 25/30 | Train Loss: 0.85808 | Val Loss: 2.70550\n",
            "Epoch 00026: reducing learning rate of group 0 to 5.0000e-09.\n",
            "Epoch: 26/30 | Train Loss: 0.85681 | Val Loss: 2.70550\n",
            "Epoch: 27/30 | Train Loss: 0.85669 | Val Loss: 2.70550\n",
            "Epoch: 28/30 | Train Loss: 0.85558 | Val Loss: 2.70550\n",
            "Epoch: 29/30 | Train Loss: 0.85684 | Val Loss: 2.70550\n",
            "Epoch: 30/30 | Train Loss: 0.85616 | Val Loss: 2.70550\n"
          ]
        }
      ],
      "source": [
        "train(num_epochs, train_dataloader, val_dataloader, transformer, optimizer, criterion, scheduler)"
      ]
    },
    {
      "cell_type": "code",
      "source": [],
      "metadata": {
        "id": "qse5DkDsFsBL"
      },
      "id": "qse5DkDsFsBL",
      "execution_count": 36,
      "outputs": []
    }
  ],
  "metadata": {
    "kernelspec": {
      "display_name": "Python 3 (ipykernel)",
      "language": "python",
      "name": "python3"
    },
    "language_info": {
      "codemirror_mode": {
        "name": "ipython",
        "version": 3
      },
      "file_extension": ".py",
      "mimetype": "text/x-python",
      "name": "python",
      "nbconvert_exporter": "python",
      "pygments_lexer": "ipython3",
      "version": "3.10.5"
    },
    "colab": {
      "provenance": [],
      "collapsed_sections": []
    },
    "accelerator": "GPU"
  },
  "nbformat": 4,
  "nbformat_minor": 5
}