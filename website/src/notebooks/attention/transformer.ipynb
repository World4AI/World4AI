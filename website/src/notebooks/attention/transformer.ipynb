{
 "cells": [
  {
   "cell_type": "markdown",
   "id": "3005a817-bf98-4789-92b4-f8c77ec23871",
   "metadata": {},
   "source": [
    "# Transformer"
   ]
  },
  {
   "cell_type": "markdown",
   "id": "d4909f57-0796-44a1-bc7b-77550e7137a9",
   "metadata": {},
   "source": [
    "In this section we implement the transformer architecture. This notebook is highly inspired by the book [Natural Language Processing with Transformers](https://transformersbook.com/) and the following [notebook](https://github.com/bentrevett/pytorch-seq2seq/blob/master/6%20-%20Attention%20is%20All%20You%20Need.ipynb) by the github user `bentrevett`."
   ]
  },
  {
   "cell_type": "code",
   "execution_count": 1,
   "id": "0146edb6-a0c5-4845-8a05-3df56459f6d3",
   "metadata": {},
   "outputs": [],
   "source": [
    "import re\n",
    "import random\n",
    "\n",
    "import torch\n",
    "import torch.nn as nn\n",
    "import torch.optim as optim\n",
    "from torch.utils.data import Dataset, DataLoader"
   ]
  },
  {
   "cell_type": "code",
   "execution_count": 2,
   "id": "46dec903-935f-42bc-83f3-e0ee578c24e4",
   "metadata": {},
   "outputs": [
    {
     "name": "stdout",
     "output_type": "stream",
     "text": [
      "  % Total    % Received % Xferd  Average Speed   Time    Time     Time  Current\n",
      "                                 Dload  Upload   Total   Spent    Left  Speed\n",
      "100 9376k  100 9376k    0     0   670k      0  0:00:13  0:00:13 --:--:--  893k\n",
      "/home/petruschka/repos/World4AI/website/src/notebooks/attention\n"
     ]
    }
   ],
   "source": [
    "!cd ../datasets/ && { curl -O https://www.manythings.org/anki/deu-eng.zip ; cd -; }"
   ]
  },
  {
   "cell_type": "code",
   "execution_count": 3,
   "id": "dcaf3f43-326a-4ba6-9fc7-b3c0b55fc0d3",
   "metadata": {},
   "outputs": [
    {
     "name": "stdout",
     "output_type": "stream",
     "text": [
      "Archive:  ../datasets/deu-eng.zip\n",
      "  inflating: ../datasets/deu_eng/deu.txt  \n",
      "  inflating: ../datasets/deu_eng/_about.txt  \n"
     ]
    }
   ],
   "source": [
    "!rm -rf ../datasets/deu_eng/\n",
    "!unzip ../datasets/deu-eng.zip -d ../datasets/deu_eng"
   ]
  },
  {
   "cell_type": "code",
   "execution_count": 4,
   "id": "95f4d41c-8e59-4bd9-b08d-8dabdd808f5f",
   "metadata": {},
   "outputs": [],
   "source": [
    "def normalize(s):\n",
    "    s = s.lower().strip()\n",
    "    s = re.sub(r\"([.!?])\", r\" \\1\", s)\n",
    "    return s\n",
    "\n",
    "def tokenizer(s):\n",
    "    s = normalize(s)\n",
    "    s = s.split(' ')\n",
    "    s.insert(0, '<sos>')\n",
    "    s.append('<eos>')\n",
    "    return s"
   ]
  },
  {
   "cell_type": "code",
   "execution_count": 5,
   "id": "de1c24d2-d40b-44c2-bc07-75ca958b95eb",
   "metadata": {},
   "outputs": [
    {
     "data": {
      "text/plain": [
       "['<sos>', 'how', 'are', 'you', 'doing', 'today', '?', '<eos>']"
      ]
     },
     "execution_count": 5,
     "metadata": {},
     "output_type": "execute_result"
    }
   ],
   "source": [
    "tokenizer(\"How are you doing today?\")"
   ]
  },
  {
   "cell_type": "code",
   "execution_count": 6,
   "id": "4d354306-a5e3-4f17-8005-788746bc0165",
   "metadata": {},
   "outputs": [],
   "source": [
    "def read_pairs(max_len=20):\n",
    "    print(\"Reading lines...\")\n",
    "    en_seq = []\n",
    "    de_seq = []\n",
    "    with open('../datasets/deu_eng/deu.txt', 'r', encoding='utf-8') as file:\n",
    "        print(f\"Tokenizing and removing sentences larger than {max_len}\")\n",
    "        for line in file:\n",
    "            pairs = line.split('\\t')\n",
    "            \n",
    "            en_sentence, de_sentence = tokenizer(pairs[0]), tokenizer(pairs[1])\n",
    "            \n",
    "            if len(en_sentence) <= max_len or len(de_sentence) <= max_len:\n",
    "                en_seq.append(en_sentence)\n",
    "                de_seq.append(de_sentence)\n",
    "        print(f\"The dataset has {len(en_seq)} pairs\")\n",
    "        return en_seq, de_seq\n"
   ]
  },
  {
   "cell_type": "code",
   "execution_count": 7,
   "id": "221e9fcb-8b74-4547-80b6-ab2efed30a0f",
   "metadata": {},
   "outputs": [
    {
     "name": "stdout",
     "output_type": "stream",
     "text": [
      "Reading lines...\n",
      "Tokenizing and removing sentences larger than 20\n",
      "The dataset has 255279 pairs\n"
     ]
    }
   ],
   "source": [
    "en_seq, de_seq = read_pairs()"
   ]
  },
  {
   "cell_type": "code",
   "execution_count": 8,
   "id": "ede717c1-2d2d-44db-9937-428048be9b0a",
   "metadata": {},
   "outputs": [],
   "source": [
    "from sklearn.model_selection import train_test_split"
   ]
  },
  {
   "cell_type": "code",
   "execution_count": 9,
   "id": "ebe10234-3187-4ae6-b40a-eed41901b935",
   "metadata": {},
   "outputs": [],
   "source": [
    "#separate into train test split\n",
    "# train_frac = 0.8\n",
    "# val_frac = 0.1\n",
    "# test_frac = 0.1\n",
    "train_en, test_val_en, train_de, test_val_de = train_test_split(en_seq, de_seq, test_size=0.2)\n",
    "val_en, test_en, val_de, test_de = train_test_split(test_val_en, test_val_de, test_size=0.5)"
   ]
  },
  {
   "cell_type": "code",
   "execution_count": 10,
   "id": "ee5051ca-3391-4931-a9c5-3597202d9621",
   "metadata": {},
   "outputs": [],
   "source": [
    "class PairDataset(Dataset):\n",
    "    def __init__(self, en, de):\n",
    "        assert len(en) == len(de)\n",
    "        self.en = en\n",
    "        self.de = de\n",
    "    \n",
    "    def __len__(self):\n",
    "        return len(self.en)\n",
    "    \n",
    "    def __getitem__(self, idx):\n",
    "        return self.en[idx], self.de[idx]\n"
   ]
  },
  {
   "cell_type": "code",
   "execution_count": 11,
   "id": "8472233c-6121-4474-b308-efa6f4f4fcc1",
   "metadata": {},
   "outputs": [],
   "source": [
    "train_dataset = PairDataset(train_en, train_de)\n",
    "val_dataset = PairDataset(val_en, val_de)\n",
    "test_dataset = PairDataset(test_en, test_de)"
   ]
  },
  {
   "cell_type": "code",
   "execution_count": 12,
   "id": "05813932-98a7-4335-8c85-4e531b00e77f",
   "metadata": {},
   "outputs": [],
   "source": [
    "from collections import Counter, OrderedDict"
   ]
  },
  {
   "cell_type": "code",
   "execution_count": 13,
   "id": "ec13d288-545d-4c78-845a-cc04837e9e14",
   "metadata": {},
   "outputs": [],
   "source": [
    "en_counter = Counter()\n",
    "de_counter = Counter()\n",
    "\n",
    "for line in train_en:\n",
    "    en_counter.update(line)\n",
    "\n",
    "for line in train_de:\n",
    "    de_counter.update(line)"
   ]
  },
  {
   "cell_type": "code",
   "execution_count": 14,
   "id": "81599f94-7532-46c5-982a-3aad48c9c3af",
   "metadata": {},
   "outputs": [],
   "source": [
    "en_sorted_by_freq_tuples = sorted(en_counter.items(), key=lambda x: x[1], reverse=True)\n",
    "en_ordered_dict = OrderedDict(en_sorted_by_freq_tuples)\n",
    "\n",
    "de_sorted_by_freq_tuples = sorted(de_counter.items(), key=lambda x: x[1], reverse=True)\n",
    "de_ordered_dict = OrderedDict(de_sorted_by_freq_tuples)"
   ]
  },
  {
   "cell_type": "code",
   "execution_count": 15,
   "id": "cc319130-46ed-4e0a-a707-73efe9b2b5f8",
   "metadata": {},
   "outputs": [],
   "source": [
    "import torchtext\n",
    "en_vocab = torchtext.vocab.vocab(en_ordered_dict, min_freq = 2, specials=['<pad>', '<unk>', '<sos>', '<eos>'], special_first = True)\n",
    "de_vocab = torchtext.vocab.vocab(de_ordered_dict, min_freq = 2, specials=['<pad>', '<unk>', '<sos>', '<eos>'], special_first = True)\n",
    "\n",
    "en_vocab.set_default_index(1)\n",
    "de_vocab.set_default_index(1)"
   ]
  },
  {
   "cell_type": "code",
   "execution_count": 16,
   "id": "22f5ee51-8383-4684-8a89-ef39c3969004",
   "metadata": {},
   "outputs": [
    {
     "data": {
      "text/plain": [
       "([2, 5, 80, 199, 18, 4, 3], [2, 6, 648, 10, 9, 4, 3])"
      ]
     },
     "execution_count": 16,
     "metadata": {},
     "output_type": "execute_result"
    }
   ],
   "source": [
    "en_vocab(train_en[0]), de_vocab(train_de[0])"
   ]
  },
  {
   "cell_type": "code",
   "execution_count": 17,
   "id": "8b956a78-81d0-44ed-9340-a1688a915342",
   "metadata": {},
   "outputs": [
    {
     "data": {
      "text/plain": [
       "(12529, 21226)"
      ]
     },
     "execution_count": 17,
     "metadata": {},
     "output_type": "execute_result"
    }
   ],
   "source": [
    "len(en_vocab), len(de_vocab)"
   ]
  },
  {
   "cell_type": "code",
   "execution_count": 18,
   "id": "cc585e37-54c4-4192-8ce8-5b548bba02e0",
   "metadata": {},
   "outputs": [],
   "source": [
    "def collate(batch):\n",
    "    en, de = [], []\n",
    "    for en_token, de_token in batch:\n",
    "        en.append(torch.tensor(en_vocab(en_token), dtype=torch.int64))\n",
    "        de.append(torch.tensor(de_vocab(de_token), dtype=torch.int64))\n",
    "    en_padded = nn.utils.rnn.pad_sequence(en, batch_first=True)\n",
    "    de_padded = nn.utils.rnn.pad_sequence(de, batch_first=True)\n",
    "    return en_padded, de_padded"
   ]
  },
  {
   "cell_type": "code",
   "execution_count": 19,
   "id": "e67703d1-7ed2-4010-9771-517dd6c8563a",
   "metadata": {},
   "outputs": [],
   "source": [
    "DEVICE = torch.device(\"cuda\" if torch.cuda.is_available() else \"cpu\")\n",
    "\n",
    "en_vocab_len = len(en_vocab)\n",
    "de_vocab_len = len(de_vocab)\n",
    "\n",
    "dim = 512\n",
    "num_heads = 8\n",
    "head_dim = dim // num_heads\n",
    "fc_dim=2048\n",
    "num_encoders = 6\n",
    "num_decoders = 6\n",
    "batch_size = 64"
   ]
  },
  {
   "cell_type": "code",
   "execution_count": 20,
   "id": "ec04d924-6805-45a1-ae26-4dde07197c67",
   "metadata": {},
   "outputs": [],
   "source": [
    "train_dataloader = DataLoader(dataset=train_dataset, batch_size=batch_size, shuffle=True, collate_fn=collate, drop_last=True)\n",
    "val_dataloader = DataLoader(dataset=val_dataset, batch_size=batch_size, shuffle=False, collate_fn=collate)\n",
    "train_dataloader = DataLoader(dataset=test_dataset, batch_size=batch_size, shuffle=False, collate_fn=collate)"
   ]
  },
  {
   "cell_type": "code",
   "execution_count": 21,
   "id": "b3f43f68-27f8-4eb7-92c1-e1bcd19f2347",
   "metadata": {},
   "outputs": [],
   "source": [
    "def self_attention(query, key, value, mask=None):\n",
    "    dim_sqrt = torch.tensor(key.size(-1)).sqrt()\n",
    "    scores = query @ key.transpose(1, 2) / dim_sqrt\n",
    "    if mask is not None:\n",
    "        scores = scores.masked_fill(mask == 0, float(\"-inf\"))\n",
    "    \n",
    "    attention_weights = torch.softmax(scores, dim=-1)\n",
    "    attention = attention_weights @ value\n",
    "    return attention"
   ]
  },
  {
   "cell_type": "code",
   "execution_count": 22,
   "id": "1dd1f5e2-788b-4f11-bc59-db8b03151032",
   "metadata": {},
   "outputs": [],
   "source": [
    "class AttentionHead(nn.Module):\n",
    "    def __init__(self, embed_dim, head_dim):\n",
    "        super().__init__()\n",
    "        self.query = nn.Linear(embed_dim, head_dim)\n",
    "        self.key = nn.Linear(embed_dim, head_dim)\n",
    "        self.value = nn.Linear(embed_dim, head_dim)\n",
    "    \n",
    "    def forward(self, query, key, value, mask=None):\n",
    "        query = self.query(query)\n",
    "        key = self.key(key)\n",
    "        value = self.value(value)\n",
    "        \n",
    "        return self_attention(query, key, value, mask)"
   ]
  },
  {
   "cell_type": "code",
   "execution_count": 23,
   "id": "0bd63647-b582-424f-86f0-0ef4a44c95c3",
   "metadata": {},
   "outputs": [],
   "source": [
    "class MultiHeadAttention(nn.Module):\n",
    "    def __init__(self, embed_dim, head_dim, num_heads):\n",
    "        super().__init__()\n",
    "        self.heads = nn.ModuleList([AttentionHead(embed_dim, head_dim) for _ in range(num_heads)])\n",
    "        self.output = nn.Linear(embed_dim, embed_dim)\n",
    "    \n",
    "    def forward(self, query, key, value, mask=None):\n",
    "        x = [head(query, key, value, mask) for head in self.heads]\n",
    "        x = torch.cat(x, dim=-1)\n",
    "        x = self.output(x)\n",
    "        return x"
   ]
  },
  {
   "cell_type": "code",
   "execution_count": 24,
   "id": "fa65d58a-d603-4adc-975e-c82b5ec4833e",
   "metadata": {},
   "outputs": [],
   "source": [
    "# pointwise feedforward\n",
    "class PWFeedForward(nn.Module):\n",
    "    def __init__(self, embed_dim, fc_dim):\n",
    "        super().__init__()\n",
    "        self.layers = nn.Sequential(nn.Linear(embed_dim, fc_dim),\n",
    "                                    nn.GELU(),\n",
    "                                    nn.Linear(fc_dim, embed_dim),\n",
    "                                    nn.Dropout(p=0.1))\n",
    "    \n",
    "    def forward(self, x):\n",
    "        return self.layers(x)"
   ]
  },
  {
   "cell_type": "code",
   "execution_count": 25,
   "id": "4444db2d-225b-4dec-9802-0db12e39464f",
   "metadata": {},
   "outputs": [],
   "source": [
    "class EncoderLayer(nn.Module):\n",
    "    def __init__(self, embed_dim, head_dim, fc_dim, num_heads):\n",
    "        super().__init__()\n",
    "        self.layer_norm_1 = nn.LayerNorm(embed_dim)\n",
    "        self.layer_norm_2 = nn.LayerNorm(embed_dim)\n",
    "        self.multi_head_attention = MultiHeadAttention(embed_dim, head_dim, num_heads)\n",
    "        self.pw_feedforward = PWFeedForward(embed_dim, fc_dim)\n",
    "    \n",
    "    def forward(self, x, mask):\n",
    "        # skip connection 1\n",
    "        normalized = self.layer_norm_1(x)\n",
    "        x = x + self.multi_head_attention(normalized, normalized, normalized, mask)\n",
    "        # skip connection 2\n",
    "        x = x + self.pw_feedforward(self.layer_norm_2(x))\n",
    "        return x"
   ]
  },
  {
   "cell_type": "code",
   "execution_count": 26,
   "id": "8828e8a8-26af-4d3f-9302-ebec5acf4116",
   "metadata": {},
   "outputs": [],
   "source": [
    "class Encoder(nn.Module): \n",
    "    def __init__(self, num_layers, embed_dim, head_dim, fc_dim, num_heads):\n",
    "        super().__init__()\n",
    "        self.encoders = nn.ModuleList([EncoderLayer(embed_dim, head_dim, fc_dim, num_heads) for _ in range(num_layers)])\n",
    "    \n",
    "    def forward(self, x, mask):\n",
    "        for encoder in self.encoders:\n",
    "            x = encoder(x, mask)\n",
    "        return x"
   ]
  },
  {
   "cell_type": "code",
   "execution_count": 27,
   "id": "2a8bedd1-ed4e-4cb1-a04b-8dc2b897d6a5",
   "metadata": {},
   "outputs": [],
   "source": [
    "class DecoderLayer(nn.Module):\n",
    "    def __init__(self, embed_dim, head_dim, fc_dim, num_heads):\n",
    "        super().__init__()\n",
    "        self.layer_norm_1 = nn.LayerNorm(embed_dim)\n",
    "        self.layer_norm_2 = nn.LayerNorm(embed_dim)\n",
    "        self.layer_norm_3 = nn.LayerNorm(embed_dim)\n",
    "\n",
    "        self.self_attention = MultiHeadAttention(embed_dim, head_dim, num_heads)\n",
    "        self.encoder_attention = MultiHeadAttention(embed_dim, head_dim, num_heads)\n",
    "        self.pw_feedforward = PWFeedForward(embed_dim, fc_dim)\n",
    "\n",
    "    \n",
    "    def forward(self, src, trg, src_mask, trg_mask):\n",
    "        normalized_src = self.layer_norm_1(src)\n",
    "        normalized_trg = self.layer_norm_2(trg)\n",
    "        \n",
    "        trg = trg + self.self_attention(normalized_trg, normalized_trg, normalized_trg, trg_mask)\n",
    "        trg = trg + self.encoder_attention(trg, normalized_src, normalized_src, src_mask)\n",
    "        trg = trg + self.pw_feedforward(self.layer_norm_3(trg))\n",
    "        return trg"
   ]
  },
  {
   "cell_type": "code",
   "execution_count": 28,
   "id": "30c9b36c-d759-4cb9-b49d-192ddd07bd68",
   "metadata": {},
   "outputs": [],
   "source": [
    "class Decoder(nn.Module):\n",
    "    def __init__(self, num_layers, embed_dim, head_dim, fc_dim, num_heads):\n",
    "        super().__init__()\n",
    "        self.decoders = nn.ModuleList([DecoderLayer(embed_dim, head_dim, fc_dim, num_heads) for _ in range(num_layers)])\n",
    " \n",
    "    def forward(self, src, trg, src_mask, trg_mask):\n",
    "        for decoder in self.decoders:\n",
    "            trg = decoder(src, trg, src_mask, trg_mask)\n",
    "        return trg"
   ]
  },
  {
   "cell_type": "code",
   "execution_count": 29,
   "id": "f8021052-a279-4e73-8160-924607f7b64a",
   "metadata": {},
   "outputs": [],
   "source": [
    "class TokenPosEmbedding(nn.Module):\n",
    "    def __init__(self, vocab_size, embed_dim, max_sentence_len):\n",
    "        super().__init__()\n",
    "        self.token_embeddings = nn.Embedding(vocab_size, embed_dim)\n",
    "        self.position_embeddings = nn.Embedding(max_sentence_len, embed_dim)\n",
    "    \n",
    "    def forward(self, x):\n",
    "        # token embedding\n",
    "        token_embeddings = self.token_embeddings(x)\n",
    "        \n",
    "        # positional embedding\n",
    "        seq_len = x.shape[1]\n",
    "        pos_embeddings = self.position_embeddings(torch.arange(0, seq_len, device=DEVICE)).unsqueeze(0)\n",
    "        \n",
    "        return token_embeddings + pos_embeddings"
   ]
  },
  {
   "cell_type": "code",
   "execution_count": 30,
   "id": "8a62b62a-a3d6-4a8b-914b-71fb61212351",
   "metadata": {},
   "outputs": [],
   "source": [
    "class Transformer(nn.Module):\n",
    "    def __init__(self, \n",
    "                 en_vocab_size, \n",
    "                 de_vocab_size, \n",
    "                 max_sentence_len, \n",
    "                 embed_dim,\n",
    "                 head_dim,\n",
    "                 num_heads,\n",
    "                 num_encoders,\n",
    "                 num_decoders):\n",
    "        \n",
    "        super().__init__()\n",
    "        self.en_embedding = TokenPosEmbedding(en_vocab_size, embed_dim, max_sentence_len)\n",
    "        self.de_embedding = TokenPosEmbedding(de_vocab_size, embed_dim, max_sentence_len)\n",
    "        self.encoder = Encoder(num_encoders, embed_dim, head_dim, fc_dim, num_heads)\n",
    "        self.decoder = Decoder(num_decoders, embed_dim, head_dim, fc_dim, num_heads)\n",
    "        self.logits = nn.Linear(embed_dim, de_vocab_size)\n",
    "    \n",
    "    def forward(self, src, trg):\n",
    "        # 1: create masks\n",
    "        # padding Mask\n",
    "        src_mask = (src != 0).to(torch.int64).unsqueeze(1)\n",
    "        # mask to prevent the decoder from looking ahead\n",
    "        trg_mask = torch.tril(torch.ones(trg.shape[-1], trg.shape[-1], device=DEVICE)).unsqueeze(0)\n",
    "        \n",
    "        # 2: transformer\n",
    "        src = self.en_embedding(src)\n",
    "        trg = self.en_embedding(trg)\n",
    "        \n",
    "        encoder_output = self.encoder(src, src_mask)\n",
    "        decoder_output = self.decoder(encoder_output, trg, src_mask, trg_mask)\n",
    "        \n",
    "        # 3: output\n",
    "        return self.logits(decoder_output)"
   ]
  },
  {
   "cell_type": "code",
   "execution_count": 31,
   "id": "b3b7e54e-0742-49cd-a7c6-23ec1b3466f6",
   "metadata": {},
   "outputs": [],
   "source": [
    "transformer = Transformer(len(en_vocab), len(de_vocab), 50, dim, head_dim, num_heads, num_encoders, num_decoders).to(DEVICE)"
   ]
  },
  {
   "cell_type": "code",
   "execution_count": 32,
   "id": "ee8e71c5-109c-4487-bc83-20e642ee704f",
   "metadata": {},
   "outputs": [],
   "source": [
    "def track_performance(dataloader, model, criterion):\n",
    "    # switch to evaluation mode\n",
    "    model.eval()\n",
    "    loss_sum = 0\n",
    "    num_iterations = 0\n",
    "\n",
    "    # no need to calculate gradients\n",
    "    with torch.inference_mode():\n",
    "        for en_sequence, de_sequence in dataloader:\n",
    "            en_sequence = en_sequence.to(DEVICE)\n",
    "            de_sequence = de_sequence.to(DEVICE)\n",
    "\n",
    "            logits = model(en_sequence, de_sequence[:, :-1])\n",
    "            \n",
    "            # we don't actually predict the <sos> token\n",
    "            labels = de_sequence[:, 1:]\n",
    "            # we need to reshape in order to be able to use these tensors with CrossEntropyLoss\n",
    "            logits = logits.reshape(-1, logits.size()[2])\n",
    "            labels = labels.reshape(-1)\n",
    "            loss = criterion(logits, labels)\n",
    "            loss_sum += loss.cpu().item()\n",
    "            num_iterations+=1\n",
    "\n",
    "    # we return the average loss and the accuracy\n",
    "    return loss_sum/num_iterations\n"
   ]
  },
  {
   "cell_type": "code",
   "execution_count": 33,
   "id": "ec9a4ac7-da72-4d8f-af5e-3ef7e7072200",
   "metadata": {},
   "outputs": [],
   "source": [
    "def train(num_epochs, train_dataloader, val_dataloader, model, optimizer, criterion, scheduler=None):\n",
    "    min_loss = float(\"inf\")\n",
    "    for epoch in range(num_epochs):\n",
    "        loss_sum = 0\n",
    "        num_iterations = 0\n",
    "        for en_sequence, de_sequence in train_dataloader:\n",
    "            model.train()\n",
    "\n",
    "            optimizer.zero_grad()\n",
    "            en_sequence = en_sequence.to(DEVICE)\n",
    "            de_sequence = de_sequence.to(DEVICE)\n",
    "\n",
    "            logits = model(en_sequence, de_sequence[:, :-1])\n",
    "            labels = de_sequence[:, 1:]\n",
    "            \n",
    "            # we need to reshape in order to be able to use these tensors with CrossEntropyLoss\n",
    "            logits = logits.reshape(-1, logits.size()[2])\n",
    "            labels = labels.reshape(-1)\n",
    "            loss = criterion(logits, labels)\n",
    "            loss.backward()\n",
    "            optimizer.step()\n",
    "            \n",
    "            loss_sum += loss.cpu().item()\n",
    "            num_iterations += 1\n",
    "        train_loss=loss_sum/num_iterations\n",
    "        val_loss = track_performance(val_dataloader, model, criterion)\n",
    "        if scheduler:\n",
    "            scheduler.step(val_loss)\n",
    "        print(f'Epoch: {epoch+1:>2}/{num_epochs} | Train Loss: {train_loss:.5f} | Val Loss: {val_loss:.5f}')\n",
    "        \n",
    "        if val_loss < min_loss:\n",
    "            print(\"Saving Weights!\")\n",
    "            min_loss = val_loss\n",
    "            torch.save(model.state_dict(), f='../temp/transformer.pt')"
   ]
  },
  {
   "cell_type": "code",
   "execution_count": 34,
   "id": "d39343a7-ac78-498e-9820-787c2383cdc3",
   "metadata": {},
   "outputs": [],
   "source": [
    "transformer = Transformer(len(en_vocab), len(de_vocab), 50, dim, head_dim, num_heads, num_encoders, num_decoders).to(DEVICE)\n",
    "optimizer = optim.Adam(transformer.parameters(), lr=0.0001)\n",
    "criterion = nn.CrossEntropyLoss(ignore_index=0)\n",
    "scheduler = torch.optim.lr_scheduler.ReduceLROnPlateau(optimizer,\n",
    "                                                       factor=0.1,\n",
    "                                                       mode='min',\n",
    "                                                       patience=2,\n",
    "                                                       verbose=True)\n",
    "\n",
    "num_epochs=10"
   ]
  },
  {
   "cell_type": "code",
   "execution_count": 35,
   "id": "b3e9ae82-136a-4bd2-be9b-59634d7c7182",
   "metadata": {},
   "outputs": [
    {
     "name": "stderr",
     "output_type": "stream",
     "text": [
      "/opt/conda/conda-bld/pytorch_1659484803030/work/aten/src/ATen/native/cuda/Indexing.cu:975: indexSelectLargeIndex: block: [238,0,0], thread: [64,0,0] Assertion `srcIndex < srcSelectDimSize` failed.\n",
      "/opt/conda/conda-bld/pytorch_1659484803030/work/aten/src/ATen/native/cuda/Indexing.cu:975: indexSelectLargeIndex: block: [238,0,0], thread: [65,0,0] Assertion `srcIndex < srcSelectDimSize` failed.\n",
      "/opt/conda/conda-bld/pytorch_1659484803030/work/aten/src/ATen/native/cuda/Indexing.cu:975: indexSelectLargeIndex: block: [238,0,0], thread: [66,0,0] Assertion `srcIndex < srcSelectDimSize` failed.\n",
      "/opt/conda/conda-bld/pytorch_1659484803030/work/aten/src/ATen/native/cuda/Indexing.cu:975: indexSelectLargeIndex: block: [238,0,0], thread: [67,0,0] Assertion `srcIndex < srcSelectDimSize` failed.\n",
      "/opt/conda/conda-bld/pytorch_1659484803030/work/aten/src/ATen/native/cuda/Indexing.cu:975: indexSelectLargeIndex: block: [238,0,0], thread: [68,0,0] Assertion `srcIndex < srcSelectDimSize` failed.\n",
      "/opt/conda/conda-bld/pytorch_1659484803030/work/aten/src/ATen/native/cuda/Indexing.cu:975: indexSelectLargeIndex: block: [238,0,0], thread: [69,0,0] Assertion `srcIndex < srcSelectDimSize` failed.\n",
      "/opt/conda/conda-bld/pytorch_1659484803030/work/aten/src/ATen/native/cuda/Indexing.cu:975: indexSelectLargeIndex: block: [238,0,0], thread: [70,0,0] Assertion `srcIndex < srcSelectDimSize` failed.\n",
      "/opt/conda/conda-bld/pytorch_1659484803030/work/aten/src/ATen/native/cuda/Indexing.cu:975: indexSelectLargeIndex: block: [238,0,0], thread: [71,0,0] Assertion `srcIndex < srcSelectDimSize` failed.\n",
      "/opt/conda/conda-bld/pytorch_1659484803030/work/aten/src/ATen/native/cuda/Indexing.cu:975: indexSelectLargeIndex: block: [238,0,0], thread: [72,0,0] Assertion `srcIndex < srcSelectDimSize` failed.\n",
      "/opt/conda/conda-bld/pytorch_1659484803030/work/aten/src/ATen/native/cuda/Indexing.cu:975: indexSelectLargeIndex: block: [238,0,0], thread: [73,0,0] Assertion `srcIndex < srcSelectDimSize` failed.\n",
      "/opt/conda/conda-bld/pytorch_1659484803030/work/aten/src/ATen/native/cuda/Indexing.cu:975: indexSelectLargeIndex: block: [238,0,0], thread: [74,0,0] Assertion `srcIndex < srcSelectDimSize` failed.\n",
      "/opt/conda/conda-bld/pytorch_1659484803030/work/aten/src/ATen/native/cuda/Indexing.cu:975: indexSelectLargeIndex: block: [238,0,0], thread: [75,0,0] Assertion `srcIndex < srcSelectDimSize` failed.\n",
      "/opt/conda/conda-bld/pytorch_1659484803030/work/aten/src/ATen/native/cuda/Indexing.cu:975: indexSelectLargeIndex: block: [238,0,0], thread: [76,0,0] Assertion `srcIndex < srcSelectDimSize` failed.\n",
      "/opt/conda/conda-bld/pytorch_1659484803030/work/aten/src/ATen/native/cuda/Indexing.cu:975: indexSelectLargeIndex: block: [238,0,0], thread: [77,0,0] Assertion `srcIndex < srcSelectDimSize` failed.\n",
      "/opt/conda/conda-bld/pytorch_1659484803030/work/aten/src/ATen/native/cuda/Indexing.cu:975: indexSelectLargeIndex: block: [238,0,0], thread: [78,0,0] Assertion `srcIndex < srcSelectDimSize` failed.\n",
      "/opt/conda/conda-bld/pytorch_1659484803030/work/aten/src/ATen/native/cuda/Indexing.cu:975: indexSelectLargeIndex: block: [238,0,0], thread: [79,0,0] Assertion `srcIndex < srcSelectDimSize` failed.\n",
      "/opt/conda/conda-bld/pytorch_1659484803030/work/aten/src/ATen/native/cuda/Indexing.cu:975: indexSelectLargeIndex: block: [238,0,0], thread: [80,0,0] Assertion `srcIndex < srcSelectDimSize` failed.\n",
      "/opt/conda/conda-bld/pytorch_1659484803030/work/aten/src/ATen/native/cuda/Indexing.cu:975: indexSelectLargeIndex: block: [238,0,0], thread: [81,0,0] Assertion `srcIndex < srcSelectDimSize` failed.\n",
      "/opt/conda/conda-bld/pytorch_1659484803030/work/aten/src/ATen/native/cuda/Indexing.cu:975: indexSelectLargeIndex: block: [238,0,0], thread: [82,0,0] Assertion `srcIndex < srcSelectDimSize` failed.\n",
      "/opt/conda/conda-bld/pytorch_1659484803030/work/aten/src/ATen/native/cuda/Indexing.cu:975: indexSelectLargeIndex: block: [238,0,0], thread: [83,0,0] Assertion `srcIndex < srcSelectDimSize` failed.\n",
      "/opt/conda/conda-bld/pytorch_1659484803030/work/aten/src/ATen/native/cuda/Indexing.cu:975: indexSelectLargeIndex: block: [238,0,0], thread: [84,0,0] Assertion `srcIndex < srcSelectDimSize` failed.\n",
      "/opt/conda/conda-bld/pytorch_1659484803030/work/aten/src/ATen/native/cuda/Indexing.cu:975: indexSelectLargeIndex: block: [238,0,0], thread: [85,0,0] Assertion `srcIndex < srcSelectDimSize` failed.\n",
      "/opt/conda/conda-bld/pytorch_1659484803030/work/aten/src/ATen/native/cuda/Indexing.cu:975: indexSelectLargeIndex: block: [238,0,0], thread: [86,0,0] Assertion `srcIndex < srcSelectDimSize` failed.\n",
      "/opt/conda/conda-bld/pytorch_1659484803030/work/aten/src/ATen/native/cuda/Indexing.cu:975: indexSelectLargeIndex: block: [238,0,0], thread: [87,0,0] Assertion `srcIndex < srcSelectDimSize` failed.\n",
      "/opt/conda/conda-bld/pytorch_1659484803030/work/aten/src/ATen/native/cuda/Indexing.cu:975: indexSelectLargeIndex: block: [238,0,0], thread: [88,0,0] Assertion `srcIndex < srcSelectDimSize` failed.\n",
      "/opt/conda/conda-bld/pytorch_1659484803030/work/aten/src/ATen/native/cuda/Indexing.cu:975: indexSelectLargeIndex: block: [238,0,0], thread: [89,0,0] Assertion `srcIndex < srcSelectDimSize` failed.\n",
      "/opt/conda/conda-bld/pytorch_1659484803030/work/aten/src/ATen/native/cuda/Indexing.cu:975: indexSelectLargeIndex: block: [238,0,0], thread: [90,0,0] Assertion `srcIndex < srcSelectDimSize` failed.\n",
      "/opt/conda/conda-bld/pytorch_1659484803030/work/aten/src/ATen/native/cuda/Indexing.cu:975: indexSelectLargeIndex: block: [238,0,0], thread: [91,0,0] Assertion `srcIndex < srcSelectDimSize` failed.\n",
      "/opt/conda/conda-bld/pytorch_1659484803030/work/aten/src/ATen/native/cuda/Indexing.cu:975: indexSelectLargeIndex: block: [238,0,0], thread: [92,0,0] Assertion `srcIndex < srcSelectDimSize` failed.\n",
      "/opt/conda/conda-bld/pytorch_1659484803030/work/aten/src/ATen/native/cuda/Indexing.cu:975: indexSelectLargeIndex: block: [238,0,0], thread: [93,0,0] Assertion `srcIndex < srcSelectDimSize` failed.\n",
      "/opt/conda/conda-bld/pytorch_1659484803030/work/aten/src/ATen/native/cuda/Indexing.cu:975: indexSelectLargeIndex: block: [238,0,0], thread: [94,0,0] Assertion `srcIndex < srcSelectDimSize` failed.\n",
      "/opt/conda/conda-bld/pytorch_1659484803030/work/aten/src/ATen/native/cuda/Indexing.cu:975: indexSelectLargeIndex: block: [238,0,0], thread: [95,0,0] Assertion `srcIndex < srcSelectDimSize` failed.\n",
      "/opt/conda/conda-bld/pytorch_1659484803030/work/aten/src/ATen/native/cuda/Indexing.cu:975: indexSelectLargeIndex: block: [187,0,0], thread: [96,0,0] Assertion `srcIndex < srcSelectDimSize` failed.\n",
      "/opt/conda/conda-bld/pytorch_1659484803030/work/aten/src/ATen/native/cuda/Indexing.cu:975: indexSelectLargeIndex: block: [187,0,0], thread: [97,0,0] Assertion `srcIndex < srcSelectDimSize` failed.\n",
      "/opt/conda/conda-bld/pytorch_1659484803030/work/aten/src/ATen/native/cuda/Indexing.cu:975: indexSelectLargeIndex: block: [187,0,0], thread: [98,0,0] Assertion `srcIndex < srcSelectDimSize` failed.\n",
      "/opt/conda/conda-bld/pytorch_1659484803030/work/aten/src/ATen/native/cuda/Indexing.cu:975: indexSelectLargeIndex: block: [187,0,0], thread: [99,0,0] Assertion `srcIndex < srcSelectDimSize` failed.\n",
      "/opt/conda/conda-bld/pytorch_1659484803030/work/aten/src/ATen/native/cuda/Indexing.cu:975: indexSelectLargeIndex: block: [187,0,0], thread: [100,0,0] Assertion `srcIndex < srcSelectDimSize` failed.\n",
      "/opt/conda/conda-bld/pytorch_1659484803030/work/aten/src/ATen/native/cuda/Indexing.cu:975: indexSelectLargeIndex: block: [187,0,0], thread: [101,0,0] Assertion `srcIndex < srcSelectDimSize` failed.\n",
      "/opt/conda/conda-bld/pytorch_1659484803030/work/aten/src/ATen/native/cuda/Indexing.cu:975: indexSelectLargeIndex: block: [187,0,0], thread: [102,0,0] Assertion `srcIndex < srcSelectDimSize` failed.\n",
      "/opt/conda/conda-bld/pytorch_1659484803030/work/aten/src/ATen/native/cuda/Indexing.cu:975: indexSelectLargeIndex: block: [187,0,0], thread: [103,0,0] Assertion `srcIndex < srcSelectDimSize` failed.\n",
      "/opt/conda/conda-bld/pytorch_1659484803030/work/aten/src/ATen/native/cuda/Indexing.cu:975: indexSelectLargeIndex: block: [187,0,0], thread: [104,0,0] Assertion `srcIndex < srcSelectDimSize` failed.\n",
      "/opt/conda/conda-bld/pytorch_1659484803030/work/aten/src/ATen/native/cuda/Indexing.cu:975: indexSelectLargeIndex: block: [187,0,0], thread: [105,0,0] Assertion `srcIndex < srcSelectDimSize` failed.\n",
      "/opt/conda/conda-bld/pytorch_1659484803030/work/aten/src/ATen/native/cuda/Indexing.cu:975: indexSelectLargeIndex: block: [187,0,0], thread: [106,0,0] Assertion `srcIndex < srcSelectDimSize` failed.\n",
      "/opt/conda/conda-bld/pytorch_1659484803030/work/aten/src/ATen/native/cuda/Indexing.cu:975: indexSelectLargeIndex: block: [187,0,0], thread: [107,0,0] Assertion `srcIndex < srcSelectDimSize` failed.\n",
      "/opt/conda/conda-bld/pytorch_1659484803030/work/aten/src/ATen/native/cuda/Indexing.cu:975: indexSelectLargeIndex: block: [187,0,0], thread: [108,0,0] Assertion `srcIndex < srcSelectDimSize` failed.\n",
      "/opt/conda/conda-bld/pytorch_1659484803030/work/aten/src/ATen/native/cuda/Indexing.cu:975: indexSelectLargeIndex: block: [187,0,0], thread: [109,0,0] Assertion `srcIndex < srcSelectDimSize` failed.\n",
      "/opt/conda/conda-bld/pytorch_1659484803030/work/aten/src/ATen/native/cuda/Indexing.cu:975: indexSelectLargeIndex: block: [187,0,0], thread: [110,0,0] Assertion `srcIndex < srcSelectDimSize` failed.\n",
      "/opt/conda/conda-bld/pytorch_1659484803030/work/aten/src/ATen/native/cuda/Indexing.cu:975: indexSelectLargeIndex: block: [187,0,0], thread: [111,0,0] Assertion `srcIndex < srcSelectDimSize` failed.\n",
      "/opt/conda/conda-bld/pytorch_1659484803030/work/aten/src/ATen/native/cuda/Indexing.cu:975: indexSelectLargeIndex: block: [187,0,0], thread: [112,0,0] Assertion `srcIndex < srcSelectDimSize` failed.\n",
      "/opt/conda/conda-bld/pytorch_1659484803030/work/aten/src/ATen/native/cuda/Indexing.cu:975: indexSelectLargeIndex: block: [187,0,0], thread: [113,0,0] Assertion `srcIndex < srcSelectDimSize` failed.\n",
      "/opt/conda/conda-bld/pytorch_1659484803030/work/aten/src/ATen/native/cuda/Indexing.cu:975: indexSelectLargeIndex: block: [187,0,0], thread: [114,0,0] Assertion `srcIndex < srcSelectDimSize` failed.\n",
      "/opt/conda/conda-bld/pytorch_1659484803030/work/aten/src/ATen/native/cuda/Indexing.cu:975: indexSelectLargeIndex: block: [187,0,0], thread: [115,0,0] Assertion `srcIndex < srcSelectDimSize` failed.\n",
      "/opt/conda/conda-bld/pytorch_1659484803030/work/aten/src/ATen/native/cuda/Indexing.cu:975: indexSelectLargeIndex: block: [187,0,0], thread: [116,0,0] Assertion `srcIndex < srcSelectDimSize` failed.\n",
      "/opt/conda/conda-bld/pytorch_1659484803030/work/aten/src/ATen/native/cuda/Indexing.cu:975: indexSelectLargeIndex: block: [187,0,0], thread: [117,0,0] Assertion `srcIndex < srcSelectDimSize` failed.\n",
      "/opt/conda/conda-bld/pytorch_1659484803030/work/aten/src/ATen/native/cuda/Indexing.cu:975: indexSelectLargeIndex: block: [187,0,0], thread: [118,0,0] Assertion `srcIndex < srcSelectDimSize` failed.\n",
      "/opt/conda/conda-bld/pytorch_1659484803030/work/aten/src/ATen/native/cuda/Indexing.cu:975: indexSelectLargeIndex: block: [187,0,0], thread: [119,0,0] Assertion `srcIndex < srcSelectDimSize` failed.\n",
      "/opt/conda/conda-bld/pytorch_1659484803030/work/aten/src/ATen/native/cuda/Indexing.cu:975: indexSelectLargeIndex: block: [187,0,0], thread: [120,0,0] Assertion `srcIndex < srcSelectDimSize` failed.\n",
      "/opt/conda/conda-bld/pytorch_1659484803030/work/aten/src/ATen/native/cuda/Indexing.cu:975: indexSelectLargeIndex: block: [187,0,0], thread: [121,0,0] Assertion `srcIndex < srcSelectDimSize` failed.\n",
      "/opt/conda/conda-bld/pytorch_1659484803030/work/aten/src/ATen/native/cuda/Indexing.cu:975: indexSelectLargeIndex: block: [187,0,0], thread: [122,0,0] Assertion `srcIndex < srcSelectDimSize` failed.\n",
      "/opt/conda/conda-bld/pytorch_1659484803030/work/aten/src/ATen/native/cuda/Indexing.cu:975: indexSelectLargeIndex: block: [187,0,0], thread: [123,0,0] Assertion `srcIndex < srcSelectDimSize` failed.\n",
      "/opt/conda/conda-bld/pytorch_1659484803030/work/aten/src/ATen/native/cuda/Indexing.cu:975: indexSelectLargeIndex: block: [187,0,0], thread: [124,0,0] Assertion `srcIndex < srcSelectDimSize` failed.\n",
      "/opt/conda/conda-bld/pytorch_1659484803030/work/aten/src/ATen/native/cuda/Indexing.cu:975: indexSelectLargeIndex: block: [187,0,0], thread: [125,0,0] Assertion `srcIndex < srcSelectDimSize` failed.\n",
      "/opt/conda/conda-bld/pytorch_1659484803030/work/aten/src/ATen/native/cuda/Indexing.cu:975: indexSelectLargeIndex: block: [187,0,0], thread: [126,0,0] Assertion `srcIndex < srcSelectDimSize` failed.\n",
      "/opt/conda/conda-bld/pytorch_1659484803030/work/aten/src/ATen/native/cuda/Indexing.cu:975: indexSelectLargeIndex: block: [187,0,0], thread: [127,0,0] Assertion `srcIndex < srcSelectDimSize` failed.\n"
     ]
    },
    {
     "ename": "RuntimeError",
     "evalue": "CUDA error: CUBLAS_STATUS_NOT_INITIALIZED when calling `cublasCreate(handle)`",
     "output_type": "error",
     "traceback": [
      "\u001b[0;31m---------------------------------------------------------------------------\u001b[0m",
      "\u001b[0;31mRuntimeError\u001b[0m                              Traceback (most recent call last)",
      "Input \u001b[0;32mIn [35]\u001b[0m, in \u001b[0;36m<cell line: 1>\u001b[0;34m()\u001b[0m\n\u001b[0;32m----> 1\u001b[0m \u001b[43mtrain\u001b[49m\u001b[43m(\u001b[49m\u001b[43mnum_epochs\u001b[49m\u001b[43m,\u001b[49m\u001b[43m \u001b[49m\u001b[43mtrain_dataloader\u001b[49m\u001b[43m,\u001b[49m\u001b[43m \u001b[49m\u001b[43mval_dataloader\u001b[49m\u001b[43m,\u001b[49m\u001b[43m \u001b[49m\u001b[43mtransformer\u001b[49m\u001b[43m,\u001b[49m\u001b[43m \u001b[49m\u001b[43moptimizer\u001b[49m\u001b[43m,\u001b[49m\u001b[43m \u001b[49m\u001b[43mcriterion\u001b[49m\u001b[43m,\u001b[49m\u001b[43m \u001b[49m\u001b[43mscheduler\u001b[49m\u001b[43m)\u001b[49m\n",
      "Input \u001b[0;32mIn [33]\u001b[0m, in \u001b[0;36mtrain\u001b[0;34m(num_epochs, train_dataloader, val_dataloader, model, optimizer, criterion, scheduler)\u001b[0m\n\u001b[1;32m     10\u001b[0m en_sequence \u001b[38;5;241m=\u001b[39m en_sequence\u001b[38;5;241m.\u001b[39mto(DEVICE)\n\u001b[1;32m     11\u001b[0m de_sequence \u001b[38;5;241m=\u001b[39m de_sequence\u001b[38;5;241m.\u001b[39mto(DEVICE)\n\u001b[0;32m---> 13\u001b[0m logits \u001b[38;5;241m=\u001b[39m \u001b[43mmodel\u001b[49m\u001b[43m(\u001b[49m\u001b[43men_sequence\u001b[49m\u001b[43m,\u001b[49m\u001b[43m \u001b[49m\u001b[43mde_sequence\u001b[49m\u001b[43m[\u001b[49m\u001b[43m:\u001b[49m\u001b[43m,\u001b[49m\u001b[43m \u001b[49m\u001b[43m:\u001b[49m\u001b[38;5;241;43m-\u001b[39;49m\u001b[38;5;241;43m1\u001b[39;49m\u001b[43m]\u001b[49m\u001b[43m)\u001b[49m\n\u001b[1;32m     14\u001b[0m labels \u001b[38;5;241m=\u001b[39m de_sequence[:, \u001b[38;5;241m1\u001b[39m:]\n\u001b[1;32m     16\u001b[0m \u001b[38;5;66;03m# we need to reshape in order to be able to use these tensors with CrossEntropyLoss\u001b[39;00m\n",
      "File \u001b[0;32m~/miniconda3/envs/dl/lib/python3.10/site-packages/torch/nn/modules/module.py:1130\u001b[0m, in \u001b[0;36mModule._call_impl\u001b[0;34m(self, *input, **kwargs)\u001b[0m\n\u001b[1;32m   1126\u001b[0m \u001b[38;5;66;03m# If we don't have any hooks, we want to skip the rest of the logic in\u001b[39;00m\n\u001b[1;32m   1127\u001b[0m \u001b[38;5;66;03m# this function, and just call forward.\u001b[39;00m\n\u001b[1;32m   1128\u001b[0m \u001b[38;5;28;01mif\u001b[39;00m \u001b[38;5;129;01mnot\u001b[39;00m (\u001b[38;5;28mself\u001b[39m\u001b[38;5;241m.\u001b[39m_backward_hooks \u001b[38;5;129;01mor\u001b[39;00m \u001b[38;5;28mself\u001b[39m\u001b[38;5;241m.\u001b[39m_forward_hooks \u001b[38;5;129;01mor\u001b[39;00m \u001b[38;5;28mself\u001b[39m\u001b[38;5;241m.\u001b[39m_forward_pre_hooks \u001b[38;5;129;01mor\u001b[39;00m _global_backward_hooks\n\u001b[1;32m   1129\u001b[0m         \u001b[38;5;129;01mor\u001b[39;00m _global_forward_hooks \u001b[38;5;129;01mor\u001b[39;00m _global_forward_pre_hooks):\n\u001b[0;32m-> 1130\u001b[0m     \u001b[38;5;28;01mreturn\u001b[39;00m \u001b[43mforward_call\u001b[49m\u001b[43m(\u001b[49m\u001b[38;5;241;43m*\u001b[39;49m\u001b[38;5;28;43minput\u001b[39;49m\u001b[43m,\u001b[49m\u001b[43m \u001b[49m\u001b[38;5;241;43m*\u001b[39;49m\u001b[38;5;241;43m*\u001b[39;49m\u001b[43mkwargs\u001b[49m\u001b[43m)\u001b[49m\n\u001b[1;32m   1131\u001b[0m \u001b[38;5;66;03m# Do not call functions when jit is used\u001b[39;00m\n\u001b[1;32m   1132\u001b[0m full_backward_hooks, non_full_backward_hooks \u001b[38;5;241m=\u001b[39m [], []\n",
      "Input \u001b[0;32mIn [30]\u001b[0m, in \u001b[0;36mTransformer.forward\u001b[0;34m(self, src, trg)\u001b[0m\n\u001b[1;32m     27\u001b[0m src \u001b[38;5;241m=\u001b[39m \u001b[38;5;28mself\u001b[39m\u001b[38;5;241m.\u001b[39men_embedding(src)\n\u001b[1;32m     28\u001b[0m trg \u001b[38;5;241m=\u001b[39m \u001b[38;5;28mself\u001b[39m\u001b[38;5;241m.\u001b[39men_embedding(trg)\n\u001b[0;32m---> 30\u001b[0m encoder_output \u001b[38;5;241m=\u001b[39m \u001b[38;5;28;43mself\u001b[39;49m\u001b[38;5;241;43m.\u001b[39;49m\u001b[43mencoder\u001b[49m\u001b[43m(\u001b[49m\u001b[43msrc\u001b[49m\u001b[43m,\u001b[49m\u001b[43m \u001b[49m\u001b[43msrc_mask\u001b[49m\u001b[43m)\u001b[49m\n\u001b[1;32m     31\u001b[0m decoder_output \u001b[38;5;241m=\u001b[39m \u001b[38;5;28mself\u001b[39m\u001b[38;5;241m.\u001b[39mdecoder(encoder_output, trg, src_mask, trg_mask)\n\u001b[1;32m     33\u001b[0m \u001b[38;5;66;03m# 3: output\u001b[39;00m\n",
      "File \u001b[0;32m~/miniconda3/envs/dl/lib/python3.10/site-packages/torch/nn/modules/module.py:1130\u001b[0m, in \u001b[0;36mModule._call_impl\u001b[0;34m(self, *input, **kwargs)\u001b[0m\n\u001b[1;32m   1126\u001b[0m \u001b[38;5;66;03m# If we don't have any hooks, we want to skip the rest of the logic in\u001b[39;00m\n\u001b[1;32m   1127\u001b[0m \u001b[38;5;66;03m# this function, and just call forward.\u001b[39;00m\n\u001b[1;32m   1128\u001b[0m \u001b[38;5;28;01mif\u001b[39;00m \u001b[38;5;129;01mnot\u001b[39;00m (\u001b[38;5;28mself\u001b[39m\u001b[38;5;241m.\u001b[39m_backward_hooks \u001b[38;5;129;01mor\u001b[39;00m \u001b[38;5;28mself\u001b[39m\u001b[38;5;241m.\u001b[39m_forward_hooks \u001b[38;5;129;01mor\u001b[39;00m \u001b[38;5;28mself\u001b[39m\u001b[38;5;241m.\u001b[39m_forward_pre_hooks \u001b[38;5;129;01mor\u001b[39;00m _global_backward_hooks\n\u001b[1;32m   1129\u001b[0m         \u001b[38;5;129;01mor\u001b[39;00m _global_forward_hooks \u001b[38;5;129;01mor\u001b[39;00m _global_forward_pre_hooks):\n\u001b[0;32m-> 1130\u001b[0m     \u001b[38;5;28;01mreturn\u001b[39;00m \u001b[43mforward_call\u001b[49m\u001b[43m(\u001b[49m\u001b[38;5;241;43m*\u001b[39;49m\u001b[38;5;28;43minput\u001b[39;49m\u001b[43m,\u001b[49m\u001b[43m \u001b[49m\u001b[38;5;241;43m*\u001b[39;49m\u001b[38;5;241;43m*\u001b[39;49m\u001b[43mkwargs\u001b[49m\u001b[43m)\u001b[49m\n\u001b[1;32m   1131\u001b[0m \u001b[38;5;66;03m# Do not call functions when jit is used\u001b[39;00m\n\u001b[1;32m   1132\u001b[0m full_backward_hooks, non_full_backward_hooks \u001b[38;5;241m=\u001b[39m [], []\n",
      "Input \u001b[0;32mIn [26]\u001b[0m, in \u001b[0;36mEncoder.forward\u001b[0;34m(self, x, mask)\u001b[0m\n\u001b[1;32m      6\u001b[0m \u001b[38;5;28;01mdef\u001b[39;00m \u001b[38;5;21mforward\u001b[39m(\u001b[38;5;28mself\u001b[39m, x, mask):\n\u001b[1;32m      7\u001b[0m     \u001b[38;5;28;01mfor\u001b[39;00m encoder \u001b[38;5;129;01min\u001b[39;00m \u001b[38;5;28mself\u001b[39m\u001b[38;5;241m.\u001b[39mencoders:\n\u001b[0;32m----> 8\u001b[0m         x \u001b[38;5;241m=\u001b[39m \u001b[43mencoder\u001b[49m\u001b[43m(\u001b[49m\u001b[43mx\u001b[49m\u001b[43m,\u001b[49m\u001b[43m \u001b[49m\u001b[43mmask\u001b[49m\u001b[43m)\u001b[49m\n\u001b[1;32m      9\u001b[0m     \u001b[38;5;28;01mreturn\u001b[39;00m x\n",
      "File \u001b[0;32m~/miniconda3/envs/dl/lib/python3.10/site-packages/torch/nn/modules/module.py:1130\u001b[0m, in \u001b[0;36mModule._call_impl\u001b[0;34m(self, *input, **kwargs)\u001b[0m\n\u001b[1;32m   1126\u001b[0m \u001b[38;5;66;03m# If we don't have any hooks, we want to skip the rest of the logic in\u001b[39;00m\n\u001b[1;32m   1127\u001b[0m \u001b[38;5;66;03m# this function, and just call forward.\u001b[39;00m\n\u001b[1;32m   1128\u001b[0m \u001b[38;5;28;01mif\u001b[39;00m \u001b[38;5;129;01mnot\u001b[39;00m (\u001b[38;5;28mself\u001b[39m\u001b[38;5;241m.\u001b[39m_backward_hooks \u001b[38;5;129;01mor\u001b[39;00m \u001b[38;5;28mself\u001b[39m\u001b[38;5;241m.\u001b[39m_forward_hooks \u001b[38;5;129;01mor\u001b[39;00m \u001b[38;5;28mself\u001b[39m\u001b[38;5;241m.\u001b[39m_forward_pre_hooks \u001b[38;5;129;01mor\u001b[39;00m _global_backward_hooks\n\u001b[1;32m   1129\u001b[0m         \u001b[38;5;129;01mor\u001b[39;00m _global_forward_hooks \u001b[38;5;129;01mor\u001b[39;00m _global_forward_pre_hooks):\n\u001b[0;32m-> 1130\u001b[0m     \u001b[38;5;28;01mreturn\u001b[39;00m \u001b[43mforward_call\u001b[49m\u001b[43m(\u001b[49m\u001b[38;5;241;43m*\u001b[39;49m\u001b[38;5;28;43minput\u001b[39;49m\u001b[43m,\u001b[49m\u001b[43m \u001b[49m\u001b[38;5;241;43m*\u001b[39;49m\u001b[38;5;241;43m*\u001b[39;49m\u001b[43mkwargs\u001b[49m\u001b[43m)\u001b[49m\n\u001b[1;32m   1131\u001b[0m \u001b[38;5;66;03m# Do not call functions when jit is used\u001b[39;00m\n\u001b[1;32m   1132\u001b[0m full_backward_hooks, non_full_backward_hooks \u001b[38;5;241m=\u001b[39m [], []\n",
      "Input \u001b[0;32mIn [25]\u001b[0m, in \u001b[0;36mEncoderLayer.forward\u001b[0;34m(self, x, mask)\u001b[0m\n\u001b[1;32m      9\u001b[0m \u001b[38;5;28;01mdef\u001b[39;00m \u001b[38;5;21mforward\u001b[39m(\u001b[38;5;28mself\u001b[39m, x, mask):\n\u001b[1;32m     10\u001b[0m     \u001b[38;5;66;03m# skip connection 1\u001b[39;00m\n\u001b[1;32m     11\u001b[0m     normalized \u001b[38;5;241m=\u001b[39m \u001b[38;5;28mself\u001b[39m\u001b[38;5;241m.\u001b[39mlayer_norm_1(x)\n\u001b[0;32m---> 12\u001b[0m     x \u001b[38;5;241m=\u001b[39m x \u001b[38;5;241m+\u001b[39m \u001b[38;5;28;43mself\u001b[39;49m\u001b[38;5;241;43m.\u001b[39;49m\u001b[43mmulti_head_attention\u001b[49m\u001b[43m(\u001b[49m\u001b[43mnormalized\u001b[49m\u001b[43m,\u001b[49m\u001b[43m \u001b[49m\u001b[43mnormalized\u001b[49m\u001b[43m,\u001b[49m\u001b[43m \u001b[49m\u001b[43mnormalized\u001b[49m\u001b[43m,\u001b[49m\u001b[43m \u001b[49m\u001b[43mmask\u001b[49m\u001b[43m)\u001b[49m\n\u001b[1;32m     13\u001b[0m     \u001b[38;5;66;03m# skip connection 2\u001b[39;00m\n\u001b[1;32m     14\u001b[0m     x \u001b[38;5;241m=\u001b[39m x \u001b[38;5;241m+\u001b[39m \u001b[38;5;28mself\u001b[39m\u001b[38;5;241m.\u001b[39mpw_feedforward(\u001b[38;5;28mself\u001b[39m\u001b[38;5;241m.\u001b[39mlayer_norm_2(x))\n",
      "File \u001b[0;32m~/miniconda3/envs/dl/lib/python3.10/site-packages/torch/nn/modules/module.py:1130\u001b[0m, in \u001b[0;36mModule._call_impl\u001b[0;34m(self, *input, **kwargs)\u001b[0m\n\u001b[1;32m   1126\u001b[0m \u001b[38;5;66;03m# If we don't have any hooks, we want to skip the rest of the logic in\u001b[39;00m\n\u001b[1;32m   1127\u001b[0m \u001b[38;5;66;03m# this function, and just call forward.\u001b[39;00m\n\u001b[1;32m   1128\u001b[0m \u001b[38;5;28;01mif\u001b[39;00m \u001b[38;5;129;01mnot\u001b[39;00m (\u001b[38;5;28mself\u001b[39m\u001b[38;5;241m.\u001b[39m_backward_hooks \u001b[38;5;129;01mor\u001b[39;00m \u001b[38;5;28mself\u001b[39m\u001b[38;5;241m.\u001b[39m_forward_hooks \u001b[38;5;129;01mor\u001b[39;00m \u001b[38;5;28mself\u001b[39m\u001b[38;5;241m.\u001b[39m_forward_pre_hooks \u001b[38;5;129;01mor\u001b[39;00m _global_backward_hooks\n\u001b[1;32m   1129\u001b[0m         \u001b[38;5;129;01mor\u001b[39;00m _global_forward_hooks \u001b[38;5;129;01mor\u001b[39;00m _global_forward_pre_hooks):\n\u001b[0;32m-> 1130\u001b[0m     \u001b[38;5;28;01mreturn\u001b[39;00m \u001b[43mforward_call\u001b[49m\u001b[43m(\u001b[49m\u001b[38;5;241;43m*\u001b[39;49m\u001b[38;5;28;43minput\u001b[39;49m\u001b[43m,\u001b[49m\u001b[43m \u001b[49m\u001b[38;5;241;43m*\u001b[39;49m\u001b[38;5;241;43m*\u001b[39;49m\u001b[43mkwargs\u001b[49m\u001b[43m)\u001b[49m\n\u001b[1;32m   1131\u001b[0m \u001b[38;5;66;03m# Do not call functions when jit is used\u001b[39;00m\n\u001b[1;32m   1132\u001b[0m full_backward_hooks, non_full_backward_hooks \u001b[38;5;241m=\u001b[39m [], []\n",
      "Input \u001b[0;32mIn [23]\u001b[0m, in \u001b[0;36mMultiHeadAttention.forward\u001b[0;34m(self, query, key, value, mask)\u001b[0m\n\u001b[1;32m      7\u001b[0m \u001b[38;5;28;01mdef\u001b[39;00m \u001b[38;5;21mforward\u001b[39m(\u001b[38;5;28mself\u001b[39m, query, key, value, mask\u001b[38;5;241m=\u001b[39m\u001b[38;5;28;01mNone\u001b[39;00m):\n\u001b[0;32m----> 8\u001b[0m     x \u001b[38;5;241m=\u001b[39m [head(query, key, value, mask) \u001b[38;5;28;01mfor\u001b[39;00m head \u001b[38;5;129;01min\u001b[39;00m \u001b[38;5;28mself\u001b[39m\u001b[38;5;241m.\u001b[39mheads]\n\u001b[1;32m      9\u001b[0m     x \u001b[38;5;241m=\u001b[39m torch\u001b[38;5;241m.\u001b[39mcat(x, dim\u001b[38;5;241m=\u001b[39m\u001b[38;5;241m-\u001b[39m\u001b[38;5;241m1\u001b[39m)\n\u001b[1;32m     10\u001b[0m     x \u001b[38;5;241m=\u001b[39m \u001b[38;5;28mself\u001b[39m\u001b[38;5;241m.\u001b[39moutput(x)\n",
      "Input \u001b[0;32mIn [23]\u001b[0m, in \u001b[0;36m<listcomp>\u001b[0;34m(.0)\u001b[0m\n\u001b[1;32m      7\u001b[0m \u001b[38;5;28;01mdef\u001b[39;00m \u001b[38;5;21mforward\u001b[39m(\u001b[38;5;28mself\u001b[39m, query, key, value, mask\u001b[38;5;241m=\u001b[39m\u001b[38;5;28;01mNone\u001b[39;00m):\n\u001b[0;32m----> 8\u001b[0m     x \u001b[38;5;241m=\u001b[39m [\u001b[43mhead\u001b[49m\u001b[43m(\u001b[49m\u001b[43mquery\u001b[49m\u001b[43m,\u001b[49m\u001b[43m \u001b[49m\u001b[43mkey\u001b[49m\u001b[43m,\u001b[49m\u001b[43m \u001b[49m\u001b[43mvalue\u001b[49m\u001b[43m,\u001b[49m\u001b[43m \u001b[49m\u001b[43mmask\u001b[49m\u001b[43m)\u001b[49m \u001b[38;5;28;01mfor\u001b[39;00m head \u001b[38;5;129;01min\u001b[39;00m \u001b[38;5;28mself\u001b[39m\u001b[38;5;241m.\u001b[39mheads]\n\u001b[1;32m      9\u001b[0m     x \u001b[38;5;241m=\u001b[39m torch\u001b[38;5;241m.\u001b[39mcat(x, dim\u001b[38;5;241m=\u001b[39m\u001b[38;5;241m-\u001b[39m\u001b[38;5;241m1\u001b[39m)\n\u001b[1;32m     10\u001b[0m     x \u001b[38;5;241m=\u001b[39m \u001b[38;5;28mself\u001b[39m\u001b[38;5;241m.\u001b[39moutput(x)\n",
      "File \u001b[0;32m~/miniconda3/envs/dl/lib/python3.10/site-packages/torch/nn/modules/module.py:1130\u001b[0m, in \u001b[0;36mModule._call_impl\u001b[0;34m(self, *input, **kwargs)\u001b[0m\n\u001b[1;32m   1126\u001b[0m \u001b[38;5;66;03m# If we don't have any hooks, we want to skip the rest of the logic in\u001b[39;00m\n\u001b[1;32m   1127\u001b[0m \u001b[38;5;66;03m# this function, and just call forward.\u001b[39;00m\n\u001b[1;32m   1128\u001b[0m \u001b[38;5;28;01mif\u001b[39;00m \u001b[38;5;129;01mnot\u001b[39;00m (\u001b[38;5;28mself\u001b[39m\u001b[38;5;241m.\u001b[39m_backward_hooks \u001b[38;5;129;01mor\u001b[39;00m \u001b[38;5;28mself\u001b[39m\u001b[38;5;241m.\u001b[39m_forward_hooks \u001b[38;5;129;01mor\u001b[39;00m \u001b[38;5;28mself\u001b[39m\u001b[38;5;241m.\u001b[39m_forward_pre_hooks \u001b[38;5;129;01mor\u001b[39;00m _global_backward_hooks\n\u001b[1;32m   1129\u001b[0m         \u001b[38;5;129;01mor\u001b[39;00m _global_forward_hooks \u001b[38;5;129;01mor\u001b[39;00m _global_forward_pre_hooks):\n\u001b[0;32m-> 1130\u001b[0m     \u001b[38;5;28;01mreturn\u001b[39;00m \u001b[43mforward_call\u001b[49m\u001b[43m(\u001b[49m\u001b[38;5;241;43m*\u001b[39;49m\u001b[38;5;28;43minput\u001b[39;49m\u001b[43m,\u001b[49m\u001b[43m \u001b[49m\u001b[38;5;241;43m*\u001b[39;49m\u001b[38;5;241;43m*\u001b[39;49m\u001b[43mkwargs\u001b[49m\u001b[43m)\u001b[49m\n\u001b[1;32m   1131\u001b[0m \u001b[38;5;66;03m# Do not call functions when jit is used\u001b[39;00m\n\u001b[1;32m   1132\u001b[0m full_backward_hooks, non_full_backward_hooks \u001b[38;5;241m=\u001b[39m [], []\n",
      "Input \u001b[0;32mIn [22]\u001b[0m, in \u001b[0;36mAttentionHead.forward\u001b[0;34m(self, query, key, value, mask)\u001b[0m\n\u001b[1;32m      8\u001b[0m \u001b[38;5;28;01mdef\u001b[39;00m \u001b[38;5;21mforward\u001b[39m(\u001b[38;5;28mself\u001b[39m, query, key, value, mask\u001b[38;5;241m=\u001b[39m\u001b[38;5;28;01mNone\u001b[39;00m):\n\u001b[0;32m----> 9\u001b[0m     query \u001b[38;5;241m=\u001b[39m \u001b[38;5;28;43mself\u001b[39;49m\u001b[38;5;241;43m.\u001b[39;49m\u001b[43mquery\u001b[49m\u001b[43m(\u001b[49m\u001b[43mquery\u001b[49m\u001b[43m)\u001b[49m\n\u001b[1;32m     10\u001b[0m     key \u001b[38;5;241m=\u001b[39m \u001b[38;5;28mself\u001b[39m\u001b[38;5;241m.\u001b[39mkey(key)\n\u001b[1;32m     11\u001b[0m     value \u001b[38;5;241m=\u001b[39m \u001b[38;5;28mself\u001b[39m\u001b[38;5;241m.\u001b[39mvalue(value)\n",
      "File \u001b[0;32m~/miniconda3/envs/dl/lib/python3.10/site-packages/torch/nn/modules/module.py:1130\u001b[0m, in \u001b[0;36mModule._call_impl\u001b[0;34m(self, *input, **kwargs)\u001b[0m\n\u001b[1;32m   1126\u001b[0m \u001b[38;5;66;03m# If we don't have any hooks, we want to skip the rest of the logic in\u001b[39;00m\n\u001b[1;32m   1127\u001b[0m \u001b[38;5;66;03m# this function, and just call forward.\u001b[39;00m\n\u001b[1;32m   1128\u001b[0m \u001b[38;5;28;01mif\u001b[39;00m \u001b[38;5;129;01mnot\u001b[39;00m (\u001b[38;5;28mself\u001b[39m\u001b[38;5;241m.\u001b[39m_backward_hooks \u001b[38;5;129;01mor\u001b[39;00m \u001b[38;5;28mself\u001b[39m\u001b[38;5;241m.\u001b[39m_forward_hooks \u001b[38;5;129;01mor\u001b[39;00m \u001b[38;5;28mself\u001b[39m\u001b[38;5;241m.\u001b[39m_forward_pre_hooks \u001b[38;5;129;01mor\u001b[39;00m _global_backward_hooks\n\u001b[1;32m   1129\u001b[0m         \u001b[38;5;129;01mor\u001b[39;00m _global_forward_hooks \u001b[38;5;129;01mor\u001b[39;00m _global_forward_pre_hooks):\n\u001b[0;32m-> 1130\u001b[0m     \u001b[38;5;28;01mreturn\u001b[39;00m \u001b[43mforward_call\u001b[49m\u001b[43m(\u001b[49m\u001b[38;5;241;43m*\u001b[39;49m\u001b[38;5;28;43minput\u001b[39;49m\u001b[43m,\u001b[49m\u001b[43m \u001b[49m\u001b[38;5;241;43m*\u001b[39;49m\u001b[38;5;241;43m*\u001b[39;49m\u001b[43mkwargs\u001b[49m\u001b[43m)\u001b[49m\n\u001b[1;32m   1131\u001b[0m \u001b[38;5;66;03m# Do not call functions when jit is used\u001b[39;00m\n\u001b[1;32m   1132\u001b[0m full_backward_hooks, non_full_backward_hooks \u001b[38;5;241m=\u001b[39m [], []\n",
      "File \u001b[0;32m~/miniconda3/envs/dl/lib/python3.10/site-packages/torch/nn/modules/linear.py:114\u001b[0m, in \u001b[0;36mLinear.forward\u001b[0;34m(self, input)\u001b[0m\n\u001b[1;32m    113\u001b[0m \u001b[38;5;28;01mdef\u001b[39;00m \u001b[38;5;21mforward\u001b[39m(\u001b[38;5;28mself\u001b[39m, \u001b[38;5;28minput\u001b[39m: Tensor) \u001b[38;5;241m-\u001b[39m\u001b[38;5;241m>\u001b[39m Tensor:\n\u001b[0;32m--> 114\u001b[0m     \u001b[38;5;28;01mreturn\u001b[39;00m \u001b[43mF\u001b[49m\u001b[38;5;241;43m.\u001b[39;49m\u001b[43mlinear\u001b[49m\u001b[43m(\u001b[49m\u001b[38;5;28;43minput\u001b[39;49m\u001b[43m,\u001b[49m\u001b[43m \u001b[49m\u001b[38;5;28;43mself\u001b[39;49m\u001b[38;5;241;43m.\u001b[39;49m\u001b[43mweight\u001b[49m\u001b[43m,\u001b[49m\u001b[43m \u001b[49m\u001b[38;5;28;43mself\u001b[39;49m\u001b[38;5;241;43m.\u001b[39;49m\u001b[43mbias\u001b[49m\u001b[43m)\u001b[49m\n",
      "\u001b[0;31mRuntimeError\u001b[0m: CUDA error: CUBLAS_STATUS_NOT_INITIALIZED when calling `cublasCreate(handle)`"
     ]
    }
   ],
   "source": [
    "train(num_epochs, train_dataloader, val_dataloader, transformer, optimizer, criterion, scheduler)"
   ]
  }
 ],
 "metadata": {
  "kernelspec": {
   "display_name": "Python 3 (ipykernel)",
   "language": "python",
   "name": "python3"
  },
  "language_info": {
   "codemirror_mode": {
    "name": "ipython",
    "version": 3
   },
   "file_extension": ".py",
   "mimetype": "text/x-python",
   "name": "python",
   "nbconvert_exporter": "python",
   "pygments_lexer": "ipython3",
   "version": "3.10.5"
  }
 },
 "nbformat": 4,
 "nbformat_minor": 5
}
