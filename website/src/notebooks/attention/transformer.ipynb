{
 "cells": [
  {
   "cell_type": "markdown",
   "id": "3005a817-bf98-4789-92b4-f8c77ec23871",
   "metadata": {},
   "source": [
    "# Transformer"
   ]
  },
  {
   "cell_type": "markdown",
   "id": "d4909f57-0796-44a1-bc7b-77550e7137a9",
   "metadata": {},
   "source": [
    "Highly inspired by Natural Language Processing with Transformers and https://github.com/bentrevett/pytorch-seq2seq/blob/master/6%20-%20Attention%20is%20All%20You%20Need.ipynb"
   ]
  },
  {
   "cell_type": "code",
   "execution_count": 1,
   "id": "0146edb6-a0c5-4845-8a05-3df56459f6d3",
   "metadata": {},
   "outputs": [],
   "source": [
    "import torch\n",
    "from torch import nn, optim\n",
    "import torchtext\n",
    "from torch.utils.data import Dataset, DataLoader\n",
    "import re"
   ]
  },
  {
   "cell_type": "code",
   "execution_count": 2,
   "id": "72dfc261-b440-4a70-be3c-a8d5968caffa",
   "metadata": {},
   "outputs": [],
   "source": [
    "train_data = torchtext.datasets.Multi30k(root = '../datasets/', split = 'train', language_pair = ('de', 'en'))\n",
    "val_data = torchtext.datasets.Multi30k(root = '../datasets/', split = 'valid', language_pair = ('de', 'en'))\n",
    "test_data = torchtext.datasets.Multi30k(root = '../datasets/', split = 'test', language_pair = ('de', 'en'))"
   ]
  },
  {
   "cell_type": "code",
   "execution_count": 3,
   "id": "0d6c50c8-b5d7-46fc-a5ab-9dd792a5c6ab",
   "metadata": {},
   "outputs": [],
   "source": [
    "train = list(train_data)\n",
    "val = list(val_data)\n",
    "test = list(test_data)"
   ]
  },
  {
   "cell_type": "code",
   "execution_count": 4,
   "id": "e8e12d5a-b9c3-4de2-b074-e2834ed0d968",
   "metadata": {},
   "outputs": [
    {
     "data": {
      "text/plain": [
       "[('Zwei junge weiße Männer sind im Freien in der Nähe vieler Büsche.',\n",
       "  'Two young, White males are outside near many bushes.'),\n",
       " ('Mehrere Männer mit Schutzhelmen bedienen ein Antriebsradsystem.',\n",
       "  'Several men in hard hats are operating a giant pulley system.'),\n",
       " ('Ein kleines Mädchen klettert in ein Spielhaus aus Holz.',\n",
       "  'A little girl climbing into a wooden playhouse.'),\n",
       " ('Ein Mann in einem blauen Hemd steht auf einer Leiter und putzt ein Fenster.',\n",
       "  'A man in a blue shirt is standing on a ladder cleaning a window.'),\n",
       " ('Zwei Männer stehen am Herd und bereiten Essen zu.',\n",
       "  'Two men are at the stove preparing food.'),\n",
       " ('Ein Mann in grün hält eine Gitarre, während der andere Mann sein Hemd ansieht.',\n",
       "  'A man in green holds a guitar while the other man observes his shirt.'),\n",
       " ('Ein Mann lächelt einen ausgestopften Löwen an.',\n",
       "  'A man is smiling at a stuffed lion'),\n",
       " ('Ein schickes Mädchen spricht mit dem Handy während sie langsam die Straße entlangschwebt.',\n",
       "  'A trendy girl talking on her cellphone while gliding slowly down the street.'),\n",
       " ('Eine Frau mit einer großen Geldbörse geht an einem Tor vorbei.',\n",
       "  'A woman with a large purse is walking by a gate.'),\n",
       " ('Jungen tanzen mitten in der Nacht auf Pfosten.',\n",
       "  'Boys dancing on poles in the middle of the night.')]"
      ]
     },
     "execution_count": 4,
     "metadata": {},
     "output_type": "execute_result"
    }
   ],
   "source": [
    "train[0:10]"
   ]
  },
  {
   "cell_type": "code",
   "execution_count": 5,
   "id": "95f4d41c-8e59-4bd9-b08d-8dabdd808f5f",
   "metadata": {},
   "outputs": [],
   "source": [
    "def normalize(s):\n",
    "    s = s.lower().strip()\n",
    "    s = re.sub(r\"([.!?])\", r\" \\1\", s)\n",
    "    return s\n",
    "\n",
    "def tokenizer(s):\n",
    "    s = normalize(s)\n",
    "    s = s.split(' ')\n",
    "    s.insert(0, '<sos>')\n",
    "    s.append('<eos>')\n",
    "    return s"
   ]
  },
  {
   "cell_type": "code",
   "execution_count": 6,
   "id": "de1c24d2-d40b-44c2-bc07-75ca958b95eb",
   "metadata": {},
   "outputs": [
    {
     "data": {
      "text/plain": [
       "['<sos>', 'how', 'are', 'you', 'doing', 'today', '?', '<eos>']"
      ]
     },
     "execution_count": 6,
     "metadata": {},
     "output_type": "execute_result"
    }
   ],
   "source": [
    "tokenizer(\"How are you doing today?\")"
   ]
  },
  {
   "cell_type": "code",
   "execution_count": 7,
   "id": "4d354306-a5e3-4f17-8005-788746bc0165",
   "metadata": {},
   "outputs": [],
   "source": [
    "def tokenize(data):\n",
    "    en_seq, de_seq = [], []\n",
    "    for en, de in data:\n",
    "        en_seq.append(tokenizer(en))\n",
    "        de_seq.append(tokenizer(de))\n",
    "    return en_seq, de_seq"
   ]
  },
  {
   "cell_type": "code",
   "execution_count": 8,
   "id": "bd0084dc-78db-4eff-970b-3dfe02403116",
   "metadata": {},
   "outputs": [],
   "source": [
    "train_en, train_de = tokenize(train)\n",
    "val_en, val_de = tokenize(val)\n",
    "test_en, test_de = tokenize(test)"
   ]
  },
  {
   "cell_type": "code",
   "execution_count": 9,
   "id": "80656886-7f88-4e88-818f-1b8b9b08d2dd",
   "metadata": {},
   "outputs": [
    {
     "data": {
      "text/plain": [
       "(['<sos>',\n",
       "  'zwei',\n",
       "  'junge',\n",
       "  'weiße',\n",
       "  'männer',\n",
       "  'sind',\n",
       "  'im',\n",
       "  'freien',\n",
       "  'in',\n",
       "  'der',\n",
       "  'nähe',\n",
       "  'vieler',\n",
       "  'büsche',\n",
       "  '.',\n",
       "  '<eos>'],\n",
       " ['<sos>',\n",
       "  'two',\n",
       "  'young,',\n",
       "  'white',\n",
       "  'males',\n",
       "  'are',\n",
       "  'outside',\n",
       "  'near',\n",
       "  'many',\n",
       "  'bushes',\n",
       "  '.',\n",
       "  '<eos>'])"
      ]
     },
     "execution_count": 9,
     "metadata": {},
     "output_type": "execute_result"
    }
   ],
   "source": [
    "train_en[0], train_de[0]"
   ]
  },
  {
   "cell_type": "code",
   "execution_count": 10,
   "id": "ee5051ca-3391-4931-a9c5-3597202d9621",
   "metadata": {},
   "outputs": [],
   "source": [
    "class PairDataset(Dataset):\n",
    "    def __init__(self, en, de):\n",
    "        assert len(en) == len(de)\n",
    "        self.en = en\n",
    "        self.de = de\n",
    "    \n",
    "    def __len__(self):\n",
    "        return len(self.en)\n",
    "    \n",
    "    def __getitem__(self, idx):\n",
    "        return self.en[idx], self.de[idx]"
   ]
  },
  {
   "cell_type": "code",
   "execution_count": 11,
   "id": "8472233c-6121-4474-b308-efa6f4f4fcc1",
   "metadata": {},
   "outputs": [],
   "source": [
    "train_dataset = PairDataset(train_en, train_de)\n",
    "val_dataset = PairDataset(val_en, val_de)\n",
    "test_dataset = PairDataset(test_en, test_de)"
   ]
  },
  {
   "cell_type": "code",
   "execution_count": 12,
   "id": "05813932-98a7-4335-8c85-4e531b00e77f",
   "metadata": {},
   "outputs": [],
   "source": [
    "from collections import Counter, OrderedDict"
   ]
  },
  {
   "cell_type": "code",
   "execution_count": 13,
   "id": "ec13d288-545d-4c78-845a-cc04837e9e14",
   "metadata": {},
   "outputs": [],
   "source": [
    "en_counter = Counter()\n",
    "de_counter = Counter()\n",
    "\n",
    "for line in train_en:\n",
    "    en_counter.update(line)\n",
    "\n",
    "for line in train_de:\n",
    "    de_counter.update(line)"
   ]
  },
  {
   "cell_type": "code",
   "execution_count": 14,
   "id": "81599f94-7532-46c5-982a-3aad48c9c3af",
   "metadata": {},
   "outputs": [],
   "source": [
    "en_sorted_by_freq_tuples = sorted(en_counter.items(), key=lambda x: x[1], reverse=True)\n",
    "en_ordered_dict = OrderedDict(en_sorted_by_freq_tuples)\n",
    "\n",
    "de_sorted_by_freq_tuples = sorted(de_counter.items(), key=lambda x: x[1], reverse=True)\n",
    "de_ordered_dict = OrderedDict(de_sorted_by_freq_tuples)"
   ]
  },
  {
   "cell_type": "code",
   "execution_count": 15,
   "id": "cc319130-46ed-4e0a-a707-73efe9b2b5f8",
   "metadata": {},
   "outputs": [],
   "source": [
    "import torchtext\n",
    "en_vocab = torchtext.vocab.vocab(en_ordered_dict, min_freq = 2, specials=['<pad>', '<unk>', '<sos>', '<eos>'], special_first = True)\n",
    "de_vocab = torchtext.vocab.vocab(de_ordered_dict, min_freq = 2, specials=['<pad>', '<unk>', '<sos>', '<eos>'], special_first = True)\n",
    "\n",
    "en_vocab.set_default_index(1)\n",
    "de_vocab.set_default_index(1)"
   ]
  },
  {
   "cell_type": "code",
   "execution_count": 16,
   "id": "22f5ee51-8383-4684-8a89-ef39c3969004",
   "metadata": {},
   "outputs": [
    {
     "data": {
      "text/plain": [
       "([2, 17, 24, 244, 31, 91, 19, 88, 7, 14, 105, 5710, 3220, 4, 3],\n",
       " [2, 14, 1256, 23, 807, 16, 56, 78, 188, 1358, 5, 3])"
      ]
     },
     "execution_count": 16,
     "metadata": {},
     "output_type": "execute_result"
    }
   ],
   "source": [
    "en_vocab(train_en[0]), de_vocab(train_de[0])"
   ]
  },
  {
   "cell_type": "code",
   "execution_count": 17,
   "id": "8b956a78-81d0-44ed-9340-a1688a915342",
   "metadata": {},
   "outputs": [
    {
     "data": {
      "text/plain": [
       "(8389, 6384)"
      ]
     },
     "execution_count": 17,
     "metadata": {},
     "output_type": "execute_result"
    }
   ],
   "source": [
    "len(en_vocab), len(de_vocab)"
   ]
  },
  {
   "cell_type": "code",
   "execution_count": 18,
   "id": "cc585e37-54c4-4192-8ce8-5b548bba02e0",
   "metadata": {},
   "outputs": [],
   "source": [
    "def collate(batch):\n",
    "    en, de = [], []\n",
    "    for en_token, de_token in batch:\n",
    "        en.append(torch.tensor(en_vocab(en_token), dtype=torch.int64))\n",
    "        de.append(torch.tensor(de_vocab(de_token), dtype=torch.int64))\n",
    "    en_padded = nn.utils.rnn.pad_sequence(en, batch_first=True)\n",
    "    de_padded = nn.utils.rnn.pad_sequence(de, batch_first=True)\n",
    "    return en_padded, de_padded"
   ]
  },
  {
   "cell_type": "code",
   "execution_count": 19,
   "id": "57edd43a-8a56-4d86-bdf8-cab416a2447f",
   "metadata": {},
   "outputs": [],
   "source": [
    "dataloader = DataLoader(dataset=train_dataset, batch_size=3, shuffle=False, collate_fn=collate)\n",
    "encoded_en, encoded_de = next(iter(dataloader))"
   ]
  },
  {
   "cell_type": "code",
   "execution_count": 20,
   "id": "e67703d1-7ed2-4010-9771-517dd6c8563a",
   "metadata": {},
   "outputs": [
    {
     "name": "stdout",
     "output_type": "stream",
     "text": [
      "cuda\n"
     ]
    }
   ],
   "source": [
    "DEVICE = torch.device(\"cuda\" if torch.cuda.is_available() else \"cpu\")\n",
    "print(DEVICE)\n",
    "\n",
    "en_vocab_len = len(en_vocab)\n",
    "de_vocab_len = len(de_vocab)\n",
    "\n",
    "dim = 512\n",
    "num_heads = 8\n",
    "head_dim = dim // num_heads\n",
    "fc_dim=2048\n",
    "num_encoders = 6\n",
    "num_decoders = 6\n",
    "batch_size = 64"
   ]
  },
  {
   "cell_type": "code",
   "execution_count": 21,
   "id": "001b90d6-add2-44a1-bfec-74b21f7937d8",
   "metadata": {},
   "outputs": [],
   "source": [
    "encoded_en = encoded_en.to(DEVICE)\n",
    "encoded_de = encoded_de.to(DEVICE)"
   ]
  },
  {
   "cell_type": "code",
   "execution_count": 22,
   "id": "ec04d924-6805-45a1-ae26-4dde07197c67",
   "metadata": {},
   "outputs": [],
   "source": [
    "train_dataloader = DataLoader(dataset=train_dataset, batch_size=batch_size, shuffle=True, collate_fn=collate, drop_last=True)\n",
    "val_dataloader = DataLoader(dataset=val_dataset, batch_size=batch_size, shuffle=False, collate_fn=collate)\n",
    "train_dataloader = DataLoader(dataset=test_dataset, batch_size=batch_size, shuffle=False, collate_fn=collate)"
   ]
  },
  {
   "cell_type": "code",
   "execution_count": 23,
   "id": "0d86a5d4-0534-41af-98cb-2dea9a0306fd",
   "metadata": {},
   "outputs": [],
   "source": [
    "en_embedding = nn.Embedding(num_embeddings=en_vocab_len, embedding_dim=dim, padding_idx=0).to(DEVICE)\n",
    "de_embedding = nn.Embedding(num_embeddings=de_vocab_len, embedding_dim=dim, padding_idx=0).to(DEVICE)"
   ]
  },
  {
   "cell_type": "code",
   "execution_count": 24,
   "id": "bb8c6140-5be7-4df7-af67-ee7e39079146",
   "metadata": {},
   "outputs": [],
   "source": [
    "en_embedded = en_embedding(encoded_en)\n",
    "de_embedded = de_embedding(encoded_de)"
   ]
  },
  {
   "cell_type": "code",
   "execution_count": 25,
   "id": "922e6f47-c73c-4d45-a94c-a4d5bf4541f9",
   "metadata": {},
   "outputs": [
    {
     "data": {
      "text/plain": [
       "torch.Size([3, 15, 512])"
      ]
     },
     "execution_count": 25,
     "metadata": {},
     "output_type": "execute_result"
    }
   ],
   "source": [
    "en_embedded.shape"
   ]
  },
  {
   "cell_type": "code",
   "execution_count": 26,
   "id": "ddd48750-048b-4480-b678-a30fd7f1044d",
   "metadata": {},
   "outputs": [
    {
     "data": {
      "text/plain": [
       "torch.Size([3, 14, 512])"
      ]
     },
     "execution_count": 26,
     "metadata": {},
     "output_type": "execute_result"
    }
   ],
   "source": [
    "de_embedded.shape"
   ]
  },
  {
   "cell_type": "code",
   "execution_count": 27,
   "id": "7c78a589-aa43-423e-b1de-e430183897cb",
   "metadata": {},
   "outputs": [
    {
     "data": {
      "text/plain": [
       "torch.Size([3, 15, 512])"
      ]
     },
     "execution_count": 27,
     "metadata": {},
     "output_type": "execute_result"
    }
   ],
   "source": [
    "# batch_size, seq_len, hidden_dim\n",
    "en_embedded.size()"
   ]
  },
  {
   "cell_type": "code",
   "execution_count": 28,
   "id": "b3f43f68-27f8-4eb7-92c1-e1bcd19f2347",
   "metadata": {},
   "outputs": [],
   "source": [
    "def self_attention(query, key, value, mask=None):\n",
    "    dim_sqrt = torch.tensor(key.size(-1)).sqrt()\n",
    "    scores = query @ key.transpose(1, 2) / dim_sqrt\n",
    "    if mask is not None:\n",
    "        scores = scores.masked_fill(mask == 0, float(\"-inf\"))\n",
    "    \n",
    "    attention_weights = torch.softmax(scores, dim=-1)\n",
    "    attention = attention_weights @ value\n",
    "    return attention"
   ]
  },
  {
   "cell_type": "code",
   "execution_count": 29,
   "id": "c9f06fd1-9bce-478e-a21b-d86fd9906f8a",
   "metadata": {},
   "outputs": [
    {
     "data": {
      "text/plain": [
       "torch.Size([3, 15, 512])"
      ]
     },
     "execution_count": 29,
     "metadata": {},
     "output_type": "execute_result"
    }
   ],
   "source": [
    "en_mask = (encoded_en != 0).to(torch.int64).unsqueeze(1).to(DEVICE)\n",
    "de_mask = (encoded_de != 0).to(torch.int64).unsqueeze(1).to(DEVICE)\n",
    "\n",
    "att = self_attention(en_embedded, en_embedded, en_embedded, en_mask)\n",
    "att.shape"
   ]
  },
  {
   "cell_type": "code",
   "execution_count": 30,
   "id": "1dd1f5e2-788b-4f11-bc59-db8b03151032",
   "metadata": {},
   "outputs": [],
   "source": [
    "class AttentionHead(nn.Module):\n",
    "    def __init__(self, embed_dim, head_dim):\n",
    "        super().__init__()\n",
    "        self.query = nn.Linear(embed_dim, head_dim)\n",
    "        self.key = nn.Linear(embed_dim, head_dim)\n",
    "        self.value = nn.Linear(embed_dim, head_dim)\n",
    "    \n",
    "    def forward(self, query, key, value, mask=None):\n",
    "        query = self.query(query)\n",
    "        key = self.key(key)\n",
    "        value = self.value(value)\n",
    "        \n",
    "        return self_attention(query, key, value, mask)"
   ]
  },
  {
   "cell_type": "code",
   "execution_count": 31,
   "id": "879abcf0-41db-46f4-b5aa-692a66810d01",
   "metadata": {},
   "outputs": [
    {
     "data": {
      "text/plain": [
       "torch.Size([3, 15, 64])"
      ]
     },
     "execution_count": 31,
     "metadata": {},
     "output_type": "execute_result"
    }
   ],
   "source": [
    "attention_head = AttentionHead(dim, head_dim).to(DEVICE)\n",
    "test = attention_head(en_embedded, en_embedded, en_embedded, en_mask)\n",
    "test.shape"
   ]
  },
  {
   "cell_type": "code",
   "execution_count": 32,
   "id": "0bd63647-b582-424f-86f0-0ef4a44c95c3",
   "metadata": {},
   "outputs": [],
   "source": [
    "class MultiHeadAttention(nn.Module):\n",
    "    def __init__(self, embed_dim, head_dim, num_heads):\n",
    "        super().__init__()\n",
    "        self.heads = nn.ModuleList([AttentionHead(embed_dim, head_dim) for _ in range(num_heads)])\n",
    "        self.output = nn.Linear(embed_dim, embed_dim)\n",
    "    \n",
    "    def forward(self, query, key, value, mask=None):\n",
    "        x = [head(query, key, value, mask) for head in self.heads]\n",
    "        x = torch.cat(x, dim=-1)\n",
    "        x = self.output(x)\n",
    "        return x"
   ]
  },
  {
   "cell_type": "code",
   "execution_count": 33,
   "id": "edc103c7-2c02-48f4-a9ad-db6ab11ead17",
   "metadata": {},
   "outputs": [],
   "source": [
    "multi_attention = MultiHeadAttention(dim, head_dim, num_heads).to(DEVICE)\n",
    "attention = multi_attention(en_embedded, en_embedded, en_embedded, en_mask)"
   ]
  },
  {
   "cell_type": "code",
   "execution_count": 34,
   "id": "c5823edb-a314-4444-8199-9d64554139eb",
   "metadata": {},
   "outputs": [
    {
     "data": {
      "text/plain": [
       "torch.Size([3, 15, 512])"
      ]
     },
     "execution_count": 34,
     "metadata": {},
     "output_type": "execute_result"
    }
   ],
   "source": [
    "attention.shape"
   ]
  },
  {
   "cell_type": "code",
   "execution_count": 35,
   "id": "fa65d58a-d603-4adc-975e-c82b5ec4833e",
   "metadata": {},
   "outputs": [],
   "source": [
    "# pointwise feedforward\n",
    "class PWFeedForward(nn.Module):\n",
    "    def __init__(self, embed_dim, fc_dim):\n",
    "        super().__init__()\n",
    "        self.layers = nn.Sequential(nn.Linear(embed_dim, fc_dim),\n",
    "                                    nn.GELU(),\n",
    "                                    nn.Linear(fc_dim, embed_dim),\n",
    "                                    nn.Dropout(p=0.1))\n",
    "    \n",
    "    def forward(self, x):\n",
    "        return self.layers(x)"
   ]
  },
  {
   "cell_type": "code",
   "execution_count": 36,
   "id": "0993ae24-cc38-44a0-9237-829a3cda9db3",
   "metadata": {},
   "outputs": [
    {
     "data": {
      "text/plain": [
       "torch.Size([3, 15, 512])"
      ]
     },
     "execution_count": 36,
     "metadata": {},
     "output_type": "execute_result"
    }
   ],
   "source": [
    "ff = PWFeedForward(dim, fc_dim).to(DEVICE)\n",
    "ff(attention).shape"
   ]
  },
  {
   "cell_type": "code",
   "execution_count": 37,
   "id": "4444db2d-225b-4dec-9802-0db12e39464f",
   "metadata": {},
   "outputs": [],
   "source": [
    "class EncoderLayer(nn.Module):\n",
    "    def __init__(self, embed_dim, head_dim, fc_dim, num_heads):\n",
    "        super().__init__()\n",
    "        self.layer_norm_1 = nn.LayerNorm(embed_dim)\n",
    "        self.layer_norm_2 = nn.LayerNorm(embed_dim)\n",
    "        self.multi_head_attention = MultiHeadAttention(embed_dim, head_dim, num_heads)\n",
    "        self.pw_feedforward = PWFeedForward(embed_dim, fc_dim)\n",
    "    \n",
    "    def forward(self, x, mask):\n",
    "        # skip connection 1\n",
    "        normalized = self.layer_norm_1(x)\n",
    "        x = x + self.multi_head_attention(normalized, normalized, normalized, mask)\n",
    "        # skip connection 2\n",
    "        x = x + self.pw_feedforward(self.layer_norm_2(x))\n",
    "        return x"
   ]
  },
  {
   "cell_type": "code",
   "execution_count": 38,
   "id": "f70da6db-09e9-436c-8427-d5cdbc6d9952",
   "metadata": {},
   "outputs": [],
   "source": [
    "encoder_layer = EncoderLayer(dim, head_dim, fc_dim, num_heads).to(DEVICE)"
   ]
  },
  {
   "cell_type": "code",
   "execution_count": 39,
   "id": "3698906a-0ca1-4228-b9e9-4ba044a4fe38",
   "metadata": {},
   "outputs": [
    {
     "data": {
      "text/plain": [
       "torch.Size([3, 15, 512])"
      ]
     },
     "execution_count": 39,
     "metadata": {},
     "output_type": "execute_result"
    }
   ],
   "source": [
    "encoder_layer(en_embedded, en_mask).shape"
   ]
  },
  {
   "cell_type": "code",
   "execution_count": 40,
   "id": "8828e8a8-26af-4d3f-9302-ebec5acf4116",
   "metadata": {},
   "outputs": [],
   "source": [
    "class Encoder(nn.Module): \n",
    "    def __init__(self, num_layers, embed_dim, head_dim, fc_dim, num_heads):\n",
    "        super().__init__()\n",
    "        self.encoders = nn.ModuleList([EncoderLayer(embed_dim, head_dim, fc_dim, num_heads) for _ in range(num_layers)])\n",
    "    \n",
    "    def forward(self, x, mask):\n",
    "        for encoder in self.encoders:\n",
    "            x = encoder(x, mask)\n",
    "        return x"
   ]
  },
  {
   "cell_type": "code",
   "execution_count": 41,
   "id": "d3af1d1b-3a79-4586-9ba6-ec920cad34d2",
   "metadata": {},
   "outputs": [],
   "source": [
    "encoder = Encoder(num_encoders, dim, head_dim, fc_dim, num_heads).to(DEVICE)\n",
    "encoder_output = encoder(en_embedded, en_mask)"
   ]
  },
  {
   "cell_type": "code",
   "execution_count": 42,
   "id": "2a8bedd1-ed4e-4cb1-a04b-8dc2b897d6a5",
   "metadata": {},
   "outputs": [],
   "source": [
    "class DecoderLayer(nn.Module):\n",
    "    def __init__(self, embed_dim, head_dim, fc_dim, num_heads):\n",
    "        super().__init__()\n",
    "        self.layer_norm_1 = nn.LayerNorm(embed_dim)\n",
    "        self.layer_norm_2 = nn.LayerNorm(embed_dim)\n",
    "        self.layer_norm_3 = nn.LayerNorm(embed_dim)\n",
    "\n",
    "        self.self_attention = MultiHeadAttention(embed_dim, head_dim, num_heads)\n",
    "        self.encoder_attention = MultiHeadAttention(embed_dim, head_dim, num_heads)\n",
    "        self.pw_feedforward = PWFeedForward(embed_dim, fc_dim)\n",
    "\n",
    "    \n",
    "    def forward(self, src, trg, src_mask, trg_mask):\n",
    "        normalized_src = self.layer_norm_1(src)\n",
    "        normalized_trg = self.layer_norm_2(trg)\n",
    "        \n",
    "        trg = trg + self.self_attention(normalized_trg, normalized_trg, normalized_trg, trg_mask)\n",
    "        trg = trg + self.encoder_attention(trg, normalized_src, normalized_src, src_mask)\n",
    "        trg = trg + self.pw_feedforward(self.layer_norm_3(trg))\n",
    "        return trg"
   ]
  },
  {
   "cell_type": "code",
   "execution_count": 43,
   "id": "c8c5aaa7-a76c-4773-adcd-aaaa4bc0413b",
   "metadata": {},
   "outputs": [
    {
     "data": {
      "text/plain": [
       "torch.Size([3, 14, 512])"
      ]
     },
     "execution_count": 43,
     "metadata": {},
     "output_type": "execute_result"
    }
   ],
   "source": [
    "decoder_layer = DecoderLayer(dim, head_dim, fc_dim, num_heads).to(DEVICE)\n",
    "decoder_layer(encoder_output, de_embedded, en_mask, de_mask).shape"
   ]
  },
  {
   "cell_type": "code",
   "execution_count": 44,
   "id": "30c9b36c-d759-4cb9-b49d-192ddd07bd68",
   "metadata": {},
   "outputs": [],
   "source": [
    "class Decoder(nn.Module):\n",
    "    def __init__(self, num_layers, embed_dim, head_dim, fc_dim, num_heads):\n",
    "        super().__init__()\n",
    "        self.decoders = nn.ModuleList([DecoderLayer(embed_dim, head_dim, fc_dim, num_heads) for _ in range(num_layers)])\n",
    " \n",
    "    def forward(self, src, trg, src_mask, trg_mask):\n",
    "        for decoder in self.decoders:\n",
    "            trg = decoder(src, trg, src_mask, trg_mask)\n",
    "        return trg"
   ]
  },
  {
   "cell_type": "code",
   "execution_count": 45,
   "id": "a172cb79-4830-47f0-ba98-4909be51e3e5",
   "metadata": {},
   "outputs": [
    {
     "data": {
      "text/plain": [
       "torch.Size([3, 14, 512])"
      ]
     },
     "execution_count": 45,
     "metadata": {},
     "output_type": "execute_result"
    }
   ],
   "source": [
    "decoder = Decoder(num_decoders, dim, head_dim, fc_dim, num_heads).to(DEVICE)\n",
    "decoder(encoder_output, de_embedded, en_mask, de_mask).shape"
   ]
  },
  {
   "cell_type": "code",
   "execution_count": 46,
   "id": "f8021052-a279-4e73-8160-924607f7b64a",
   "metadata": {},
   "outputs": [],
   "source": [
    "class TokenPosEmbedding(nn.Module):\n",
    "    def __init__(self, vocab_size, embed_dim, max_sentence_len):\n",
    "        super().__init__()\n",
    "        self.token_embeddings = nn.Embedding(vocab_size, embed_dim)\n",
    "        self.position_embeddings = nn.Embedding(max_sentence_len, embed_dim)\n",
    "    \n",
    "    def forward(self, x):\n",
    "        # token embedding\n",
    "        token_embeddings = self.token_embeddings(x)\n",
    "        \n",
    "        # positional embedding\n",
    "        seq_len = x.shape[1]\n",
    "        pos_embeddings = self.position_embeddings(torch.arange(0, seq_len, device=DEVICE)).unsqueeze(0)\n",
    "        \n",
    "        return token_embeddings + pos_embeddings"
   ]
  },
  {
   "cell_type": "code",
   "execution_count": 47,
   "id": "1dff34e1-04ca-44f6-a37d-54f4d3a068a7",
   "metadata": {},
   "outputs": [
    {
     "data": {
      "text/plain": [
       "torch.Size([3, 15, 512])"
      ]
     },
     "execution_count": 47,
     "metadata": {},
     "output_type": "execute_result"
    }
   ],
   "source": [
    "embedding = TokenPosEmbedding(len(en_vocab), dim, max_sentence_len=50).to(DEVICE)\n",
    "embedding(encoded_en).shape"
   ]
  },
  {
   "cell_type": "code",
   "execution_count": 48,
   "id": "8a62b62a-a3d6-4a8b-914b-71fb61212351",
   "metadata": {},
   "outputs": [],
   "source": [
    "class Transformer(nn.Module):\n",
    "    def __init__(self, \n",
    "                 en_vocab_size, \n",
    "                 de_vocab_size, \n",
    "                 max_sentence_len, \n",
    "                 embed_dim,\n",
    "                 head_dim,\n",
    "                 num_heads,\n",
    "                 num_encoders,\n",
    "                 num_decoders):\n",
    "        \n",
    "        super().__init__()\n",
    "        self.en_embedding = TokenPosEmbedding(en_vocab_size, embed_dim, max_sentence_len)\n",
    "        self.de_embedding = TokenPosEmbedding(de_vocab_size, embed_dim, max_sentence_len)\n",
    "        self.encoder = Encoder(num_encoders, embed_dim, head_dim, fc_dim, num_heads)\n",
    "        self.decoder = Decoder(num_decoders, embed_dim, head_dim, fc_dim, num_heads)\n",
    "        self.logits = nn.Linear(embed_dim, de_vocab_size)\n",
    "    \n",
    "    def forward(self, src, trg):\n",
    "        # 1: create masks\n",
    "        # padding Mask\n",
    "        src_mask = (src != 0).to(torch.int64).unsqueeze(1)\n",
    "        # mask to prevent the decoder from looking ahead\n",
    "        trg_mask = torch.tril(torch.ones(trg.shape[-1], trg.shape[-1], device=DEVICE)).unsqueeze(0)\n",
    "        \n",
    "        # 2: transformer\n",
    "        src = self.en_embedding(src)\n",
    "        trg = self.en_embedding(trg)\n",
    "        \n",
    "        encoder_output = self.encoder(src, src_mask)\n",
    "        decoder_output = self.decoder(encoder_output, trg, src_mask, trg_mask)\n",
    "        \n",
    "        # 3: output\n",
    "        return self.logits(decoder_output)"
   ]
  },
  {
   "cell_type": "code",
   "execution_count": 49,
   "id": "b3b7e54e-0742-49cd-a7c6-23ec1b3466f6",
   "metadata": {},
   "outputs": [],
   "source": [
    "transformer = Transformer(len(en_vocab), len(de_vocab), 50, dim, head_dim, num_heads, num_encoders, num_decoders).to(DEVICE)"
   ]
  },
  {
   "cell_type": "code",
   "execution_count": 50,
   "id": "ffc5c252-bb87-413d-8281-f820b1d14fb1",
   "metadata": {},
   "outputs": [
    {
     "data": {
      "text/plain": [
       "torch.Size([3, 14, 6384])"
      ]
     },
     "execution_count": 50,
     "metadata": {},
     "output_type": "execute_result"
    }
   ],
   "source": [
    "transformer(encoded_en, encoded_de).shape"
   ]
  },
  {
   "cell_type": "code",
   "execution_count": 51,
   "id": "ee8e71c5-109c-4487-bc83-20e642ee704f",
   "metadata": {},
   "outputs": [],
   "source": [
    "def track_performance(dataloader, model, criterion):\n",
    "    # switch to evaluation mode\n",
    "    model.eval()\n",
    "    loss_sum = 0\n",
    "    num_iterations = 0\n",
    "\n",
    "    # no need to calculate gradients\n",
    "    with torch.inference_mode():\n",
    "        for en_sequence, de_sequence in dataloader:\n",
    "            en_sequence = en_sequence.to(DEVICE)\n",
    "            de_sequence = de_sequence.to(DEVICE)\n",
    "\n",
    "            logits = model(en_sequence, de_sequence[:, :-1])\n",
    "            \n",
    "            # we don't actually predict the <sos> token\n",
    "            labels = de_sequence[:, 1:]\n",
    "            # we need to reshape in order to be able to use these tensors with CrossEntropyLoss\n",
    "            logits = logits.reshape(-1, logits.size()[2])\n",
    "            labels = labels.reshape(-1)\n",
    "            loss = criterion(logits, labels)\n",
    "            loss_sum += loss.cpu().item()\n",
    "            num_iterations+=1\n",
    "\n",
    "    # we return the average loss and the accuracy\n",
    "    return loss_sum/num_iterations\n"
   ]
  },
  {
   "cell_type": "code",
   "execution_count": 52,
   "id": "ec9a4ac7-da72-4d8f-af5e-3ef7e7072200",
   "metadata": {},
   "outputs": [],
   "source": [
    "def train(num_epochs, train_dataloader, val_dataloader, model, optimizer, criterion, scheduler=None):\n",
    "    min_loss = float(\"inf\")\n",
    "    for epoch in range(num_epochs):\n",
    "        loss_sum = 0\n",
    "        num_iterations = 0\n",
    "        for en_sequence, de_sequence in train_dataloader:\n",
    "            model.train()\n",
    "\n",
    "            optimizer.zero_grad()\n",
    "            en_sequence = en_sequence.to(DEVICE)\n",
    "            de_sequence = de_sequence.to(DEVICE)\n",
    "\n",
    "            logits = model(en_sequence, de_sequence[:, :-1])\n",
    "            labels = de_sequence[:, 1:]\n",
    "            \n",
    "            # we need to reshape in order to be able to use these tensors with CrossEntropyLoss\n",
    "            logits = logits.reshape(-1, logits.size()[2])\n",
    "            labels = labels.reshape(-1)\n",
    "            loss = criterion(logits, labels)\n",
    "            loss.backward()\n",
    "            optimizer.step()\n",
    "            \n",
    "            loss_sum += loss.cpu().item()\n",
    "            num_iterations += 1\n",
    "        train_loss=loss_sum/num_iterations\n",
    "        val_loss = track_performance(val_dataloader, model, criterion)\n",
    "        if scheduler:\n",
    "            scheduler.step(val_loss)\n",
    "        print(f'Epoch: {epoch+1:>2}/{num_epochs} | Train Loss: {train_loss:.5f} | Val Loss: {val_loss:.5f}')\n",
    "        \n",
    "        if val_loss < min_loss:\n",
    "            print(\"Saving Weights!\")\n",
    "            min_loss = val_loss\n",
    "            torch.save(model.state_dict(), f='../temp/transformer.pt')"
   ]
  },
  {
   "cell_type": "code",
   "execution_count": 53,
   "id": "d39343a7-ac78-498e-9820-787c2383cdc3",
   "metadata": {},
   "outputs": [],
   "source": [
    "transformer = Transformer(len(en_vocab), len(de_vocab), 50, dim, head_dim, num_heads, num_encoders, num_decoders).to(DEVICE)\n",
    "optimizer = optim.Adam(transformer.parameters(), lr=0.0001)\n",
    "criterion = nn.CrossEntropyLoss(ignore_index=0)\n",
    "scheduler = torch.optim.lr_scheduler.ReduceLROnPlateau(optimizer,\n",
    "                                                       factor=0.1,\n",
    "                                                       mode='min',\n",
    "                                                       patience=2,\n",
    "                                                       verbose=True)\n",
    "\n",
    "num_epochs=10"
   ]
  },
  {
   "cell_type": "code",
   "execution_count": 54,
   "id": "b3e9ae82-136a-4bd2-be9b-59634d7c7182",
   "metadata": {},
   "outputs": [
    {
     "name": "stdout",
     "output_type": "stream",
     "text": [
      "Epoch:  1/10 | Train Loss: 6.43381 | Val Loss: 5.37039\n",
      "Saving Weights!\n",
      "Epoch:  2/10 | Train Loss: 4.75613 | Val Loss: 4.75728\n",
      "Saving Weights!\n",
      "Epoch:  3/10 | Train Loss: 4.10758 | Val Loss: 4.44028\n",
      "Saving Weights!\n",
      "Epoch:  4/10 | Train Loss: 3.66217 | Val Loss: 4.26077\n",
      "Saving Weights!\n",
      "Epoch:  5/10 | Train Loss: 3.28616 | Val Loss: 4.13922\n",
      "Saving Weights!\n",
      "Epoch:  6/10 | Train Loss: 2.93818 | Val Loss: 4.04998\n",
      "Saving Weights!\n",
      "Epoch:  7/10 | Train Loss: 2.60243 | Val Loss: 3.97775\n",
      "Saving Weights!\n",
      "Epoch:  8/10 | Train Loss: 2.27280 | Val Loss: 3.96377\n",
      "Saving Weights!\n",
      "Epoch:  9/10 | Train Loss: 1.93264 | Val Loss: 3.95598\n",
      "Saving Weights!\n",
      "Epoch: 10/10 | Train Loss: 1.60224 | Val Loss: 3.98793\n"
     ]
    }
   ],
   "source": [
    "train(num_epochs, train_dataloader, val_dataloader, transformer, optimizer, criterion, scheduler)"
   ]
  },
  {
   "cell_type": "code",
   "execution_count": null,
   "id": "cd921f68-d831-4d01-b1aa-e3f0af3bbc82",
   "metadata": {},
   "outputs": [],
   "source": []
  }
 ],
 "metadata": {
  "kernelspec": {
   "display_name": "Python 3 (ipykernel)",
   "language": "python",
   "name": "python3"
  },
  "language_info": {
   "codemirror_mode": {
    "name": "ipython",
    "version": 3
   },
   "file_extension": ".py",
   "mimetype": "text/x-python",
   "name": "python",
   "nbconvert_exporter": "python",
   "pygments_lexer": "ipython3",
   "version": "3.10.5"
  }
 },
 "nbformat": 4,
 "nbformat_minor": 5
}
