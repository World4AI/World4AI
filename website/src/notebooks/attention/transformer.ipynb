{
 "cells": [
  {
   "cell_type": "markdown",
   "id": "3005a817-bf98-4789-92b4-f8c77ec23871",
   "metadata": {},
   "source": [
    "# Transformer"
   ]
  },
  {
   "cell_type": "markdown",
   "id": "d4909f57-0796-44a1-bc7b-77550e7137a9",
   "metadata": {},
   "source": [
    "Highly inspired by Natural Language Processing with Transformers and https://github.com/bentrevett/pytorch-seq2seq/blob/master/6%20-%20Attention%20is%20All%20You%20Need.ipynb"
   ]
  },
  {
   "cell_type": "code",
   "execution_count": 76,
   "id": "0146edb6-a0c5-4845-8a05-3df56459f6d3",
   "metadata": {},
   "outputs": [],
   "source": [
    "import torch\n",
    "from torch import nn\n",
    "import torchtext\n",
    "from torch.utils.data import Dataset, DataLoader\n",
    "import re"
   ]
  },
  {
   "cell_type": "code",
   "execution_count": 77,
   "id": "72dfc261-b440-4a70-be3c-a8d5968caffa",
   "metadata": {},
   "outputs": [],
   "source": [
    "train_data = torchtext.datasets.Multi30k(root = '../datasets/', split = 'train', language_pair = ('de', 'en'))\n",
    "val_data = torchtext.datasets.Multi30k(root = '../datasets/', split = 'valid', language_pair = ('de', 'en'))\n",
    "test_data = torchtext.datasets.Multi30k(root = '../datasets/', split = 'test', language_pair = ('de', 'en'))"
   ]
  },
  {
   "cell_type": "code",
   "execution_count": 78,
   "id": "0d6c50c8-b5d7-46fc-a5ab-9dd792a5c6ab",
   "metadata": {},
   "outputs": [],
   "source": [
    "train = list(train_data)\n",
    "val = list(val_data)\n",
    "test = list(test_data)"
   ]
  },
  {
   "cell_type": "code",
   "execution_count": 79,
   "id": "e8e12d5a-b9c3-4de2-b074-e2834ed0d968",
   "metadata": {},
   "outputs": [
    {
     "data": {
      "text/plain": [
       "[('Zwei junge weiße Männer sind im Freien in der Nähe vieler Büsche.',\n",
       "  'Two young, White males are outside near many bushes.'),\n",
       " ('Mehrere Männer mit Schutzhelmen bedienen ein Antriebsradsystem.',\n",
       "  'Several men in hard hats are operating a giant pulley system.'),\n",
       " ('Ein kleines Mädchen klettert in ein Spielhaus aus Holz.',\n",
       "  'A little girl climbing into a wooden playhouse.'),\n",
       " ('Ein Mann in einem blauen Hemd steht auf einer Leiter und putzt ein Fenster.',\n",
       "  'A man in a blue shirt is standing on a ladder cleaning a window.'),\n",
       " ('Zwei Männer stehen am Herd und bereiten Essen zu.',\n",
       "  'Two men are at the stove preparing food.'),\n",
       " ('Ein Mann in grün hält eine Gitarre, während der andere Mann sein Hemd ansieht.',\n",
       "  'A man in green holds a guitar while the other man observes his shirt.'),\n",
       " ('Ein Mann lächelt einen ausgestopften Löwen an.',\n",
       "  'A man is smiling at a stuffed lion'),\n",
       " ('Ein schickes Mädchen spricht mit dem Handy während sie langsam die Straße entlangschwebt.',\n",
       "  'A trendy girl talking on her cellphone while gliding slowly down the street.'),\n",
       " ('Eine Frau mit einer großen Geldbörse geht an einem Tor vorbei.',\n",
       "  'A woman with a large purse is walking by a gate.'),\n",
       " ('Jungen tanzen mitten in der Nacht auf Pfosten.',\n",
       "  'Boys dancing on poles in the middle of the night.')]"
      ]
     },
     "execution_count": 79,
     "metadata": {},
     "output_type": "execute_result"
    }
   ],
   "source": [
    "train[0:10]"
   ]
  },
  {
   "cell_type": "code",
   "execution_count": 80,
   "id": "95f4d41c-8e59-4bd9-b08d-8dabdd808f5f",
   "metadata": {},
   "outputs": [],
   "source": [
    "def normalize(s):\n",
    "    s = s.lower().strip()\n",
    "    s = re.sub(r\"([.!?])\", r\" \\1\", s)\n",
    "    return s\n",
    "\n",
    "def tokenizer(s):\n",
    "    s = normalize(s)\n",
    "    s = s.split(' ')\n",
    "    s.insert(0, '<sos>')\n",
    "    s.append('<eos>')\n",
    "    return s"
   ]
  },
  {
   "cell_type": "code",
   "execution_count": 81,
   "id": "de1c24d2-d40b-44c2-bc07-75ca958b95eb",
   "metadata": {},
   "outputs": [
    {
     "data": {
      "text/plain": [
       "['<sos>', 'how', 'are', 'you', 'doing', 'today', '?', '<eos>']"
      ]
     },
     "execution_count": 81,
     "metadata": {},
     "output_type": "execute_result"
    }
   ],
   "source": [
    "tokenizer(\"How are you doing today?\")"
   ]
  },
  {
   "cell_type": "code",
   "execution_count": 82,
   "id": "4d354306-a5e3-4f17-8005-788746bc0165",
   "metadata": {},
   "outputs": [],
   "source": [
    "def tokenize(data):\n",
    "    en_seq, de_seq = [], []\n",
    "    for en, de in data:\n",
    "        en_seq.append(tokenizer(en))\n",
    "        de_seq.append(tokenizer(de))\n",
    "    return en_seq, de_seq"
   ]
  },
  {
   "cell_type": "code",
   "execution_count": 83,
   "id": "bd0084dc-78db-4eff-970b-3dfe02403116",
   "metadata": {},
   "outputs": [],
   "source": [
    "train_en, train_de = tokenize(train)\n",
    "val_en, val_de = tokenize(val)\n",
    "test_en, test_de = tokenize(test)"
   ]
  },
  {
   "cell_type": "code",
   "execution_count": 84,
   "id": "80656886-7f88-4e88-818f-1b8b9b08d2dd",
   "metadata": {},
   "outputs": [
    {
     "data": {
      "text/plain": [
       "(['<sos>',\n",
       "  'zwei',\n",
       "  'junge',\n",
       "  'weiße',\n",
       "  'männer',\n",
       "  'sind',\n",
       "  'im',\n",
       "  'freien',\n",
       "  'in',\n",
       "  'der',\n",
       "  'nähe',\n",
       "  'vieler',\n",
       "  'büsche',\n",
       "  '.',\n",
       "  '<eos>'],\n",
       " ['<sos>',\n",
       "  'two',\n",
       "  'young,',\n",
       "  'white',\n",
       "  'males',\n",
       "  'are',\n",
       "  'outside',\n",
       "  'near',\n",
       "  'many',\n",
       "  'bushes',\n",
       "  '.',\n",
       "  '<eos>'])"
      ]
     },
     "execution_count": 84,
     "metadata": {},
     "output_type": "execute_result"
    }
   ],
   "source": [
    "train_en[0], train_de[0]"
   ]
  },
  {
   "cell_type": "code",
   "execution_count": 85,
   "id": "ee5051ca-3391-4931-a9c5-3597202d9621",
   "metadata": {},
   "outputs": [],
   "source": [
    "class PairDataset(Dataset):\n",
    "    def __init__(self, en, de):\n",
    "        assert len(en) == len(de)\n",
    "        self.en = en\n",
    "        self.de = de\n",
    "    \n",
    "    def __len__(self):\n",
    "        return len(self.en)\n",
    "    \n",
    "    def __getitem__(self, idx):\n",
    "        return self.en[idx], self.de[idx]"
   ]
  },
  {
   "cell_type": "code",
   "execution_count": 86,
   "id": "8472233c-6121-4474-b308-efa6f4f4fcc1",
   "metadata": {},
   "outputs": [],
   "source": [
    "train_dataset = PairDataset(train_en, train_de)\n",
    "val_dataset = PairDataset(val_en, val_de)\n",
    "test_dataset = PairDataset(test_en, test_de)"
   ]
  },
  {
   "cell_type": "code",
   "execution_count": 54,
   "id": "05813932-98a7-4335-8c85-4e531b00e77f",
   "metadata": {},
   "outputs": [],
   "source": [
    "from collections import Counter, OrderedDict"
   ]
  },
  {
   "cell_type": "code",
   "execution_count": 55,
   "id": "ec13d288-545d-4c78-845a-cc04837e9e14",
   "metadata": {},
   "outputs": [],
   "source": [
    "en_counter = Counter()\n",
    "de_counter = Counter()\n",
    "\n",
    "for line in train_en:\n",
    "    en_counter.update(line)\n",
    "\n",
    "for line in train_de:\n",
    "    de_counter.update(line)"
   ]
  },
  {
   "cell_type": "code",
   "execution_count": 58,
   "id": "81599f94-7532-46c5-982a-3aad48c9c3af",
   "metadata": {},
   "outputs": [],
   "source": [
    "en_sorted_by_freq_tuples = sorted(en_counter.items(), key=lambda x: x[1], reverse=True)\n",
    "en_ordered_dict = OrderedDict(en_sorted_by_freq_tuples)\n",
    "\n",
    "de_sorted_by_freq_tuples = sorted(de_counter.items(), key=lambda x: x[1], reverse=True)\n",
    "de_ordered_dict = OrderedDict(de_sorted_by_freq_tuples)"
   ]
  },
  {
   "cell_type": "code",
   "execution_count": 72,
   "id": "cc319130-46ed-4e0a-a707-73efe9b2b5f8",
   "metadata": {},
   "outputs": [],
   "source": [
    "import torchtext\n",
    "en_vocab = torchtext.vocab.vocab(en_ordered_dict, min_freq = 2, specials=['<pad>', '<unk>', '<sos>', '<eos>'], special_first = True)\n",
    "de_vocab = torchtext.vocab.vocab(de_ordered_dict, min_freq = 2, specials=['<pad>', '<unk>', '<sos>', '<eos>'], special_first = True)\n",
    "\n",
    "en_vocab.set_default_index(1)\n",
    "de_vocab.set_default_index(1)"
   ]
  },
  {
   "cell_type": "code",
   "execution_count": 73,
   "id": "22f5ee51-8383-4684-8a89-ef39c3969004",
   "metadata": {},
   "outputs": [
    {
     "data": {
      "text/plain": [
       "([2, 17, 24, 244, 31, 91, 19, 88, 7, 14, 105, 5710, 3220, 4, 3],\n",
       " [2, 14, 1256, 23, 807, 16, 56, 78, 188, 1358, 5, 3])"
      ]
     },
     "execution_count": 73,
     "metadata": {},
     "output_type": "execute_result"
    }
   ],
   "source": [
    "en_vocab(train_en[0]), de_vocab(train_de[0])"
   ]
  },
  {
   "cell_type": "code",
   "execution_count": 74,
   "id": "8b956a78-81d0-44ed-9340-a1688a915342",
   "metadata": {},
   "outputs": [
    {
     "data": {
      "text/plain": [
       "(8389, 6384)"
      ]
     },
     "execution_count": 74,
     "metadata": {},
     "output_type": "execute_result"
    }
   ],
   "source": [
    "len(en_vocab), len(de_vocab)"
   ]
  },
  {
   "cell_type": "code",
   "execution_count": 6,
   "id": "56251173-06c9-44c6-a8b7-cff6c9993315",
   "metadata": {},
   "outputs": [],
   "source": [
    "def self_attention(query, key, value, mask):\n",
    "    pass"
   ]
  },
  {
   "cell_type": "code",
   "execution_count": 109,
   "id": "cc585e37-54c4-4192-8ce8-5b548bba02e0",
   "metadata": {},
   "outputs": [],
   "source": [
    "def collate(batch):\n",
    "    en, de = [], []\n",
    "    for en_token, de_token in batch:\n",
    "        en.append(torch.tensor(en_vocab(en_token), dtype=torch.int64))\n",
    "        de.append(torch.tensor(de_vocab(de_token), dtype=torch.int64))\n",
    "    en_padded = nn.utils.rnn.pad_sequence(en, batch_first=True)\n",
    "    de_padded = nn.utils.rnn.pad_sequence(de, batch_first=True)\n",
    "    return en_padded, de_padded"
   ]
  },
  {
   "cell_type": "code",
   "execution_count": 117,
   "id": "57edd43a-8a56-4d86-bdf8-cab416a2447f",
   "metadata": {},
   "outputs": [
    {
     "data": {
      "text/plain": [
       "tensor([[   2,   17,   24,  244,   31,   91,   19,   88,    7,   14,  105, 5710,\n",
       "         3220,    4,    3],\n",
       "        [   2,   74,   31,   10,  884, 2093,    5,    1,    4,    3,    0,    0,\n",
       "            0,    0,    0],\n",
       "        [   2,    5,   63,   25,  214,    7,    5, 5711,   57,  508,    4,    3,\n",
       "            0,    0,    0]])"
      ]
     },
     "execution_count": 117,
     "metadata": {},
     "output_type": "execute_result"
    }
   ],
   "source": [
    "dataloader = DataLoader(dataset=train_dataset, batch_size=3, shuffle=False, collate_fn=collate)\n",
    "encoded_en, encoded_de = next(iter(dataloader))\n",
    "encoded_en"
   ]
  },
  {
   "cell_type": "code",
   "execution_count": 355,
   "id": "e67703d1-7ed2-4010-9771-517dd6c8563a",
   "metadata": {},
   "outputs": [],
   "source": [
    "vocab_len = len(en_vocab)\n",
    "dim = 512\n",
    "num_heads = 8\n",
    "head_dim = dim // num_heads\n",
    "fc_dim=2048"
   ]
  },
  {
   "cell_type": "code",
   "execution_count": 126,
   "id": "0d86a5d4-0534-41af-98cb-2dea9a0306fd",
   "metadata": {},
   "outputs": [],
   "source": [
    "embedding = nn.Embedding(num_embeddings=vocab_len, embedding_dim=dim, padding_idx=0)"
   ]
  },
  {
   "cell_type": "code",
   "execution_count": 127,
   "id": "bb8c6140-5be7-4df7-af67-ee7e39079146",
   "metadata": {},
   "outputs": [],
   "source": [
    "embedded = embedding(encoded_en)"
   ]
  },
  {
   "cell_type": "code",
   "execution_count": 200,
   "id": "738ea7c3-751b-4f3c-be87-5183d69926fa",
   "metadata": {},
   "outputs": [
    {
     "data": {
      "text/plain": [
       "torch.Size([3, 15, 512])"
      ]
     },
     "execution_count": 200,
     "metadata": {},
     "output_type": "execute_result"
    }
   ],
   "source": [
    "embedded.shape"
   ]
  },
  {
   "cell_type": "code",
   "execution_count": 202,
   "id": "2a4b384a-c8a3-4cdb-a601-276b9b9274cd",
   "metadata": {},
   "outputs": [
    {
     "data": {
      "text/plain": [
       "torch.Size([3, 15])"
      ]
     },
     "execution_count": 202,
     "metadata": {},
     "output_type": "execute_result"
    }
   ],
   "source": []
  },
  {
   "cell_type": "code",
   "execution_count": 131,
   "id": "7c78a589-aa43-423e-b1de-e430183897cb",
   "metadata": {},
   "outputs": [
    {
     "data": {
      "text/plain": [
       "torch.Size([3, 15, 512])"
      ]
     },
     "execution_count": 131,
     "metadata": {},
     "output_type": "execute_result"
    }
   ],
   "source": [
    "# batch_size, seq_len, hidden_dim\n",
    "embedded.size()"
   ]
  },
  {
   "cell_type": "code",
   "execution_count": 290,
   "id": "b3f43f68-27f8-4eb7-92c1-e1bcd19f2347",
   "metadata": {},
   "outputs": [],
   "source": [
    "def self_attention(query, key, value, mask=None):\n",
    "    dim_sqrt = torch.tensor(key.size(-1)).sqrt()\n",
    "    scores = query @ key.transpose(1, 2) / dim_sqrt\n",
    "    if mask is not None:\n",
    "        scores = scores.masked_fill(mask == 0, float(\"-inf\"))\n",
    "    \n",
    "    attention_weights = torch.softmax(scores, dim=-1)\n",
    "    attention = attention_weights @ value\n",
    "    return attention"
   ]
  },
  {
   "cell_type": "code",
   "execution_count": 374,
   "id": "c9f06fd1-9bce-478e-a21b-d86fd9906f8a",
   "metadata": {},
   "outputs": [
    {
     "data": {
      "text/plain": [
       "torch.Size([3, 15, 512])"
      ]
     },
     "execution_count": 374,
     "metadata": {},
     "output_type": "execute_result"
    }
   ],
   "source": [
    "mask = (encoded_en != 0).to(torch.int64).unsqueeze(1)\n",
    "att = self_attention(embedded, embedded, embedded, mask)\n",
    "att.shape"
   ]
  },
  {
   "cell_type": "code",
   "execution_count": 375,
   "id": "1dd1f5e2-788b-4f11-bc59-db8b03151032",
   "metadata": {},
   "outputs": [],
   "source": [
    "class AttentionHead(nn.Module):\n",
    "    def __init__(self, embed_dim, head_dim):\n",
    "        super().__init__()\n",
    "        self.query = nn.Linear(embed_dim, head_dim)\n",
    "        self.key = nn.Linear(embed_dim, head_dim)\n",
    "        self.value = nn.Linear(embed_dim, head_dim)\n",
    "    \n",
    "    def forward(self, x, mask=None):\n",
    "        query = self.query(x)\n",
    "        key = self.key(x)\n",
    "        value = self.value(x)\n",
    "        \n",
    "        return self_attention(query, key, value, mask)"
   ]
  },
  {
   "cell_type": "code",
   "execution_count": 376,
   "id": "879abcf0-41db-46f4-b5aa-692a66810d01",
   "metadata": {},
   "outputs": [
    {
     "data": {
      "text/plain": [
       "torch.Size([3, 15, 64])"
      ]
     },
     "execution_count": 376,
     "metadata": {},
     "output_type": "execute_result"
    }
   ],
   "source": [
    "attention_head = AttentionHead(dim, head_dim)\n",
    "test = attention_head(embedded, mask)\n",
    "test.shape"
   ]
  },
  {
   "cell_type": "code",
   "execution_count": 377,
   "id": "0bd63647-b582-424f-86f0-0ef4a44c95c3",
   "metadata": {},
   "outputs": [],
   "source": [
    "class MultiHeadAttention(nn.Module):\n",
    "    def __init__(self, embed_dim, head_dim, num_heads):\n",
    "        super().__init__()\n",
    "        self.heads = nn.ModuleList([AttentionHead(embed_dim, head_dim) for _ in range(num_heads)])\n",
    "        self.output = nn.Linear(embed_dim, embed_dim)\n",
    "    \n",
    "    def forward(self, x, mask=None):\n",
    "        x = [head(x, mask) for head in self.heads]\n",
    "        x = torch.cat(x, dim=-1)\n",
    "        x = self.output(x)\n",
    "        return x\n",
    "        "
   ]
  },
  {
   "cell_type": "code",
   "execution_count": 378,
   "id": "edc103c7-2c02-48f4-a9ad-db6ab11ead17",
   "metadata": {},
   "outputs": [],
   "source": [
    "multi_attention = MultiHeadAttention(dim, head_dim, num_heads)\n",
    "attention = multi_attention(embedded, mask)"
   ]
  },
  {
   "cell_type": "code",
   "execution_count": 379,
   "id": "c5823edb-a314-4444-8199-9d64554139eb",
   "metadata": {},
   "outputs": [
    {
     "data": {
      "text/plain": [
       "torch.Size([3, 15, 512])"
      ]
     },
     "execution_count": 379,
     "metadata": {},
     "output_type": "execute_result"
    }
   ],
   "source": [
    "attention.shape"
   ]
  },
  {
   "cell_type": "code",
   "execution_count": 380,
   "id": "fa65d58a-d603-4adc-975e-c82b5ec4833e",
   "metadata": {},
   "outputs": [],
   "source": [
    "class PWFeedForward(nn.Module):\n",
    "    def __init__(self, embedding_dim, fc_dim):\n",
    "        super().__init__()\n",
    "        self.layers = nn.Sequential(nn.Linear(embedding_dim, fc_dim),\n",
    "                                    nn.GELU(),\n",
    "                                    nn.Linear(fc_dim, embedding_dim),\n",
    "                                    nn.Dropout(p=0.1))\n",
    "    \n",
    "    def forward(self, x):\n",
    "        return self.layers(x)"
   ]
  },
  {
   "cell_type": "code",
   "execution_count": 381,
   "id": "0993ae24-cc38-44a0-9237-829a3cda9db3",
   "metadata": {},
   "outputs": [
    {
     "data": {
      "text/plain": [
       "torch.Size([3, 15, 512])"
      ]
     },
     "execution_count": 381,
     "metadata": {},
     "output_type": "execute_result"
    }
   ],
   "source": [
    "ff = PWFeedForward(dim, fc_dim)\n",
    "ff(attention).shape"
   ]
  },
  {
   "cell_type": "code",
   "execution_count": 356,
   "id": "4444db2d-225b-4dec-9802-0db12e39464f",
   "metadata": {},
   "outputs": [],
   "source": [
    "class EncoderLayer(nn.Module):\n",
    "    def __init__(self):\n",
    "        pass\n",
    "    \n",
    "    def forward(self, x):\n",
    "        pass"
   ]
  },
  {
   "cell_type": "code",
   "execution_count": 357,
   "id": "8828e8a8-26af-4d3f-9302-ebec5acf4116",
   "metadata": {},
   "outputs": [],
   "source": [
    "class Encoder(nn.Module):\n",
    "    def __init__(self):\n",
    "        pass\n",
    "    \n",
    "    def forward(self, x):\n",
    "        pass"
   ]
  },
  {
   "cell_type": "code",
   "execution_count": 358,
   "id": "2a8bedd1-ed4e-4cb1-a04b-8dc2b897d6a5",
   "metadata": {},
   "outputs": [],
   "source": [
    "class DecoderLayer(nn.Module):\n",
    "    def __init__(self):\n",
    "        pass\n",
    "    \n",
    "    def forward(self, x):\n",
    "        pass"
   ]
  },
  {
   "cell_type": "code",
   "execution_count": 359,
   "id": "30c9b36c-d759-4cb9-b49d-192ddd07bd68",
   "metadata": {},
   "outputs": [],
   "source": [
    "class Decoder(nn.Module):\n",
    "    def __init__(self):\n",
    "        pass\n",
    "    \n",
    "    def forward(self, x):\n",
    "        pass"
   ]
  },
  {
   "cell_type": "code",
   "execution_count": 360,
   "id": "8a62b62a-a3d6-4a8b-914b-71fb61212351",
   "metadata": {},
   "outputs": [],
   "source": [
    "class Transformer(nn.Module):\n",
    "    def __init__(self):\n",
    "        pass\n",
    "    \n",
    "    def forward(self, x):\n",
    "        pass"
   ]
  }
 ],
 "metadata": {
  "kernelspec": {
   "display_name": "Python 3 (ipykernel)",
   "language": "python",
   "name": "python3"
  },
  "language_info": {
   "codemirror_mode": {
    "name": "ipython",
    "version": 3
   },
   "file_extension": ".py",
   "mimetype": "text/x-python",
   "name": "python",
   "nbconvert_exporter": "python",
   "pygments_lexer": "ipython3",
   "version": "3.10.5"
  }
 },
 "nbformat": 4,
 "nbformat_minor": 5
}
