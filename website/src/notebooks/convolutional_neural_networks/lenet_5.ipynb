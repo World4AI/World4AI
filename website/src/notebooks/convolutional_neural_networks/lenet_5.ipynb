{
 "cells": [
  {
   "cell_type": "markdown",
   "id": "60be13a7-d5e8-46bb-9218-8795fb6ad2d9",
   "metadata": {},
   "source": [
    "# LeNet-5"
   ]
  },
  {
   "cell_type": "code",
   "execution_count": 17,
   "id": "2e0f612c-efa0-4f5c-b173-a84eccbf87f3",
   "metadata": {},
   "outputs": [],
   "source": [
    "import torch\n",
    "import torch.nn as nn\n",
    "import torch.optim as optim\n",
    "from torch.utils.data import DataLoader, Subset\n",
    "from sklearn.model_selection import train_test_split\n",
    "import numpy as np\n",
    "\n",
    "import torchvision.transforms as T\n",
    "from torchvision.datasets import MNIST\n",
    "\n",
    "import matplotlib.pyplot as plt"
   ]
  },
  {
   "cell_type": "code",
   "execution_count": 18,
   "id": "fb603d5a-8ec3-45b4-bc55-1aff5a0404ed",
   "metadata": {},
   "outputs": [],
   "source": [
    "DEVICE = torch.device('cuda' if torch.cuda.is_available() else 'cpu')\n",
    "BATCH_SIZE=32"
   ]
  },
  {
   "cell_type": "code",
   "execution_count": 19,
   "id": "a23f9841-beef-4cc9-8364-986b7efeff6f",
   "metadata": {},
   "outputs": [],
   "source": [
    "transform = T.Compose([T.Resize((32, 32)), T.ToTensor()])"
   ]
  },
  {
   "cell_type": "code",
   "execution_count": 20,
   "id": "44e5465a-2606-4002-9160-c62bed549d34",
   "metadata": {},
   "outputs": [],
   "source": [
    "train_val_dataset = MNIST(root=\"../datasets/\", train=True, download=True, transform=transform)\n",
    "test_dataset = MNIST(root=\"../datasets/\", train=False, download=False, transform=transform)"
   ]
  },
  {
   "cell_type": "code",
   "execution_count": 21,
   "id": "7ecc25de-7d3b-4beb-94f6-6273484f71f2",
   "metadata": {},
   "outputs": [],
   "source": [
    "train_idxs, val_idxs = train_test_split(\n",
    "                                range(len(train_val_dataset)),\n",
    "                                test_size=0.1)"
   ]
  },
  {
   "cell_type": "code",
   "execution_count": 22,
   "id": "a6619cf3-7906-4831-a13a-843db7196eeb",
   "metadata": {},
   "outputs": [],
   "source": [
    "labels = train_val_dataset.targets.numpy()\n",
    "indices = list(range(len(train_val_dataset)))\n",
    "train_idxs, val_idxs = train_test_split(indices,\n",
    "                                              test_size=0.1,\n",
    "                                              stratify=labels)"
   ]
  },
  {
   "cell_type": "code",
   "execution_count": 23,
   "id": "f73b367a-397e-4ee7-a7cb-39b359901e2d",
   "metadata": {},
   "outputs": [],
   "source": [
    "train_dataset = Subset(train_val_dataset, train_idxs)\n",
    "val_dataset = Subset(train_val_dataset, val_idxs)"
   ]
  },
  {
   "cell_type": "code",
   "execution_count": 24,
   "id": "94e2f15c-6934-4a6a-be93-b56c9c267279",
   "metadata": {},
   "outputs": [],
   "source": [
    "train_dataloader = DataLoader(dataset=train_dataset, batch_size=BATCH_SIZE, shuffle=True, num_workers=4, drop_last=True)\n",
    "val_dataloader = DataLoader(dataset=val_dataset, batch_size=BATCH_SIZE, shuffle=False, num_workers=4, drop_last=False)\n",
    "test_dataloader = DataLoader(dataset=test_dataset, batch_size=BATCH_SIZE, shuffle=False, num_workers=4, drop_last=False)"
   ]
  },
  {
   "cell_type": "code",
   "execution_count": 25,
   "id": "d8d3bfc3-aec8-4378-997c-1b935eba120d",
   "metadata": {},
   "outputs": [],
   "source": [
    "class Model(nn.Module):\n",
    "\n",
    "    def __init__(self):\n",
    "        super().__init__()\n",
    "        self.feature_extractor = nn.Sequential(\n",
    "            nn.Conv2d(in_channels=1, out_channels=6, kernel_size=5, padding=0),\n",
    "            nn.ReLU(),\n",
    "            nn.MaxPool2d(kernel_size=2),\n",
    "            nn.Conv2d(in_channels=6, out_channels=16, kernel_size=5, padding=0),\n",
    "            nn.ReLU(),\n",
    "            nn.MaxPool2d(kernel_size=2),\n",
    "            nn.Conv2d(in_channels=16, out_channels=120, kernel_size=5, padding=0),\n",
    "            nn.ReLU(),\n",
    "        )\n",
    "        \n",
    "        self.classifier = nn.Sequential(\n",
    "            nn.Flatten(),\n",
    "            nn.Linear(120, 84),\n",
    "            nn.ReLU(),\n",
    "            nn.Linear(84, 10)\n",
    "        )\n",
    "        \n",
    "    def forward(self, features):\n",
    "        features = self.feature_extractor(features)\n",
    "        logits = self.classifier(features)\n",
    "        return logits"
   ]
  },
  {
   "cell_type": "code",
   "execution_count": 26,
   "id": "57fecbb1-a793-4010-af93-580dfb4f9cad",
   "metadata": {},
   "outputs": [],
   "source": [
    "def track_performance(dataloader, model, criterion):\n",
    "    # switch to evaluation mode\n",
    "    model.eval()\n",
    "    num_samples = 0\n",
    "    num_correct = 0\n",
    "    loss_sum = 0\n",
    "    \n",
    "    # no need to calculate gradients\n",
    "    with torch.inference_mode():\n",
    "        for batch_idx, (features, labels) in enumerate(dataloader):\n",
    "            features = features.to(DEVICE)\n",
    "            labels = labels.to(DEVICE)\n",
    "            logits = model(features)\n",
    "            \n",
    "            predictions = logits.max(dim=1)[1]\n",
    "            num_correct += (predictions == labels).sum().item()\n",
    "            \n",
    "            loss = criterion(logits, labels)\n",
    "            loss_sum += loss.cpu().item()\n",
    "            num_samples += len(features)\n",
    "    \n",
    "    # we return the average loss and the accuracy\n",
    "    return loss_sum/num_samples, num_correct/num_samples"
   ]
  },
  {
   "cell_type": "code",
   "execution_count": 27,
   "id": "4ac38b0b-23d8-41b6-82d4-f482968e343e",
   "metadata": {},
   "outputs": [],
   "source": [
    "def plot_history(history):\n",
    "    fig = plt.figure(figsize=(12, 5))\n",
    "\n",
    "    fig.add_subplot(1, 2, 1)\n",
    "    plt.plot(history[\"train_loss\"], label=\"Training Loss\")\n",
    "    plt.plot(history[\"val_loss\"], label=\"Validation Loss\")\n",
    "    plt.xlabel(\"Epochs\")\n",
    "    plt.ylabel(\"Cross-Entropy\")\n",
    "    plt.legend()\n",
    "    \n",
    "    fig.add_subplot(1, 2, 2)\n",
    "    plt.plot(history[\"train_acc\"], label=\"Training Accuracy\")\n",
    "    plt.plot(history[\"val_acc\"], label=\"Validation Accuracy\")\n",
    "    plt.xlabel(\"Epochs\")\n",
    "    plt.ylabel(\"Accuracy\")\n",
    "    plt.legend()\n",
    "    \n",
    "    plt.show()"
   ]
  },
  {
   "cell_type": "code",
   "execution_count": 28,
   "id": "46bb261c-d53e-4dce-9383-a59e5b735116",
   "metadata": {},
   "outputs": [],
   "source": [
    "def train(num_epochs, train_dataloader, val_dataloader, model, criterion, optimizer):\n",
    "    history = {\"train_loss\": [], \"val_loss\": [], \"train_acc\": [], \"val_acc\": []}\n",
    "    model.to(DEVICE)\n",
    "    for epoch in range(num_epochs):\n",
    "        for batch_idx, (features, labels) in enumerate(train_dataloader):\n",
    "            model.train()\n",
    "            features = features.to(DEVICE)\n",
    "            labels = labels.to(DEVICE)\n",
    "            \n",
    "            # Empty the gradients\n",
    "            optimizer.zero_grad()\n",
    "            \n",
    "            # Forward Pass\n",
    "            logits = model(features)\n",
    "            \n",
    "            # Calculate Loss\n",
    "            loss = criterion(logits, labels)\n",
    "            \n",
    "            # Backward Pass\n",
    "            loss.backward()\n",
    "            \n",
    "            # Gradient Descent\n",
    "            optimizer.step()\n",
    "            \n",
    "        train_loss, train_acc = track_performance(train_dataloader, model, criterion)\n",
    "        val_loss, val_acc = track_performance(val_dataloader, model, criterion)\n",
    "        \n",
    "        history[\"train_loss\"].append(train_loss)\n",
    "        history[\"val_loss\"].append(val_loss)\n",
    "        history[\"train_acc\"].append(train_acc)\n",
    "        history[\"val_acc\"].append(val_acc)\n",
    "\n",
    "        print(f'Epoch: {epoch+1:>2}/{num_epochs} | Train Loss: {train_loss:.5f} | Val Loss: {val_loss:.5f} | Train Acc: {train_acc:.3f} | Val Acc: {val_acc:.3f}')\n",
    "    return history            \n",
    "            "
   ]
  },
  {
   "cell_type": "code",
   "execution_count": 29,
   "id": "eeb60772-d8ce-4806-8747-8e29674a7c56",
   "metadata": {},
   "outputs": [],
   "source": [
    "model = Model()\n",
    "optimizer = optim.Adam(params=model.parameters(), lr=0.001)\n",
    "criterion = nn.CrossEntropyLoss()"
   ]
  },
  {
   "cell_type": "code",
   "execution_count": 30,
   "id": "1703b920-923d-4914-a97a-0dc4f45c7901",
   "metadata": {},
   "outputs": [
    {
     "name": "stdout",
     "output_type": "stream",
     "text": [
      "Epoch:  1/10 | Train Loss: 0.00258 | Val Loss: 0.00314 | Train Acc: 0.974 | Val Acc: 0.968\n",
      "Epoch:  2/10 | Train Loss: 0.00189 | Val Loss: 0.00246 | Train Acc: 0.982 | Val Acc: 0.974\n",
      "Epoch:  3/10 | Train Loss: 0.00126 | Val Loss: 0.00194 | Train Acc: 0.987 | Val Acc: 0.981\n",
      "Epoch:  4/10 | Train Loss: 0.00074 | Val Loss: 0.00131 | Train Acc: 0.993 | Val Acc: 0.986\n",
      "Epoch:  5/10 | Train Loss: 0.00073 | Val Loss: 0.00161 | Train Acc: 0.993 | Val Acc: 0.985\n",
      "Epoch:  6/10 | Train Loss: 0.00051 | Val Loss: 0.00114 | Train Acc: 0.995 | Val Acc: 0.989\n",
      "Epoch:  7/10 | Train Loss: 0.00059 | Val Loss: 0.00147 | Train Acc: 0.994 | Val Acc: 0.987\n",
      "Epoch:  8/10 | Train Loss: 0.00049 | Val Loss: 0.00150 | Train Acc: 0.995 | Val Acc: 0.986\n",
      "Epoch:  9/10 | Train Loss: 0.00037 | Val Loss: 0.00137 | Train Acc: 0.996 | Val Acc: 0.989\n",
      "Epoch: 10/10 | Train Loss: 0.00037 | Val Loss: 0.00154 | Train Acc: 0.996 | Val Acc: 0.987\n"
     ]
    }
   ],
   "source": [
    "history = train(10, train_dataloader, val_dataloader, model, criterion, optimizer)"
   ]
  },
  {
   "cell_type": "code",
   "execution_count": 31,
   "id": "712df224-9033-43b6-9e75-328d65d81c0c",
   "metadata": {},
   "outputs": [
    {
     "data": {
      "image/png": "[encoded data removed]",
      "text/plain": [
       "<Figure size 864x360 with 2 Axes>"
      ]
     },
     "metadata": {
      "needs_background": "light"
     },
     "output_type": "display_data"
    }
   ],
   "source": [
    "plot_history(history)"
   ]
  },
  {
   "cell_type": "code",
   "execution_count": 32,
   "id": "42086398-10df-4ea8-9dfa-f3c4522aa4f9",
   "metadata": {},
   "outputs": [],
   "source": [
    "test_loss, test_acc = track_performance(test_dataloader, model, criterion)"
   ]
  },
  {
   "cell_type": "code",
   "execution_count": 33,
   "id": "99f05d7c-3545-4c7f-b95d-fae59f6dc8cc",
   "metadata": {},
   "outputs": [
    {
     "name": "stdout",
     "output_type": "stream",
     "text": [
      "Test Loss: 0.00116 | Test Acc: 0.990\n"
     ]
    }
   ],
   "source": [
    "print(f'Test Loss: {test_loss:.5f} | Test Acc: {test_acc:.3f}')"
   ]
  }
 ],
 "metadata": {
  "kernelspec": {
   "display_name": "Python 3 (ipykernel)",
   "language": "python",
   "name": "python3"
  },
  "language_info": {
   "codemirror_mode": {
    "name": "ipython",
    "version": 3
   },
   "file_extension": ".py",
   "mimetype": "text/x-python",
   "name": "python",
   "nbconvert_exporter": "python",
   "pygments_lexer": "ipython3",
   "version": "3.10.4"
  }
 },
 "nbformat": 4,
 "nbformat_minor": 5
}
