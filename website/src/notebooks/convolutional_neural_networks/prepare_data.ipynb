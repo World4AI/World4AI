{
 "cells": [
  {
   "cell_type": "code",
   "execution_count": 1,
   "id": "919f5100-9071-45a0-93ec-12a5b08ddd75",
   "metadata": {},
   "outputs": [],
   "source": [
    "import os\n",
    "import pathlib\n",
    "import json\n",
    "import zipfile\n",
    "import shutil"
   ]
  },
  {
   "cell_type": "code",
   "execution_count": 2,
   "id": "02db1e44-5df9-477f-a5eb-7d5a7030716f",
   "metadata": {},
   "outputs": [],
   "source": [
    "home_dir = pathlib.Path(os.environ[\"HOME\"])\n",
    "kaggle_path = home_dir / '.kaggle'"
   ]
  },
  {
   "cell_type": "code",
   "execution_count": 3,
   "id": "13663bde-7385-467f-8e1d-210cd370f9f0",
   "metadata": {},
   "outputs": [],
   "source": [
    "if not os.path.exists(kaggle_path):\n",
    "    credentials = {\"username\":\"your_username\",\"key\":\"your_key\"}\n",
    "    os.mkdir(kaggle_path)\n",
    "    with open(kaggle_path / 'kaggle.json', 'w') as f:\n",
    "        json.dump(credentials, f)"
   ]
  },
  {
   "cell_type": "code",
   "execution_count": 4,
   "id": "44c0785b-0c91-416f-864c-62fcea406f50",
   "metadata": {},
   "outputs": [],
   "source": [
    "!chmod 600 ~/.kaggle/kaggle.json"
   ]
  },
  {
   "cell_type": "code",
   "execution_count": 5,
   "id": "1de80acf-c5e9-46f6-a33f-e3c6199d916d",
   "metadata": {},
   "outputs": [
    {
     "name": "stdout",
     "output_type": "stream",
     "text": [
      "dogs-vs-cats.zip: Skipping, found more recently modified local copy (use --force to force download)\n"
     ]
    }
   ],
   "source": [
    "!kaggle competitions download -p ../datasets  -c dogs-vs-cats"
   ]
  },
  {
   "cell_type": "code",
   "execution_count": 6,
   "id": "3b3855a3-037a-45db-861c-1ac732c62160",
   "metadata": {},
   "outputs": [],
   "source": [
    "with zipfile.ZipFile('../datasets/dogs-vs-cats.zip', 'r') as zip_ref:\n",
    "    zip_ref.extractall('../datasets/dogs-vs-cats')"
   ]
  },
  {
   "cell_type": "code",
   "execution_count": 7,
   "id": "2b6993c4-aa9f-45dd-8bc8-d72fde28ab75",
   "metadata": {},
   "outputs": [],
   "source": [
    "with zipfile.ZipFile('../datasets/dogs-vs-cats/test1.zip', 'r') as zip_ref:\n",
    "    zip_ref.extractall('../datasets/dogs-vs-cats')"
   ]
  },
  {
   "cell_type": "code",
   "execution_count": 8,
   "id": "f12a9878-9caa-49bf-968a-00acf1db4692",
   "metadata": {},
   "outputs": [],
   "source": [
    "with zipfile.ZipFile('../datasets/dogs-vs-cats/train.zip', 'r') as zip_ref:\n",
    "    zip_ref.extractall('../datasets/dogs-vs-cats')"
   ]
  },
  {
   "cell_type": "code",
   "execution_count": 9,
   "id": "6c5bd2b4-7373-465a-b426-d7edd2c150df",
   "metadata": {},
   "outputs": [],
   "source": [
    "os.rename('../datasets/dogs-vs-cats/test1', '../datasets/dogs-vs-cats/test')"
   ]
  },
  {
   "cell_type": "code",
   "execution_count": 10,
   "id": "3e0f1629-13b9-4c70-92d0-243860362358",
   "metadata": {},
   "outputs": [],
   "source": [
    "dogs_cats_root = pathlib.Path('../datasets/dogs-vs-cats/')\n",
    "new_root = pathlib.Path('../datasets/dogs_vs_cats_prepared')"
   ]
  },
  {
   "cell_type": "code",
   "execution_count": 11,
   "id": "bd86140c-1766-4ec2-9716-6e411e50359b",
   "metadata": {},
   "outputs": [],
   "source": [
    "# prepare list of files\n",
    "train_val_file_names = os.listdir(dogs_cats_root / 'train')\n",
    "train_file_names = train_val_file_names[5000:]\n",
    "val_file_names = train_val_file_names[:5000]\n",
    "test_file_names = os.listdir(dogs_cats_root / 'test')"
   ]
  },
  {
   "cell_type": "code",
   "execution_count": 12,
   "id": "0ff4a1c2-acf6-4396-9d74-ba30a95438a2",
   "metadata": {},
   "outputs": [],
   "source": [
    "# prepare dirs\n",
    "for directory in [\"train\", \"test\", \"val\"]:\n",
    "    for category in [\"cat\", \"dog\"]:\n",
    "        new_dir = new_root / directory / category\n",
    "        shutil.rmtree(new_dir)\n",
    "        os.makedirs(new_dir)"
   ]
  },
  {
   "cell_type": "code",
   "execution_count": 13,
   "id": "1065c5f1-74d0-4c22-89ef-e788496eb2a4",
   "metadata": {},
   "outputs": [],
   "source": [
    "def copy_files(old_dir, new_dir, files_list):\n",
    "    for idx, filename in enumerate(files_list):\n",
    "        src = old_dir / filename\n",
    "        if filename.startswith('cat'):\n",
    "            dst = new_dir / 'cat' / filename\n",
    "        elif filename.startswith('dog'):\n",
    "            dst = new_dir / 'dog' / filename\n",
    "        else:\n",
    "            continue\n",
    "            \n",
    "        shutil.copyfile(src=src, dst=dst)"
   ]
  },
  {
   "cell_type": "code",
   "execution_count": 14,
   "id": "562ae6c5-00a5-49fa-abdf-4607debea683",
   "metadata": {},
   "outputs": [],
   "source": [
    "copy_files(old_dir=dogs_cats_root / \"train\", new_dir=new_root / 'train', files_list=train_file_names)\n",
    "copy_files(old_dir=dogs_cats_root / \"train\", new_dir=new_root / 'val', files_list=val_file_names)\n",
    "copy_files(old_dir=dogs_cats_root / \"test\", new_dir=new_root / 'test', files_list=test_file_names)"
   ]
  },
  {
   "cell_type": "code",
   "execution_count": 15,
   "id": "4c0227a2-6673-424f-9334-c4baae439ff9",
   "metadata": {},
   "outputs": [],
   "source": [
    "# remove unnecessary files\n",
    "shutil.rmtree(dogs_cats_root)"
   ]
  }
 ],
 "metadata": {
  "kernelspec": {
   "display_name": "Python 3 (ipykernel)",
   "language": "python",
   "name": "python3"
  },
  "language_info": {
   "codemirror_mode": {
    "name": "ipython",
    "version": 3
   },
   "file_extension": ".py",
   "mimetype": "text/x-python",
   "name": "python",
   "nbconvert_exporter": "python",
   "pygments_lexer": "ipython3",
   "version": "3.10.4"
  }
 },
 "nbformat": 4,
 "nbformat_minor": 5
}
