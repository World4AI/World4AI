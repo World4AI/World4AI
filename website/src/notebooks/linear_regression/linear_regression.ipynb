{
 "cells": [
  {
   "cell_type": "markdown",
   "id": "196b186a-c330-4b95-8b8f-210c63d78b56",
   "metadata": {},
   "source": [
    "# Linear Regression"
   ]
  },
  {
   "cell_type": "markdown",
   "id": "6fe5adfa-3d4b-4a7d-833e-b3d71773f951",
   "metadata": {},
   "source": [
    "In this chapter we will solve a linear regression problem, by manually implementing the gradient descent algorithm using only NumPy. We additianally utilize the sklearn package to create the dataset that is solvable by linear regression."
   ]
  },
  {
   "cell_type": "code",
   "execution_count": 1,
   "id": "15cc53df-e083-4edd-84e5-a8ad1381f953",
   "metadata": {},
   "outputs": [],
   "source": [
    "import numpy as np\n",
    "import sklearn.datasets as datasets"
   ]
  },
  {
   "cell_type": "markdown",
   "id": "425f19f4-6366-4098-ae7d-3c0712aaeb09",
   "metadata": {},
   "source": [
    "The ```make_regression``` function from ```sklearn.datasets``` creates features and targets for our regression task.\n",
    "- ```n_samples```: number of samples in the features and targets matrices\n",
    "- ```n_features```: number of features in the features matrix\n",
    "- ```n_informative```: now many of the features do actually contribute to the output, in our case all features have an impact on the targets.\n",
    "- ```noise```: some noise is applied to the output, to make the linear model imperfect"
   ]
  },
  {
   "cell_type": "code",
   "execution_count": 2,
   "id": "822ec808-da3c-42b2-82a6-d29cb2e827a4",
   "metadata": {},
   "outputs": [],
   "source": [
    "X, y = datasets.make_regression(n_samples=100, n_features=10, n_informative=10, noise=0.01)"
   ]
  },
  {
   "cell_type": "markdown",
   "id": "ff3a78a1-931f-4f08-983b-b5c5725fdd32",
   "metadata": {},
   "source": [
    "The dimensions of the $\\mathbf{X}$ matrix are as expected, ```number of samles x number of features```."
   ]
  },
  {
   "cell_type": "code",
   "execution_count": 3,
   "id": "c2bb291a-6da6-4164-81d2-0d7b6c430d5d",
   "metadata": {},
   "outputs": [
    {
     "name": "stdout",
     "output_type": "stream",
     "text": [
      "(100, 10)\n"
     ]
    }
   ],
   "source": [
    "print(X.shape)"
   ]
  },
  {
   "cell_type": "markdown",
   "id": "2059239f-eede-4153-8a8f-8bda236035fc",
   "metadata": {},
   "source": [
    "The $\\mathbf{y}$ vector has dimensionality ```(100, )```. "
   ]
  },
  {
   "cell_type": "code",
   "execution_count": 4,
   "id": "48d868a3-ce2e-4311-8735-cc7b0a9f1966",
   "metadata": {},
   "outputs": [
    {
     "name": "stdout",
     "output_type": "stream",
     "text": [
      "(100,)\n"
     ]
    }
   ],
   "source": [
    "print(y.shape)"
   ]
  },
  {
   "cell_type": "markdown",
   "id": "b323bcd4-db5d-4b84-8ee6-af7e2ca78388",
   "metadata": {},
   "source": [
    "At a later point this might lead to problems, because our predictions $\\mathbf{\\hat{y}}$ will be in the shape ```(100, 1)```. Therefore we reshape the output vector to match our predictions."
   ]
  },
  {
   "cell_type": "code",
   "execution_count": 5,
   "id": "a02831c7-f391-408e-8357-565330697035",
   "metadata": {},
   "outputs": [],
   "source": [
    "y = y.reshape(100, 1)"
   ]
  },
  {
   "cell_type": "code",
   "execution_count": 6,
   "id": "46fe07d4-4c38-4c41-a740-a92276a36642",
   "metadata": {},
   "outputs": [
    {
     "name": "stdout",
     "output_type": "stream",
     "text": [
      "(100, 1)\n"
     ]
    }
   ],
   "source": [
    "print(y.shape)"
   ]
  },
  {
   "cell_type": "markdown",
   "id": "d7ac5508-cf05-4215-9e80-18137b2da2d8",
   "metadata": {},
   "source": [
    "We create the weight row vector $\\mathbf{w}$ and the bias $b$ using the standard normal distribution."
   ]
  },
  {
   "cell_type": "code",
   "execution_count": 7,
   "id": "7697ebab-4518-413e-8203-aad4914d220c",
   "metadata": {},
   "outputs": [],
   "source": [
    "w = np.random.randn(1, 10)\n",
    "b = np.random.randn(1, 1)"
   ]
  },
  {
   "cell_type": "markdown",
   "id": "7c45ec1a-6e72-41aa-b8dd-6dbe20d58245",
   "metadata": {},
   "source": [
    "The linear regression does not require a lot of hyperparameters. We generally only need the number of epochs we will apply the gradient descent and the learning rate $\\alpha$."
   ]
  },
  {
   "cell_type": "code",
   "execution_count": 8,
   "id": "7778db8e-e88f-4da9-b9f9-5578af2f6041",
   "metadata": {},
   "outputs": [],
   "source": [
    "alpha = 0.1\n",
    "epochs = 100"
   ]
  },
  {
   "cell_type": "markdown",
   "id": "77b8fab1-8e80-4536-9e36-e82819d02f2a",
   "metadata": {},
   "source": [
    "Below is the actual implementation of gradient descent. \n",
    "- We start by calculating the output of the linear regression $\\mathbf{\\hat{y}} = \\mathbf{X} \\mathbf{w}^T + b$. As always this expression is mathematically not completely correct, but due to broadcasting in NumPy the expression works. \n",
    "- Next we print the mean squared error every 10 epochs.\n",
    "- We can calculate the gradient for a single sample $i$ by $\\dfrac{\\partial{L}}{\\partial w_j} = x_j(\\hat{y}^{(i)} - y^{(i)})$. We calculate the gradients for all weights and samples simultaneously by using $\\mathbf{(\\hat{y}} - \\mathbf{y}) \\circ \\mathbf{X}$ and end up with a matrix of size ```n_samples * n_features```. This matrix essentially holds the partial derivatives with respect to a particular feature for a particular sample. We are dealing with the mean squared error, therefore we average the derivatives over all the samples and end up with a gradient vector $\\nabla$.\n",
    "- A similar procedure is done for the derivative with the respect to the bias $b$.\n",
    "- Finally we apply batch gradient descent $\\mathbf{w} := \\mathbf{w} - \\alpha \\nabla$.\n",
    "\n",
    "We can observe that the mean squared error gets smaller and smaller, approaching 0."
   ]
  },
  {
   "cell_type": "code",
   "execution_count": 9,
   "id": "7865a8f4-9833-4311-9c1e-a8133d90daba",
   "metadata": {},
   "outputs": [
    {
     "name": "stdout",
     "output_type": "stream",
     "text": [
      "Epoch: 0, MSE: 49087.394335385274\n",
      "Epoch: 10, MSE: 2864.6107687172785\n",
      "Epoch: 20, MSE: 317.573417233165\n",
      "Epoch: 30, MSE: 46.76490504719075\n",
      "Epoch: 40, MSE: 8.401178725573137\n",
      "Epoch: 50, MSE: 1.7894433380162744\n",
      "Epoch: 60, MSE: 0.4413718338466506\n",
      "Epoch: 70, MSE: 0.12327525301769063\n",
      "Epoch: 80, MSE: 0.038074948443451245\n",
      "Epoch: 90, MSE: 0.012698990094952883\n"
     ]
    }
   ],
   "source": [
    "for epoch in range(epochs):\n",
    "    y_hat = X @ w.T + b\n",
    "    if epoch % 10 == 0:\n",
    "        mse = ((y_hat-y)**2).mean()\n",
    "        print(f\"Epoch: {epoch}, MSE: { mse}\",)\n",
    "    # calculate the gradients \n",
    "    grad_w = ((y_hat - y) * X).mean(axis=0) \n",
    "    grad_b = (y_hat - y).mean()\n",
    "    # apply batch gradient descent\n",
    "    w = w - alpha * grad_w\n",
    "    b = b - alpha * grad_b"
   ]
  }
 ],
 "metadata": {
  "kernelspec": {
   "display_name": "Python 3 (ipykernel)",
   "language": "python",
   "name": "python3"
  },
  "language_info": {
   "codemirror_mode": {
    "name": "ipython",
    "version": 3
   },
   "file_extension": ".py",
   "mimetype": "text/x-python",
   "name": "python",
   "nbconvert_exporter": "python",
   "pygments_lexer": "ipython3",
   "version": "3.10.4"
  }
 },
 "nbformat": 4,
 "nbformat_minor": 5
}
