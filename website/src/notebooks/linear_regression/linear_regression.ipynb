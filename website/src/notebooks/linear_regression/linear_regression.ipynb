{
 "cells": [
  {
   "cell_type": "markdown",
   "id": "196b186a-c330-4b95-8b8f-210c63d78b56",
   "metadata": {},
   "source": [
    "# Linear Regression"
   ]
  },
  {
   "cell_type": "markdown",
   "id": "6fe5adfa-3d4b-4a7d-833e-b3d71773f951",
   "metadata": {},
   "source": [
    "In this section we will solve a linear regression problem, by manually implementing the gradient descent algorithm using only NumPy. "
   ]
  },
  {
   "cell_type": "code",
   "execution_count": 1,
   "id": "15cc53df-e083-4edd-84e5-a8ad1381f953",
   "metadata": {},
   "outputs": [],
   "source": [
    "import numpy as np\n",
    "import sklearn.datasets as datasets"
   ]
  },
  {
   "cell_type": "markdown",
   "id": "425f19f4-6366-4098-ae7d-3c0712aaeb09",
   "metadata": {},
   "source": [
    "The ```make_regression``` function from ```sklearn.datasets``` creates features and targets for our regression task.\n",
    "- ```n_samples```: number of samples in the features and targets matrices\n",
    "- ```n_features```: number of features in the features matrix\n",
    "- ```n_informative```: now many of the features do actually contribute to the output, in our case all features have an impact on the targets.\n",
    "- ```noise```: some noise is applied to the output, to make the linear model imperfect"
   ]
  },
  {
   "cell_type": "code",
   "execution_count": 2,
   "id": "822ec808-da3c-42b2-82a6-d29cb2e827a4",
   "metadata": {},
   "outputs": [],
   "source": [
    "X, y = datasets.make_regression(n_samples=100, n_features=10, n_informative=10, noise=0.01)"
   ]
  },
  {
   "cell_type": "markdown",
   "id": "ff3a78a1-931f-4f08-983b-b5c5725fdd32",
   "metadata": {},
   "source": [
    "The dimensions of the $\\mathbf{X}$ matrix are as expected: ```(number of samples, number of features)```."
   ]
  },
  {
   "cell_type": "code",
   "execution_count": 3,
   "id": "c2bb291a-6da6-4164-81d2-0d7b6c430d5d",
   "metadata": {},
   "outputs": [
    {
     "name": "stdout",
     "output_type": "stream",
     "text": [
      "The shape of the feature matrix: (100, 10)\n"
     ]
    }
   ],
   "source": [
    "print(f'The shape of the feature matrix: {X.shape}')"
   ]
  },
  {
   "cell_type": "markdown",
   "id": "2059239f-eede-4153-8a8f-8bda236035fc",
   "metadata": {},
   "source": [
    "The $\\mathbf{y}$ vector has dimensionality ```(100, )```. "
   ]
  },
  {
   "cell_type": "markdown",
   "id": "b323bcd4-db5d-4b84-8ee6-af7e2ca78388",
   "metadata": {},
   "source": [
    "Uur predictions $\\mathbf{\\hat{y}}$ will be in the shape ```(100, 1)```, therefore we reshape the output vector to match our predictions."
   ]
  },
  {
   "cell_type": "code",
   "execution_count": 4,
   "id": "18cd3498-8ab3-4d7b-8781-57a402419fcd",
   "metadata": {},
   "outputs": [
    {
     "name": "stdout",
     "output_type": "stream",
     "text": [
      "The dimension of the output vector: (100, 1)\n"
     ]
    }
   ],
   "source": [
    "y = y.reshape(100, 1)\n",
    "print(f'The dimension of the output vector: {y.shape}')"
   ]
  },
  {
   "cell_type": "markdown",
   "id": "d7ac5508-cf05-4215-9e80-18137b2da2d8",
   "metadata": {},
   "source": [
    "We create the weight vector $\\mathbf{w}$ and the bias $b$ and initialize the values using the standard normal distribution."
   ]
  },
  {
   "cell_type": "code",
   "execution_count": 5,
   "id": "7697ebab-4518-413e-8203-aad4914d220c",
   "metadata": {},
   "outputs": [],
   "source": [
    "w = np.random.randn(1, 10)\n",
    "b = np.random.randn(1, 1)"
   ]
  },
  {
   "cell_type": "markdown",
   "id": "7c45ec1a-6e72-41aa-b8dd-6dbe20d58245",
   "metadata": {},
   "source": [
    "The linear regression does not require a lot of hyperparameters. We generally only need the number of epochs and the learning rate $\\alpha$."
   ]
  },
  {
   "cell_type": "code",
   "execution_count": 6,
   "id": "7778db8e-e88f-4da9-b9f9-5578af2f6041",
   "metadata": {},
   "outputs": [],
   "source": [
    "alpha = 0.1\n",
    "epochs = 100"
   ]
  },
  {
   "cell_type": "markdown",
   "id": "77b8fab1-8e80-4536-9e36-e82819d02f2a",
   "metadata": {},
   "source": [
    "Below is the actual implementation of gradient descent.\n",
    "1. We start by calculating the output of the linear regression $\\mathbf{\\hat{y}} = \\mathbf{X} \\mathbf{w}^T + b$\n",
    "2. We can calculate the gradient for a single sample $i$ using $\\dfrac{\\partial{L}}{\\partial w_j} = \\dfrac{1}{n} \\sum_n^i -x_j^{(i)}(y^{(i)} - \\hat{y}^{(i)})$. We calculate the gradients for all weights and samples simultaneously by using $-\\mathbf{X} \\otimes \\mathbf{(\\hat{y}} - \\mathbf{y})$ and end up with a matrix of size ```n_samples * n_features```. This matrix essentially holds the partial derivatives with respect to a particular feature for a particular sample. We average the derivatives over all samples and end up with a gradient vector $\\mathbf{\\nabla}$. A similar procedure is done to calculate the derivative with the respect to the bias $b$.\n",
    "3. Finally we apply batch gradient descent $\\mathbf{w} := \\mathbf{w} - \\alpha \\mathbf{\\nabla}$ and $b := b - \\alpha \\dfrac{\\partial L}{\\partial b}$."
   ]
  },
  {
   "cell_type": "code",
   "execution_count": 7,
   "id": "7865a8f4-9833-4311-9c1e-a8133d90daba",
   "metadata": {},
   "outputs": [
    {
     "name": "stdout",
     "output_type": "stream",
     "text": [
      "Epoch: 0 | MSE: 27536.11\n",
      "Epoch: 10 | MSE: 4520.28\n",
      "Epoch: 20 | MSE: 981.36\n",
      "Epoch: 30 | MSE: 246.61\n",
      "Epoch: 40 | MSE: 66.19\n",
      "Epoch: 50 | MSE: 18.34\n",
      "Epoch: 60 | MSE: 5.18\n",
      "Epoch: 70 | MSE: 1.48\n",
      "Epoch: 80 | MSE: 0.43\n",
      "Epoch: 90 | MSE: 0.13\n"
     ]
    }
   ],
   "source": [
    "for epoch in range(epochs):\n",
    "    # 1. calculate output of linear regression\n",
    "    y_hat = X @ w.T + b\n",
    "    # output info every 10 epochs\n",
    "    if epoch % 10 == 0:\n",
    "        mse = ((y - y_hat)**2).mean()\n",
    "        print(f\"Epoch: {epoch} | MSE: {mse:.2f}\")\n",
    "    # 2. calculate the gradients \n",
    "    grad_w = (-X * (y - y_hat)).mean(axis=0) \n",
    "    grad_b = -(y - y_hat).mean()\n",
    "    # 3. apply batch gradient descent\n",
    "    w = w - alpha * grad_w\n",
    "    b = b - alpha * grad_b"
   ]
  },
  {
   "cell_type": "markdown",
   "id": "983c276c-b0c8-493d-a032-60459d18747d",
   "metadata": {},
   "source": [
    "The mean squared error shrinks fast and gets close to 0 after 10 epochs."
   ]
  }
 ],
 "metadata": {
  "kernelspec": {
   "display_name": "Python 3 (ipykernel)",
   "language": "python",
   "name": "python3"
  },
  "language_info": {
   "codemirror_mode": {
    "name": "ipython",
    "version": 3
   },
   "file_extension": ".py",
   "mimetype": "text/x-python",
   "name": "python",
   "nbconvert_exporter": "python",
   "pygments_lexer": "ipython3",
   "version": "3.10.4"
  }
 },
 "nbformat": 4,
 "nbformat_minor": 5
}
