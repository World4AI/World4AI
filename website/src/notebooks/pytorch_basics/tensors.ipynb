{
 "cells": [
  {
   "cell_type": "code",
   "execution_count": 1,
   "id": "cb68d67a-8856-4927-a8fd-635bc81a411b",
   "metadata": {},
   "outputs": [],
   "source": [
    "import torch\n",
    "import numpy as np"
   ]
  },
  {
   "cell_type": "markdown",
   "id": "b5af35d8-f9e2-4c9e-8340-c832cc228c03",
   "metadata": {},
   "source": [
    "# Tensor Basics in PyTorch"
   ]
  },
  {
   "cell_type": "markdown",
   "id": "c9fb8d9c-3a77-4228-81a6-306c5429a989",
   "metadata": {},
   "source": [
    "## The Tensor class"
   ]
  },
  {
   "cell_type": "markdown",
   "id": "32ad74f2-2d00-4fd5-823a-0da514aa1f9b",
   "metadata": {},
   "source": [
    "All of modern deep learning works with matrices. According to the PyTorch documentation, `torch.Tensor` is a multi-dimensional matrix containing elements of a single data type. This class is at the core of PyTorch and is going to be used throughout all future tutorial series."
   ]
  },
  {
   "cell_type": "markdown",
   "id": "051b6847-38f3-4925-a473-bc429ddb765f",
   "metadata": {},
   "source": [
    "## Setting the device"
   ]
  },
  {
   "cell_type": "markdown",
   "id": "38a7816a-5bcc-40b3-8555-8aa08c9c9b62",
   "metadata": {},
   "source": [
    "Tensors can live an the `cpu` or the `gpu`. If we have an Nvidia graphics card, we can define gpu as the device. The device variable can be later used to move the tensors between the cpu and the gpu."
   ]
  },
  {
   "cell_type": "code",
   "execution_count": 2,
   "id": "e36cd6cf-52e5-45ba-9499-7b8adeb0ab2d",
   "metadata": {},
   "outputs": [],
   "source": [
    "device = torch.device('cuda:0' if torch.cuda.is_available() else 'cpu')"
   ]
  },
  {
   "cell_type": "code",
   "execution_count": 3,
   "id": "5137baa9-3478-4e6c-aa7d-5b7613eac4a2",
   "metadata": {},
   "outputs": [
    {
     "name": "stdout",
     "output_type": "stream",
     "text": [
      "cuda:0\n"
     ]
    }
   ],
   "source": [
    "print(device)"
   ]
  },
  {
   "cell_type": "markdown",
   "id": "a5ec49b1-c5ad-49a1-b607-26fd23312a13",
   "metadata": {},
   "source": [
    "If you want to find out if you have an Nvidia graphics card from the terminal, you can run the command `nvidia-smi`."
   ]
  },
  {
   "cell_type": "code",
   "execution_count": 4,
   "id": "69d2e99f-fc4c-4e7d-9db8-087796e7cfcf",
   "metadata": {},
   "outputs": [
    {
     "name": "stdout",
     "output_type": "stream",
     "text": [
      "Sun Jan 16 12:29:47 2022       \n",
      "+-----------------------------------------------------------------------------+\n",
      "| NVIDIA-SMI 470.86       Driver Version: 470.86       CUDA Version: 11.4     |\n",
      "|-------------------------------+----------------------+----------------------+\n",
      "| GPU  Name        Persistence-M| Bus-Id        Disp.A | Volatile Uncorr. ECC |\n",
      "| Fan  Temp  Perf  Pwr:Usage/Cap|         Memory-Usage | GPU-Util  Compute M. |\n",
      "|                               |                      |               MIG M. |\n",
      "|===============================+======================+======================|\n",
      "|   0  NVIDIA GeForce ...  Off  | 00000000:01:00.0 Off |                  N/A |\n",
      "| N/A   50C    P0    25W /  N/A |      8MiB /  5946MiB |      0%      Default |\n",
      "|                               |                      |                  N/A |\n",
      "+-------------------------------+----------------------+----------------------+\n",
      "                                                                               \n",
      "+-----------------------------------------------------------------------------+\n",
      "| Processes:                                                                  |\n",
      "|  GPU   GI   CI        PID   Type   Process name                  GPU Memory |\n",
      "|        ID   ID                                                   Usage      |\n",
      "|=============================================================================|\n",
      "|    0   N/A  N/A      2296      G   /usr/lib/xorg/Xorg                  4MiB |\n",
      "+-----------------------------------------------------------------------------+\n"
     ]
    }
   ],
   "source": [
    "!nvidia-smi"
   ]
  },
  {
   "cell_type": "markdown",
   "id": "5efb6354-27ec-4046-8bf6-9f37d2f7d394",
   "metadata": {},
   "source": [
    "## Creating a Tensor"
   ]
  },
  {
   "cell_type": "markdown",
   "id": "d07f2b3d-75fb-4f50-9426-81f8c7aed8bf",
   "metadata": {},
   "source": [
    "`torch.tensor(data, dtype=None, device=None, requires_grad=False)`\n",
    "\n",
    "The method `torch.tensor()` is the most straightforward way to create a tensor. \n",
    "- The `data` is the input that is transformed into a tensor. Usually it is an arraylike structure: list, tuple, NumPy ndarray. \n",
    "- `dtype` tetermines the type of the tensor. See https://pytorch.org/docs/stable/tensor_attributes.html#torch.torch.dtype for a full list of available data types.\n",
    "- `device` determines if the tensor is going to live on cpu or gpu\n",
    "- `requires_grad` determines if the tensor needs to be included in gradient descent calculations. This will be covered in more detail in future tutorials."
   ]
  },
  {
   "cell_type": "code",
   "execution_count": 5,
   "id": "045095be-996c-4168-9c6f-42b7932fbdf0",
   "metadata": {},
   "outputs": [],
   "source": [
    "my_tensor = torch.tensor([[1, 2, 3], [4, 5, 6]], dtype=torch.float32, device=device, requires_grad=False)"
   ]
  },
  {
   "cell_type": "code",
   "execution_count": 6,
   "id": "78fbf59b-097e-4be8-bfe0-bd62ff9d2ecc",
   "metadata": {},
   "outputs": [
    {
     "name": "stdout",
     "output_type": "stream",
     "text": [
      "tensor([[1., 2., 3.],\n",
      "        [4., 5., 6.]], device='cuda:0')\n"
     ]
    }
   ],
   "source": [
    "print(my_tensor)"
   ]
  },
  {
   "cell_type": "markdown",
   "id": "81033280-3bf4-4119-bb1b-50af504f6b0e",
   "metadata": {},
   "source": [
    "## Accessing and changing Tensor properties"
   ]
  },
  {
   "cell_type": "markdown",
   "id": "dc8062e1-fa18-417a-86b1-69bfe141a4b6",
   "metadata": {},
   "source": [
    "We can access the properties of the tensor by using `my_tensor.data`, `my_tensor.dtype`, `my_tensor.device` and `my_tensor.requires_grad`"
   ]
  },
  {
   "cell_type": "code",
   "execution_count": 7,
   "id": "3b5c01aa-b8e2-41cf-8258-0fa283962196",
   "metadata": {},
   "outputs": [
    {
     "data": {
      "text/plain": [
       "tensor([[1., 2., 3.],\n",
       "        [4., 5., 6.]], device='cuda:0')"
      ]
     },
     "execution_count": 7,
     "metadata": {},
     "output_type": "execute_result"
    }
   ],
   "source": [
    "my_tensor.data"
   ]
  },
  {
   "cell_type": "code",
   "execution_count": 8,
   "id": "8cd3b289-4799-418e-b099-571951538ff2",
   "metadata": {},
   "outputs": [
    {
     "data": {
      "text/plain": [
       "torch.float32"
      ]
     },
     "execution_count": 8,
     "metadata": {},
     "output_type": "execute_result"
    }
   ],
   "source": [
    "my_tensor.dtype"
   ]
  },
  {
   "cell_type": "code",
   "execution_count": 9,
   "id": "7b1c45cb-3c2c-48f1-9d32-9b95f3294116",
   "metadata": {},
   "outputs": [
    {
     "data": {
      "text/plain": [
       "device(type='cuda', index=0)"
      ]
     },
     "execution_count": 9,
     "metadata": {},
     "output_type": "execute_result"
    }
   ],
   "source": [
    "my_tensor.device"
   ]
  },
  {
   "cell_type": "code",
   "execution_count": 10,
   "id": "61786b54-4bc5-41fa-822e-775be5d00ba6",
   "metadata": {},
   "outputs": [
    {
     "data": {
      "text/plain": [
       "False"
      ]
     },
     "execution_count": 10,
     "metadata": {},
     "output_type": "execute_result"
    }
   ],
   "source": [
    "my_tensor.requires_grad"
   ]
  },
  {
   "cell_type": "markdown",
   "id": "338945e3-d6a0-4389-a453-965b3d6dddf6",
   "metadata": {},
   "source": [
    "Sometimes it is necessary to convert a Tensor to a different dtype or to move the Tensor to a different device. We can use `Tensor.to()` to accomplish those tasks. `Tensor.to()` does not change the datatype/device of the original Tensor."
   ]
  },
  {
   "cell_type": "code",
   "execution_count": 11,
   "id": "b051d163-a588-43b2-bf9d-24ec4fc7814d",
   "metadata": {},
   "outputs": [
    {
     "data": {
      "text/plain": [
       "tensor([[1., 2., 3.],\n",
       "        [4., 5., 6.]], device='cuda:0', dtype=torch.float64)"
      ]
     },
     "execution_count": 11,
     "metadata": {},
     "output_type": "execute_result"
    }
   ],
   "source": [
    "my_tensor.to(dtype=torch.float64)"
   ]
  },
  {
   "cell_type": "code",
   "execution_count": 12,
   "id": "1ef55a89-c97f-4cc3-93e3-3da315ed4192",
   "metadata": {},
   "outputs": [
    {
     "data": {
      "text/plain": [
       "tensor([[1., 2., 3.],\n",
       "        [4., 5., 6.]])"
      ]
     },
     "execution_count": 12,
     "metadata": {},
     "output_type": "execute_result"
    }
   ],
   "source": [
    "my_tensor.to(device='cpu')"
   ]
  },
  {
   "cell_type": "code",
   "execution_count": 13,
   "id": "5e8ebf74-92cb-41d8-b7f6-ecb9752b0dd1",
   "metadata": {},
   "outputs": [
    {
     "data": {
      "text/plain": [
       "tensor([[1., 2., 3.],\n",
       "        [4., 5., 6.]], device='cuda:0')"
      ]
     },
     "execution_count": 13,
     "metadata": {},
     "output_type": "execute_result"
    }
   ],
   "source": [
    "# still has the same datatype and device\n",
    "my_tensor"
   ]
  },
  {
   "cell_type": "markdown",
   "id": "0f5e9922-1509-4899-a0be-42ef5dd17441",
   "metadata": {},
   "source": [
    "## Tensor Dimensions"
   ]
  },
  {
   "cell_type": "markdown",
   "id": "ffe861b8-bfe5-4af3-a7a4-470f6612dfd8",
   "metadata": {},
   "source": [
    "We can use use `my_tensor.size()` or `my_tensor.shape` to find out the dimensions of the tensor."
   ]
  },
  {
   "cell_type": "code",
   "execution_count": 14,
   "id": "608faf68-4c3d-4a4c-96d4-0978b7b6b123",
   "metadata": {},
   "outputs": [
    {
     "data": {
      "text/plain": [
       "torch.Size([2, 3])"
      ]
     },
     "execution_count": 14,
     "metadata": {},
     "output_type": "execute_result"
    }
   ],
   "source": [
    "my_tensor.size()"
   ]
  },
  {
   "cell_type": "code",
   "execution_count": 15,
   "id": "b5cc6006-5923-4a91-be9e-51139cd44739",
   "metadata": {},
   "outputs": [
    {
     "data": {
      "text/plain": [
       "torch.Size([2, 3])"
      ]
     },
     "execution_count": 15,
     "metadata": {},
     "output_type": "execute_result"
    }
   ],
   "source": [
    "my_tensor.shape"
   ]
  },
  {
   "cell_type": "markdown",
   "id": "0c7113ea-b66c-4f92-8352-0ba72fafafe6",
   "metadata": {},
   "source": [
    "## Other functions to create a Tensor"
   ]
  },
  {
   "cell_type": "markdown",
   "id": "ad10739e-960b-4ac8-bf86-1fe1030a40c6",
   "metadata": {},
   "source": [
    "`from_numpy()` turns a numpy ndarray into a PyTorch tensor"
   ]
  },
  {
   "cell_type": "code",
   "execution_count": 16,
   "id": "7be71c28-9a9a-460f-a004-a29f68ca19ba",
   "metadata": {},
   "outputs": [],
   "source": [
    "a = np.array([[1, 2, 3], [4, 5, 6]])"
   ]
  },
  {
   "cell_type": "code",
   "execution_count": 17,
   "id": "a0246afb-dd36-4ba1-a585-f01d4f82c9e0",
   "metadata": {},
   "outputs": [],
   "source": [
    "t = torch.from_numpy(a)"
   ]
  },
  {
   "cell_type": "code",
   "execution_count": 18,
   "id": "76160104-2291-45a0-bc90-a4ed18ab14bf",
   "metadata": {},
   "outputs": [
    {
     "data": {
      "text/plain": [
       "array([[1, 2, 3],\n",
       "       [4, 5, 6]])"
      ]
     },
     "execution_count": 18,
     "metadata": {},
     "output_type": "execute_result"
    }
   ],
   "source": [
    "a"
   ]
  },
  {
   "cell_type": "code",
   "execution_count": 19,
   "id": "7db3d4f5-a740-410c-a606-007b313fcab9",
   "metadata": {},
   "outputs": [
    {
     "data": {
      "text/plain": [
       "tensor([[1, 2, 3],\n",
       "        [4, 5, 6]])"
      ]
     },
     "execution_count": 19,
     "metadata": {},
     "output_type": "execute_result"
    }
   ],
   "source": [
    "t"
   ]
  },
  {
   "cell_type": "markdown",
   "id": "1c3182ac-c33b-40e8-9bae-3fb33c5b5110",
   "metadata": {},
   "source": [
    "`torch.zeros()` returns a Tensor with all zeros, `torch.ones()` returns a Tensor with all ones and `torch.eye()` returns an identity Tensor."
   ]
  },
  {
   "cell_type": "code",
   "execution_count": 20,
   "id": "a4869232-0311-4148-b3e0-69a9259b7de6",
   "metadata": {},
   "outputs": [
    {
     "data": {
      "text/plain": [
       "tensor([[0., 0.],\n",
       "        [0., 0.]])"
      ]
     },
     "execution_count": 20,
     "metadata": {},
     "output_type": "execute_result"
    }
   ],
   "source": [
    "torch.zeros(size=(2, 2))"
   ]
  },
  {
   "cell_type": "code",
   "execution_count": 21,
   "id": "a50b3300-9d79-4ec1-81cb-d349712bca3b",
   "metadata": {},
   "outputs": [
    {
     "data": {
      "text/plain": [
       "tensor([[1., 1.],\n",
       "        [1., 1.]])"
      ]
     },
     "execution_count": 21,
     "metadata": {},
     "output_type": "execute_result"
    }
   ],
   "source": [
    "torch.ones(size=(2, 2))"
   ]
  },
  {
   "cell_type": "code",
   "execution_count": 22,
   "id": "9eba58d1-cad8-44ef-b9f1-56f606e91a02",
   "metadata": {},
   "outputs": [
    {
     "data": {
      "text/plain": [
       "tensor([[1., 0.],\n",
       "        [0., 1.]])"
      ]
     },
     "execution_count": 22,
     "metadata": {},
     "output_type": "execute_result"
    }
   ],
   "source": [
    "torch.eye(n=2)"
   ]
  },
  {
   "cell_type": "markdown",
   "id": "4c650ea6-da89-4d6c-93b4-dac49c1e6df7",
   "metadata": {},
   "source": [
    "We can also create a Tensor that contains a specified range of values using for example `torch.arange()`, `torch.linspace()` or `torch.logspace()`."
   ]
  },
  {
   "cell_type": "markdown",
   "id": "6fb4edd1-3c69-4daa-8cc5-534cbf877712",
   "metadata": {},
   "source": [
    "`torch.arange(start=0, end, step=1)` creates a 1-D Tensor. The \"end\" is non inclusive."
   ]
  },
  {
   "cell_type": "code",
   "execution_count": 23,
   "id": "cf48d86c-0190-405a-8b54-dc228285fd07",
   "metadata": {},
   "outputs": [
    {
     "data": {
      "text/plain": [
       "tensor([1, 2, 3, 4, 5, 6, 7, 8, 9])"
      ]
     },
     "execution_count": 23,
     "metadata": {},
     "output_type": "execute_result"
    }
   ],
   "source": [
    "torch.arange(1, 10)"
   ]
  },
  {
   "cell_type": "markdown",
   "id": "6597ba86-a3c4-4cef-9510-3c70b8dc8b66",
   "metadata": {},
   "source": [
    "`torch.lispace(start, end, steps)` creates a 1-D Tensor that evenly spaces the \"steps\" values between \"start\" and \"end\" values."
   ]
  },
  {
   "cell_type": "code",
   "execution_count": 24,
   "id": "311bd1a6-ebba-4a18-9dee-552cf488d67f",
   "metadata": {},
   "outputs": [
    {
     "data": {
      "text/plain": [
       "tensor([ 1.0000,  1.4737,  1.9474,  2.4211,  2.8947,  3.3684,  3.8421,  4.3158,\n",
       "         4.7895,  5.2632,  5.7368,  6.2105,  6.6842,  7.1579,  7.6316,  8.1053,\n",
       "         8.5789,  9.0526,  9.5263, 10.0000])"
      ]
     },
     "execution_count": 24,
     "metadata": {},
     "output_type": "execute_result"
    }
   ],
   "source": [
    "torch.linspace(1, 10, 20)"
   ]
  },
  {
   "cell_type": "markdown",
   "id": "3ef0c524-a61d-4a87-bd07-ec982a61ca77",
   "metadata": {},
   "source": [
    "`torch.logspace(start, end, steps, base=10.0)` spaces \"steps\" values between \"start\" and \"end\" using log scale with the given base."
   ]
  },
  {
   "cell_type": "code",
   "execution_count": 25,
   "id": "31aecd61-7299-403c-8677-e96ea548dd2c",
   "metadata": {
    "tags": []
   },
   "outputs": [
    {
     "data": {
      "text/plain": [
       "tensor([1.0000e+01, 2.9764e+01, 8.8587e+01, 2.6367e+02, 7.8476e+02, 2.3357e+03,\n",
       "        6.9519e+03, 2.0691e+04, 6.1585e+04, 1.8330e+05, 5.4556e+05, 1.6238e+06,\n",
       "        4.8329e+06, 1.4384e+07, 4.2813e+07, 1.2743e+08, 3.7927e+08, 1.1288e+09,\n",
       "        3.3598e+09, 1.0000e+10])"
      ]
     },
     "execution_count": 25,
     "metadata": {},
     "output_type": "execute_result"
    }
   ],
   "source": [
    "torch.logspace(1, 10, 20, 10)"
   ]
  }
 ],
 "metadata": {
  "kernelspec": {
   "display_name": "Python 3 (ipykernel)",
   "language": "python",
   "name": "python3"
  },
  "language_info": {
   "codemirror_mode": {
    "name": "ipython",
    "version": 3
   },
   "file_extension": ".py",
   "mimetype": "text/x-python",
   "name": "python",
   "nbconvert_exporter": "python",
   "pygments_lexer": "ipython3",
   "version": "3.9.7"
  }
 },
 "nbformat": 4,
 "nbformat_minor": 5
}
