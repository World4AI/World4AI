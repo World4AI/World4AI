{
 "cells": [
  {
   "cell_type": "code",
   "execution_count": 1,
   "id": "78d3da80-80ae-4e0b-aea4-1cd1eba43a71",
   "metadata": {},
   "outputs": [],
   "source": [
    "import torch"
   ]
  },
  {
   "cell_type": "markdown",
   "id": "64becf53-6df4-4bde-8c43-18ce0086b073",
   "metadata": {},
   "source": [
    "# PyTorch Operations"
   ]
  },
  {
   "cell_type": "markdown",
   "id": "6f17ecf3-e852-46dd-a16c-b32ea70f7d2b",
   "metadata": {},
   "source": [
    "In this chapter we will shortly discuss basic operations that you commonly apply to tensors. The `my_tensor` Tensor is going to be used to demonstrate different types of operations."
   ]
  },
  {
   "cell_type": "code",
   "execution_count": 2,
   "id": "8e387023-4403-41f2-84ff-2ca04139d22d",
   "metadata": {},
   "outputs": [],
   "source": [
    "my_tensor = torch.tensor([[1, 2, 3], [4, 5, 6]])"
   ]
  },
  {
   "cell_type": "code",
   "execution_count": 3,
   "id": "0b1e0c6a-9606-4c84-96ec-20390b76749f",
   "metadata": {},
   "outputs": [
    {
     "data": {
      "text/plain": [
       "tensor([[1, 2, 3],\n",
       "        [4, 5, 6]])"
      ]
     },
     "execution_count": 3,
     "metadata": {},
     "output_type": "execute_result"
    }
   ],
   "source": [
    "my_tensor"
   ]
  },
  {
   "cell_type": "markdown",
   "id": "4fe2b0db-c3a6-4fcb-b1f1-f3e78cbee9bf",
   "metadata": {
    "tags": []
   },
   "source": [
    "## Simple Indexing and Slicing"
   ]
  },
  {
   "cell_type": "markdown",
   "id": "d484852e-9479-4a4f-a879-d893c24b99d1",
   "metadata": {
    "tags": []
   },
   "source": [
    "Indexing is the process by which you retrieve subtensors from a tensor."
   ]
  },
  {
   "cell_type": "markdown",
   "id": "d202316e-8e81-491d-8d2c-4958d76c5b0f",
   "metadata": {},
   "source": [
    "To retrieve a single value you can access the value by using the following syntax `Tensor[dim1, dim2, dim3 ...]`. Each number specifies a value along a specific dimension. For example `Tensor[1, 2]` retrieves a value at 1st row and 2nd column (indexing is zero based). You  need to specify a number for each available dimension."
   ]
  },
  {
   "cell_type": "code",
   "execution_count": 4,
   "id": "5ac461dc-6a5f-4b99-9799-aa6beba96b50",
   "metadata": {
    "tags": []
   },
   "outputs": [
    {
     "data": {
      "text/plain": [
       "torch.Size([2, 3])"
      ]
     },
     "execution_count": 4,
     "metadata": {},
     "output_type": "execute_result"
    }
   ],
   "source": [
    "# our tensor is of shape (2, 3), it is a two dimensional tensor: a matrix\n",
    "my_tensor.shape"
   ]
  },
  {
   "cell_type": "code",
   "execution_count": 5,
   "id": "01f9f6a9-9dfe-402e-a7a5-4f1073c73015",
   "metadata": {},
   "outputs": [
    {
     "data": {
      "text/plain": [
       "tensor(3)"
      ]
     },
     "execution_count": 5,
     "metadata": {},
     "output_type": "execute_result"
    }
   ],
   "source": [
    "# The below indexing operation gets the value in the first row and the third column\n",
    "my_tensor[0, 2]"
   ]
  },
  {
   "cell_type": "markdown",
   "id": "4c4f5971-fac9-461e-aeed-d2832ca2531a",
   "metadata": {},
   "source": [
    "We can also apply indexing to retrieve a tensor and not a single value using the slicing operator `:`, `Tensor[start:end, start:end]`. In this operation the start is inclusive and the end is non inclusive. If we do not provide a start, the indexing starts at the first value of the dimension. If we do not provide an end the indexing goes to the very end."
   ]
  },
  {
   "cell_type": "code",
   "execution_count": 6,
   "id": "8c13bc53-4a6a-4077-8b16-70e116363066",
   "metadata": {},
   "outputs": [
    {
     "data": {
      "text/plain": [
       "tensor([2, 3])"
      ]
     },
     "execution_count": 6,
     "metadata": {},
     "output_type": "execute_result"
    }
   ],
   "source": [
    "# get the tensor that includes the first row and the second and third column.\n",
    "my_tensor[0, 1:]"
   ]
  },
  {
   "cell_type": "code",
   "execution_count": 7,
   "id": "ce18e9c1-7290-48a4-bb3c-a8339feb1571",
   "metadata": {},
   "outputs": [
    {
     "data": {
      "text/plain": [
       "tensor([2, 5])"
      ]
     },
     "execution_count": 7,
     "metadata": {},
     "output_type": "execute_result"
    }
   ],
   "source": [
    "# select all rows and the second column\n",
    "my_tensor[:, 1]"
   ]
  },
  {
   "cell_type": "markdown",
   "id": "803a3b71-0e38-4602-96f4-0e6c2bf7ef34",
   "metadata": {},
   "source": [
    "If we have a highly dimensional tensor, we can utilize the Ellipsis operator `...` as a slicing operator. For example `Tensor[..., index1, index2]` would select all values in the dimensions before the last two dimensions. If we had a four dimensional tuple this would correspond to `Tensor[:, :, index1, index2]`."
   ]
  },
  {
   "cell_type": "code",
   "execution_count": 8,
   "id": "526dd722-f1d2-4f23-acad-d18b1a53042d",
   "metadata": {},
   "outputs": [
    {
     "data": {
      "text/plain": [
       "tensor([2, 5])"
      ]
     },
     "execution_count": 8,
     "metadata": {},
     "output_type": "execute_result"
    }
   ],
   "source": [
    "# the below operation selects all rows and the 2nd column.\n",
    "my_tensor[..., 1]"
   ]
  },
  {
   "cell_type": "markdown",
   "id": "911c1a6f-781b-4133-8426-81965347af65",
   "metadata": {},
   "source": [
    "## Indexing by gathering"
   ]
  },
  {
   "cell_type": "markdown",
   "id": "5b660b6e-bba2-4249-b97c-555820644ed2",
   "metadata": {},
   "source": [
    "We can also use the `gather(dim, index)` method to select value from a Tensor by providingg an index Tensor."
   ]
  },
  {
   "cell_type": "code",
   "execution_count": 27,
   "id": "8972976f-6262-4698-8b86-41bfdb387ff8",
   "metadata": {},
   "outputs": [
    {
     "data": {
      "text/plain": [
       "tensor([[22,  2,  3],\n",
       "        [ 4,  5,  6]])"
      ]
     },
     "execution_count": 27,
     "metadata": {},
     "output_type": "execute_result"
    }
   ],
   "source": [
    "my_tensor"
   ]
  },
  {
   "cell_type": "code",
   "execution_count": 28,
   "id": "4bce87d9-4a0c-4ccb-ad25-dd0c3060677d",
   "metadata": {},
   "outputs": [
    {
     "data": {
      "text/plain": [
       "tensor([[22,  5,  3]])"
      ]
     },
     "execution_count": 28,
     "metadata": {},
     "output_type": "execute_result"
    }
   ],
   "source": [
    "indices = torch.tensor([[0, 1, 0]])\n",
    "my_tensor.gather(dim=0, index=indices)"
   ]
  },
  {
   "cell_type": "markdown",
   "id": "65968b00-c2b7-4819-b803-51266646b9e1",
   "metadata": {},
   "source": [
    "## Mutating the Tensor"
   ]
  },
  {
   "cell_type": "markdown",
   "id": "2894dafa-b13f-40a3-b57d-507557fa9b23",
   "metadata": {},
   "source": [
    "We can use the assignment operator `=` to change the individual values of the Tensor."
   ]
  },
  {
   "cell_type": "code",
   "execution_count": 9,
   "id": "4705ef22-98c3-449e-b42d-d7576b29ec76",
   "metadata": {},
   "outputs": [
    {
     "data": {
      "text/plain": [
       "tensor([[1, 2, 3],\n",
       "        [4, 5, 6]])"
      ]
     },
     "execution_count": 9,
     "metadata": {},
     "output_type": "execute_result"
    }
   ],
   "source": [
    "my_tensor"
   ]
  },
  {
   "cell_type": "code",
   "execution_count": 10,
   "id": "cba9721a-ffd4-4dd6-a04d-3ad735ba3a2b",
   "metadata": {},
   "outputs": [],
   "source": [
    "my_tensor[0, 0] = 22"
   ]
  },
  {
   "cell_type": "code",
   "execution_count": 11,
   "id": "d827d100-84f9-4796-a1ee-c539126cd108",
   "metadata": {},
   "outputs": [
    {
     "data": {
      "text/plain": [
       "tensor([[22,  2,  3],\n",
       "        [ 4,  5,  6]])"
      ]
     },
     "execution_count": 11,
     "metadata": {},
     "output_type": "execute_result"
    }
   ],
   "source": [
    "my_tensor"
   ]
  },
  {
   "cell_type": "markdown",
   "id": "f6a82be9-39fa-4ce9-8d3d-9b5bcdeedc6a",
   "metadata": {},
   "source": [
    "## Changing the shape of the Tensor"
   ]
  },
  {
   "cell_type": "code",
   "execution_count": 12,
   "id": "7a410f95-6a4b-44e6-b582-05a10533142d",
   "metadata": {},
   "outputs": [
    {
     "data": {
      "text/plain": [
       "tensor([[22,  2,  3],\n",
       "        [ 4,  5,  6]])"
      ]
     },
     "execution_count": 12,
     "metadata": {},
     "output_type": "execute_result"
    }
   ],
   "source": [
    "my_tensor"
   ]
  },
  {
   "cell_type": "code",
   "execution_count": 13,
   "id": "75184b2a-6c66-4415-a26a-52486162c62b",
   "metadata": {},
   "outputs": [
    {
     "data": {
      "text/plain": [
       "torch.Size([2, 3])"
      ]
     },
     "execution_count": 13,
     "metadata": {},
     "output_type": "execute_result"
    }
   ],
   "source": [
    "my_tensor.shape"
   ]
  },
  {
   "cell_type": "markdown",
   "id": "b4de793e-3d94-48a3-90d9-4d5458135db4",
   "metadata": {},
   "source": [
    "We can use the `Tensor.view()` method to change the dimensions of the Tensor."
   ]
  },
  {
   "cell_type": "code",
   "execution_count": 14,
   "id": "27b695a9-ba95-4ba7-8c1d-fe8eb52a2638",
   "metadata": {},
   "outputs": [
    {
     "data": {
      "text/plain": [
       "tensor([[22,  2,  3,  4,  5,  6]])"
      ]
     },
     "execution_count": 14,
     "metadata": {},
     "output_type": "execute_result"
    }
   ],
   "source": [
    "# we turn the Tensor from (2,3) to (1, 6)\n",
    "my_tensor.view(1, 6)"
   ]
  },
  {
   "cell_type": "markdown",
   "id": "cea20526-9bec-4a35-9a14-e27f67a179f0",
   "metadata": {},
   "source": [
    "The changing of dimensions needs to make sense. For example there is no way to make a (2,3) shaped vector into a (7, 23) shaped vector. If we tried, we would raise an exception."
   ]
  },
  {
   "cell_type": "code",
   "execution_count": 15,
   "id": "e9aed7be-5711-4ba0-946c-fde04deaefed",
   "metadata": {},
   "outputs": [],
   "source": [
    "# uncomment the code below to raise an error\n",
    "# my_tensor.view(7, 23)"
   ]
  },
  {
   "cell_type": "markdown",
   "id": "08201c74-68ae-416b-a158-b071409dee7a",
   "metadata": {},
   "source": [
    "## Adding and Removing Dimensions"
   ]
  },
  {
   "cell_type": "markdown",
   "id": "ff829e09-dcef-42ea-bbaf-313a28f68090",
   "metadata": {},
   "source": [
    "The `squeeze()` and the `unsqueeze()` operations allow us to add and remove dimensions of size 1. If we have a Tensor with the shape `(1, 2, 3, 1)` the `squeeze()` operation will remove the dimensions of size 1 and return a tensor of shape `(2, 3)`. We can also specify the dimension, so that `Tensor.squeeze(dim=0)` will only remove the first dimension. The `unsqueeze(dim=...)` operation does the exact opposite. The operation add an extra dimension of size 1 at a location specified by the parameter `dim`, for example `dim=1`."
   ]
  },
  {
   "cell_type": "code",
   "execution_count": 16,
   "id": "222a89f0-4dcd-4ae8-aee2-44ed9f51987a",
   "metadata": {},
   "outputs": [
    {
     "data": {
      "text/plain": [
       "torch.Size([2, 3])"
      ]
     },
     "execution_count": 16,
     "metadata": {},
     "output_type": "execute_result"
    }
   ],
   "source": [
    "my_tensor.size()"
   ]
  },
  {
   "cell_type": "code",
   "execution_count": 17,
   "id": "c85ab4c1-5315-4f36-9791-7595863289a8",
   "metadata": {},
   "outputs": [],
   "source": [
    "new_tensor = my_tensor.unsqueeze(dim=0)"
   ]
  },
  {
   "cell_type": "code",
   "execution_count": 18,
   "id": "02340b5a-a669-46ad-9b42-98bbffe91957",
   "metadata": {},
   "outputs": [
    {
     "data": {
      "text/plain": [
       "tensor([[[22,  2,  3],\n",
       "         [ 4,  5,  6]]])"
      ]
     },
     "execution_count": 18,
     "metadata": {},
     "output_type": "execute_result"
    }
   ],
   "source": [
    "new_tensor"
   ]
  },
  {
   "cell_type": "code",
   "execution_count": 19,
   "id": "1e2a30d0-c933-4e2f-ad4b-3f01832adfd4",
   "metadata": {},
   "outputs": [
    {
     "data": {
      "text/plain": [
       "torch.Size([1, 2, 3])"
      ]
     },
     "execution_count": 19,
     "metadata": {},
     "output_type": "execute_result"
    }
   ],
   "source": [
    "new_tensor.size()"
   ]
  },
  {
   "cell_type": "code",
   "execution_count": 20,
   "id": "ab70a784-ad54-4feb-bdd6-9f8823b79aa0",
   "metadata": {},
   "outputs": [],
   "source": [
    "newest_tensor = new_tensor.squeeze()"
   ]
  },
  {
   "cell_type": "code",
   "execution_count": 21,
   "id": "570e82ef-f8a7-4ae0-a4a1-5d72cfa645b5",
   "metadata": {},
   "outputs": [
    {
     "data": {
      "text/plain": [
       "torch.Size([2, 3])"
      ]
     },
     "execution_count": 21,
     "metadata": {},
     "output_type": "execute_result"
    }
   ],
   "source": [
    "newest_tensor.size()"
   ]
  }
 ],
 "metadata": {
  "kernelspec": {
   "display_name": "Python 3 (ipykernel)",
   "language": "python",
   "name": "python3"
  },
  "language_info": {
   "codemirror_mode": {
    "name": "ipython",
    "version": 3
   },
   "file_extension": ".py",
   "mimetype": "text/x-python",
   "name": "python",
   "nbconvert_exporter": "python",
   "pygments_lexer": "ipython3",
   "version": "3.9.7"
  }
 },
 "nbformat": 4,
 "nbformat_minor": 5
}
