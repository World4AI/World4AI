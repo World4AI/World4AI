{
 "cells": [
  {
   "cell_type": "markdown",
   "id": "2a879bdd-54a7-4d23-9668-a461b20a61a7",
   "metadata": {},
   "source": [
    "# PixelCNN"
   ]
  },
  {
   "cell_type": "code",
   "execution_count": 1,
   "id": "43b62d1b-ed3a-4d49-9724-ab1b2c906b3e",
   "metadata": {},
   "outputs": [],
   "source": [
    "import matplotlib.pyplot as plt\n",
    "\n",
    "import torch\n",
    "from torch import nn, optim\n",
    "from torch.utils.data import DataLoader\n",
    "\n",
    "import torchvision\n",
    "import torchvision.transforms as T"
   ]
  },
  {
   "cell_type": "code",
   "execution_count": 2,
   "id": "e03975ce-4cf8-4d01-8109-012515fef359",
   "metadata": {},
   "outputs": [],
   "source": [
    "# parameters from the paper\n",
    "batch_size = 16\n",
    "num_layers = 7\n",
    "num_channels = 32\n",
    "\n",
    "# other parameters\n",
    "device = torch.device('cuda' if torch.cuda.is_available() else 'cpu')\n",
    "lr = 0.001\n",
    "num_epochs = 10"
   ]
  },
  {
   "cell_type": "markdown",
   "id": "7abc7415-6a9e-4aa4-b449-609ac07ead83",
   "metadata": {},
   "source": [
    "The architecture is designed for MNIST only and for static inputs."
   ]
  },
  {
   "cell_type": "code",
   "execution_count": 3,
   "id": "1236a856-b083-4515-ad3f-c06827ceeaa0",
   "metadata": {},
   "outputs": [],
   "source": [
    "# architecture\n",
    "# 1. 7 x 7 with conv mask A\n",
    "# 2. stack 3 x 3 with conv mask B\n",
    "# 3. ReLU + 1x1 conv layer with mask B (2 layers)\n",
    "# 4. 256 Ways softmax"
   ]
  },
  {
   "cell_type": "code",
   "execution_count": 4,
   "id": "9648172b-1e26-4f75-9f82-3b980cf94485",
   "metadata": {},
   "outputs": [],
   "source": [
    "# Type A or B masked Conv2d \n",
    "class MaskedConv2d(nn.Module):\n",
    "    def __init__(self, in_channels, out_channels, kernel_size, mask='A'): \n",
    "        super().__init__()\n",
    "        # calculate the padding automatically \n",
    "        # so that input width+height dims = output dims\n",
    "        padding = int((kernel_size - 1) / 2)\n",
    "        \n",
    "        self.conv = nn.Conv2d(in_channels=in_channels,\n",
    "                             out_channels=out_channels,\n",
    "                             kernel_size=kernel_size,\n",
    "                             padding=padding)\n",
    "        \n",
    "        # calculate masks A or B as in the original paper\n",
    "        mask_idxs = torch.arange(0, kernel_size**2).view(kernel_size, kernel_size)\n",
    "        if mask == 'A':\n",
    "            mask = (mask_idxs < padding * kernel_size + padding).float().to(device)\n",
    "        elif mask == 'B':\n",
    "            mask = (mask_idxs <= padding * kernel_size + padding).float().to(device)\n",
    "        self.register_buffer('mask', mask)\n",
    "            \n",
    "    def forward(self, x):\n",
    "        # apply mask, see below link for more info\n",
    "        # https://discuss.pytorch.org/t/applying-custom-mask-on-kernel-for-cnn/87099\n",
    "        \n",
    "        with torch.no_grad():\n",
    "            self.conv.weight = nn.Parameter(self.conv.weight * self.mask)\n",
    "        return self.conv(x)"
   ]
  },
  {
   "cell_type": "code",
   "execution_count": 5,
   "id": "2108fbbd-5d09-46ea-93bf-af54285f02a8",
   "metadata": {},
   "outputs": [
    {
     "data": {
      "text/plain": [
       "torch.Size([1, 32, 28, 28])"
      ]
     },
     "execution_count": 5,
     "metadata": {},
     "output_type": "execute_result"
    }
   ],
   "source": [
    "test2dLayer = MaskedConv2d(in_channels=1, out_channels=num_channels, kernel_size=7).to(device)\n",
    "testdata = torch.randn(1, 1, 28, 28, device=device)\n",
    "test2dLayer(testdata).shape"
   ]
  },
  {
   "cell_type": "code",
   "execution_count": 6,
   "id": "19b38fe1-bbcc-47ea-8c8c-d6fdc2338a1e",
   "metadata": {},
   "outputs": [],
   "source": [
    "class PixelCNN(nn.Module):\n",
    "    \n",
    "    def __init__(self):\n",
    "        super().__init__()\n",
    "        self.layers = nn.Sequential(\n",
    "                MaskedConv2d(in_channels=1, out_channels=num_channels, kernel_size=7, mask='A'), \n",
    "                nn.ReLU(),\n",
    "                MaskedConv2d(in_channels=num_channels, out_channels=num_channels, kernel_size=3, mask='B'), \n",
    "                nn.ReLU(),\n",
    "                MaskedConv2d(in_channels=num_channels, out_channels=num_channels, kernel_size=3, mask='B'), \n",
    "                nn.ReLU(),\n",
    "                nn.Conv2d(num_channels, num_channels*2, kernel_size=1),\n",
    "                nn.ReLU(),\n",
    "                nn.Conv2d(num_channels*2, 1, kernel_size=1)\n",
    "        )\n",
    "    \n",
    "    def forward(self, x):\n",
    "        return self.layers(x)"
   ]
  },
  {
   "cell_type": "code",
   "execution_count": 7,
   "id": "e56925f7-b69a-48fa-9e12-714ab7fe3695",
   "metadata": {},
   "outputs": [
    {
     "data": {
      "text/plain": [
       "torch.Size([16, 1, 28, 28])"
      ]
     },
     "execution_count": 7,
     "metadata": {},
     "output_type": "execute_result"
    }
   ],
   "source": [
    "test_images = torch.randn(batch_size, 1, 28, 28, device=device)\n",
    "model = PixelCNN().to(device)\n",
    "model(test_images).shape"
   ]
  },
  {
   "cell_type": "code",
   "execution_count": 8,
   "id": "7a0fb017-7685-488f-96a6-ac4dd361f4ee",
   "metadata": {},
   "outputs": [],
   "source": [
    "train_dataset = torchvision.datasets.MNIST(root='../datasets/', \n",
    "                                           train=True, \n",
    "                                           transform=T.ToTensor(), \n",
    "                                           download=True)\n",
    "\n",
    "test_dataset = torchvision.datasets.MNIST(root='../datasets/', \n",
    "                                           train=False, \n",
    "                                           transform=T.ToTensor(), \n",
    "                                           download=False)"
   ]
  },
  {
   "cell_type": "code",
   "execution_count": 9,
   "id": "265ab1e6-f142-4eb4-a43b-d5c293cc272f",
   "metadata": {},
   "outputs": [],
   "source": [
    "train_dataloader = DataLoader(dataset=train_dataset, batch_size=batch_size, shuffle=True, drop_last=True, num_workers=2)\n",
    "test_dataloader = DataLoader(dataset=test_dataset, batch_size=batch_size, shuffle=False, drop_last=False, num_workers=2)"
   ]
  },
  {
   "cell_type": "code",
   "execution_count": 10,
   "id": "d28992ff-e41f-4478-aeec-d2072adac04c",
   "metadata": {},
   "outputs": [],
   "source": [
    "model = PixelCNN().to(device)\n",
    "# mse would most likely also work\n",
    "criterion = nn.BCEWithLogitsLoss()\n",
    "optimizer = optim.Adam(model.parameters())"
   ]
  },
  {
   "cell_type": "code",
   "execution_count": 11,
   "id": "9b2545fb-47fe-497f-979a-c2b99b4633f5",
   "metadata": {},
   "outputs": [],
   "source": [
    "def train():\n",
    "    for epoch in range(1, num_epochs+1):\n",
    "        train_loss = []\n",
    "        for features, _ in train_dataloader:\n",
    "            features = features.to(device)\n",
    "            logits = model(features)\n",
    "            loss = criterion(logits, features)\n",
    "            \n",
    "            optimizer.zero_grad()\n",
    "            loss.backward()\n",
    "            optimizer.step()\n",
    "            \n",
    "            train_loss.append(loss.cpu().item())\n",
    "        \n",
    "        print(f'Epoch: {epoch}/{num_epochs}, Loss: {sum(train_loss)/len(train_loss)}')"
   ]
  },
  {
   "cell_type": "code",
   "execution_count": 12,
   "id": "907049b4-a617-44d8-b662-33c59924c8a7",
   "metadata": {},
   "outputs": [
    {
     "name": "stdout",
     "output_type": "stream",
     "text": [
      "Epoch: 1/10, Loss: 0.2159466097275416\n",
      "Epoch: 2/10, Loss: 0.15636947104732196\n",
      "Epoch: 3/10, Loss: 0.1425755455116431\n",
      "Epoch: 4/10, Loss: 0.13435178312460583\n",
      "Epoch: 5/10, Loss: 0.13021393516461055\n",
      "Epoch: 6/10, Loss: 0.12761547727584838\n",
      "Epoch: 7/10, Loss: 0.12626338642636936\n",
      "Epoch: 8/10, Loss: 0.12538899948398272\n",
      "Epoch: 9/10, Loss: 0.12458948510885239\n",
      "Epoch: 10/10, Loss: 0.12399486711819967\n"
     ]
    }
   ],
   "source": [
    "train()"
   ]
  },
  {
   "cell_type": "code",
   "execution_count": 13,
   "id": "bf3ba7ec-c6f8-4151-aa82-f1ed60d76ec3",
   "metadata": {},
   "outputs": [
    {
     "data": {
      "image/png": "[encoded data removed]",
      "text/plain": [
       "<Figure size 640x480 with 2 Axes>"
      ]
     },
     "metadata": {},
     "output_type": "display_data"
    },
    {
     "data": {
      "image/png": "[encoded data removed]",
      "text/plain": [
       "<Figure size 640x480 with 2 Axes>"
      ]
     },
     "metadata": {},
     "output_type": "display_data"
    },
    {
     "data": {
      "image/png": "[encoded data removed]",
      "text/plain": [
       "<Figure size 640x480 with 2 Axes>"
      ]
     },
     "metadata": {},
     "output_type": "display_data"
    },
    {
     "data": {
      "image/png": "[encoded data removed]",
      "text/plain": [
       "<Figure size 640x480 with 2 Axes>"
      ]
     },
     "metadata": {},
     "output_type": "display_data"
    },
    {
     "data": {
      "image/png": "[encoded data removed]",
      "text/plain": [
       "<Figure size 640x480 with 2 Axes>"
      ]
     },
     "metadata": {},
     "output_type": "display_data"
    }
   ],
   "source": [
    "# test the reconstruction by comparing original images with the reconstructed images\n",
    "with torch.inference_mode():\n",
    "    for idx in range(5):\n",
    "        image, _ = test_dataset[idx]\n",
    "        image = image.unsqueeze(0)\n",
    "        generated_image = model(image.to(device))\n",
    "        generated_image = torch.sigmoid(generated_image)\n",
    "        generated_image = generated_image.squeeze()\n",
    "\n",
    "        plt.subplot(1, 2, 1)\n",
    "        plt.imshow(image.squeeze(), cmap=\"gray\")\n",
    "        plt.title(\"Original\")\n",
    "        plt.axis(\"off\")\n",
    "\n",
    "        plt.subplot(1, 2, 2)\n",
    "        plt.imshow(generated_image.cpu(), cmap=\"gray\")\n",
    "        plt.title(\"Reconstructed\")\n",
    "        plt.axis(\"off\")\n",
    "        plt.show()"
   ]
  },
  {
   "cell_type": "code",
   "execution_count": 14,
   "id": "9d2f4bbd-25c5-4687-85ad-df98940ec041",
   "metadata": {},
   "outputs": [
    {
     "data": {
      "text/plain": [
       "<matplotlib.image.AxesImage at 0x7fdb407131c0>"
      ]
     },
     "execution_count": 14,
     "metadata": {},
     "output_type": "execute_result"
    },
    {
     "data": {
      "image/png": "[encoded data removed]",
      "text/plain": [
       "<Figure size 640x480 with 1 Axes>"
      ]
     },
     "metadata": {},
     "output_type": "display_data"
    }
   ],
   "source": [
    "image, _ = test_dataset[0]\n",
    "image = image.squeeze()\n",
    "for row_idx, row in enumerate(image):\n",
    "    for col_idx, _ in enumerate(image):\n",
    "        if row_idx >= 14:\n",
    "            image[row_idx][col_idx] = 0\n",
    "plt.imshow(image.squeeze())"
   ]
  },
  {
   "cell_type": "code",
   "execution_count": 18,
   "id": "2fba9a90-be3c-4e63-aee0-9d829b3eef1b",
   "metadata": {
    "tags": []
   },
   "outputs": [
    {
     "data": {
      "image/png": "[encoded data removed]",
      "text/plain": [
       "<Figure size 640x480 with 1 Axes>"
      ]
     },
     "metadata": {},
     "output_type": "display_data"
    }
   ],
   "source": [
    "image, _ = test_dataset[0]\n",
    "image = image.squeeze()\n",
    "for row_idx, row in enumerate(image):\n",
    "    for col_idx, _ in enumerate(image):\n",
    "        if row_idx >= 14:\n",
    "            image[row_idx][col_idx] = 0\n",
    "\n",
    "image = image.unsqueeze(0).unsqueeze(0).to(device) \n",
    "with torch.inference_mode():\n",
    "    for row_idx in range(28):\n",
    "        for col_idx in range(28):\n",
    "            generated_image = model(image)\n",
    "            generated_image = torch.sigmoid(generated_image)\n",
    "            generated_image = generated_image.squeeze()\n",
    "            if row_idx >=14:\n",
    "                image[0][0][row_idx][col_idx] = generated_image[row_idx][col_idx]\n",
    "            \n",
    "plt.imshow(image.cpu().squeeze(), cmap=\"gray\")\n",
    "plt.title(\"Reconstructed\")\n",
    "plt.axis(\"off\")\n",
    "plt.show()\n"
   ]
  }
 ],
 "metadata": {
  "kernelspec": {
   "display_name": "Python 3 (ipykernel)",
   "language": "python",
   "name": "python3"
  },
  "language_info": {
   "codemirror_mode": {
    "name": "ipython",
    "version": 3
   },
   "file_extension": ".py",
   "mimetype": "text/x-python",
   "name": "python",
   "nbconvert_exporter": "python",
   "pygments_lexer": "ipython3",
   "version": "3.10.5"
  }
 },
 "nbformat": 4,
 "nbformat_minor": 5
}
