{
 "cells": [
  {
   "cell_type": "markdown",
   "id": "2a879bdd-54a7-4d23-9668-a461b20a61a7",
   "metadata": {},
   "source": [
    "# PixelRNN"
   ]
  },
  {
   "cell_type": "markdown",
   "id": "d9f160d8-3791-4da2-a1bb-7f5a6d395d48",
   "metadata": {},
   "source": [
    "Partially inspired by https://github.com/heechan95/PixelRNN-pytorch/blob/master/PixelRNN%20pytorch.ipynb"
   ]
  },
  {
   "cell_type": "code",
   "execution_count": 1,
   "id": "43b62d1b-ed3a-4d49-9724-ab1b2c906b3e",
   "metadata": {},
   "outputs": [],
   "source": [
    "import matplotlib.pyplot as plt\n",
    "\n",
    "import torch\n",
    "from torch import nn, optim\n",
    "from torch.utils.data import DataLoader\n",
    "\n",
    "import torchvision\n",
    "import torchvision.transforms as T"
   ]
  },
  {
   "cell_type": "code",
   "execution_count": 2,
   "id": "e03975ce-4cf8-4d01-8109-012515fef359",
   "metadata": {},
   "outputs": [],
   "source": [
    "# parameters from the paper\n",
    "batch_size = 16\n",
    "num_layers = 7\n",
    "hidden_dim = 16\n",
    "\n",
    "# other parameters\n",
    "device = torch.device('cuda' if torch.cuda.is_available() else 'cpu')\n",
    "lr = 0.001\n",
    "num_epochs = 10"
   ]
  },
  {
   "cell_type": "markdown",
   "id": "7abc7415-6a9e-4aa4-b449-609ac07ead83",
   "metadata": {},
   "source": [
    "The architecture is designed for MNIST only and for static inputs."
   ]
  },
  {
   "cell_type": "code",
   "execution_count": 3,
   "id": "1236a856-b083-4515-ad3f-c06827ceeaa0",
   "metadata": {},
   "outputs": [],
   "source": [
    "# architecture\n",
    "# 1. 7 x 7 with conv mask A\n",
    "# 2. Row LSTM with residual blocks\n",
    "#    a. i-s: 3x1 mask with conv mask B\n",
    "#    b. s-s: 3x1 no mask\n",
    "# 3. ReLU + 1x1 conv layer with mask B (2 layers)\n",
    "# 4. 256 Ways softmax"
   ]
  },
  {
   "cell_type": "code",
   "execution_count": 4,
   "id": "9648172b-1e26-4f75-9f82-3b980cf94485",
   "metadata": {},
   "outputs": [],
   "source": [
    "# Type A masked Conv2d \n",
    "class MaskedConv2d(nn.Module):\n",
    "    def __init__(self, in_channels=1, \n",
    "                 out_channels=hidden_dim,\n",
    "                 kernel_size=7,\n",
    "                 padding=3):\n",
    "        super().__init__()\n",
    "        self.conv = nn.Conv2d(in_channels=in_channels,\n",
    "                             out_channels=out_channels,\n",
    "                             kernel_size=kernel_size,\n",
    "                             padding=padding)\n",
    "        \n",
    "        mask_idxs = torch.arange(0, kernel_size**2).view(kernel_size, kernel_size)\n",
    "        mask = (mask_idxs < padding * kernel_size + padding).float().to(device)\n",
    "        self.register_buffer('mask', mask)\n",
    "    \n",
    "    def forward(self, x):\n",
    "        # apply mask, see below link for more info\n",
    "        # https://discuss.pytorch.org/t/applying-custom-mask-on-kernel-for-cnn/87099\n",
    "        \n",
    "        with torch.no_grad():\n",
    "            self.conv.weight = nn.Parameter(self.conv.weight * self.mask)\n",
    "        return self.conv(x)"
   ]
  },
  {
   "cell_type": "code",
   "execution_count": 5,
   "id": "2108fbbd-5d09-46ea-93bf-af54285f02a8",
   "metadata": {},
   "outputs": [
    {
     "data": {
      "text/plain": [
       "torch.Size([1, 16, 28, 28])"
      ]
     },
     "execution_count": 5,
     "metadata": {},
     "output_type": "execute_result"
    }
   ],
   "source": [
    "test2dLayer = MaskedConv2d().to(device)\n",
    "testdata = torch.randn(1, 1, 28, 28, device=device)\n",
    "test2dLayer(testdata).shape"
   ]
  },
  {
   "cell_type": "code",
   "execution_count": 6,
   "id": "cbeb2c72-1af2-488d-ba57-7fa160d2d54e",
   "metadata": {},
   "outputs": [],
   "source": [
    "# Type B masked Conv1d\n",
    "class MaskedConv1d(nn.Module):\n",
    "    def __init__(self, \n",
    "                 in_channels=hidden_dim,\n",
    "                 out_channels=hidden_dim,\n",
    "                 kernel_size=3,\n",
    "                 padding=1):\n",
    "        super().__init__()\n",
    "        self.conv = nn.Conv1d(in_channels=in_channels,\n",
    "                              out_channels=out_channels,\n",
    "                              kernel_size=kernel_size,\n",
    "                              padding=padding)\n",
    "        \n",
    "        mask = torch.ones(kernel_size, device=device, dtype=torch.float32)\n",
    "        mask[2] = 0\n",
    "        self.register_buffer('mask', mask)\n",
    "        \n",
    "    def forward(self, x):\n",
    "        with torch.no_grad():\n",
    "            self.conv.weight = nn.Parameter(self.conv.weight * self.mask)\n",
    "        return self.conv(x)"
   ]
  },
  {
   "cell_type": "code",
   "execution_count": 7,
   "id": "bb5445b7-aaa5-4714-bc5f-5dd7ff3f3752",
   "metadata": {},
   "outputs": [
    {
     "data": {
      "text/plain": [
       "torch.Size([1, 16, 28])"
      ]
     },
     "execution_count": 7,
     "metadata": {},
     "output_type": "execute_result"
    }
   ],
   "source": [
    "test1dLayer = MaskedConv1d().to(device)\n",
    "# 16 -> hidden size (number of feature maps), 28 -> width\n",
    "# the layer processes one row at a time\n",
    "testdata = torch.randn(1, 16, 28, device=device)\n",
    "test1dLayer(testdata).shape"
   ]
  },
  {
   "cell_type": "markdown",
   "id": "28e268b8-97cf-495d-91ef-d14a724c00a9",
   "metadata": {},
   "source": [
    "The LSTM cell receives one cell at a time."
   ]
  },
  {
   "cell_type": "code",
   "execution_count": 8,
   "id": "c34f46be-f3f6-4265-8cda-fe35e01e8b86",
   "metadata": {},
   "outputs": [],
   "source": [
    "class RowLSTMCell(nn.Module):\n",
    "    \n",
    "    def __init__(self):\n",
    "        super().__init__()\n",
    "        \n",
    "        self.conv_i_s = MaskedConv1d(in_channels=hidden_dim, \n",
    "                                out_channels=4 * hidden_dim,\n",
    "                                kernel_size=3,\n",
    "                                padding=1)\n",
    "        \n",
    "        self.conv_s_s = nn.Conv1d(in_channels=hidden_dim, \n",
    "                                  out_channels=4 * hidden_dim,\n",
    "                                  kernel_size=3,\n",
    "                                  padding=1)\n",
    "\n",
    "    def forward(self, x, h_prev, c_prev):\n",
    "        i_s = self.conv_i_s(x)\n",
    "        s_s = self.conv_s_s(h_prev)\n",
    "        \n",
    "        o, f, i, g = torch.split(i_s + s_s, hidden_dim, 1)\n",
    "        o = torch.sigmoid(o)\n",
    "        f = torch.sigmoid(f)\n",
    "        i = torch.sigmoid(i)\n",
    "        g = torch.tanh(g)\n",
    "        \n",
    "        c = f * c_prev + i * g\n",
    "        h = o * torch.tanh(c)\n",
    "        return h, c"
   ]
  },
  {
   "cell_type": "code",
   "execution_count": 9,
   "id": "67edfe46-52c3-42c8-805e-a1b234022041",
   "metadata": {},
   "outputs": [
    {
     "name": "stdout",
     "output_type": "stream",
     "text": [
      "torch.Size([1, 16, 28]) torch.Size([1, 16, 28])\n"
     ]
    }
   ],
   "source": [
    "# test Cell\n",
    "row = torch.randn(1, 16, 28, device=device)\n",
    "prev_h = torch.randn(1, 16, 28, device=device)\n",
    "prev_c = torch.randn(1, 16, 28, device=device)\n",
    "\n",
    "cell = RowLSTMCell().to(device)\n",
    "h, c = cell(row, prev_h, prev_c)\n",
    "print(h.shape, c.shape)"
   ]
  },
  {
   "cell_type": "code",
   "execution_count": 10,
   "id": "a96c9b74-01f2-4909-88e7-6ad149dbf7bf",
   "metadata": {},
   "outputs": [],
   "source": [
    "class RowLSTM(nn.Module):\n",
    "    def __init__(self):\n",
    "        super().__init__()\n",
    "        self.cell = RowLSTMCell()\n",
    "\n",
    "    \n",
    "    def forward(self, x):\n",
    "        _, _, num_rows, _ = x.shape\n",
    "        h_prev = torch.zeros(x.shape[0], hidden_dim, 28, device=device)\n",
    "        c_prev = torch.zeros(x.shape[0], hidden_dim, 28, device=device)\n",
    "\n",
    "        rows = []\n",
    "        for row_idx in range(num_rows):\n",
    "            image_row = x[:, :, row_idx, :]\n",
    "            h_prev, c_prev = self.cell(image_row, h_prev, c_prev)\n",
    "            rows.append(h_prev.unsqueeze(dim=2))\n",
    "        return torch.cat(rows, dim=2)"
   ]
  },
  {
   "cell_type": "code",
   "execution_count": 11,
   "id": "036463fb-eae5-406a-8793-d302a6027c96",
   "metadata": {},
   "outputs": [
    {
     "data": {
      "text/plain": [
       "torch.Size([16, 16, 28, 28])"
      ]
     },
     "execution_count": 11,
     "metadata": {},
     "output_type": "execute_result"
    }
   ],
   "source": [
    "# test row lstm\n",
    "image = torch.randn(batch_size, 16, 28, 28, device=device)\n",
    "row_lstm = RowLSTM().to(device)\n",
    "row_lstm(image).shape"
   ]
  },
  {
   "cell_type": "code",
   "execution_count": 12,
   "id": "19b38fe1-bbcc-47ea-8c8c-d6fdc2338a1e",
   "metadata": {},
   "outputs": [],
   "source": [
    "class PixelRNN(nn.Module):\n",
    "    \n",
    "    def __init__(self):\n",
    "        super().__init__()\n",
    "        self.layers = nn.Sequential(\n",
    "                MaskedConv2d(), \n",
    "                RowLSTM(),\n",
    "                nn.ReLU(),\n",
    "                nn.Conv2d(hidden_dim, hidden_dim*2, kernel_size=1),\n",
    "                nn.ReLU(),\n",
    "                nn.Conv2d(hidden_dim*2, 1, kernel_size=1)\n",
    "        )\n",
    "    \n",
    "    def forward(self, x):\n",
    "        return self.layers(x)"
   ]
  },
  {
   "cell_type": "code",
   "execution_count": 13,
   "id": "e56925f7-b69a-48fa-9e12-714ab7fe3695",
   "metadata": {},
   "outputs": [
    {
     "data": {
      "text/plain": [
       "torch.Size([16, 1, 28, 28])"
      ]
     },
     "execution_count": 13,
     "metadata": {},
     "output_type": "execute_result"
    }
   ],
   "source": [
    "test_images = torch.randn(batch_size, 1, 28, 28, device=device)\n",
    "model = PixelRNN().to(device)\n",
    "model(test_images).shape"
   ]
  },
  {
   "cell_type": "code",
   "execution_count": 14,
   "id": "7a0fb017-7685-488f-96a6-ac4dd361f4ee",
   "metadata": {},
   "outputs": [],
   "source": [
    "train_dataset = torchvision.datasets.MNIST(root='../datasets/', \n",
    "                                           train=True, \n",
    "                                           transform=T.ToTensor(), \n",
    "                                           download=True)\n",
    "\n",
    "test_dataset = torchvision.datasets.MNIST(root='../datasets/', \n",
    "                                           train=False, \n",
    "                                           transform=T.ToTensor(), \n",
    "                                           download=False)"
   ]
  },
  {
   "cell_type": "code",
   "execution_count": 15,
   "id": "265ab1e6-f142-4eb4-a43b-d5c293cc272f",
   "metadata": {},
   "outputs": [],
   "source": [
    "train_dataloader = DataLoader(dataset=train_dataset, batch_size=batch_size, shuffle=True, drop_last=True, num_workers=2)\n",
    "test_dataloader = DataLoader(dataset=test_dataset, batch_size=batch_size, shuffle=False, drop_last=False, num_workers=2)"
   ]
  },
  {
   "cell_type": "code",
   "execution_count": 16,
   "id": "d28992ff-e41f-4478-aeec-d2072adac04c",
   "metadata": {},
   "outputs": [],
   "source": [
    "model = PixelRNN().to(device)\n",
    "# mse would most likely also work\n",
    "criterion = nn.BCEWithLogitsLoss()\n",
    "optimizer = optim.Adam(model.parameters())"
   ]
  },
  {
   "cell_type": "code",
   "execution_count": 17,
   "id": "9b2545fb-47fe-497f-979a-c2b99b4633f5",
   "metadata": {},
   "outputs": [],
   "source": [
    "def train():\n",
    "    for epoch in range(1, num_epochs+1):\n",
    "        train_loss = []\n",
    "        for features, _ in train_dataloader:\n",
    "            features = features.to(device)\n",
    "            logits = model(features)\n",
    "            loss = criterion(logits, features)\n",
    "            \n",
    "            optimizer.zero_grad()\n",
    "            loss.backward()\n",
    "            optimizer.step()\n",
    "            \n",
    "            train_loss.append(loss.cpu().item())\n",
    "        \n",
    "        print(f'Epoch: {epoch}/{num_epochs}, Loss: {sum(train_loss)/len(train_loss)}')"
   ]
  },
  {
   "cell_type": "code",
   "execution_count": 18,
   "id": "907049b4-a617-44d8-b662-33c59924c8a7",
   "metadata": {},
   "outputs": [
    {
     "name": "stdout",
     "output_type": "stream",
     "text": [
      "Epoch: 1/10, Loss: 0.24843453721602757\n",
      "Epoch: 2/10, Loss: 0.14908142183621725\n",
      "Epoch: 3/10, Loss: 0.12582927854855855\n",
      "Epoch: 4/10, Loss: 0.11728720834453901\n",
      "Epoch: 5/10, Loss: 0.112956779140234\n",
      "Epoch: 6/10, Loss: 0.10964896466930707\n",
      "Epoch: 7/10, Loss: 0.10739512793223063\n",
      "Epoch: 8/10, Loss: 0.10597590109507243\n",
      "Epoch: 9/10, Loss: 0.10491630700826644\n",
      "Epoch: 10/10, Loss: 0.10391491771936416\n"
     ]
    }
   ],
   "source": [
    "train()"
   ]
  },
  {
   "cell_type": "code",
   "execution_count": 19,
   "id": "bf3ba7ec-c6f8-4151-aa82-f1ed60d76ec3",
   "metadata": {},
   "outputs": [
    {
     "data": {
      "image/png": "[encoded data removed]",
      "text/plain": [
       "<Figure size 640x480 with 2 Axes>"
      ]
     },
     "metadata": {},
     "output_type": "display_data"
    },
    {
     "data": {
      "image/png": "[encoded data removed]",
      "text/plain": [
       "<Figure size 640x480 with 2 Axes>"
      ]
     },
     "metadata": {},
     "output_type": "display_data"
    },
    {
     "data": {
      "image/png": "[encoded data removed]",
      "text/plain": [
       "<Figure size 640x480 with 2 Axes>"
      ]
     },
     "metadata": {},
     "output_type": "display_data"
    },
    {
     "data": {
      "image/png": "[encoded data removed]",
      "text/plain": [
       "<Figure size 640x480 with 2 Axes>"
      ]
     },
     "metadata": {},
     "output_type": "display_data"
    },
    {
     "data": {
      "image/png": "[encoded data removed]",
      "text/plain": [
       "<Figure size 640x480 with 2 Axes>"
      ]
     },
     "metadata": {},
     "output_type": "display_data"
    }
   ],
   "source": [
    "# test the reconstruction by comparing theinference_modeginal with the reconstructed images\n",
    "with torch.inference_mode():\n",
    "    for idx in range(5):\n",
    "        image, _ = test_dataset[idx]\n",
    "        image = image.unsqueeze(0)\n",
    "        generated_image = model(image.to(device))\n",
    "        generated_image = torch.sigmoid(generated_image)\n",
    "        generated_image = generated_image.squeeze()\n",
    "\n",
    "        plt.subplot(1, 2, 1)\n",
    "        plt.imshow(image.squeeze(), cmap=\"gray\")\n",
    "        plt.title(\"Original\")\n",
    "        plt.axis(\"off\")\n",
    "\n",
    "        plt.subplot(1, 2, 2)\n",
    "        plt.imshow(generated_image.cpu(), cmap=\"gray\")\n",
    "        plt.title(\"Reconstructed\")\n",
    "        plt.axis(\"off\")\n",
    "        plt.show()"
   ]
  },
  {
   "cell_type": "code",
   "execution_count": 41,
   "id": "9d2f4bbd-25c5-4687-85ad-df98940ec041",
   "metadata": {},
   "outputs": [
    {
     "data": {
      "text/plain": [
       "<matplotlib.image.AxesImage at 0x7fef31016770>"
      ]
     },
     "execution_count": 41,
     "metadata": {},
     "output_type": "execute_result"
    },
    {
     "data": {
      "image/png": "[encoded data removed]",
      "text/plain": [
       "<Figure size 640x480 with 1 Axes>"
      ]
     },
     "metadata": {},
     "output_type": "display_data"
    }
   ],
   "source": [
    "image, _ = test_dataset[0]\n",
    "image = image.squeeze()\n",
    "for row_idx, row in enumerate(image):\n",
    "    for col_idx, _ in enumerate(image):\n",
    "        if row_idx >= 14:\n",
    "            image[row_idx][col_idx] = 0\n",
    "plt.imshow(image.squeeze())"
   ]
  },
  {
   "cell_type": "code",
   "execution_count": 42,
   "id": "2fba9a90-be3c-4e63-aee0-9d829b3eef1b",
   "metadata": {
    "tags": []
   },
   "outputs": [
    {
     "data": {
      "image/png": "[encoded data removed]",
      "text/plain": [
       "<Figure size 640x480 with 1 Axes>"
      ]
     },
     "metadata": {},
     "output_type": "display_data"
    }
   ],
   "source": [
    "image, _ = test_dataset[0]\n",
    "image = image.squeeze()\n",
    "for row_idx, row in enumerate(image):\n",
    "    for col_idx, _ in enumerate(image):\n",
    "        if row_idx >= 14:\n",
    "            image[row_idx][col_idx] = 0\n",
    "\n",
    "image = image.unsqueeze(0).unsqueeze(0).to(device) \n",
    "with torch.inference_mode():\n",
    "    for row_idx in range(28):\n",
    "        for col_idx in range(28):\n",
    "            generated_image = model(image)\n",
    "            generated_image = torch.sigmoid(generated_image)\n",
    "            generated_image = generated_image.squeeze()\n",
    "            if row_idx >=14:\n",
    "                image[0][0][row_idx][col_idx] = generated_image[row_idx][col_idx]\n",
    "            \n",
    "plt.imshow(image.cpu().squeeze(), cmap=\"gray\")\n",
    "plt.title(\"Reconstructed\")\n",
    "plt.axis(\"off\")\n",
    "plt.show()\n"
   ]
  },
  {
   "cell_type": "code",
   "execution_count": null,
   "id": "6b037a54-c222-42ad-8713-dc4602629504",
   "metadata": {},
   "outputs": [],
   "source": []
  }
 ],
 "metadata": {
  "kernelspec": {
   "display_name": "Python 3 (ipykernel)",
   "language": "python",
   "name": "python3"
  },
  "language_info": {
   "codemirror_mode": {
    "name": "ipython",
    "version": 3
   },
   "file_extension": ".py",
   "mimetype": "text/x-python",
   "name": "python",
   "nbconvert_exporter": "python",
   "pygments_lexer": "ipython3",
   "version": "3.10.5"
  }
 },
 "nbformat": 4,
 "nbformat_minor": 5
}
