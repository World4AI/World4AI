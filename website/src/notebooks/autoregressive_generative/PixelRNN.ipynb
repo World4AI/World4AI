{
 "cells": [
  {
   "cell_type": "markdown",
   "id": "2a879bdd-54a7-4d23-9668-a461b20a61a7",
   "metadata": {},
   "source": [
    "# PixelRNN"
   ]
  },
  {
   "cell_type": "code",
   "execution_count": 8,
   "id": "43b62d1b-ed3a-4d49-9724-ab1b2c906b3e",
   "metadata": {},
   "outputs": [],
   "source": [
    "import torch\n",
    "from torch import nn, optim\n",
    "from torch.utils.data import DataLoader\n",
    "\n",
    "import torchvision\n",
    "import torchvision.transforms as T"
   ]
  },
  {
   "cell_type": "code",
   "execution_count": 3,
   "id": "e03975ce-4cf8-4d01-8109-012515fef359",
   "metadata": {},
   "outputs": [],
   "source": [
    "# parameters from the paper\n",
    "batch_size = 16\n",
    "num_layers = 7\n",
    "hidden_dim = 16"
   ]
  },
  {
   "cell_type": "markdown",
   "id": "7abc7415-6a9e-4aa4-b449-609ac07ead83",
   "metadata": {},
   "source": [
    "The architecture is designed for MNIST only and for static inputs."
   ]
  },
  {
   "cell_type": "code",
   "execution_count": 4,
   "id": "1236a856-b083-4515-ad3f-c06827ceeaa0",
   "metadata": {},
   "outputs": [],
   "source": [
    "# architecture\n",
    "# 1. 7 x 7 with conv mask A\n",
    "# 2. Row LSTM with residual blocks\n",
    "#    a. i-s: 3x1 mask with conv mask B\n",
    "#    b. s-s: 3x1 no mask\n",
    "# 3. ReLU + 1x1 conv layer with mask B (2 layers)\n",
    "# 4. 256 Ways softmax"
   ]
  },
  {
   "cell_type": "code",
   "execution_count": 5,
   "id": "9648172b-1e26-4f75-9f82-3b980cf94485",
   "metadata": {},
   "outputs": [],
   "source": [
    "# Type A masked Conv2d \n",
    "class MaskedConv2d(nn.Module):\n",
    "    def __init__(self, in_channels=1, \n",
    "                 out_channels=hidden_dim,\n",
    "                 kernel_size=7,\n",
    "                 padding=3):\n",
    "        super().__init__()\n",
    "        self.conv = nn.Conv2d(in_channels=in_channels,\n",
    "                             out_channels=out_channels,\n",
    "                             kernel_size=kernel_size,\n",
    "                             padding=padding)\n",
    "        \n",
    "        mask_idxs = torch.arange(0, kernel_size**2).view(kernel_size, kernel_size)\n",
    "        mask = (mask_idxs < padding * kernel_size + padding).float()\n",
    "        self.register_buffer('mask', mask)\n",
    "    \n",
    "    def forward(self, x):\n",
    "        # apply mask, see below link for more info\n",
    "        # https://discuss.pytorch.org/t/applying-custom-mask-on-kernel-for-cnn/87099\n",
    "        with torch.no_grad():\n",
    "            self.conv.weight = nn.Parameter(self.conv.weight * self.mask)\n",
    "        return self.conv(x)"
   ]
  },
  {
   "cell_type": "code",
   "execution_count": 6,
   "id": "2108fbbd-5d09-46ea-93bf-af54285f02a8",
   "metadata": {},
   "outputs": [
    {
     "data": {
      "text/plain": [
       "torch.Size([1, 16, 28, 28])"
      ]
     },
     "execution_count": 6,
     "metadata": {},
     "output_type": "execute_result"
    }
   ],
   "source": [
    "test2dLayer = MaskedConv2d()\n",
    "testdata = torch.randn(1, 1, 28, 28)\n",
    "test2dLayer(testdata).shape"
   ]
  },
  {
   "cell_type": "code",
   "execution_count": 48,
   "id": "cbeb2c72-1af2-488d-ba57-7fa160d2d54e",
   "metadata": {},
   "outputs": [],
   "source": [
    "# Type B masked Conv1d\n",
    "class MaskedConv1d(nn.Module):\n",
    "    def __init__(self, \n",
    "                 in_channels=hidden_dim,\n",
    "                 out_channels=hidden_dim,\n",
    "                 kernel_size=3,\n",
    "                 padding=1):\n",
    "        super().__init__()\n",
    "        self.conv = nn.Conv1d(in_channels=in_channels,\n",
    "                              out_channels=out_channels,\n",
    "                              kernel_size=kernel_size,\n",
    "                              padding=padding)\n",
    "        \n",
    "        mask = torch.ones(kernel_size)\n",
    "        mask[2] = 0\n",
    "        self.register_buffer('mask', mask)\n",
    "        \n",
    "    def forward(self, x):\n",
    "        with torch.no_grad():\n",
    "            self.conv.weight = nn.Parameter(self.conv.weight * self.mask)\n",
    "        return self.conv(x)"
   ]
  },
  {
   "cell_type": "code",
   "execution_count": 53,
   "id": "bb5445b7-aaa5-4714-bc5f-5dd7ff3f3752",
   "metadata": {},
   "outputs": [
    {
     "data": {
      "text/plain": [
       "torch.Size([1, 16, 28])"
      ]
     },
     "execution_count": 53,
     "metadata": {},
     "output_type": "execute_result"
    }
   ],
   "source": [
    "test1dLayer = MaskedConv1d()\n",
    "# 16 -> hidden size (number of feature maps), 28 -> width\n",
    "# the layer processes one row at a time\n",
    "testdata = torch.randn(1, 16, 28)\n",
    "test1dLayer(testdata).shape"
   ]
  },
  {
   "cell_type": "code",
   "execution_count": 9,
   "id": "c34f46be-f3f6-4265-8cda-fe35e01e8b86",
   "metadata": {},
   "outputs": [],
   "source": [
    "class RowLSTMCell(nn.Module):\n",
    "    def __init__(self):\n",
    "        pass\n",
    "    \n",
    "    def forward(self, x):\n",
    "        pass"
   ]
  },
  {
   "cell_type": "code",
   "execution_count": 10,
   "id": "a96c9b74-01f2-4909-88e7-6ad149dbf7bf",
   "metadata": {},
   "outputs": [],
   "source": [
    "class RowLSTM(nn.Module):\n",
    "    def __init__(self):\n",
    "        pass\n",
    "    \n",
    "    def forward(self):\n",
    "        pass"
   ]
  },
  {
   "cell_type": "code",
   "execution_count": 11,
   "id": "7a0fb017-7685-488f-96a6-ac4dd361f4ee",
   "metadata": {},
   "outputs": [],
   "source": [
    "train_dataset = torchvision.datasets.MNIST(root='../datasets/', \n",
    "                                           train=True, \n",
    "                                           transform=T.ToTensor(), \n",
    "                                           download=True)\n",
    "\n",
    "test_dataset = torchvision.datasets.MNIST(root='../datasets/', \n",
    "                                           train=False, \n",
    "                                           transform=T.ToTensor(), \n",
    "                                           download=False)"
   ]
  },
  {
   "cell_type": "code",
   "execution_count": null,
   "id": "9b2545fb-47fe-497f-979a-c2b99b4633f5",
   "metadata": {},
   "outputs": [],
   "source": []
  }
 ],
 "metadata": {
  "kernelspec": {
   "display_name": "Python 3 (ipykernel)",
   "language": "python",
   "name": "python3"
  },
  "language_info": {
   "codemirror_mode": {
    "name": "ipython",
    "version": 3
   },
   "file_extension": ".py",
   "mimetype": "text/x-python",
   "name": "python",
   "nbconvert_exporter": "python",
   "pygments_lexer": "ipython3",
   "version": "3.10.5"
  }
 },
 "nbformat": 4,
 "nbformat_minor": 5
}
