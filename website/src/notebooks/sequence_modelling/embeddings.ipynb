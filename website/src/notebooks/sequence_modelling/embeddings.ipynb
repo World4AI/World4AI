{
 "cells": [
  {
   "cell_type": "code",
   "execution_count": 1,
   "id": "8533e931-8f99-4c5e-bfa0-0cb6ece3cb2b",
   "metadata": {},
   "outputs": [],
   "source": [
    "import torch\n",
    "import torch.nn as nn"
   ]
  },
  {
   "cell_type": "code",
   "execution_count": 2,
   "id": "2c900be3-7f5d-4dd9-a0b7-2b37341c401b",
   "metadata": {},
   "outputs": [],
   "source": [
    "VOCABULARY_SIZE=10\n",
    "EMBEDDING_DIM=4"
   ]
  },
  {
   "cell_type": "code",
   "execution_count": 15,
   "id": "18c88811-2172-4a98-9135-c034bb1a0870",
   "metadata": {},
   "outputs": [],
   "source": [
    "BATCH_SIZE=5\n",
    "SEQ_LEN=3\n",
    "sequence = torch.randint(low=0, high=VOCABULARY_SIZE, size=(BATCH_SIZE, SEQ_LEN))"
   ]
  },
  {
   "cell_type": "code",
   "execution_count": 16,
   "id": "d1f82988-8d67-4051-9e32-393b85004c29",
   "metadata": {},
   "outputs": [
    {
     "data": {
      "text/plain": [
       "tensor([[6, 2, 8],\n",
       "        [3, 5, 6],\n",
       "        [9, 0, 5],\n",
       "        [1, 2, 9],\n",
       "        [0, 9, 1]])"
      ]
     },
     "execution_count": 16,
     "metadata": {},
     "output_type": "execute_result"
    }
   ],
   "source": [
    "sequence"
   ]
  },
  {
   "cell_type": "code",
   "execution_count": 17,
   "id": "cf4c7232-f733-4823-8b22-85472707f0e6",
   "metadata": {},
   "outputs": [],
   "source": [
    "embedding = nn.Embedding(num_embeddings=VOCABULARY_SIZE, embedding_dim=EMBEDDING_DIM)"
   ]
  },
  {
   "cell_type": "code",
   "execution_count": 22,
   "id": "3ed9df9a-3ecc-4111-8e3f-6dda50473199",
   "metadata": {},
   "outputs": [
    {
     "name": "stdout",
     "output_type": "stream",
     "text": [
      "Parameter containing:\n",
      "tensor([[-0.5210,  0.5632, -0.6069, -1.4454],\n",
      "        [-2.3594,  0.5233, -0.1607, -0.7668],\n",
      "        [ 1.9446,  0.1064, -1.3341,  1.4237],\n",
      "        [ 0.1139,  0.3790,  2.4349,  0.2668],\n",
      "        [ 2.7912,  0.8139,  0.6718, -0.0641],\n",
      "        [ 2.2724, -0.8105, -0.7964,  0.9931],\n",
      "        [-0.3413,  1.0576,  0.3027, -0.3740],\n",
      "        [-0.0513, -1.7193,  0.3848, -0.1908],\n",
      "        [ 1.8881,  2.0898, -0.4592,  0.3180],\n",
      "        [-0.7114, -0.2068, -0.1184,  0.8716]], requires_grad=True)\n"
     ]
    }
   ],
   "source": [
    "print(embedding.weight)"
   ]
  },
  {
   "cell_type": "code",
   "execution_count": 29,
   "id": "ce1b97e4-8c71-4ca8-bcdb-bd7fc4376ab7",
   "metadata": {},
   "outputs": [],
   "source": [
    "with torch.inference_mode():\n",
    "    embedding(torch.tensor(0))"
   ]
  },
  {
   "cell_type": "code",
   "execution_count": 19,
   "id": "7850b376-e83f-4b0a-8a32-09b37f0f7c2a",
   "metadata": {},
   "outputs": [
    {
     "name": "stdout",
     "output_type": "stream",
     "text": [
      "tensor([[[-0.3413,  1.0576,  0.3027, -0.3740],\n",
      "         [ 1.9446,  0.1064, -1.3341,  1.4237],\n",
      "         [ 1.8881,  2.0898, -0.4592,  0.3180]],\n",
      "\n",
      "        [[ 0.1139,  0.3790,  2.4349,  0.2668],\n",
      "         [ 2.2724, -0.8105, -0.7964,  0.9931],\n",
      "         [-0.3413,  1.0576,  0.3027, -0.3740]],\n",
      "\n",
      "        [[-0.7114, -0.2068, -0.1184,  0.8716],\n",
      "         [-0.5210,  0.5632, -0.6069, -1.4454],\n",
      "         [ 2.2724, -0.8105, -0.7964,  0.9931]],\n",
      "\n",
      "        [[-2.3594,  0.5233, -0.1607, -0.7668],\n",
      "         [ 1.9446,  0.1064, -1.3341,  1.4237],\n",
      "         [-0.7114, -0.2068, -0.1184,  0.8716]],\n",
      "\n",
      "        [[-0.5210,  0.5632, -0.6069, -1.4454],\n",
      "         [-0.7114, -0.2068, -0.1184,  0.8716],\n",
      "         [-2.3594,  0.5233, -0.1607, -0.7668]]])\n"
     ]
    }
   ],
   "source": [
    "with torch.inference_mode():\n",
    "    embeddings = embedding(sequence)\n",
    "    print(embeddings)"
   ]
  }
 ],
 "metadata": {
  "kernelspec": {
   "display_name": "Python 3 (ipykernel)",
   "language": "python",
   "name": "python3"
  },
  "language_info": {
   "codemirror_mode": {
    "name": "ipython",
    "version": 3
   },
   "file_extension": ".py",
   "mimetype": "text/x-python",
   "name": "python",
   "nbconvert_exporter": "python",
   "pygments_lexer": "ipython3",
   "version": "3.10.5"
  }
 },
 "nbformat": 4,
 "nbformat_minor": 5
}
