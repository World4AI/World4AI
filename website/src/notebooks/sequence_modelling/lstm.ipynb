{
 "cells": [
  {
   "cell_type": "markdown",
   "id": "d35303b0-ebff-452f-8166-761a8d1357be",
   "metadata": {},
   "source": [
    "# LSTM in PyTorch"
   ]
  },
  {
   "cell_type": "markdown",
   "id": "5bae5d1d-daf0-4513-ae82-e59bd7930bca",
   "metadata": {},
   "source": [
    "Simiar to `nn.RNN`, there is an `nn.LSTM` module in PyTorch. You can read more about this module on the official [PyTorch documentation](https://pytorch.org/docs/stable/generated/torch.nn.LSTM.html). For the most part you provide the module with identical arguments, but the output consists of three parts instead of two: output, hidden state and cell state."
   ]
  },
  {
   "cell_type": "code",
   "execution_count": 1,
   "id": "24bca2d0-a741-4d0b-a591-0728cdd114a4",
   "metadata": {
    "tags": []
   },
   "outputs": [],
   "source": [
    "import torch\n",
    "import torch.nn as nn"
   ]
  },
  {
   "cell_type": "code",
   "execution_count": 2,
   "id": "4a7f4086-c001-41f3-b389-13396d4ec6fb",
   "metadata": {},
   "outputs": [],
   "source": [
    "BATCH_SIZE=4\n",
    "SEQUENCE_LENGTH=5\n",
    "INPUT_SIZE=2\n",
    "HIDDEN_SIZE=3\n",
    "NUM_LAYERS=1"
   ]
  },
  {
   "cell_type": "code",
   "execution_count": 3,
   "id": "4fe2732d-e1ba-456f-b0c5-f77cbcc98426",
   "metadata": {},
   "outputs": [],
   "source": [
    "lstm = nn.LSTM(input_size=INPUT_SIZE, hidden_size=HIDDEN_SIZE, num_layers=NUM_LAYERS)"
   ]
  },
  {
   "cell_type": "markdown",
   "id": "3bd687e2-b719-42be-b669-ec7aabda95bf",
   "metadata": {},
   "source": [
    "There are more weights in a LSTM. The $ i, g, f, o $ are references to the functions, that we discussed during the theoretical part. Weights for those functions are all collected in a single tensor, so we extract those weights for our convenience."
   ]
  },
  {
   "cell_type": "code",
   "execution_count": 4,
   "id": "42bbd37f-1103-443d-a84d-65bcb61e356e",
   "metadata": {},
   "outputs": [],
   "source": [
    "# input to hidden weights and biases\n",
    "w_ih = lstm.weight_ih_l0\n",
    "b_ih = lstm.bias_ih_l0\n",
    "\n",
    "w_ii = w_ih[0*HIDDEN_SIZE:1*HIDDEN_SIZE]\n",
    "w_if = w_ih[1*HIDDEN_SIZE:2*HIDDEN_SIZE]\n",
    "w_ig = w_ih[2*HIDDEN_SIZE:3*HIDDEN_SIZE]\n",
    "w_io = w_ih[3*HIDDEN_SIZE:]\n",
    "\n",
    "b_ii = b_ih[0*HIDDEN_SIZE:1*HIDDEN_SIZE]\n",
    "b_if = b_ih[1*HIDDEN_SIZE:2*HIDDEN_SIZE]\n",
    "b_ig = b_ih[2*HIDDEN_SIZE:3*HIDDEN_SIZE]\n",
    "b_io = b_ih[3*HIDDEN_SIZE:]\n",
    "\n",
    "# hidden to hidden weights and biases\n",
    "w_hh = lstm.weight_hh_l0\n",
    "b_hh = lstm.bias_hh_l0\n",
    "\n",
    "w_hi = w_hh[0*HIDDEN_SIZE:1*HIDDEN_SIZE]\n",
    "w_hf = w_hh[1*HIDDEN_SIZE:2*HIDDEN_SIZE]\n",
    "w_hg = w_hh[2*HIDDEN_SIZE:3*HIDDEN_SIZE]\n",
    "w_ho = w_hh[3*HIDDEN_SIZE:]\n",
    "\n",
    "b_hi = b_hh[0*HIDDEN_SIZE:1*HIDDEN_SIZE]\n",
    "b_hf = b_hh[1*HIDDEN_SIZE:2*HIDDEN_SIZE]\n",
    "b_hg = b_hh[2*HIDDEN_SIZE:3*HIDDEN_SIZE]\n",
    "b_ho = b_hh[3*HIDDEN_SIZE:]"
   ]
  },
  {
   "cell_type": "code",
   "execution_count": 5,
   "id": "5408d0ac-82dd-4abd-97cf-7a12224b60d4",
   "metadata": {},
   "outputs": [],
   "source": [
    "# create inputs to the LSTM\n",
    "sequence = torch.randn(SEQUENCE_LENGTH, BATCH_SIZE, INPUT_SIZE)\n",
    "h_0 = torch.zeros(NUM_LAYERS, BATCH_SIZE, HIDDEN_SIZE)\n",
    "c_0 = torch.zeros(NUM_LAYERS, BATCH_SIZE, HIDDEN_SIZE)"
   ]
  },
  {
   "cell_type": "code",
   "execution_count": 6,
   "id": "5520a91b-16ad-4a81-8921-6df86430d013",
   "metadata": {},
   "outputs": [],
   "source": [
    "with torch.inference_mode():\n",
    "    output, (h_n, c_n) = lstm(sequence, (h_0, c_0))"
   ]
  },
  {
   "cell_type": "markdown",
   "id": "e9db1a84-963f-41c8-925e-e78c6d297b0a",
   "metadata": {},
   "source": [
    "In the below example we calculate the outputs of the four fully connected neural networks. By using the forget gate f, the input gate i and the output gate o, we derive the hidden and cell values. Try to work through the example below in order to fully understand the LSTM Cell."
   ]
  },
  {
   "cell_type": "code",
   "execution_count": 7,
   "id": "7bc319dd-8f83-42d1-ab5f-281cf1dd34b8",
   "metadata": {},
   "outputs": [],
   "source": [
    "def manual_lstm():\n",
    "    hidden = h_0.clone()\n",
    "    cell = c_0.clone()\n",
    "    output = torch.zeros(SEQUENCE_LENGTH, BATCH_SIZE, HIDDEN_SIZE)\n",
    "    with torch.inference_mode():\n",
    "        for idx, seq in enumerate(sequence):\n",
    "            f = torch.sigmoid(seq @ w_if.T + b_if + hidden[0] @ w_hf.T + b_hf)\n",
    "            i = torch.sigmoid(seq @ w_ii.T + b_ii + hidden[0] @ w_hi.T + b_hi)\n",
    "            o = torch.sigmoid(seq @ w_io.T + b_io + hidden[0] @ w_ho.T + b_ho)\n",
    "            g = torch.tanh(seq @ w_ig.T + b_ig + hidden[0] @ w_hg.T + b_hg)\n",
    "            \n",
    "            cell[0] = f * cell[0] + i * g\n",
    "            hidden[0] = o * torch.tanh(cell[0])\n",
    "            output[idx] = hidden[0]\n",
    "    return output, (hidden, cell)"
   ]
  },
  {
   "cell_type": "code",
   "execution_count": 8,
   "id": "e9995ead-4ceb-4ca6-9a47-2c072630a8c6",
   "metadata": {},
   "outputs": [],
   "source": [
    "manual_output, (manual_h_n, manual_c_n) = manual_lstm()"
   ]
  },
  {
   "cell_type": "markdown",
   "id": "a43bdd84-63e3-48dd-ae5d-7d48c7b47283",
   "metadata": {},
   "source": [
    "In the last step we can compare the values from the LSTM module and our manual implementation. The results are identical."
   ]
  },
  {
   "cell_type": "code",
   "execution_count": 9,
   "id": "14a32f33-8577-48e7-b6d3-e563bb944b9c",
   "metadata": {},
   "outputs": [
    {
     "data": {
      "text/plain": [
       "tensor([[[ 0.0909, -0.1463,  0.1052],\n",
       "         [-0.0274,  0.0318,  0.2162],\n",
       "         [ 0.1561, -0.1113,  0.1520],\n",
       "         [ 0.0342, -0.1877,  0.0212]],\n",
       "\n",
       "        [[ 0.0991, -0.1448,  0.2481],\n",
       "         [ 0.0410, -0.1487,  0.2124],\n",
       "         [ 0.2016, -0.2148,  0.1453],\n",
       "         [ 0.0042, -0.0748,  0.2674]],\n",
       "\n",
       "        [[ 0.0602, -0.0646,  0.3548],\n",
       "         [ 0.0159, -0.0749,  0.3285],\n",
       "         [ 0.2282, -0.2431,  0.2154],\n",
       "         [-0.0071, -0.1779,  0.2184]],\n",
       "\n",
       "        [[ 0.0058, -0.1205,  0.2827],\n",
       "         [-0.0484, -0.1683,  0.1527],\n",
       "         [ 0.2777, -0.2918,  0.1636],\n",
       "         [ 0.0416, -0.1358,  0.3673]],\n",
       "\n",
       "        [[-0.0062, -0.1312,  0.3340],\n",
       "         [-0.0066, -0.2489,  0.1571],\n",
       "         [ 0.2070, -0.2525,  0.2602],\n",
       "         [ 0.1375, -0.2403,  0.2903]]])"
      ]
     },
     "execution_count": 9,
     "metadata": {},
     "output_type": "execute_result"
    }
   ],
   "source": [
    "output"
   ]
  },
  {
   "cell_type": "code",
   "execution_count": 10,
   "id": "640c7a5b-0f65-49db-a956-c9c9f27f5ffb",
   "metadata": {},
   "outputs": [
    {
     "data": {
      "text/plain": [
       "tensor([[[ 0.0909, -0.1463,  0.1052],\n",
       "         [-0.0274,  0.0318,  0.2162],\n",
       "         [ 0.1561, -0.1113,  0.1520],\n",
       "         [ 0.0342, -0.1877,  0.0212]],\n",
       "\n",
       "        [[ 0.0991, -0.1448,  0.2481],\n",
       "         [ 0.0410, -0.1487,  0.2124],\n",
       "         [ 0.2016, -0.2148,  0.1453],\n",
       "         [ 0.0042, -0.0748,  0.2674]],\n",
       "\n",
       "        [[ 0.0602, -0.0646,  0.3548],\n",
       "         [ 0.0159, -0.0749,  0.3285],\n",
       "         [ 0.2282, -0.2431,  0.2154],\n",
       "         [-0.0071, -0.1779,  0.2184]],\n",
       "\n",
       "        [[ 0.0058, -0.1205,  0.2827],\n",
       "         [-0.0484, -0.1683,  0.1527],\n",
       "         [ 0.2777, -0.2918,  0.1636],\n",
       "         [ 0.0416, -0.1358,  0.3673]],\n",
       "\n",
       "        [[-0.0062, -0.1312,  0.3340],\n",
       "         [-0.0066, -0.2489,  0.1571],\n",
       "         [ 0.2070, -0.2525,  0.2602],\n",
       "         [ 0.1375, -0.2403,  0.2903]]])"
      ]
     },
     "execution_count": 10,
     "metadata": {},
     "output_type": "execute_result"
    }
   ],
   "source": [
    "manual_output"
   ]
  },
  {
   "cell_type": "code",
   "execution_count": 11,
   "id": "a4d63328-ef9c-45dd-9886-24335cd884ec",
   "metadata": {},
   "outputs": [
    {
     "data": {
      "text/plain": [
       "tensor([[[-0.0062, -0.1312,  0.3340],\n",
       "         [-0.0066, -0.2489,  0.1571],\n",
       "         [ 0.2070, -0.2525,  0.2602],\n",
       "         [ 0.1375, -0.2403,  0.2903]]])"
      ]
     },
     "execution_count": 11,
     "metadata": {},
     "output_type": "execute_result"
    }
   ],
   "source": [
    "h_n"
   ]
  },
  {
   "cell_type": "code",
   "execution_count": 12,
   "id": "9f48cdca-24ad-42e7-85eb-c304e342ba87",
   "metadata": {},
   "outputs": [
    {
     "data": {
      "text/plain": [
       "tensor([[[-0.0062, -0.1312,  0.3340],\n",
       "         [-0.0066, -0.2489,  0.1571],\n",
       "         [ 0.2070, -0.2525,  0.2602],\n",
       "         [ 0.1375, -0.2403,  0.2903]]])"
      ]
     },
     "execution_count": 12,
     "metadata": {},
     "output_type": "execute_result"
    }
   ],
   "source": [
    "manual_h_n"
   ]
  },
  {
   "cell_type": "code",
   "execution_count": 13,
   "id": "d57172c5-1ce5-4ca6-86c0-f69111f35d91",
   "metadata": {},
   "outputs": [
    {
     "data": {
      "text/plain": [
       "tensor([[[-0.0222, -0.2391,  0.6195],\n",
       "         [-0.0178, -0.4750,  0.2472],\n",
       "         [ 0.6347, -0.5466,  0.3933],\n",
       "         [ 0.3488, -0.5005,  0.3994]]])"
      ]
     },
     "execution_count": 13,
     "metadata": {},
     "output_type": "execute_result"
    }
   ],
   "source": [
    "c_n"
   ]
  },
  {
   "cell_type": "code",
   "execution_count": 14,
   "id": "8cbc8e0b-8749-491f-a5f0-063d2ca0c2b9",
   "metadata": {},
   "outputs": [
    {
     "data": {
      "text/plain": [
       "tensor([[[-0.0222, -0.2391,  0.6195],\n",
       "         [-0.0178, -0.4750,  0.2472],\n",
       "         [ 0.6347, -0.5466,  0.3933],\n",
       "         [ 0.3488, -0.5005,  0.3994]]])"
      ]
     },
     "execution_count": 14,
     "metadata": {},
     "output_type": "execute_result"
    }
   ],
   "source": [
    "manual_c_n"
   ]
  }
 ],
 "metadata": {
  "kernelspec": {
   "display_name": "Python 3 (ipykernel)",
   "language": "python",
   "name": "python3"
  },
  "language_info": {
   "codemirror_mode": {
    "name": "ipython",
    "version": 3
   },
   "file_extension": ".py",
   "mimetype": "text/x-python",
   "name": "python",
   "nbconvert_exporter": "python",
   "pygments_lexer": "ipython3",
   "version": "3.10.5"
  }
 },
 "nbformat": 4,
 "nbformat_minor": 5
}
