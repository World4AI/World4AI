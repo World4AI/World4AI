{
 "cells": [
  {
   "cell_type": "code",
   "execution_count": 1,
   "id": "6821049d-29ff-4679-adc8-c76b1f385488",
   "metadata": {},
   "outputs": [],
   "source": [
    "import torch\n",
    "import torch.nn as nn"
   ]
  },
  {
   "cell_type": "code",
   "execution_count": 110,
   "id": "b91d3770-edb4-4eaf-93dc-656c8ba02561",
   "metadata": {},
   "outputs": [],
   "source": [
    "BATCH_SIZE=4\n",
    "SEQUENCE_LENGTH=5\n",
    "INPUT_SIZE=1\n",
    "HIDDEN_SIZE=3\n",
    "NUM_LAYERS=2"
   ]
  },
  {
   "cell_type": "code",
   "execution_count": 111,
   "id": "5af487d1-c312-4299-928c-4a6bd990f26b",
   "metadata": {},
   "outputs": [],
   "source": [
    "rnn = nn.RNN(input_size=INPUT_SIZE, hidden_size=HIDDEN_SIZE, num_layers=NUM_LAYERS)"
   ]
  },
  {
   "cell_type": "code",
   "execution_count": 112,
   "id": "4a2b17ec-b017-41be-8bbb-e5ae0406cc4e",
   "metadata": {},
   "outputs": [],
   "source": [
    "# ---------------------------- #\n",
    "# layer 1\n",
    "# ---------------------------- #\n",
    "\n",
    "# input to hidden weights and biases\n",
    "w_ih_l0 = rnn.weight_ih_l0\n",
    "b_ih_l0 = rnn.bias_ih_l0\n",
    "\n",
    "# hidden to hidden weights and biases\n",
    "w_hh_l0 = rnn.weight_hh_l0\n",
    "b_hh_l0 = rnn.bias_hh_l0\n",
    "\n",
    "# ---------------------------- #\n",
    "# layer 2\n",
    "# ---------------------------- #\n",
    "# input to hidden weights and biases\n",
    "w_ih_l1 = rnn.weight_ih_l1\n",
    "b_ih_l1 = rnn.bias_ih_l1\n",
    "\n",
    "# hidden to hidden weights and biases\n",
    "w_hh_l1 = rnn.weight_hh_l1\n",
    "b_hh_l1 = rnn.bias_hh_l1"
   ]
  },
  {
   "cell_type": "code",
   "execution_count": 113,
   "id": "7c5a0913-6d9f-4587-aa89-ac6f207abd6c",
   "metadata": {},
   "outputs": [],
   "source": [
    "sequence = torch.randn(SEQUENCE_LENGTH, BATCH_SIZE, INPUT_SIZE)\n",
    "h_0 = torch.zeros(NUM_LAYERS, BATCH_SIZE, HIDDEN_SIZE)"
   ]
  },
  {
   "cell_type": "code",
   "execution_count": 114,
   "id": "0846778a-78d4-42ab-82c6-300aee49dddb",
   "metadata": {},
   "outputs": [
    {
     "data": {
      "text/plain": [
       "torch.Size([5, 4, 1])"
      ]
     },
     "execution_count": 114,
     "metadata": {},
     "output_type": "execute_result"
    }
   ],
   "source": [
    "sequence.size()"
   ]
  },
  {
   "cell_type": "code",
   "execution_count": 115,
   "id": "0dd73621-87af-4dc9-9eeb-c24851b3b00b",
   "metadata": {},
   "outputs": [
    {
     "data": {
      "text/plain": [
       "torch.Size([2, 4, 3])"
      ]
     },
     "execution_count": 115,
     "metadata": {},
     "output_type": "execute_result"
    }
   ],
   "source": [
    "h_0.size()"
   ]
  },
  {
   "cell_type": "code",
   "execution_count": 116,
   "id": "859e3a3d-2e10-4955-bc72-0e6d8e80cbb0",
   "metadata": {},
   "outputs": [],
   "source": [
    "with torch.inference_mode():\n",
    "    output, h_n = rnn(sequence, h_0)"
   ]
  },
  {
   "cell_type": "code",
   "execution_count": 117,
   "id": "8ec129c6-c8ca-4e7b-b29b-4d6ed32b5567",
   "metadata": {},
   "outputs": [
    {
     "data": {
      "text/plain": [
       "torch.Size([5, 4, 3])"
      ]
     },
     "execution_count": 117,
     "metadata": {},
     "output_type": "execute_result"
    }
   ],
   "source": [
    "output.shape"
   ]
  },
  {
   "cell_type": "code",
   "execution_count": 118,
   "id": "65eb6797-7739-4aeb-9f17-c3a6a598a447",
   "metadata": {},
   "outputs": [
    {
     "data": {
      "text/plain": [
       "torch.Size([2, 4, 3])"
      ]
     },
     "execution_count": 118,
     "metadata": {},
     "output_type": "execute_result"
    }
   ],
   "source": [
    "h_n.shape"
   ]
  },
  {
   "cell_type": "code",
   "execution_count": 119,
   "id": "a6841732-be9b-4dd5-a5b3-ce13d2cb6b92",
   "metadata": {},
   "outputs": [
    {
     "data": {
      "text/plain": [
       "torch.Size([3, 1])"
      ]
     },
     "execution_count": 119,
     "metadata": {},
     "output_type": "execute_result"
    }
   ],
   "source": [
    "w_ih_l0.shape"
   ]
  },
  {
   "cell_type": "code",
   "execution_count": 120,
   "id": "cfbae8a3-8c61-42be-b151-d0da07ea6fbd",
   "metadata": {},
   "outputs": [],
   "source": [
    "def manual_rnn():\n",
    "    hidden = h_0.clone()\n",
    "    output = torch.zeros(SEQUENCE_LENGTH, BATCH_SIZE, HIDDEN_SIZE)\n",
    "    with torch.inference_mode():\n",
    "        for idx, seq in enumerate(sequence):\n",
    "            for layer in range(NUM_LAYERS):\n",
    "                if layer == 0:\n",
    "                    hidden[0] = torch.tanh(seq @ w_ih_l0.T + b_ih_l0 + hidden[0] @ w_hh_l0.T + b_hh_l0)\n",
    "                elif layer == 1:\n",
    "                    hidden[1] = torch.tanh(hidden[0] @ w_ih_l1.T + b_ih_l1 + hidden[1] @ w_hh_l1.T + b_hh_l1)\n",
    "                    output[idx] = hidden[1]\n",
    "    return output, hidden"
   ]
  }
 ],
 "metadata": {
  "kernelspec": {
   "display_name": "Python 3 (ipykernel)",
   "language": "python",
   "name": "python3"
  },
  "language_info": {
   "codemirror_mode": {
    "name": "ipython",
    "version": 3
   },
   "file_extension": ".py",
   "mimetype": "text/x-python",
   "name": "python",
   "nbconvert_exporter": "python",
   "pygments_lexer": "ipython3",
   "version": "3.10.5"
  }
 },
 "nbformat": 4,
 "nbformat_minor": 5
}
