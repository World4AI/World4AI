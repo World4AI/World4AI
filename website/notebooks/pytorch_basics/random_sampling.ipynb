{
 "cells": [
  {
   "cell_type": "markdown",
   "id": "e7808445-3b59-4d64-bb1c-16a8d9854bb3",
   "metadata": {
    "tags": []
   },
   "source": [
    "# Random Sampling"
   ]
  },
  {
   "cell_type": "markdown",
   "id": "43f1559b-e8e8-4455-8bed-06e482ae8ac5",
   "metadata": {},
   "source": [
    "In deep leaning we often deal with tensors that contain random varialbes. We need random variables either to generate dummy data to test our models, or to use randomness directly in our models. In this notebook we are only going to learn how to generate random data based on different types of distributions."
   ]
  },
  {
   "cell_type": "code",
   "execution_count": 1,
   "id": "f744a0b2-daa9-4815-96a5-3e4b1dc0b505",
   "metadata": {},
   "outputs": [],
   "source": [
    "import torch"
   ]
  },
  {
   "cell_type": "markdown",
   "id": "8f6e150f-3fac-4552-9177-0adbb72e4130",
   "metadata": {
    "tags": []
   },
   "source": [
    "## Distributions"
   ]
  },
  {
   "cell_type": "markdown",
   "id": "e45d863e-fbbe-4520-aea8-71f768731e99",
   "metadata": {},
   "source": [
    "Below we will discuss a subset of PyTorch methods. Primarily we are going to focus on the uniform distribution and the normal distribution. Most of the time time those functions are all that you will require. All of the below methods will require the `size` option to determine the dimensions of the tensor."
   ]
  },
  {
   "cell_type": "markdown",
   "id": "d59e055c-6b8d-4a8a-8511-cbd8abcd52da",
   "metadata": {
    "tags": []
   },
   "source": [
    "### Uniform Distribution"
   ]
  },
  {
   "cell_type": "markdown",
   "id": "b9ca7131-82ef-4c38-9fa4-b074288f531d",
   "metadata": {},
   "source": [
    "The `torch.rand()` method generates a tensor with random numbers between 0 and 1 (1 is not inclusive)."
   ]
  },
  {
   "cell_type": "code",
   "execution_count": 2,
   "id": "646f68c5-0d8c-43fc-968e-4b77092f04e1",
   "metadata": {},
   "outputs": [
    {
     "data": {
      "text/plain": [
       "tensor([[0.1414, 0.3196],\n",
       "        [0.4052, 0.6802]])"
      ]
     },
     "execution_count": 2,
     "metadata": {},
     "output_type": "execute_result"
    }
   ],
   "source": [
    "torch.rand(size=(2,2))"
   ]
  },
  {
   "cell_type": "markdown",
   "id": "82f073bc-7bb7-42bf-86f9-4faf0d1c8d20",
   "metadata": {},
   "source": [
    "The `torch.randint` method generate a tensor that contains random variables from a uniform distribution between `low` and `high`."
   ]
  },
  {
   "cell_type": "code",
   "execution_count": 3,
   "id": "6a875794-779d-4f49-8b53-49fcad977428",
   "metadata": {},
   "outputs": [
    {
     "data": {
      "text/plain": [
       "tensor([[5, 7],\n",
       "        [9, 1]])"
      ]
     },
     "execution_count": 3,
     "metadata": {},
     "output_type": "execute_result"
    }
   ],
   "source": [
    "torch.randint(low=1, high=10, size=(2, 2))"
   ]
  },
  {
   "cell_type": "markdown",
   "id": "fb566859-7a40-4cf8-8111-0134136dfaf1",
   "metadata": {},
   "source": [
    "### Normal Distribution"
   ]
  },
  {
   "cell_type": "markdown",
   "id": "206531be-8046-491e-8b60-b7a24aac565b",
   "metadata": {},
   "source": [
    "We can either use `torch.randn` to draw from a standard normal distribution or `torch.normal` and provide `mean` and `std` to the method. "
   ]
  },
  {
   "cell_type": "code",
   "execution_count": 4,
   "id": "159e313c-d231-484c-acd1-10cd198a159b",
   "metadata": {},
   "outputs": [
    {
     "data": {
      "text/plain": [
       "tensor([[ 0.3835,  0.9710],\n",
       "        [-0.7234,  1.9226]])"
      ]
     },
     "execution_count": 4,
     "metadata": {},
     "output_type": "execute_result"
    }
   ],
   "source": [
    "torch.normal(mean=0, std=1, size=(2,2))"
   ]
  },
  {
   "cell_type": "code",
   "execution_count": 5,
   "id": "54ae1c98-7306-4dee-9d49-7bc813af897f",
   "metadata": {},
   "outputs": [
    {
     "data": {
      "text/plain": [
       "tensor([[ 0.6851, -0.1018],\n",
       "        [-0.3372,  0.8611]])"
      ]
     },
     "execution_count": 5,
     "metadata": {},
     "output_type": "execute_result"
    }
   ],
   "source": [
    "torch.randn(size=(2,2))"
   ]
  },
  {
   "cell_type": "markdown",
   "id": "0ff4d0db-e010-4498-8cb9-9f18f883b076",
   "metadata": {},
   "source": [
    "## Determinism"
   ]
  },
  {
   "cell_type": "markdown",
   "id": "0f7409a2-2f8a-46af-b0a2-69a98776db6d",
   "metadata": {},
   "source": [
    "The methods that are used for random sampling do not actually produce random variables, but use so called pseudo random generators. The advantage of pseudo random numbers is that they follow the same pattern, given the same initial conditions. In programming that initial number is called `seed`. If we set the same seed, the psuedo random number generator will produce the same numbers. This is especially useful for reproducable results. In PyTorch we use `torch.manual_seed(seed)`."
   ]
  },
  {
   "cell_type": "code",
   "execution_count": 6,
   "id": "8063a17b-2e18-4515-b198-31d81d2e96ee",
   "metadata": {},
   "outputs": [
    {
     "data": {
      "text/plain": [
       "<torch._C.Generator at 0x7f56c810a2b0>"
      ]
     },
     "execution_count": 6,
     "metadata": {},
     "output_type": "execute_result"
    }
   ],
   "source": [
    "torch.manual_seed(10)"
   ]
  },
  {
   "cell_type": "code",
   "execution_count": 7,
   "id": "d6cd565a-251c-425c-8076-bf77dea9bb6a",
   "metadata": {},
   "outputs": [
    {
     "data": {
      "text/plain": [
       "tensor([[0.4581, 0.4829],\n",
       "        [0.3125, 0.6150]])"
      ]
     },
     "execution_count": 7,
     "metadata": {},
     "output_type": "execute_result"
    }
   ],
   "source": [
    "torch.rand(2,2)"
   ]
  },
  {
   "cell_type": "code",
   "execution_count": 8,
   "id": "df15a980-cfec-4f65-9fbf-3ee429ffef2a",
   "metadata": {},
   "outputs": [
    {
     "data": {
      "text/plain": [
       "<torch._C.Generator at 0x7f56c810a2b0>"
      ]
     },
     "execution_count": 8,
     "metadata": {},
     "output_type": "execute_result"
    }
   ],
   "source": [
    "torch.manual_seed(10)"
   ]
  },
  {
   "cell_type": "code",
   "execution_count": 9,
   "id": "09a749f8-55c3-4ade-900e-04876994c74d",
   "metadata": {},
   "outputs": [
    {
     "data": {
      "text/plain": [
       "tensor([[0.4581, 0.4829],\n",
       "        [0.3125, 0.6150]])"
      ]
     },
     "execution_count": 9,
     "metadata": {},
     "output_type": "execute_result"
    }
   ],
   "source": [
    "torch.rand(2,2)"
   ]
  }
 ],
 "metadata": {
  "kernelspec": {
   "display_name": "Python 3 (ipykernel)",
   "language": "python",
   "name": "python3"
  },
  "language_info": {
   "codemirror_mode": {
    "name": "ipython",
    "version": 3
   },
   "file_extension": ".py",
   "mimetype": "text/x-python",
   "name": "python",
   "nbconvert_exporter": "python",
   "pygments_lexer": "ipython3",
   "version": "3.9.7"
  }
 },
 "nbformat": 4,
 "nbformat_minor": 5
}
