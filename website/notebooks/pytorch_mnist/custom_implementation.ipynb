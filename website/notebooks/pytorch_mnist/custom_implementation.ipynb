{
 "cells": [
  {
   "cell_type": "markdown",
   "id": "c88f300d-9347-4471-bfa9-c5e7982a3a25",
   "metadata": {},
   "source": [
    "# MNIST Custom Implementation"
   ]
  },
  {
   "cell_type": "code",
   "execution_count": 1,
   "id": "6adc6e63-1f3c-4e68-bc51-1e8e91ad7af5",
   "metadata": {
    "tags": []
   },
   "outputs": [],
   "source": [
    "import torch\n",
    "from torch.utils.data import DataLoader\n",
    "from torchvision.datasets import MNIST\n",
    "from torchvision import transforms"
   ]
  },
  {
   "cell_type": "code",
   "execution_count": 2,
   "id": "d2db8ee2-3dbd-40ce-8fbc-bb2eacfc5a21",
   "metadata": {},
   "outputs": [],
   "source": [
    "train_dataset = MNIST(root=\"../datasets\", train=True, download=True, transform=transforms.ToTensor())\n",
    "test_dataset = MNIST(root=\"../datasets\", train=False, download=False, transform=transforms.ToTensor())"
   ]
  },
  {
   "cell_type": "code",
   "execution_count": 3,
   "id": "6713a364-d8b9-4370-9539-3143093fb986",
   "metadata": {},
   "outputs": [
    {
     "name": "stdout",
     "output_type": "stream",
     "text": [
      "GPU 0: NVIDIA GeForce RTX 3060 Laptop GPU (UUID: GPU-94b0898d-baf3-ee3a-f30c-ffdfe67aced2)\n"
     ]
    }
   ],
   "source": [
    "# figure out if you have a GPU\n",
    "!nvidia-smi -L"
   ]
  },
  {
   "cell_type": "code",
   "execution_count": 4,
   "id": "a904ee49-55e2-4d24-83f2-ec4c37730e01",
   "metadata": {},
   "outputs": [],
   "source": [
    "# parameters\n",
    "DEVICE = (\"cuda:0\" if torch.cuda.is_available() else \"cpu\")\n",
    "NUM_EPOCHS=10\n",
    "BATCH_SIZE=32\n",
    "\n",
    "HIDDEN_SIZE = 100\n",
    "NUM_LABELS = 10\n",
    "NUM_FEATURES = 28*28\n",
    "ALPHA = 0.1"
   ]
  },
  {
   "cell_type": "code",
   "execution_count": 5,
   "id": "0abf2a83-30f3-4679-875f-d609447a3638",
   "metadata": {},
   "outputs": [],
   "source": [
    "train_dataloader = DataLoader(dataset=train_dataset, \n",
    "                              batch_size=BATCH_SIZE,\n",
    "                              shuffle=True,\n",
    "                              drop_last=True,\n",
    "                              num_workers=4)\n",
    "\n",
    "test_dataloader = DataLoader(dataset=test_dataset, \n",
    "                              batch_size=BATCH_SIZE,\n",
    "                              shuffle=True,\n",
    "                              drop_last=True,\n",
    "                              num_workers=4)"
   ]
  },
  {
   "cell_type": "code",
   "execution_count": 6,
   "id": "ea8671e7-7347-4696-a30b-dab7d5f77946",
   "metadata": {},
   "outputs": [],
   "source": [
    "# we create a set of weights and biases\n",
    "W_1 = torch.randn(HIDDEN_SIZE, NUM_FEATURES, requires_grad=True, device=DEVICE)\n",
    "b_1 = torch.zeros(1, HIDDEN_SIZE, requires_grad=True, device=DEVICE)\n",
    "\n",
    "W_2 = torch.randn(NUM_LABELS, HIDDEN_SIZE, requires_grad=True, device=DEVICE)\n",
    "b_2 = torch.zeros(1, NUM_LABELS, requires_grad=True, device=DEVICE)"
   ]
  },
  {
   "cell_type": "code",
   "execution_count": 9,
   "id": "e417500a-7244-43d2-97f8-bff4d7879ee3",
   "metadata": {},
   "outputs": [
    {
     "name": "stdout",
     "output_type": "stream",
     "text": [
      "Epoch: 1 Loss: 0.05242159962654114\n",
      "Epoch: 2 Loss: 0.05055994167923927\n",
      "Epoch: 3 Loss: 0.04891354963183403\n",
      "Epoch: 4 Loss: 0.04746674373745918\n",
      "Epoch: 5 Loss: 0.04614807292819023\n",
      "Epoch: 6 Loss: 0.044992394745349884\n",
      "Epoch: 7 Loss: 0.04390263929963112\n",
      "Epoch: 8 Loss: 0.042916443198919296\n",
      "Epoch: 9 Loss: 0.04200851172208786\n",
      "Epoch: 10 Loss: 0.04114517942070961\n"
     ]
    }
   ],
   "source": [
    "for epoch in range(NUM_EPOCHS):\n",
    "    loss_sum = 0\n",
    "    batch_nums = 0\n",
    "    for batch_idx, (features, labels) in enumerate(train_dataloader):\n",
    "        # reshape features and move to gpu\n",
    "        features = features.view(-1, NUM_FEATURES).to(DEVICE)\n",
    "        \n",
    "        # create one hot labels and move to GPU\n",
    "        one_hot_labels = torch.zeros(BATCH_SIZE, NUM_LABELS).to(DEVICE)\n",
    "        for sample_idx, label in enumerate(labels):\n",
    "            one_hot_labels[sample_idx][label] = 1\n",
    "                \n",
    "        # ------ FORWARD PASS --------\n",
    "        # first linear transformation\n",
    "        out = features @ W_1.T + b_1\n",
    "\n",
    "        # sigmoid activation\n",
    "        out = 1 / (1 + torch.exp(-out))\n",
    "\n",
    "        # second linear transformation\n",
    "        logits = out @ W_2.T + b_2\n",
    "\n",
    "        # softmax\n",
    "        numerator = torch.exp(logits)\n",
    "        denominator = numerator.sum(dim=1, keepdim=True)\n",
    "        softmax = numerator / denominator\n",
    "\n",
    "        # ------CALCULATE LOSS --------\n",
    "        #cross-entropy loss\n",
    "        loss = -(one_hot_labels * torch.log(softmax)).mean()\n",
    "\n",
    "        # ------BACKPROPAGATION --------\n",
    "        loss.backward()\n",
    "\n",
    "        # ------GRADIENT DESCENT --------\n",
    "        with torch.inference_mode():\n",
    "            W_1.sub_(ALPHA * W_1.grad)\n",
    "            b_1.sub_(ALPHA * b_1.grad)\n",
    "            W_2.sub_(ALPHA * W_2.grad)\n",
    "            b_2.sub_(ALPHA * b_2.grad)\n",
    "\n",
    "        # ------CLEAR GRADIENTS --------\n",
    "        W_1.grad.zero_()\n",
    "        W_2.grad.zero_()\n",
    "        b_1.grad.zero_()\n",
    "        b_2.grad.zero_()\n",
    "        \n",
    "        # ------TRACK LOSS --------\n",
    "        batch_nums += 1\n",
    "        loss_sum += loss.detach().cpu()\n",
    "    \n",
    "    print(f'Epoch: {epoch+1} Loss: {loss_sum / batch_nums}')"
   ]
  },
  {
   "cell_type": "code",
   "execution_count": 10,
   "id": "73e52787-c885-43a2-9ce7-3f7feba4395f",
   "metadata": {},
   "outputs": [
    {
     "name": "stdout",
     "output_type": "stream",
     "text": [
      "0.8804086538461539\n"
     ]
    }
   ],
   "source": [
    "# test acccuracy\n",
    "num_samples = 0\n",
    "num_correct = 0\n",
    "for batch_idx, (features, labels) in enumerate(test_dataloader):\n",
    "    with torch.inference_mode():\n",
    "        features = features.view(-1, NUM_FEATURES).to(DEVICE)\n",
    "        labels = labels.to(DEVICE) \n",
    "        # ------ FORWARD PASS --------\n",
    "        # first linear transformation\n",
    "        out = features @ W_1.T + b_1\n",
    "\n",
    "        # sigmoid activation\n",
    "        out = 1 / (1 + torch.exp(-out))\n",
    "\n",
    "        # second linear transformation\n",
    "        logits = out @ W_2.T + b_2\n",
    "        \n",
    "        predictions = logits.argmax(dim=1)\n",
    "        num_samples+=len(features)\n",
    "        num_correct+=(labels == predictions).sum().detach().cpu().item()\n",
    "        \n",
    "accuracy = num_correct / num_samples\n",
    "print(accuracy)"
   ]
  }
 ],
 "metadata": {
  "kernelspec": {
   "display_name": "Python 3 (ipykernel)",
   "language": "python",
   "name": "python3"
  },
  "language_info": {
   "codemirror_mode": {
    "name": "ipython",
    "version": 3
   },
   "file_extension": ".py",
   "mimetype": "text/x-python",
   "name": "python",
   "nbconvert_exporter": "python",
   "pygments_lexer": "ipython3",
   "version": "3.10.4"
  }
 },
 "nbformat": 4,
 "nbformat_minor": 5
}
