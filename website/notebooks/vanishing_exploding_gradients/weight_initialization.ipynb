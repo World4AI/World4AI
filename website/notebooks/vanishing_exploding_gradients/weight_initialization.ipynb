{
 "cells": [
  {
   "cell_type": "code",
   "execution_count": 1,
   "id": "6427f2ca-cbf1-4015-96c6-a524b87423d8",
   "metadata": {},
   "outputs": [],
   "source": [
    "import torch\n",
    "import torch.nn as nn"
   ]
  },
  {
   "cell_type": "code",
   "execution_count": 2,
   "id": "051f5d55-cf17-4917-98b4-56997b315804",
   "metadata": {},
   "outputs": [],
   "source": [
    "numbers = torch.empty(10, 10)"
   ]
  },
  {
   "cell_type": "code",
   "execution_count": 7,
   "id": "dbdc1042-3533-4ae6-a3d0-5b62da2b1129",
   "metadata": {},
   "outputs": [
    {
     "data": {
      "text/plain": [
       "tensor([[-0.5905,  0.4737,  0.5077, -0.5254,  0.5968, -0.2990,  0.7429, -0.4607,\n",
       "          0.1135,  0.5011],\n",
       "        [ 0.2743,  0.2538, -0.3445, -0.6403, -0.7076,  0.0401,  0.4642,  0.3897,\n",
       "         -0.6007, -0.4465],\n",
       "        [ 0.2636,  0.0814,  0.2553, -0.1330,  0.3058,  0.4895, -0.6195,  0.5215,\n",
       "          0.6292,  0.7108],\n",
       "        [-0.0589,  0.1049, -0.0966, -0.4620, -0.4071, -0.6195,  0.0287,  0.4210,\n",
       "         -0.6605,  0.6617],\n",
       "        [-0.3040,  0.1812,  0.3382, -0.3103,  0.5099,  0.4289,  0.6296,  0.6035,\n",
       "         -0.6312, -0.1340],\n",
       "        [ 0.3065,  0.3774,  0.6577, -0.0752,  0.1728,  0.2540,  0.5138, -0.3518,\n",
       "          0.3248, -0.6413],\n",
       "        [-0.0031, -0.1838, -0.2122, -0.5724, -0.6111, -0.2939,  0.3076, -0.5739,\n",
       "          0.4820,  0.2358],\n",
       "        [ 0.5676,  0.1963,  0.6503,  0.6106,  0.4983,  0.7595,  0.4112,  0.3915,\n",
       "          0.0565, -0.2899],\n",
       "        [-0.0106,  0.7067,  0.0088, -0.1674,  0.1908, -0.1825,  0.4582, -0.4268,\n",
       "         -0.6544, -0.3591],\n",
       "        [-0.3972, -0.4026, -0.0093, -0.1780, -0.7329, -0.7282, -0.2020, -0.0760,\n",
       "         -0.3840, -0.2297]])"
      ]
     },
     "execution_count": 7,
     "metadata": {},
     "output_type": "execute_result"
    }
   ],
   "source": [
    "# initializations are defined in nn.init\n",
    "nn.init.kaiming_uniform_(numbers)"
   ]
  }
 ],
 "metadata": {
  "kernelspec": {
   "display_name": "Python 3 (ipykernel)",
   "language": "python",
   "name": "python3"
  },
  "language_info": {
   "codemirror_mode": {
    "name": "ipython",
    "version": 3
   },
   "file_extension": ".py",
   "mimetype": "text/x-python",
   "name": "python",
   "nbconvert_exporter": "python",
   "pygments_lexer": "ipython3",
   "version": "3.10.4"
  }
 },
 "nbformat": 4,
 "nbformat_minor": 5
}
