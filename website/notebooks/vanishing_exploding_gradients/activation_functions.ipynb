{
 "cells": [
  {
   "cell_type": "code",
   "execution_count": 1,
   "id": "b6d65749-eff3-414f-8924-87bcacc9b25b",
   "metadata": {},
   "outputs": [],
   "source": [
    "import torch\n",
    "import torch.nn as nn\n",
    "import torch.nn.functional as F\n",
    "import torch.optim as optim\n",
    "from torch.utils.data import DataLoader, Subset\n",
    "\n",
    "from torchvision.datasets import MNIST\n",
    "import torchvision.transforms as T\n",
    "\n",
    "from sklearn.model_selection import train_test_split"
   ]
  },
  {
   "cell_type": "code",
   "execution_count": 2,
   "id": "04539d04-4bd8-43ee-8733-4a29c6df82d9",
   "metadata": {},
   "outputs": [
    {
     "name": "stdout",
     "output_type": "stream",
     "text": [
      "Tue Jul 19 18:19:41 2022       \n",
      "+-----------------------------------------------------------------------------+\n",
      "| NVIDIA-SMI 510.73.05    Driver Version: 510.73.05    CUDA Version: 11.6     |\n",
      "|-------------------------------+----------------------+----------------------+\n",
      "| GPU  Name        Persistence-M| Bus-Id        Disp.A | Volatile Uncorr. ECC |\n",
      "| Fan  Temp  Perf  Pwr:Usage/Cap|         Memory-Usage | GPU-Util  Compute M. |\n",
      "|                               |                      |               MIG M. |\n",
      "|===============================+======================+======================|\n",
      "|   0  NVIDIA GeForce ...  Off  | 00000000:01:00.0 Off |                  N/A |\n",
      "| N/A   54C    P8    16W /  N/A |      8MiB /  6144MiB |      0%      Default |\n",
      "|                               |                      |                  N/A |\n",
      "+-------------------------------+----------------------+----------------------+\n",
      "                                                                               \n",
      "+-----------------------------------------------------------------------------+\n",
      "| Processes:                                                                  |\n",
      "|  GPU   GI   CI        PID   Type   Process name                  GPU Memory |\n",
      "|        ID   ID                                                   Usage      |\n",
      "|=============================================================================|\n",
      "|    0   N/A  N/A      2197      G   /usr/lib/xorg/Xorg                  4MiB |\n",
      "+-----------------------------------------------------------------------------+\n"
     ]
    }
   ],
   "source": [
    "!nvidia-smi"
   ]
  },
  {
   "cell_type": "code",
   "execution_count": 3,
   "id": "b2e23b8d-989e-4e9c-bf07-5c49e225266d",
   "metadata": {},
   "outputs": [],
   "source": [
    "# parameters\n",
    "DEVICE = (\"cuda:0\" if torch.cuda.is_available() else \"cpu\")\n",
    "NUM_EPOCHS = 10\n",
    "ALPHA = 0.01\n",
    "VAL_SIZE = 10_000\n",
    "BATCH_SIZE=32\n",
    "\n",
    "NUM_FEATURES = 28*28\n",
    "HIDDEN_1 = 100\n",
    "HIDDEN_2 = 50\n",
    "NUM_LABELS = 10"
   ]
  },
  {
   "cell_type": "code",
   "execution_count": 4,
   "id": "70b40f3d-6d8e-4301-ad02-f28568bade6a",
   "metadata": {},
   "outputs": [],
   "source": [
    "train_val_dataset = MNIST(root='../datasets/', train=True, download=True, transform=T.ToTensor())\n",
    "test_dataset = MNIST(root='../datasets/', train=False, download=False, transform=T.ToTensor())"
   ]
  },
  {
   "cell_type": "code",
   "execution_count": 5,
   "id": "6e506238-90a1-4063-8234-83c50293dee2",
   "metadata": {},
   "outputs": [],
   "source": [
    "stratify = train_val_dataset.targets.numpy()\n",
    "train_idxs, val_idxs = train_test_split(\n",
    "                                range(len(train_val_dataset)),\n",
    "                                stratify=stratify,\n",
    "                                test_size=VAL_SIZE)"
   ]
  },
  {
   "cell_type": "code",
   "execution_count": 6,
   "id": "c3845665-922b-427b-80b1-5bce4a6c0868",
   "metadata": {},
   "outputs": [],
   "source": [
    "train_dataset = Subset(dataset=train_val_dataset, indices=train_idxs)\n",
    "val_dataset = Subset(dataset=train_val_dataset, indices=val_idxs)"
   ]
  },
  {
   "cell_type": "code",
   "execution_count": 7,
   "id": "fe9c5a78-3167-4361-a41c-66915e0dc84b",
   "metadata": {},
   "outputs": [],
   "source": [
    "train_dataloader = DataLoader(dataset=train_dataset, \n",
    "                              batch_size=BATCH_SIZE,\n",
    "                              shuffle=True,\n",
    "                              num_workers=4,\n",
    "                              drop_last=True)\n",
    "\n",
    "val_dataloader = DataLoader(dataset=val_dataset, \n",
    "                              batch_size=BATCH_SIZE,\n",
    "                              num_workers=4)\n",
    "\n",
    "test_dataloader = DataLoader(dataset=test_dataset, \n",
    "                              batch_size=BATCH_SIZE,\n",
    "                              num_workers=4)"
   ]
  },
  {
   "cell_type": "code",
   "execution_count": 8,
   "id": "a088b4f3-e6d2-43b4-b8a7-0a493f775136",
   "metadata": {},
   "outputs": [],
   "source": [
    "class SigmoidModel(nn.Module):\n",
    "    def __init__(self):\n",
    "        super().__init__()\n",
    "        self.layers = nn.Sequential(\n",
    "            nn.Linear(NUM_FEATURES, HIDDEN_1),\n",
    "            nn.Sigmoid(),\n",
    "            nn.Linear(HIDDEN_1, HIDDEN_2),\n",
    "            nn.Sigmoid(),\n",
    "            nn.Linear(HIDDEN_2, NUM_LABELS)\n",
    "        )\n",
    "        \n",
    "    def forward(self, features):\n",
    "        return self.layers(features)\n",
    "    \n",
    "class ReluModel(nn.Module):\n",
    "    def __init__(self):\n",
    "        super().__init__()\n",
    "        self.layers = nn.Sequential(\n",
    "            nn.Linear(NUM_FEATURES, HIDDEN_1),\n",
    "            nn.ReLU(),\n",
    "            nn.Linear(HIDDEN_1, HIDDEN_2),\n",
    "            nn.ReLU(),\n",
    "            nn.Linear(HIDDEN_2, NUM_LABELS)\n",
    "        )\n",
    "        \n",
    "    def forward(self, features):\n",
    "        return self.layers(features)"
   ]
  },
  {
   "cell_type": "code",
   "execution_count": 9,
   "id": "ca5d7eda-96bc-4848-92e3-86e1d4766d71",
   "metadata": {},
   "outputs": [],
   "source": [
    "def calculate_performance(model, criterion, dataloader):\n",
    "    model.eval()\n",
    "    num_samples = 0\n",
    "    num_correct = 0\n",
    "    loss_sum = 0\n",
    "    \n",
    "    with torch.inference_mode():\n",
    "        for batch_idx, (features, labels) in enumerate(dataloader):\n",
    "            features = features.view(-1, NUM_FEATURES).to(DEVICE)\n",
    "            labels = labels.to(DEVICE)\n",
    "            outputs = model(features)\n",
    "            \n",
    "            predictions = outputs.max(dim=1)[1]\n",
    "            num_correct += (predictions == labels).sum().item()\n",
    "            \n",
    "            loss = criterion(outputs, labels)\n",
    "            loss_sum += loss.cpu().item()\n",
    "            num_samples += len(features)\n",
    "    return loss_sum/num_samples, num_correct/num_samples"
   ]
  },
  {
   "cell_type": "code",
   "execution_count": 10,
   "id": "7c54c6ae-a129-4212-8ec9-447a5ec51c80",
   "metadata": {},
   "outputs": [],
   "source": [
    "def train(model):\n",
    "    optimizer = optim.SGD(model.parameters(), lr=ALPHA)\n",
    "    # combine softmax with cross entropy loss simultaneously, no need to attach softmax to the model\n",
    "    criterion = nn.CrossEntropyLoss(reduction=\"sum\")\n",
    "    for epoch in range(NUM_EPOCHS):\n",
    "        model.train()\n",
    "        for batch_idx, (features, labels) in enumerate(train_dataloader):\n",
    "            features = features.view(-1, NUM_FEATURES).to(DEVICE)\n",
    "            labels = labels.to(DEVICE)\n",
    "\n",
    "            # empty the gradients\n",
    "            optimizer.zero_grad()\n",
    "            # forward pass\n",
    "            outputs = model(features)\n",
    "            loss = criterion(outputs, labels)\n",
    "            loss.backward()\n",
    "            optimizer.step()\n",
    "\n",
    "        val_loss, val_acc = calculate_performance(model, criterion, val_dataloader)\n",
    "        print(f'Epoch: {epoch+1} | Validation Loss: {val_loss} | Validation Accuracy: {val_acc}')"
   ]
  },
  {
   "cell_type": "code",
   "execution_count": 11,
   "id": "c4a4864a-6ca0-4efe-bd96-fed0f7eacfeb",
   "metadata": {},
   "outputs": [],
   "source": [
    "sigmoidModel = SigmoidModel().to(DEVICE)\n",
    "reluModel = ReluModel().to(DEVICE)"
   ]
  },
  {
   "cell_type": "code",
   "execution_count": 12,
   "id": "8dd1d3cc-e5ae-4028-ba8d-dd31409a189a",
   "metadata": {},
   "outputs": [
    {
     "name": "stdout",
     "output_type": "stream",
     "text": [
      "Epoch: 1 | Validation Loss: 0.34811560919284823 | Validation Accuracy: 0.8988\n",
      "Epoch: 2 | Validation Loss: 0.22348693027496339 | Validation Accuracy: 0.9339\n",
      "Epoch: 3 | Validation Loss: 0.17333723184764385 | Validation Accuracy: 0.9484\n",
      "Epoch: 4 | Validation Loss: 0.15025575025081633 | Validation Accuracy: 0.9545\n",
      "Epoch: 5 | Validation Loss: 0.13564708149731158 | Validation Accuracy: 0.9588\n",
      "Epoch: 6 | Validation Loss: 0.12167281376868487 | Validation Accuracy: 0.9628\n",
      "Epoch: 7 | Validation Loss: 0.10694371696859598 | Validation Accuracy: 0.969\n",
      "Epoch: 8 | Validation Loss: 0.1000077493570745 | Validation Accuracy: 0.9708\n",
      "Epoch: 9 | Validation Loss: 0.09803582267686725 | Validation Accuracy: 0.9715\n",
      "Epoch: 10 | Validation Loss: 0.10075653049424291 | Validation Accuracy: 0.9705\n"
     ]
    }
   ],
   "source": [
    "train(sigmoidModel)"
   ]
  },
  {
   "cell_type": "code",
   "execution_count": 13,
   "id": "96957d76-cf73-4f73-9b48-a7cf69695fff",
   "metadata": {},
   "outputs": [
    {
     "name": "stdout",
     "output_type": "stream",
     "text": [
      "Epoch: 1 | Validation Loss: 0.16223896453380585 | Validation Accuracy: 0.9473\n",
      "Epoch: 2 | Validation Loss: 0.1417267472974956 | Validation Accuracy: 0.9551\n",
      "Epoch: 3 | Validation Loss: 0.11666484325192869 | Validation Accuracy: 0.9652\n",
      "Epoch: 4 | Validation Loss: 0.11132472120095044 | Validation Accuracy: 0.9671\n",
      "Epoch: 5 | Validation Loss: 0.12776478067282587 | Validation Accuracy: 0.9657\n",
      "Epoch: 6 | Validation Loss: 0.1063403736966895 | Validation Accuracy: 0.9709\n",
      "Epoch: 7 | Validation Loss: 0.11310694124647416 | Validation Accuracy: 0.9709\n",
      "Epoch: 8 | Validation Loss: 0.11099657119425246 | Validation Accuracy: 0.9713\n",
      "Epoch: 9 | Validation Loss: 0.11936425841017627 | Validation Accuracy: 0.97\n",
      "Epoch: 10 | Validation Loss: 0.11850827669205027 | Validation Accuracy: 0.9718\n"
     ]
    }
   ],
   "source": [
    "train(reluModel)"
   ]
  }
 ],
 "metadata": {
  "kernelspec": {
   "display_name": "Python 3 (ipykernel)",
   "language": "python",
   "name": "python3"
  },
  "language_info": {
   "codemirror_mode": {
    "name": "ipython",
    "version": 3
   },
   "file_extension": ".py",
   "mimetype": "text/x-python",
   "name": "python",
   "nbconvert_exporter": "python",
   "pygments_lexer": "ipython3",
   "version": "3.10.4"
  }
 },
 "nbformat": 4,
 "nbformat_minor": 5
}
