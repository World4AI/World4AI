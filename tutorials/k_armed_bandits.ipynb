{
 "cells": [
  {
   "cell_type": "markdown",
   "id": "fd5f1704-b14e-4e73-b94e-db51ddcffabb",
   "metadata": {},
   "source": [
    "# k-armed Bandints"
   ]
  },
  {
   "cell_type": "markdown",
   "id": "ced4d370-4cfe-4cc1-974f-de51429d5300",
   "metadata": {},
   "source": [
    "## Imports"
   ]
  },
  {
   "cell_type": "code",
   "execution_count": 1,
   "id": "e31bd940-216e-477f-8657-aed5021166b8",
   "metadata": {},
   "outputs": [],
   "source": [
    "import random\n",
    "import numpy as np"
   ]
  },
  {
   "cell_type": "markdown",
   "id": "c9ae846a-3532-498a-9629-52ac52cb4ad2",
   "metadata": {},
   "source": [
    "## Simple Bandits Implementation"
   ]
  },
  {
   "cell_type": "code",
   "execution_count": 2,
   "id": "3d2c3d31-bac3-4871-8a13-19cdce3e075d",
   "metadata": {},
   "outputs": [],
   "source": [
    "# for a full implementation of bandits in gym look for the github repo by JKCooper2\n",
    "# https://github.com/JKCooper2/gym-bandits\n",
    "# this implementation is a simplified version\n",
    "\n",
    "class Bandit():\n",
    "    def __init__(self, probs=[], rewards=[]):\n",
    "\n",
    "        self.probs = probs\n",
    "        self.rewards = rewards\n",
    "        # k as in k-armed bandits, number of arms\n",
    "        k = len(self.probs)\n",
    "\n",
    "        self.action_space = k\n",
    "        self.observation_space = 1\n",
    "\n",
    "    def step(self, action):\n",
    "        if random.random() < self.probs[action]:\n",
    "            reward = self.rewards[action]\n",
    "        else:\n",
    "            reward = 0\n",
    "\n",
    "        return reward\n"
   ]
  },
  {
   "cell_type": "code",
   "execution_count": 3,
   "id": "53882a68-ea3c-4a7d-bb40-cb0a67793481",
   "metadata": {},
   "outputs": [],
   "source": [
    "bandit = Bandit(probs=[0.5, 1], rewards=[10, 1])"
   ]
  },
  {
   "cell_type": "markdown",
   "id": "f0a8c518-72d9-4394-8bd0-ad130fe1afc4",
   "metadata": {},
   "source": [
    "---\n",
    "Take action 0."
   ]
  },
  {
   "cell_type": "code",
   "execution_count": 4,
   "id": "9ab4d0fe-da48-4223-8875-bb503192547c",
   "metadata": {},
   "outputs": [
    {
     "name": "stdout",
     "output_type": "stream",
     "text": [
      "Reward: 10\n",
      "Reward: 0\n",
      "Reward: 0\n",
      "Reward: 0\n",
      "Reward: 0\n",
      "Reward: 0\n",
      "Reward: 0\n",
      "Reward: 0\n",
      "Reward: 10\n",
      "Reward: 0\n"
     ]
    }
   ],
   "source": [
    "for i in range(10):\n",
    "    print(f'Reward: {bandit.step(0)}')"
   ]
  },
  {
   "cell_type": "markdown",
   "id": "338ab9df-1c50-4ec3-a9e2-9cbb7b84fe17",
   "metadata": {},
   "source": [
    "---\n",
    "Take action 1."
   ]
  },
  {
   "cell_type": "code",
   "execution_count": 5,
   "id": "aa7cf1d9-0839-430c-b9d2-3638f4df9b8e",
   "metadata": {},
   "outputs": [
    {
     "name": "stdout",
     "output_type": "stream",
     "text": [
      "Reward: 1\n",
      "Reward: 1\n",
      "Reward: 1\n",
      "Reward: 1\n",
      "Reward: 1\n",
      "Reward: 1\n",
      "Reward: 1\n",
      "Reward: 1\n",
      "Reward: 1\n",
      "Reward: 1\n"
     ]
    }
   ],
   "source": [
    "for i in range(10):\n",
    "    print(f'Reward: {bandit.step(1)}')"
   ]
  },
  {
   "cell_type": "code",
   "execution_count": 6,
   "id": "b7d67ae0-7d17-4398-a0e0-f676a5ee1e77",
   "metadata": {},
   "outputs": [],
   "source": [
    "bandit = Bandit(probs=[0.01, 0.5,  1], rewards=[1000, 10, 1])\n",
    "A = [x for x in range(bandit.action_space)]"
   ]
  },
  {
   "cell_type": "code",
   "execution_count": 9,
   "id": "12c82772-9749-4309-b8dc-29f73217f3cf",
   "metadata": {},
   "outputs": [],
   "source": [
    "def bandit_algorithm(bandit, A, num_episodes=1000000, alpha=0.00001, epsilon=0.5):\n",
    "    num_actions = len(A)\n",
    "    Q = np.zeros(num_actions)\n",
    "    \n",
    "    for episode in range(num_episodes):\n",
    "        \n",
    "        if np.random.rand() < epsilon:\n",
    "            action = np.random.choice(num_actions)\n",
    "        else:\n",
    "            action = Q.argmax()\n",
    "        \n",
    "        reward = bandit.step(action)\n",
    "        \n",
    "        Q[action] = Q[action] + alpha * (reward - Q[action])\n",
    "        \n",
    "        if episode % 100000 == 0:\n",
    "            print(Q)\n",
    "        \n",
    "    return Q"
   ]
  },
  {
   "cell_type": "code",
   "execution_count": 10,
   "id": "4b078874-64a3-413a-8d0e-34bfa3afa400",
   "metadata": {},
   "outputs": [
    {
     "name": "stdout",
     "output_type": "stream",
     "text": [
      "[0.e+00 0.e+00 1.e-05]\n",
      "[1.62649711 2.41596374 0.15391956]\n",
      "[3.00282233 3.66976933 0.28346033]\n",
      "[4.12498715 4.32330869 0.3946706 ]\n",
      "[6.62687958 4.48600634 0.48777093]\n",
      "[8.18477955 4.56768371 0.56618373]\n",
      "[9.17256206 4.632986   0.63263707]\n",
      "[9.60565039 4.69325087 0.68863388]\n",
      "[9.66814323 4.73439188 0.73619805]\n",
      "[9.99095331 4.78215745 0.77715916]\n"
     ]
    },
    {
     "data": {
      "text/plain": [
       "array([9.93379602, 4.80734032, 0.81119081])"
      ]
     },
     "execution_count": 10,
     "metadata": {},
     "output_type": "execute_result"
    }
   ],
   "source": [
    "bandit_algorithm(bandit, A)"
   ]
  },
  {
   "cell_type": "code",
   "execution_count": null,
   "id": "e8339756-45e9-4daa-a5ce-0812f5becc8c",
   "metadata": {},
   "outputs": [],
   "source": []
  }
 ],
 "metadata": {
  "kernelspec": {
   "display_name": "Python 3 (ipykernel)",
   "language": "python",
   "name": "python3"
  },
  "language_info": {
   "codemirror_mode": {
    "name": "ipython",
    "version": 3
   },
   "file_extension": ".py",
   "mimetype": "text/x-python",
   "name": "python",
   "nbconvert_exporter": "python",
   "pygments_lexer": "ipython3",
   "version": "3.9.7"
  }
 },
 "nbformat": 4,
 "nbformat_minor": 5
}
