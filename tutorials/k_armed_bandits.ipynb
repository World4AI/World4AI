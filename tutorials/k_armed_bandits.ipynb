{
 "cells": [
  {
   "cell_type": "markdown",
   "id": "fd5f1704-b14e-4e73-b94e-db51ddcffabb",
   "metadata": {},
   "source": [
    "# k-armed Bandints"
   ]
  },
  {
   "cell_type": "markdown",
   "id": "ced4d370-4cfe-4cc1-974f-de51429d5300",
   "metadata": {},
   "source": [
    "## Imports"
   ]
  },
  {
   "cell_type": "code",
   "execution_count": null,
   "id": "e31bd940-216e-477f-8657-aed5021166b8",
   "metadata": {},
   "outputs": [],
   "source": [
    "import random"
   ]
  },
  {
   "cell_type": "markdown",
   "id": "c9ae846a-3532-498a-9629-52ac52cb4ad2",
   "metadata": {},
   "source": [
    "## Simple Bandits Implementation"
   ]
  },
  {
   "cell_type": "code",
   "execution_count": null,
   "id": "3d2c3d31-bac3-4871-8a13-19cdce3e075d",
   "metadata": {},
   "outputs": [],
   "source": [
    "# for a full implementation of bandits in gym look for the github repo by JKCooper2\n",
    "# https://github.com/JKCooper2/gym-bandits\n",
    "# this implementation is a simplified version\n",
    "\n",
    "class Bandit():\n",
    "    def __init__(self, probs=[], rewards=[]):\n",
    "\n",
    "        self.probs = probs\n",
    "        self.rewards = rewards\n",
    "        # k as in k-armed bandits, number of arms\n",
    "        k = len(self.probs)\n",
    "\n",
    "        self.action_space = k\n",
    "        self.observation_space = 1\n",
    "\n",
    "    def step(self, action):\n",
    "        if random.random() < self.probs[action]:\n",
    "            reward = self.rewards[action]\n",
    "        else:\n",
    "            reward = 0\n",
    "\n",
    "        return reward\n"
   ]
  },
  {
   "cell_type": "code",
   "execution_count": null,
   "id": "53882a68-ea3c-4a7d-bb40-cb0a67793481",
   "metadata": {},
   "outputs": [],
   "source": [
    "env = Bandit(probs=[0.5, 1], rewards=[10, 1])"
   ]
  },
  {
   "cell_type": "markdown",
   "id": "f0a8c518-72d9-4394-8bd0-ad130fe1afc4",
   "metadata": {},
   "source": [
    "---\n",
    "Take action 0."
   ]
  },
  {
   "cell_type": "code",
   "execution_count": null,
   "id": "9ab4d0fe-da48-4223-8875-bb503192547c",
   "metadata": {},
   "outputs": [],
   "source": [
    "for i in range(10):\n",
    "    print(f'Reward: {env.step(0)}')"
   ]
  },
  {
   "cell_type": "markdown",
   "id": "338ab9df-1c50-4ec3-a9e2-9cbb7b84fe17",
   "metadata": {},
   "source": [
    "---\n",
    "Take action 1."
   ]
  },
  {
   "cell_type": "code",
   "execution_count": null,
   "id": "aa7cf1d9-0839-430c-b9d2-3638f4df9b8e",
   "metadata": {},
   "outputs": [],
   "source": [
    "for i in range(10):\n",
    "    print(f'Reward: {env.step(1)}')"
   ]
  }
 ],
 "metadata": {
  "kernelspec": {
   "display_name": "Python 3 (ipykernel)",
   "language": "python",
   "name": "python3"
  },
  "language_info": {
   "codemirror_mode": {
    "name": "ipython",
    "version": 3
   },
   "file_extension": ".py",
   "mimetype": "text/x-python",
   "name": "python",
   "nbconvert_exporter": "python",
   "pygments_lexer": "ipython3",
   "version": "3.9.7"
  }
 },
 "nbformat": 4,
 "nbformat_minor": 5
}
